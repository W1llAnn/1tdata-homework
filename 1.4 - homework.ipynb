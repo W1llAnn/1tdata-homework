{
  "cells": [
    {
      "attachments": {},
      "cell_type": "markdown",
      "id": "8277ca02",
      "metadata": {
        "id": "8277ca02",
        "papermill": {
          "duration": 0.112743,
          "end_time": "2022-09-17T00:12:57.265328",
          "exception": false,
          "start_time": "2022-09-17T00:12:57.152585",
          "status": "completed"
        },
        "tags": []
      },
      "source": [
        "\n",
        "# Проверка гипотез с помощью python."
      ]
    },
    {
      "attachments": {},
      "cell_type": "markdown",
      "id": "ed2f4a30",
      "metadata": {
        "id": "ed2f4a30",
        "papermill": {
          "duration": 0.109327,
          "end_time": "2022-09-17T00:12:57.963155",
          "exception": false,
          "start_time": "2022-09-17T00:12:57.853828",
          "status": "completed"
        },
        "tags": []
      },
      "source": [
        "# Задание\n",
        "\n",
        "* Выполнить проверку предложенной гипотезы\n",
        "* Выполнить проверку статистической гипотезы для проверки нормальности числовых признаков\n",
        "* Проверка мультиколлинеарности\n",
        "* Все статистические тесты должны быть выполнены с 95%-м уровнем достоверности (т.е. значение р < 0,05)"
      ]
    },
    {
      "attachments": {},
      "cell_type": "markdown",
      "id": "b36dd14f-cd82-46c1-87de-cde64db77940",
      "metadata": {
        "id": "b36dd14f-cd82-46c1-87de-cde64db77940",
        "papermill": {
          "duration": 0.106947,
          "end_time": "2022-09-17T00:13:02.034149",
          "exception": false,
          "start_time": "2022-09-17T00:13:01.927202",
          "status": "completed"
        },
        "tags": []
      },
      "source": [
        "# Датасет"
      ]
    },
    {
      "attachments": {},
      "cell_type": "markdown",
      "id": "ab7d97da-ee9e-4cd5-8d01-f75481a99393",
      "metadata": {
        "id": "ab7d97da-ee9e-4cd5-8d01-f75481a99393"
      },
      "source": [
        "**Как данные представлены заказчиком:**"
      ]
    },
    {
      "attachments": {},
      "cell_type": "markdown",
      "id": "746dd87c-32f5-4ee4-97f3-ace09b9661ae",
      "metadata": {
        "id": "746dd87c-32f5-4ee4-97f3-ace09b9661ae",
        "papermill": {
          "duration": 0.107761,
          "end_time": "2022-09-17T00:13:02.248931",
          "exception": false,
          "start_time": "2022-09-17T00:13:02.141170",
          "status": "completed"
        },
        "tags": []
      },
      "source": [
        "customerID - Содержит идентификатор клиента\n",
        "gender - Пол клиента\n",
        "SeniorCitizen - Является ли клиент пожилым гражданином\n",
        "Partner - Есть ли у клиента партнер\n",
        "Dependents - Является ли клиент кормильцем\n",
        "tenure - Количество месяцев, в течение которых клиент оставался в компании\n",
        "PhoneService - Есть ли у клиента телефонная связь\n",
        "MultipleLines - Есть ли у клиента несколько линий\n",
        "InternetService - Интернет-провайдер клиента\n",
        "OnlineSecurity - Есть ли у клиента онлайн-безопасность\n",
        "OnlineBackup - Есть ли у клиента онлайн-резервное копирование\n",
        "DeviceProtection - Имеет ли клиент защиту устройства\n",
        "TechSupport - Есть ли у клиента техническая поддержка\n",
        "streamingTV - Есть ли у клиента потоковое телевидение\n",
        "streamingMovies - Есть ли у клиента стриминговые сервисы\n",
        "Contract - Срок действия контракта заказчика\n",
        "PaperlessBilling - имеет ли клиент безналичные счета\n",
        "PaymentMethod - Способ оплаты клиента\n",
        "MonthlyCharges - Сумма, взимаемая с клиента ежемесячно\n",
        "TotalCharges - Общая сумма, списанная с клиента\n",
        "Churn - Ушел ли клиент"
      ]
    },
    {
      "attachments": {},
      "cell_type": "markdown",
      "id": "08ae603f-bf76-4e2a-b7e0-cc8f4c48ea08",
      "metadata": {
        "id": "08ae603f-bf76-4e2a-b7e0-cc8f4c48ea08"
      },
      "source": [
        "Описание от заказчика:\n",
        "\n",
        "Каждая строка представляет клиента, каждый столбец содержит атрибуты клиента.\n",
        "\n",
        "Набор данных включает информацию :\n",
        "\n",
        "- Клиенты, которые ушли в течение последнего месяца — колонка называется `Churn`\n",
        "- Услуги, на которые подписался каждый клиент — телефон, несколько линий, интернет, онлайн-безопасность, резервное копирование, защита устройств, техническая поддержка, потоковое ТВ и фильмы.\n",
        "- Информация о счетах клиентов — как долго они являются клиентами, контракт, способ оплаты, безналичные счета, ежемесячные платежи и общая сумма платежей.\n",
        "- Демографическая информация о клиентах — пол, возраст, наличие партнеров и иждивенцев."
      ]
    },
    {
      "attachments": {},
      "cell_type": "markdown",
      "id": "d5987f69",
      "metadata": {
        "id": "d5987f69",
        "papermill": {
          "duration": 0.104938,
          "end_time": "2022-09-17T00:12:58.405685",
          "exception": false,
          "start_time": "2022-09-17T00:12:58.300747",
          "status": "completed"
        },
        "tags": []
      },
      "source": [
        "## 1. Импорт Библиотек "
      ]
    },
    {
      "attachments": {},
      "cell_type": "markdown",
      "id": "02b1ba32-c7a4-4cca-940c-2c26096652a5",
      "metadata": {
        "id": "02b1ba32-c7a4-4cca-940c-2c26096652a5"
      },
      "source": [
        "**Импортируйте необходимые библиотеки**"
      ]
    },
    {
      "cell_type": "code",
      "execution_count": 3,
      "id": "aced3dd7",
      "metadata": {
        "_kg_hide-input": true,
        "id": "aced3dd7",
        "papermill": {
          "duration": 2.648922,
          "end_time": "2022-09-17T00:13:01.160303",
          "exception": false,
          "start_time": "2022-09-17T00:12:58.511381",
          "status": "completed"
        },
        "tags": []
      },
      "outputs": [],
      "source": [
        "import numpy as np\n",
        "import pandas as pd\n",
        "pd.set_option('display.max_columns', None) # отобразить все колонки\n",
        "\n",
        "from scipy import stats"
      ]
    },
    {
      "attachments": {},
      "cell_type": "markdown",
      "id": "a08aba17",
      "metadata": {
        "id": "a08aba17",
        "papermill": {
          "duration": 0.105855,
          "end_time": "2022-09-17T00:13:01.597528",
          "exception": false,
          "start_time": "2022-09-17T00:13:01.491673",
          "status": "completed"
        },
        "tags": []
      },
      "source": [
        "# Данные"
      ]
    },
    {
      "cell_type": "code",
      "execution_count": 4,
      "id": "423cbac6",
      "metadata": {
        "id": "423cbac6",
        "papermill": {
          "duration": 0.24658,
          "end_time": "2022-09-17T00:13:02.607322",
          "exception": false,
          "start_time": "2022-09-17T00:13:02.360742",
          "status": "completed"
        },
        "tags": []
      },
      "outputs": [
        {
          "data": {
            "text/html": [
              "<div>\n",
              "<style scoped>\n",
              "    .dataframe tbody tr th:only-of-type {\n",
              "        vertical-align: middle;\n",
              "    }\n",
              "\n",
              "    .dataframe tbody tr th {\n",
              "        vertical-align: top;\n",
              "    }\n",
              "\n",
              "    .dataframe thead th {\n",
              "        text-align: right;\n",
              "    }\n",
              "</style>\n",
              "<table border=\"1\" class=\"dataframe\">\n",
              "  <thead>\n",
              "    <tr style=\"text-align: right;\">\n",
              "      <th></th>\n",
              "      <th>customerID</th>\n",
              "      <th>gender</th>\n",
              "      <th>SeniorCitizen</th>\n",
              "      <th>Partner</th>\n",
              "      <th>Dependents</th>\n",
              "      <th>tenure</th>\n",
              "      <th>PhoneService</th>\n",
              "      <th>MultipleLines</th>\n",
              "      <th>InternetService</th>\n",
              "      <th>OnlineSecurity</th>\n",
              "      <th>OnlineBackup</th>\n",
              "      <th>DeviceProtection</th>\n",
              "      <th>TechSupport</th>\n",
              "      <th>StreamingTV</th>\n",
              "      <th>StreamingMovies</th>\n",
              "      <th>Contract</th>\n",
              "      <th>PaperlessBilling</th>\n",
              "      <th>PaymentMethod</th>\n",
              "      <th>MonthlyCharges</th>\n",
              "      <th>TotalCharges</th>\n",
              "      <th>Churn</th>\n",
              "    </tr>\n",
              "  </thead>\n",
              "  <tbody>\n",
              "    <tr>\n",
              "      <th>0</th>\n",
              "      <td>7590-VHVEG</td>\n",
              "      <td>Female</td>\n",
              "      <td>0</td>\n",
              "      <td>Yes</td>\n",
              "      <td>No</td>\n",
              "      <td>1</td>\n",
              "      <td>No</td>\n",
              "      <td>No phone service</td>\n",
              "      <td>DSL</td>\n",
              "      <td>No</td>\n",
              "      <td>Yes</td>\n",
              "      <td>No</td>\n",
              "      <td>No</td>\n",
              "      <td>No</td>\n",
              "      <td>No</td>\n",
              "      <td>Month-to-month</td>\n",
              "      <td>Yes</td>\n",
              "      <td>Electronic check</td>\n",
              "      <td>29.85</td>\n",
              "      <td>29.85</td>\n",
              "      <td>No</td>\n",
              "    </tr>\n",
              "    <tr>\n",
              "      <th>1</th>\n",
              "      <td>5575-GNVDE</td>\n",
              "      <td>Male</td>\n",
              "      <td>0</td>\n",
              "      <td>No</td>\n",
              "      <td>No</td>\n",
              "      <td>34</td>\n",
              "      <td>Yes</td>\n",
              "      <td>No</td>\n",
              "      <td>DSL</td>\n",
              "      <td>Yes</td>\n",
              "      <td>No</td>\n",
              "      <td>Yes</td>\n",
              "      <td>No</td>\n",
              "      <td>No</td>\n",
              "      <td>No</td>\n",
              "      <td>One year</td>\n",
              "      <td>No</td>\n",
              "      <td>Mailed check</td>\n",
              "      <td>56.95</td>\n",
              "      <td>1889.5</td>\n",
              "      <td>No</td>\n",
              "    </tr>\n",
              "    <tr>\n",
              "      <th>2</th>\n",
              "      <td>3668-QPYBK</td>\n",
              "      <td>Male</td>\n",
              "      <td>0</td>\n",
              "      <td>No</td>\n",
              "      <td>No</td>\n",
              "      <td>2</td>\n",
              "      <td>Yes</td>\n",
              "      <td>No</td>\n",
              "      <td>DSL</td>\n",
              "      <td>Yes</td>\n",
              "      <td>Yes</td>\n",
              "      <td>No</td>\n",
              "      <td>No</td>\n",
              "      <td>No</td>\n",
              "      <td>No</td>\n",
              "      <td>Month-to-month</td>\n",
              "      <td>Yes</td>\n",
              "      <td>Mailed check</td>\n",
              "      <td>53.85</td>\n",
              "      <td>108.15</td>\n",
              "      <td>Yes</td>\n",
              "    </tr>\n",
              "    <tr>\n",
              "      <th>3</th>\n",
              "      <td>7795-CFOCW</td>\n",
              "      <td>Male</td>\n",
              "      <td>0</td>\n",
              "      <td>No</td>\n",
              "      <td>No</td>\n",
              "      <td>45</td>\n",
              "      <td>No</td>\n",
              "      <td>No phone service</td>\n",
              "      <td>DSL</td>\n",
              "      <td>Yes</td>\n",
              "      <td>No</td>\n",
              "      <td>Yes</td>\n",
              "      <td>Yes</td>\n",
              "      <td>No</td>\n",
              "      <td>No</td>\n",
              "      <td>One year</td>\n",
              "      <td>No</td>\n",
              "      <td>Bank transfer (automatic)</td>\n",
              "      <td>42.30</td>\n",
              "      <td>1840.75</td>\n",
              "      <td>No</td>\n",
              "    </tr>\n",
              "    <tr>\n",
              "      <th>4</th>\n",
              "      <td>9237-HQITU</td>\n",
              "      <td>Female</td>\n",
              "      <td>0</td>\n",
              "      <td>No</td>\n",
              "      <td>No</td>\n",
              "      <td>2</td>\n",
              "      <td>Yes</td>\n",
              "      <td>No</td>\n",
              "      <td>Fiber optic</td>\n",
              "      <td>No</td>\n",
              "      <td>No</td>\n",
              "      <td>No</td>\n",
              "      <td>No</td>\n",
              "      <td>No</td>\n",
              "      <td>No</td>\n",
              "      <td>Month-to-month</td>\n",
              "      <td>Yes</td>\n",
              "      <td>Electronic check</td>\n",
              "      <td>70.70</td>\n",
              "      <td>151.65</td>\n",
              "      <td>Yes</td>\n",
              "    </tr>\n",
              "  </tbody>\n",
              "</table>\n",
              "</div>"
            ],
            "text/plain": [
              "   customerID  gender  SeniorCitizen Partner Dependents  tenure PhoneService   \n",
              "0  7590-VHVEG  Female              0     Yes         No       1           No  \\\n",
              "1  5575-GNVDE    Male              0      No         No      34          Yes   \n",
              "2  3668-QPYBK    Male              0      No         No       2          Yes   \n",
              "3  7795-CFOCW    Male              0      No         No      45           No   \n",
              "4  9237-HQITU  Female              0      No         No       2          Yes   \n",
              "\n",
              "      MultipleLines InternetService OnlineSecurity OnlineBackup   \n",
              "0  No phone service             DSL             No          Yes  \\\n",
              "1                No             DSL            Yes           No   \n",
              "2                No             DSL            Yes          Yes   \n",
              "3  No phone service             DSL            Yes           No   \n",
              "4                No     Fiber optic             No           No   \n",
              "\n",
              "  DeviceProtection TechSupport StreamingTV StreamingMovies        Contract   \n",
              "0               No          No          No              No  Month-to-month  \\\n",
              "1              Yes          No          No              No        One year   \n",
              "2               No          No          No              No  Month-to-month   \n",
              "3              Yes         Yes          No              No        One year   \n",
              "4               No          No          No              No  Month-to-month   \n",
              "\n",
              "  PaperlessBilling              PaymentMethod  MonthlyCharges TotalCharges   \n",
              "0              Yes           Electronic check           29.85        29.85  \\\n",
              "1               No               Mailed check           56.95       1889.5   \n",
              "2              Yes               Mailed check           53.85       108.15   \n",
              "3               No  Bank transfer (automatic)           42.30      1840.75   \n",
              "4              Yes           Electronic check           70.70       151.65   \n",
              "\n",
              "  Churn  \n",
              "0    No  \n",
              "1    No  \n",
              "2   Yes  \n",
              "3    No  \n",
              "4   Yes  "
            ]
          },
          "execution_count": 4,
          "metadata": {},
          "output_type": "execute_result"
        }
      ],
      "source": [
        "df = pd.read_csv('https://raw.githubusercontent.com/W1llAnn/1tdata-homework/main/1.4churn.csv', delimiter=',')\n",
        "df.head()"
      ]
    },
    {
      "attachments": {},
      "cell_type": "markdown",
      "id": "59d8f6d7",
      "metadata": {
        "id": "59d8f6d7",
        "papermill": {
          "duration": 0.110182,
          "end_time": "2022-09-17T00:13:04.215152",
          "exception": false,
          "start_time": "2022-09-17T00:13:04.104970",
          "status": "completed"
        },
        "tags": []
      },
      "source": [
        "# 2. Описательный анализ данных"
      ]
    },
    {
      "cell_type": "code",
      "execution_count": 68,
      "id": "b124271b",
      "metadata": {},
      "outputs": [
        {
          "name": "stdout",
          "output_type": "stream",
          "text": [
            "<class 'pandas.core.frame.DataFrame'>\n",
            "RangeIndex: 7043 entries, 0 to 7042\n",
            "Data columns (total 21 columns):\n",
            " #   Column            Non-Null Count  Dtype  \n",
            "---  ------            --------------  -----  \n",
            " 0   customerID        7043 non-null   object \n",
            " 1   gender            7043 non-null   object \n",
            " 2   SeniorCitizen     7043 non-null   int64  \n",
            " 3   Partner           7043 non-null   object \n",
            " 4   Dependents        7043 non-null   object \n",
            " 5   tenure            7043 non-null   int64  \n",
            " 6   PhoneService      7043 non-null   object \n",
            " 7   MultipleLines     7043 non-null   object \n",
            " 8   InternetService   7043 non-null   object \n",
            " 9   OnlineSecurity    7043 non-null   object \n",
            " 10  OnlineBackup      7043 non-null   object \n",
            " 11  DeviceProtection  7043 non-null   object \n",
            " 12  TechSupport       7043 non-null   object \n",
            " 13  StreamingTV       7043 non-null   object \n",
            " 14  StreamingMovies   7043 non-null   object \n",
            " 15  Contract          7043 non-null   object \n",
            " 16  PaperlessBilling  7043 non-null   object \n",
            " 17  PaymentMethod     7043 non-null   object \n",
            " 18  MonthlyCharges    7043 non-null   float64\n",
            " 19  TotalCharges      7043 non-null   object \n",
            " 20  Churn             7043 non-null   object \n",
            "dtypes: float64(1), int64(2), object(18)\n",
            "memory usage: 1.1+ MB\n"
          ]
        }
      ],
      "source": [
        "df.info()"
      ]
    },
    {
      "attachments": {},
      "cell_type": "markdown",
      "id": "1ba5bb66",
      "metadata": {},
      "source": [
        "Опишем наш датафрейм в общем:\n",
        " - Всего 7043 строки, пустые строки (NaN) отсутствуют\n",
        " - Всего 21 колонка. Из них со значениями float64 1 колонка, int64 2 колонки, object 18 колонок\n",
        " - Объем занимаемый датафреймом 1.1+ MB"
      ]
    },
    {
      "attachments": {},
      "cell_type": "markdown",
      "id": "4f3a9143-db55-4062-92c1-95bae165c967",
      "metadata": {
        "id": "4f3a9143-db55-4062-92c1-95bae165c967"
      },
      "source": [
        "**Рассмотрите данные — изучите медианы, средние, дисперсии и т.д.**\n",
        "\n",
        "**Что можете сказать о данных? Сделайте вывод.**"
      ]
    },
    {
      "attachments": {},
      "cell_type": "markdown",
      "id": "bc5d4408",
      "metadata": {},
      "source": [
        "Рассмотрим статистику для числовых данных:"
      ]
    },
    {
      "cell_type": "code",
      "execution_count": 12,
      "id": "845a57ac",
      "metadata": {},
      "outputs": [
        {
          "data": {
            "text/plain": [
              "array([0, 1], dtype=int64)"
            ]
          },
          "execution_count": 12,
          "metadata": {},
          "output_type": "execute_result"
        }
      ],
      "source": [
        "df['SeniorCitizen'].unique()"
      ]
    },
    {
      "cell_type": "code",
      "execution_count": 13,
      "id": "a6af2c97",
      "metadata": {},
      "outputs": [
        {
          "data": {
            "text/plain": [
              "array([ 1, 34,  2, 45,  8, 22, 10, 28, 62, 13, 16, 58, 49, 25, 69, 52, 71,\n",
              "       21, 12, 30, 47, 72, 17, 27,  5, 46, 11, 70, 63, 43, 15, 60, 18, 66,\n",
              "        9,  3, 31, 50, 64, 56,  7, 42, 35, 48, 29, 65, 38, 68, 32, 55, 37,\n",
              "       36, 41,  6,  4, 33, 67, 23, 57, 61, 14, 20, 53, 40, 59, 24, 44, 19,\n",
              "       54, 51, 26,  0, 39], dtype=int64)"
            ]
          },
          "execution_count": 13,
          "metadata": {},
          "output_type": "execute_result"
        }
      ],
      "source": [
        "df['tenure'].unique()"
      ]
    },
    {
      "cell_type": "code",
      "execution_count": 14,
      "id": "212aaa1d",
      "metadata": {},
      "outputs": [
        {
          "data": {
            "text/plain": [
              "array([29.85, 56.95, 53.85, ..., 63.1 , 44.2 , 78.7 ])"
            ]
          },
          "execution_count": 14,
          "metadata": {},
          "output_type": "execute_result"
        }
      ],
      "source": [
        "df['MonthlyCharges'].unique()"
      ]
    },
    {
      "cell_type": "code",
      "execution_count": null,
      "id": "ef19939b",
      "metadata": {},
      "outputs": [
        {
          "data": {
            "text/html": [
              "<div>\n",
              "<style scoped>\n",
              "    .dataframe tbody tr th:only-of-type {\n",
              "        vertical-align: middle;\n",
              "    }\n",
              "\n",
              "    .dataframe tbody tr th {\n",
              "        vertical-align: top;\n",
              "    }\n",
              "\n",
              "    .dataframe thead th {\n",
              "        text-align: right;\n",
              "    }\n",
              "</style>\n",
              "<table border=\"1\" class=\"dataframe\">\n",
              "  <thead>\n",
              "    <tr style=\"text-align: right;\">\n",
              "      <th></th>\n",
              "      <th>SeniorCitizen</th>\n",
              "      <th>tenure</th>\n",
              "      <th>MonthlyCharges</th>\n",
              "    </tr>\n",
              "  </thead>\n",
              "  <tbody>\n",
              "    <tr>\n",
              "      <th>count</th>\n",
              "      <td>7043.000000</td>\n",
              "      <td>7043.000000</td>\n",
              "      <td>7043.000000</td>\n",
              "    </tr>\n",
              "    <tr>\n",
              "      <th>mean</th>\n",
              "      <td>0.162147</td>\n",
              "      <td>32.371149</td>\n",
              "      <td>64.761692</td>\n",
              "    </tr>\n",
              "    <tr>\n",
              "      <th>std</th>\n",
              "      <td>0.368612</td>\n",
              "      <td>24.559481</td>\n",
              "      <td>30.090047</td>\n",
              "    </tr>\n",
              "    <tr>\n",
              "      <th>min</th>\n",
              "      <td>0.000000</td>\n",
              "      <td>0.000000</td>\n",
              "      <td>18.250000</td>\n",
              "    </tr>\n",
              "    <tr>\n",
              "      <th>25%</th>\n",
              "      <td>0.000000</td>\n",
              "      <td>9.000000</td>\n",
              "      <td>35.500000</td>\n",
              "    </tr>\n",
              "    <tr>\n",
              "      <th>50%</th>\n",
              "      <td>0.000000</td>\n",
              "      <td>29.000000</td>\n",
              "      <td>70.350000</td>\n",
              "    </tr>\n",
              "    <tr>\n",
              "      <th>75%</th>\n",
              "      <td>0.000000</td>\n",
              "      <td>55.000000</td>\n",
              "      <td>89.850000</td>\n",
              "    </tr>\n",
              "    <tr>\n",
              "      <th>max</th>\n",
              "      <td>1.000000</td>\n",
              "      <td>72.000000</td>\n",
              "      <td>118.750000</td>\n",
              "    </tr>\n",
              "  </tbody>\n",
              "</table>\n",
              "</div>"
            ],
            "text/plain": [
              "       SeniorCitizen       tenure  MonthlyCharges\n",
              "count    7043.000000  7043.000000     7043.000000\n",
              "mean        0.162147    32.371149       64.761692\n",
              "std         0.368612    24.559481       30.090047\n",
              "min         0.000000     0.000000       18.250000\n",
              "25%         0.000000     9.000000       35.500000\n",
              "50%         0.000000    29.000000       70.350000\n",
              "75%         0.000000    55.000000       89.850000\n",
              "max         1.000000    72.000000      118.750000"
            ]
          },
          "execution_count": 9,
          "metadata": {},
          "output_type": "execute_result"
        }
      ],
      "source": [
        "df.describe()"
      ]
    },
    {
      "attachments": {},
      "cell_type": "markdown",
      "id": "014a11d1",
      "metadata": {},
      "source": [
        "count - Всего значений\n",
        "mean - Среднее арифметическое\n",
        "std - Стандартное отклонение\n",
        "min - Минимальное значение\n",
        "25%\n",
        "50% - Медиана\n",
        "75%\n",
        "max - Максимальное значение\n",
        "\n",
        "SeniorCitizen - Является ли клиент пожилым гражданином\n",
        "tenure - Количество месяцев, в течение которых клиент оставался в компании\n",
        "MonthlyCharges - Сумма, взимаемая с клиента ежемесячно"
      ]
    },
    {
      "attachments": {},
      "cell_type": "markdown",
      "id": "30381bf6",
      "metadata": {},
      "source": [
        "**Вывод:**\n",
        "**В колонке SeniorCitizen значения только 0 и 1, т.е. данные условно обозначают да/нет, поэтому тут мы обратим внимание на общее количество значений и уникальные значения. Пропусков данных нет, минимальное значение 0, максимальное 1**\n",
        "\n",
        "**В колонке tenure уже данные о количестве месяцев, минимальное значение 0, максимальное 72. Пропусков данных нет. В среднем 32.37 месяца клиенты остаются в компании (не учитывая являются ли они клиентами сейчас). Стандартное отклонение от среднего - 24.56 что говорит: данные распределены в широком диапазоне от среднего значения. Медиана по колонке 29, т.е. половина выборки имеет значение больше медианы, вторая половина меньше.**\n",
        "\n",
        "**В колонке MonthlyCharges также пропусков нет, среднее значение 64,76 а стандартное отклонение 30,09. Данные также находятся распределены в широком диапазоне от среднего. Минимальное значение 18.25 а максимальное 118.75. Медиана 70.35, т.е. половина выборки имеет значение больше медианы, вторая половина меньше.**"
      ]
    },
    {
      "attachments": {},
      "cell_type": "markdown",
      "id": "20dfbfdf",
      "metadata": {
        "id": "20dfbfdf",
        "papermill": {
          "duration": 0.109572,
          "end_time": "2022-09-17T00:13:04.713273",
          "exception": false,
          "start_time": "2022-09-17T00:13:04.603701",
          "status": "completed"
        },
        "tags": []
      },
      "source": [
        "# Уникальные значения для всех столбцов"
      ]
    },
    {
      "attachments": {},
      "cell_type": "markdown",
      "id": "6dae3e7e-2d2d-48f4-a815-12203933284b",
      "metadata": {
        "id": "6dae3e7e-2d2d-48f4-a815-12203933284b",
        "tags": []
      },
      "source": [
        "Рассмотрите уникальные значения категориальных признаков. \n",
        "\n",
        "Сделайте вывод.\n",
        "\n",
        "**Подсказка:** можете воспользоваться методом `describe(include='object')`"
      ]
    },
    {
      "cell_type": "code",
      "execution_count": 69,
      "id": "8fdc1546-6a9b-4dc8-afdc-fca1fd637ded",
      "metadata": {
        "id": "8fdc1546-6a9b-4dc8-afdc-fca1fd637ded"
      },
      "outputs": [
        {
          "data": {
            "text/html": [
              "<div>\n",
              "<style scoped>\n",
              "    .dataframe tbody tr th:only-of-type {\n",
              "        vertical-align: middle;\n",
              "    }\n",
              "\n",
              "    .dataframe tbody tr th {\n",
              "        vertical-align: top;\n",
              "    }\n",
              "\n",
              "    .dataframe thead th {\n",
              "        text-align: right;\n",
              "    }\n",
              "</style>\n",
              "<table border=\"1\" class=\"dataframe\">\n",
              "  <thead>\n",
              "    <tr style=\"text-align: right;\">\n",
              "      <th></th>\n",
              "      <th>customerID</th>\n",
              "      <th>gender</th>\n",
              "      <th>Partner</th>\n",
              "      <th>Dependents</th>\n",
              "      <th>PhoneService</th>\n",
              "      <th>MultipleLines</th>\n",
              "      <th>InternetService</th>\n",
              "      <th>OnlineSecurity</th>\n",
              "      <th>OnlineBackup</th>\n",
              "      <th>DeviceProtection</th>\n",
              "      <th>TechSupport</th>\n",
              "      <th>StreamingTV</th>\n",
              "      <th>StreamingMovies</th>\n",
              "      <th>Contract</th>\n",
              "      <th>PaperlessBilling</th>\n",
              "      <th>PaymentMethod</th>\n",
              "      <th>TotalCharges</th>\n",
              "      <th>Churn</th>\n",
              "    </tr>\n",
              "  </thead>\n",
              "  <tbody>\n",
              "    <tr>\n",
              "      <th>count</th>\n",
              "      <td>7043</td>\n",
              "      <td>7043</td>\n",
              "      <td>7043</td>\n",
              "      <td>7043</td>\n",
              "      <td>7043</td>\n",
              "      <td>7043</td>\n",
              "      <td>7043</td>\n",
              "      <td>7043</td>\n",
              "      <td>7043</td>\n",
              "      <td>7043</td>\n",
              "      <td>7043</td>\n",
              "      <td>7043</td>\n",
              "      <td>7043</td>\n",
              "      <td>7043</td>\n",
              "      <td>7043</td>\n",
              "      <td>7043</td>\n",
              "      <td>7043</td>\n",
              "      <td>7043</td>\n",
              "    </tr>\n",
              "    <tr>\n",
              "      <th>unique</th>\n",
              "      <td>7043</td>\n",
              "      <td>2</td>\n",
              "      <td>2</td>\n",
              "      <td>2</td>\n",
              "      <td>2</td>\n",
              "      <td>3</td>\n",
              "      <td>3</td>\n",
              "      <td>3</td>\n",
              "      <td>3</td>\n",
              "      <td>3</td>\n",
              "      <td>3</td>\n",
              "      <td>3</td>\n",
              "      <td>3</td>\n",
              "      <td>3</td>\n",
              "      <td>2</td>\n",
              "      <td>4</td>\n",
              "      <td>6531</td>\n",
              "      <td>2</td>\n",
              "    </tr>\n",
              "    <tr>\n",
              "      <th>top</th>\n",
              "      <td>7590-VHVEG</td>\n",
              "      <td>Male</td>\n",
              "      <td>No</td>\n",
              "      <td>No</td>\n",
              "      <td>Yes</td>\n",
              "      <td>No</td>\n",
              "      <td>Fiber optic</td>\n",
              "      <td>No</td>\n",
              "      <td>No</td>\n",
              "      <td>No</td>\n",
              "      <td>No</td>\n",
              "      <td>No</td>\n",
              "      <td>No</td>\n",
              "      <td>Month-to-month</td>\n",
              "      <td>Yes</td>\n",
              "      <td>Electronic check</td>\n",
              "      <td></td>\n",
              "      <td>No</td>\n",
              "    </tr>\n",
              "    <tr>\n",
              "      <th>freq</th>\n",
              "      <td>1</td>\n",
              "      <td>3555</td>\n",
              "      <td>3641</td>\n",
              "      <td>4933</td>\n",
              "      <td>6361</td>\n",
              "      <td>3390</td>\n",
              "      <td>3096</td>\n",
              "      <td>3498</td>\n",
              "      <td>3088</td>\n",
              "      <td>3095</td>\n",
              "      <td>3473</td>\n",
              "      <td>2810</td>\n",
              "      <td>2785</td>\n",
              "      <td>3875</td>\n",
              "      <td>4171</td>\n",
              "      <td>2365</td>\n",
              "      <td>11</td>\n",
              "      <td>5174</td>\n",
              "    </tr>\n",
              "  </tbody>\n",
              "</table>\n",
              "</div>"
            ],
            "text/plain": [
              "        customerID gender Partner Dependents PhoneService MultipleLines   \n",
              "count         7043   7043    7043       7043         7043          7043  \\\n",
              "unique        7043      2       2          2            2             3   \n",
              "top     7590-VHVEG   Male      No         No          Yes            No   \n",
              "freq             1   3555    3641       4933         6361          3390   \n",
              "\n",
              "       InternetService OnlineSecurity OnlineBackup DeviceProtection   \n",
              "count             7043           7043         7043             7043  \\\n",
              "unique               3              3            3                3   \n",
              "top        Fiber optic             No           No               No   \n",
              "freq              3096           3498         3088             3095   \n",
              "\n",
              "       TechSupport StreamingTV StreamingMovies        Contract   \n",
              "count         7043        7043            7043            7043  \\\n",
              "unique           3           3               3               3   \n",
              "top             No          No              No  Month-to-month   \n",
              "freq          3473        2810            2785            3875   \n",
              "\n",
              "       PaperlessBilling     PaymentMethod TotalCharges Churn  \n",
              "count              7043              7043         7043  7043  \n",
              "unique                2                 4         6531     2  \n",
              "top                 Yes  Electronic check                 No  \n",
              "freq               4171              2365           11  5174  "
            ]
          },
          "execution_count": 69,
          "metadata": {},
          "output_type": "execute_result"
        }
      ],
      "source": [
        "df.describe(include='object')"
      ]
    },
    {
      "attachments": {},
      "cell_type": "markdown",
      "id": "271690f9",
      "metadata": {},
      "source": [
        "count - Всего значений\n",
        "unique - Уникальные\n",
        "top - Большее количество значений\n",
        "freq - Количество top"
      ]
    },
    {
      "cell_type": "code",
      "execution_count": 36,
      "id": "01c69758",
      "metadata": {},
      "outputs": [
        {
          "data": {
            "text/plain": [
              "array(['No', 'Yes'], dtype=object)"
            ]
          },
          "execution_count": 36,
          "metadata": {},
          "output_type": "execute_result"
        }
      ],
      "source": [
        "df['Churn'].unique()"
      ]
    },
    {
      "attachments": {},
      "cell_type": "markdown",
      "id": "31dd4378-da15-45df-94a6-2e6d9466b368",
      "metadata": {
        "id": "31dd4378-da15-45df-94a6-2e6d9466b368"
      },
      "source": [
        "**Вывод:**\n",
        "**По всем колонкам нет пропущенных значений**\n",
        "**- customerID - все значения уникальные, как и должно быть, так как это id** \n",
        "**- gender - в выборке больше клиентов с мужским полом (3555 записей)** 2 уникальных значения ['Female', 'Male']\n",
        "**- Partner -  в выборке больше клиентов без партнера (3641 записей)** 2 уникальных значения ['Yes', 'No']\n",
        "**- Dependents - в выборке больше клиентов не являющимися кормильцами (4933 записей)** 2 уникальных значения ['Yes', 'No']\n",
        "**- PhoneService - в выборке больше клиентов которые пользуются телефонной связью (6361 записей)** 2 уникальных значения ['Yes', 'No']\n",
        "**- MultipleLines - в выборке больше клиентов у которых нет нескольких линий (3390 записей)** 3 уникальных значения ['No phone service', 'No', 'Yes']\n",
        "**- InternetService - в выборке больше клиентов у которых Fiber optic интернет (3069 записей)** 3 уникальных значения ['DSL', 'Fiber optic', 'No']\n",
        "**- OnlineSecurity - в выборке больше клиентов у которых нет онлайн-безопасности (3498 записей)** 3 уникальных значения ['No', 'Yes', 'No internet service']\n",
        "**- OnlineBackup - в выборке больше клиентов у которых нет онлайн-резервного копирования (3088 записей)** 3 уникальных значения ['No', 'Yes', 'No internet service']\n",
        "**- DeviceProtection - в выборке больше клиентов у которых нет защиты устройства (3095 записей)** 3 уникальных значения ['No', 'Yes', 'No internet service']\n",
        "**- TechSupport - в выборке больше клиентов у которых нет технической поддержки (3473 записи)** 3 уникальных значения ['No', 'Yes', 'No internet service']\n",
        "**- streamingTV - в выборке больше клиентов у которых нет потокового телевидения (2810 записей)** 3 уникальных значения ['No', 'Yes', 'No internet service']\n",
        "**- streamingMovies - в выборке больше клиентов у которых нет стриминговых сервисов (2785 записей)** 3 уникальных значения ['No', 'Yes', 'No internet service']\n",
        "**- Contract - в выборке больше клиентов у которых срок действия контракта заказчика Month-to-month (3875 записей)** 3 уникальных значения ['Month-to-month', 'One year', 'Two year']\n",
        "**- PaperlessBilling - в выборке больше клиентов у которых есть безналичные счета (4171 записей)** 2 уникальных значения ['Yes', 'No']\n",
        "**- PaymentMethod - большее количество клиентов предпочитают Electronic check как способ оплаты (2365 записи)** 24 уникальных значения ['Electronic check', 'Mailed check', 'Bank transfer (automatic)', 'Credit card (automatic)']\n",
        "**- TotalCharges - Общая сумма, списанная с клиента** 6531 уникальных значений\n",
        "**- Churn - большее количество клиентов не ушло (5174 записей)** 2 уникальных значения ['Yes', 'No']\n",
        "\n",
        "# По большому счету мы можем перевести значения из типа object в тип float и посчитать все значения как у числовых данных, сделаем это ниже:"
      ]
    },
    {
      "attachments": {},
      "cell_type": "markdown",
      "id": "71169f8f-3bf5-498c-8844-ec8e47c232a4",
      "metadata": {
        "id": "71169f8f-3bf5-498c-8844-ec8e47c232a4",
        "papermill": {
          "duration": 0.107391,
          "end_time": "2022-09-17T00:13:03.296525",
          "exception": false,
          "start_time": "2022-09-17T00:13:03.189134",
          "status": "completed"
        },
        "tags": []
      },
      "source": [
        "# 3. Предобработка данных"
      ]
    },
    {
      "attachments": {},
      "cell_type": "markdown",
      "id": "0a01fab1-c07b-46b0-a2d2-e8939670ed1d",
      "metadata": {
        "id": "0a01fab1-c07b-46b0-a2d2-e8939670ed1d",
        "papermill": {
          "duration": 0.110418,
          "end_time": "2022-09-17T00:13:05.443495",
          "exception": false,
          "start_time": "2022-09-17T00:13:05.333077",
          "status": "completed"
        },
        "tags": []
      },
      "source": [
        "# Дубликаты"
      ]
    },
    {
      "attachments": {},
      "cell_type": "markdown",
      "id": "e30c5d7d-10fe-4889-9156-e89b3ac80e9f",
      "metadata": {
        "id": "e30c5d7d-10fe-4889-9156-e89b3ac80e9f"
      },
      "source": [
        "Предобработайте датасет — проверьте на наличие дубликатов и удалите, если они есть."
      ]
    },
    {
      "cell_type": "code",
      "execution_count": 77,
      "id": "719cd83b-60bd-4da9-81c4-0c22893b3e47",
      "metadata": {
        "id": "719cd83b-60bd-4da9-81c4-0c22893b3e47"
      },
      "outputs": [
        {
          "data": {
            "text/plain": [
              "0"
            ]
          },
          "execution_count": 77,
          "metadata": {},
          "output_type": "execute_result"
        }
      ],
      "source": [
        "len(df)- len(df.drop_duplicates ())"
      ]
    },
    {
      "attachments": {},
      "cell_type": "markdown",
      "id": "ab0f01ad",
      "metadata": {},
      "source": [
        "дубликаты не были обнаружены, но если бы они были мы могли воспользоваться:"
      ]
    },
    {
      "cell_type": "code",
      "execution_count": null,
      "id": "36c56a59",
      "metadata": {},
      "outputs": [],
      "source": [
        "df = df.drop_duplicates()"
      ]
    },
    {
      "attachments": {},
      "cell_type": "markdown",
      "id": "8e8f7fbc",
      "metadata": {
        "id": "8e8f7fbc",
        "papermill": {
          "duration": 0.110418,
          "end_time": "2022-09-17T00:13:05.443495",
          "exception": false,
          "start_time": "2022-09-17T00:13:05.333077",
          "status": "completed"
        },
        "tags": []
      },
      "source": [
        "# Отсутствующие значения"
      ]
    },
    {
      "attachments": {},
      "cell_type": "markdown",
      "id": "cefe6e59-bbf6-409f-bc89-299984ccf9ec",
      "metadata": {
        "id": "cefe6e59-bbf6-409f-bc89-299984ccf9ec"
      },
      "source": [
        "Пояснение к данному датасету:\n",
        "\n",
        "Не всегда в данных есть явные пропуски, которые легко индексируются средствами Pandas. К сожалению, бывают проблемы с выгрузками данных, некачественными источниками, или, когда данные записываются вручную — часто присутствует человеческий фактор. По мере работы с новыми данными лучше проверять на наличие таких данных, иначе из-за этого исследование может исказиться.\n",
        "\n",
        "Рассмотрим такой случай:"
      ]
    },
    {
      "cell_type": "code",
      "execution_count": 78,
      "id": "3493172e",
      "metadata": {
        "id": "3493172e",
        "papermill": {
          "duration": 0.127904,
          "end_time": "2022-09-17T00:13:05.681445",
          "exception": false,
          "start_time": "2022-09-17T00:13:05.553541",
          "status": "completed"
        },
        "tags": []
      },
      "outputs": [
        {
          "data": {
            "text/plain": [
              "customerID          0\n",
              "gender              0\n",
              "SeniorCitizen       0\n",
              "Partner             0\n",
              "Dependents          0\n",
              "tenure              0\n",
              "PhoneService        0\n",
              "MultipleLines       0\n",
              "InternetService     0\n",
              "OnlineSecurity      0\n",
              "OnlineBackup        0\n",
              "DeviceProtection    0\n",
              "TechSupport         0\n",
              "StreamingTV         0\n",
              "StreamingMovies     0\n",
              "Contract            0\n",
              "PaperlessBilling    0\n",
              "PaymentMethod       0\n",
              "MonthlyCharges      0\n",
              "TotalCharges        0\n",
              "Churn               0\n",
              "dtype: int64"
            ]
          },
          "execution_count": 78,
          "metadata": {},
          "output_type": "execute_result"
        }
      ],
      "source": [
        "df.isna().sum()"
      ]
    },
    {
      "attachments": {},
      "cell_type": "markdown",
      "id": "9262f68f-8d27-4794-ab21-327484d502ac",
      "metadata": {
        "id": "9262f68f-8d27-4794-ab21-327484d502ac"
      },
      "source": [
        "Да, не видно пропусков. Но почему тогда столбец `TotalCharges` не отобразился изначально как числовой столбец?\n",
        "\n",
        "Проверим все столбцы:"
      ]
    },
    {
      "cell_type": "code",
      "execution_count": 79,
      "id": "c086249f",
      "metadata": {
        "id": "c086249f",
        "papermill": {
          "duration": 0.212036,
          "end_time": "2022-09-17T00:13:06.005380",
          "exception": false,
          "start_time": "2022-09-17T00:13:05.793344",
          "status": "completed"
        },
        "tags": []
      },
      "outputs": [
        {
          "name": "stdout",
          "output_type": "stream",
          "text": [
            "Неявные пропуски столбца TotalCharges: 11\n"
          ]
        }
      ],
      "source": [
        "for col in df:\n",
        "    if df[col].dtype == 'object':\n",
        "        nans = df[col].apply(lambda x: len(x.strip())==0).sum()\n",
        "        if nans > 0:\n",
        "            print(f'Неявные пропуски столбца {col}:', df[col].apply(lambda x: len(x.strip())==0).sum())"
      ]
    },
    {
      "attachments": {},
      "cell_type": "markdown",
      "id": "d9751428-4425-4a69-a8b9-0d8be7bdda21",
      "metadata": {
        "id": "d9751428-4425-4a69-a8b9-0d8be7bdda21"
      },
      "source": [
        "Что мы можем сделать в таком случае?\n",
        "\n",
        "1) По этому же фильтру удалить строки с пропусками, чтобы не искажать данные\n",
        "2) Перевести тип столбца на числовой с параметром `errors = 'coerce'` и удалить\n",
        "\n",
        "Но можно не удалять, чтобы не потерять данные, а:\n",
        "\n",
        "1) Заменить значения на другое\n",
        "2) Поменять на другое — но только в том случае, если есть какая-то зависимость в данных.\n",
        "\n",
        "Давайте изменим тип и найдем зависимость:"
      ]
    },
    {
      "cell_type": "code",
      "execution_count": 80,
      "id": "32c7fbb7-ea06-491f-9629-525175141ed2",
      "metadata": {
        "id": "32c7fbb7-ea06-491f-9629-525175141ed2",
        "tags": []
      },
      "outputs": [
        {
          "data": {
            "text/html": [
              "<div>\n",
              "<style scoped>\n",
              "    .dataframe tbody tr th:only-of-type {\n",
              "        vertical-align: middle;\n",
              "    }\n",
              "\n",
              "    .dataframe tbody tr th {\n",
              "        vertical-align: top;\n",
              "    }\n",
              "\n",
              "    .dataframe thead th {\n",
              "        text-align: right;\n",
              "    }\n",
              "</style>\n",
              "<table border=\"1\" class=\"dataframe\">\n",
              "  <thead>\n",
              "    <tr style=\"text-align: right;\">\n",
              "      <th></th>\n",
              "      <th>customerID</th>\n",
              "      <th>gender</th>\n",
              "      <th>SeniorCitizen</th>\n",
              "      <th>Partner</th>\n",
              "      <th>Dependents</th>\n",
              "      <th>tenure</th>\n",
              "      <th>PhoneService</th>\n",
              "      <th>MultipleLines</th>\n",
              "      <th>InternetService</th>\n",
              "      <th>OnlineSecurity</th>\n",
              "      <th>OnlineBackup</th>\n",
              "      <th>DeviceProtection</th>\n",
              "      <th>TechSupport</th>\n",
              "      <th>StreamingTV</th>\n",
              "      <th>StreamingMovies</th>\n",
              "      <th>Contract</th>\n",
              "      <th>PaperlessBilling</th>\n",
              "      <th>PaymentMethod</th>\n",
              "      <th>MonthlyCharges</th>\n",
              "      <th>TotalCharges</th>\n",
              "      <th>Churn</th>\n",
              "    </tr>\n",
              "  </thead>\n",
              "  <tbody>\n",
              "    <tr>\n",
              "      <th>488</th>\n",
              "      <td>4472-LVYGI</td>\n",
              "      <td>Female</td>\n",
              "      <td>0</td>\n",
              "      <td>Yes</td>\n",
              "      <td>Yes</td>\n",
              "      <td>0</td>\n",
              "      <td>No</td>\n",
              "      <td>No phone service</td>\n",
              "      <td>DSL</td>\n",
              "      <td>Yes</td>\n",
              "      <td>No</td>\n",
              "      <td>Yes</td>\n",
              "      <td>Yes</td>\n",
              "      <td>Yes</td>\n",
              "      <td>No</td>\n",
              "      <td>Two year</td>\n",
              "      <td>Yes</td>\n",
              "      <td>Bank transfer (automatic)</td>\n",
              "      <td>52.55</td>\n",
              "      <td>NaN</td>\n",
              "      <td>No</td>\n",
              "    </tr>\n",
              "    <tr>\n",
              "      <th>753</th>\n",
              "      <td>3115-CZMZD</td>\n",
              "      <td>Male</td>\n",
              "      <td>0</td>\n",
              "      <td>No</td>\n",
              "      <td>Yes</td>\n",
              "      <td>0</td>\n",
              "      <td>Yes</td>\n",
              "      <td>No</td>\n",
              "      <td>No</td>\n",
              "      <td>No internet service</td>\n",
              "      <td>No internet service</td>\n",
              "      <td>No internet service</td>\n",
              "      <td>No internet service</td>\n",
              "      <td>No internet service</td>\n",
              "      <td>No internet service</td>\n",
              "      <td>Two year</td>\n",
              "      <td>No</td>\n",
              "      <td>Mailed check</td>\n",
              "      <td>20.25</td>\n",
              "      <td>NaN</td>\n",
              "      <td>No</td>\n",
              "    </tr>\n",
              "    <tr>\n",
              "      <th>936</th>\n",
              "      <td>5709-LVOEQ</td>\n",
              "      <td>Female</td>\n",
              "      <td>0</td>\n",
              "      <td>Yes</td>\n",
              "      <td>Yes</td>\n",
              "      <td>0</td>\n",
              "      <td>Yes</td>\n",
              "      <td>No</td>\n",
              "      <td>DSL</td>\n",
              "      <td>Yes</td>\n",
              "      <td>Yes</td>\n",
              "      <td>Yes</td>\n",
              "      <td>No</td>\n",
              "      <td>Yes</td>\n",
              "      <td>Yes</td>\n",
              "      <td>Two year</td>\n",
              "      <td>No</td>\n",
              "      <td>Mailed check</td>\n",
              "      <td>80.85</td>\n",
              "      <td>NaN</td>\n",
              "      <td>No</td>\n",
              "    </tr>\n",
              "    <tr>\n",
              "      <th>1082</th>\n",
              "      <td>4367-NUYAO</td>\n",
              "      <td>Male</td>\n",
              "      <td>0</td>\n",
              "      <td>Yes</td>\n",
              "      <td>Yes</td>\n",
              "      <td>0</td>\n",
              "      <td>Yes</td>\n",
              "      <td>Yes</td>\n",
              "      <td>No</td>\n",
              "      <td>No internet service</td>\n",
              "      <td>No internet service</td>\n",
              "      <td>No internet service</td>\n",
              "      <td>No internet service</td>\n",
              "      <td>No internet service</td>\n",
              "      <td>No internet service</td>\n",
              "      <td>Two year</td>\n",
              "      <td>No</td>\n",
              "      <td>Mailed check</td>\n",
              "      <td>25.75</td>\n",
              "      <td>NaN</td>\n",
              "      <td>No</td>\n",
              "    </tr>\n",
              "    <tr>\n",
              "      <th>1340</th>\n",
              "      <td>1371-DWPAZ</td>\n",
              "      <td>Female</td>\n",
              "      <td>0</td>\n",
              "      <td>Yes</td>\n",
              "      <td>Yes</td>\n",
              "      <td>0</td>\n",
              "      <td>No</td>\n",
              "      <td>No phone service</td>\n",
              "      <td>DSL</td>\n",
              "      <td>Yes</td>\n",
              "      <td>Yes</td>\n",
              "      <td>Yes</td>\n",
              "      <td>Yes</td>\n",
              "      <td>Yes</td>\n",
              "      <td>No</td>\n",
              "      <td>Two year</td>\n",
              "      <td>No</td>\n",
              "      <td>Credit card (automatic)</td>\n",
              "      <td>56.05</td>\n",
              "      <td>NaN</td>\n",
              "      <td>No</td>\n",
              "    </tr>\n",
              "    <tr>\n",
              "      <th>3331</th>\n",
              "      <td>7644-OMVMY</td>\n",
              "      <td>Male</td>\n",
              "      <td>0</td>\n",
              "      <td>Yes</td>\n",
              "      <td>Yes</td>\n",
              "      <td>0</td>\n",
              "      <td>Yes</td>\n",
              "      <td>No</td>\n",
              "      <td>No</td>\n",
              "      <td>No internet service</td>\n",
              "      <td>No internet service</td>\n",
              "      <td>No internet service</td>\n",
              "      <td>No internet service</td>\n",
              "      <td>No internet service</td>\n",
              "      <td>No internet service</td>\n",
              "      <td>Two year</td>\n",
              "      <td>No</td>\n",
              "      <td>Mailed check</td>\n",
              "      <td>19.85</td>\n",
              "      <td>NaN</td>\n",
              "      <td>No</td>\n",
              "    </tr>\n",
              "    <tr>\n",
              "      <th>3826</th>\n",
              "      <td>3213-VVOLG</td>\n",
              "      <td>Male</td>\n",
              "      <td>0</td>\n",
              "      <td>Yes</td>\n",
              "      <td>Yes</td>\n",
              "      <td>0</td>\n",
              "      <td>Yes</td>\n",
              "      <td>Yes</td>\n",
              "      <td>No</td>\n",
              "      <td>No internet service</td>\n",
              "      <td>No internet service</td>\n",
              "      <td>No internet service</td>\n",
              "      <td>No internet service</td>\n",
              "      <td>No internet service</td>\n",
              "      <td>No internet service</td>\n",
              "      <td>Two year</td>\n",
              "      <td>No</td>\n",
              "      <td>Mailed check</td>\n",
              "      <td>25.35</td>\n",
              "      <td>NaN</td>\n",
              "      <td>No</td>\n",
              "    </tr>\n",
              "    <tr>\n",
              "      <th>4380</th>\n",
              "      <td>2520-SGTTA</td>\n",
              "      <td>Female</td>\n",
              "      <td>0</td>\n",
              "      <td>Yes</td>\n",
              "      <td>Yes</td>\n",
              "      <td>0</td>\n",
              "      <td>Yes</td>\n",
              "      <td>No</td>\n",
              "      <td>No</td>\n",
              "      <td>No internet service</td>\n",
              "      <td>No internet service</td>\n",
              "      <td>No internet service</td>\n",
              "      <td>No internet service</td>\n",
              "      <td>No internet service</td>\n",
              "      <td>No internet service</td>\n",
              "      <td>Two year</td>\n",
              "      <td>No</td>\n",
              "      <td>Mailed check</td>\n",
              "      <td>20.00</td>\n",
              "      <td>NaN</td>\n",
              "      <td>No</td>\n",
              "    </tr>\n",
              "    <tr>\n",
              "      <th>5218</th>\n",
              "      <td>2923-ARZLG</td>\n",
              "      <td>Male</td>\n",
              "      <td>0</td>\n",
              "      <td>Yes</td>\n",
              "      <td>Yes</td>\n",
              "      <td>0</td>\n",
              "      <td>Yes</td>\n",
              "      <td>No</td>\n",
              "      <td>No</td>\n",
              "      <td>No internet service</td>\n",
              "      <td>No internet service</td>\n",
              "      <td>No internet service</td>\n",
              "      <td>No internet service</td>\n",
              "      <td>No internet service</td>\n",
              "      <td>No internet service</td>\n",
              "      <td>One year</td>\n",
              "      <td>Yes</td>\n",
              "      <td>Mailed check</td>\n",
              "      <td>19.70</td>\n",
              "      <td>NaN</td>\n",
              "      <td>No</td>\n",
              "    </tr>\n",
              "    <tr>\n",
              "      <th>6670</th>\n",
              "      <td>4075-WKNIU</td>\n",
              "      <td>Female</td>\n",
              "      <td>0</td>\n",
              "      <td>Yes</td>\n",
              "      <td>Yes</td>\n",
              "      <td>0</td>\n",
              "      <td>Yes</td>\n",
              "      <td>Yes</td>\n",
              "      <td>DSL</td>\n",
              "      <td>No</td>\n",
              "      <td>Yes</td>\n",
              "      <td>Yes</td>\n",
              "      <td>Yes</td>\n",
              "      <td>Yes</td>\n",
              "      <td>No</td>\n",
              "      <td>Two year</td>\n",
              "      <td>No</td>\n",
              "      <td>Mailed check</td>\n",
              "      <td>73.35</td>\n",
              "      <td>NaN</td>\n",
              "      <td>No</td>\n",
              "    </tr>\n",
              "    <tr>\n",
              "      <th>6754</th>\n",
              "      <td>2775-SEFEE</td>\n",
              "      <td>Male</td>\n",
              "      <td>0</td>\n",
              "      <td>No</td>\n",
              "      <td>Yes</td>\n",
              "      <td>0</td>\n",
              "      <td>Yes</td>\n",
              "      <td>Yes</td>\n",
              "      <td>DSL</td>\n",
              "      <td>Yes</td>\n",
              "      <td>Yes</td>\n",
              "      <td>No</td>\n",
              "      <td>Yes</td>\n",
              "      <td>No</td>\n",
              "      <td>No</td>\n",
              "      <td>Two year</td>\n",
              "      <td>Yes</td>\n",
              "      <td>Bank transfer (automatic)</td>\n",
              "      <td>61.90</td>\n",
              "      <td>NaN</td>\n",
              "      <td>No</td>\n",
              "    </tr>\n",
              "  </tbody>\n",
              "</table>\n",
              "</div>"
            ],
            "text/plain": [
              "      customerID  gender  SeniorCitizen Partner Dependents  tenure   \n",
              "488   4472-LVYGI  Female              0     Yes        Yes       0  \\\n",
              "753   3115-CZMZD    Male              0      No        Yes       0   \n",
              "936   5709-LVOEQ  Female              0     Yes        Yes       0   \n",
              "1082  4367-NUYAO    Male              0     Yes        Yes       0   \n",
              "1340  1371-DWPAZ  Female              0     Yes        Yes       0   \n",
              "3331  7644-OMVMY    Male              0     Yes        Yes       0   \n",
              "3826  3213-VVOLG    Male              0     Yes        Yes       0   \n",
              "4380  2520-SGTTA  Female              0     Yes        Yes       0   \n",
              "5218  2923-ARZLG    Male              0     Yes        Yes       0   \n",
              "6670  4075-WKNIU  Female              0     Yes        Yes       0   \n",
              "6754  2775-SEFEE    Male              0      No        Yes       0   \n",
              "\n",
              "     PhoneService     MultipleLines InternetService       OnlineSecurity   \n",
              "488            No  No phone service             DSL                  Yes  \\\n",
              "753           Yes                No              No  No internet service   \n",
              "936           Yes                No             DSL                  Yes   \n",
              "1082          Yes               Yes              No  No internet service   \n",
              "1340           No  No phone service             DSL                  Yes   \n",
              "3331          Yes                No              No  No internet service   \n",
              "3826          Yes               Yes              No  No internet service   \n",
              "4380          Yes                No              No  No internet service   \n",
              "5218          Yes                No              No  No internet service   \n",
              "6670          Yes               Yes             DSL                   No   \n",
              "6754          Yes               Yes             DSL                  Yes   \n",
              "\n",
              "             OnlineBackup     DeviceProtection          TechSupport   \n",
              "488                    No                  Yes                  Yes  \\\n",
              "753   No internet service  No internet service  No internet service   \n",
              "936                   Yes                  Yes                   No   \n",
              "1082  No internet service  No internet service  No internet service   \n",
              "1340                  Yes                  Yes                  Yes   \n",
              "3331  No internet service  No internet service  No internet service   \n",
              "3826  No internet service  No internet service  No internet service   \n",
              "4380  No internet service  No internet service  No internet service   \n",
              "5218  No internet service  No internet service  No internet service   \n",
              "6670                  Yes                  Yes                  Yes   \n",
              "6754                  Yes                   No                  Yes   \n",
              "\n",
              "              StreamingTV      StreamingMovies  Contract PaperlessBilling   \n",
              "488                   Yes                   No  Two year              Yes  \\\n",
              "753   No internet service  No internet service  Two year               No   \n",
              "936                   Yes                  Yes  Two year               No   \n",
              "1082  No internet service  No internet service  Two year               No   \n",
              "1340                  Yes                   No  Two year               No   \n",
              "3331  No internet service  No internet service  Two year               No   \n",
              "3826  No internet service  No internet service  Two year               No   \n",
              "4380  No internet service  No internet service  Two year               No   \n",
              "5218  No internet service  No internet service  One year              Yes   \n",
              "6670                  Yes                   No  Two year               No   \n",
              "6754                   No                   No  Two year              Yes   \n",
              "\n",
              "                  PaymentMethod  MonthlyCharges  TotalCharges Churn  \n",
              "488   Bank transfer (automatic)           52.55           NaN    No  \n",
              "753                Mailed check           20.25           NaN    No  \n",
              "936                Mailed check           80.85           NaN    No  \n",
              "1082               Mailed check           25.75           NaN    No  \n",
              "1340    Credit card (automatic)           56.05           NaN    No  \n",
              "3331               Mailed check           19.85           NaN    No  \n",
              "3826               Mailed check           25.35           NaN    No  \n",
              "4380               Mailed check           20.00           NaN    No  \n",
              "5218               Mailed check           19.70           NaN    No  \n",
              "6670               Mailed check           73.35           NaN    No  \n",
              "6754  Bank transfer (automatic)           61.90           NaN    No  "
            ]
          },
          "execution_count": 80,
          "metadata": {},
          "output_type": "execute_result"
        }
      ],
      "source": [
        "df[\"TotalCharges\"] = pd.to_numeric(df[\"TotalCharges\"], errors = 'coerce')\n",
        "\n",
        "df[df[\"TotalCharges\"].isna()]"
      ]
    },
    {
      "attachments": {},
      "cell_type": "markdown",
      "id": "2c030a1f-7848-4412-93b1-a8eecc8cbf5f",
      "metadata": {
        "id": "2c030a1f-7848-4412-93b1-a8eecc8cbf5f"
      },
      "source": [
        "**Но как выглядят наши данные обычно?**"
      ]
    },
    {
      "cell_type": "code",
      "execution_count": 81,
      "id": "c5a0c8e0-8906-4a9a-b081-b718f4e11053",
      "metadata": {
        "id": "c5a0c8e0-8906-4a9a-b081-b718f4e11053",
        "tags": []
      },
      "outputs": [
        {
          "data": {
            "text/html": [
              "<div>\n",
              "<style scoped>\n",
              "    .dataframe tbody tr th:only-of-type {\n",
              "        vertical-align: middle;\n",
              "    }\n",
              "\n",
              "    .dataframe tbody tr th {\n",
              "        vertical-align: top;\n",
              "    }\n",
              "\n",
              "    .dataframe thead th {\n",
              "        text-align: right;\n",
              "    }\n",
              "</style>\n",
              "<table border=\"1\" class=\"dataframe\">\n",
              "  <thead>\n",
              "    <tr style=\"text-align: right;\">\n",
              "      <th></th>\n",
              "      <th>customerID</th>\n",
              "      <th>gender</th>\n",
              "      <th>SeniorCitizen</th>\n",
              "      <th>Partner</th>\n",
              "      <th>Dependents</th>\n",
              "      <th>tenure</th>\n",
              "      <th>PhoneService</th>\n",
              "      <th>MultipleLines</th>\n",
              "      <th>InternetService</th>\n",
              "      <th>OnlineSecurity</th>\n",
              "      <th>OnlineBackup</th>\n",
              "      <th>DeviceProtection</th>\n",
              "      <th>TechSupport</th>\n",
              "      <th>StreamingTV</th>\n",
              "      <th>StreamingMovies</th>\n",
              "      <th>Contract</th>\n",
              "      <th>PaperlessBilling</th>\n",
              "      <th>PaymentMethod</th>\n",
              "      <th>MonthlyCharges</th>\n",
              "      <th>TotalCharges</th>\n",
              "      <th>Churn</th>\n",
              "    </tr>\n",
              "  </thead>\n",
              "  <tbody>\n",
              "    <tr>\n",
              "      <th>2409</th>\n",
              "      <td>3275-RHRNE</td>\n",
              "      <td>Male</td>\n",
              "      <td>0</td>\n",
              "      <td>Yes</td>\n",
              "      <td>Yes</td>\n",
              "      <td>28</td>\n",
              "      <td>No</td>\n",
              "      <td>No phone service</td>\n",
              "      <td>DSL</td>\n",
              "      <td>No</td>\n",
              "      <td>Yes</td>\n",
              "      <td>Yes</td>\n",
              "      <td>Yes</td>\n",
              "      <td>Yes</td>\n",
              "      <td>Yes</td>\n",
              "      <td>One year</td>\n",
              "      <td>Yes</td>\n",
              "      <td>Credit card (automatic)</td>\n",
              "      <td>60.00</td>\n",
              "      <td>1682.05</td>\n",
              "      <td>No</td>\n",
              "    </tr>\n",
              "    <tr>\n",
              "      <th>2413</th>\n",
              "      <td>7021-XSNYE</td>\n",
              "      <td>Male</td>\n",
              "      <td>0</td>\n",
              "      <td>Yes</td>\n",
              "      <td>Yes</td>\n",
              "      <td>7</td>\n",
              "      <td>No</td>\n",
              "      <td>No phone service</td>\n",
              "      <td>DSL</td>\n",
              "      <td>Yes</td>\n",
              "      <td>No</td>\n",
              "      <td>Yes</td>\n",
              "      <td>Yes</td>\n",
              "      <td>No</td>\n",
              "      <td>Yes</td>\n",
              "      <td>Two year</td>\n",
              "      <td>No</td>\n",
              "      <td>Credit card (automatic)</td>\n",
              "      <td>49.65</td>\n",
              "      <td>305.55</td>\n",
              "      <td>No</td>\n",
              "    </tr>\n",
              "    <tr>\n",
              "      <th>5577</th>\n",
              "      <td>4163-HFTUK</td>\n",
              "      <td>Male</td>\n",
              "      <td>0</td>\n",
              "      <td>No</td>\n",
              "      <td>No</td>\n",
              "      <td>51</td>\n",
              "      <td>Yes</td>\n",
              "      <td>No</td>\n",
              "      <td>No</td>\n",
              "      <td>No internet service</td>\n",
              "      <td>No internet service</td>\n",
              "      <td>No internet service</td>\n",
              "      <td>No internet service</td>\n",
              "      <td>No internet service</td>\n",
              "      <td>No internet service</td>\n",
              "      <td>One year</td>\n",
              "      <td>No</td>\n",
              "      <td>Electronic check</td>\n",
              "      <td>19.10</td>\n",
              "      <td>1007.80</td>\n",
              "      <td>No</td>\n",
              "    </tr>\n",
              "    <tr>\n",
              "      <th>630</th>\n",
              "      <td>5099-BAILX</td>\n",
              "      <td>Male</td>\n",
              "      <td>1</td>\n",
              "      <td>Yes</td>\n",
              "      <td>Yes</td>\n",
              "      <td>43</td>\n",
              "      <td>Yes</td>\n",
              "      <td>Yes</td>\n",
              "      <td>Fiber optic</td>\n",
              "      <td>No</td>\n",
              "      <td>Yes</td>\n",
              "      <td>Yes</td>\n",
              "      <td>Yes</td>\n",
              "      <td>Yes</td>\n",
              "      <td>Yes</td>\n",
              "      <td>Month-to-month</td>\n",
              "      <td>Yes</td>\n",
              "      <td>Bank transfer (automatic)</td>\n",
              "      <td>110.75</td>\n",
              "      <td>4687.90</td>\n",
              "      <td>Yes</td>\n",
              "    </tr>\n",
              "    <tr>\n",
              "      <th>6343</th>\n",
              "      <td>0902-RFHOF</td>\n",
              "      <td>Male</td>\n",
              "      <td>0</td>\n",
              "      <td>No</td>\n",
              "      <td>No</td>\n",
              "      <td>38</td>\n",
              "      <td>Yes</td>\n",
              "      <td>No</td>\n",
              "      <td>No</td>\n",
              "      <td>No internet service</td>\n",
              "      <td>No internet service</td>\n",
              "      <td>No internet service</td>\n",
              "      <td>No internet service</td>\n",
              "      <td>No internet service</td>\n",
              "      <td>No internet service</td>\n",
              "      <td>One year</td>\n",
              "      <td>No</td>\n",
              "      <td>Mailed check</td>\n",
              "      <td>20.10</td>\n",
              "      <td>730.10</td>\n",
              "      <td>No</td>\n",
              "    </tr>\n",
              "  </tbody>\n",
              "</table>\n",
              "</div>"
            ],
            "text/plain": [
              "      customerID gender  SeniorCitizen Partner Dependents  tenure   \n",
              "2409  3275-RHRNE   Male              0     Yes        Yes      28  \\\n",
              "2413  7021-XSNYE   Male              0     Yes        Yes       7   \n",
              "5577  4163-HFTUK   Male              0      No         No      51   \n",
              "630   5099-BAILX   Male              1     Yes        Yes      43   \n",
              "6343  0902-RFHOF   Male              0      No         No      38   \n",
              "\n",
              "     PhoneService     MultipleLines InternetService       OnlineSecurity   \n",
              "2409           No  No phone service             DSL                   No  \\\n",
              "2413           No  No phone service             DSL                  Yes   \n",
              "5577          Yes                No              No  No internet service   \n",
              "630           Yes               Yes     Fiber optic                   No   \n",
              "6343          Yes                No              No  No internet service   \n",
              "\n",
              "             OnlineBackup     DeviceProtection          TechSupport   \n",
              "2409                  Yes                  Yes                  Yes  \\\n",
              "2413                   No                  Yes                  Yes   \n",
              "5577  No internet service  No internet service  No internet service   \n",
              "630                   Yes                  Yes                  Yes   \n",
              "6343  No internet service  No internet service  No internet service   \n",
              "\n",
              "              StreamingTV      StreamingMovies        Contract   \n",
              "2409                  Yes                  Yes        One year  \\\n",
              "2413                   No                  Yes        Two year   \n",
              "5577  No internet service  No internet service        One year   \n",
              "630                   Yes                  Yes  Month-to-month   \n",
              "6343  No internet service  No internet service        One year   \n",
              "\n",
              "     PaperlessBilling              PaymentMethod  MonthlyCharges   \n",
              "2409              Yes    Credit card (automatic)           60.00  \\\n",
              "2413               No    Credit card (automatic)           49.65   \n",
              "5577               No           Electronic check           19.10   \n",
              "630               Yes  Bank transfer (automatic)          110.75   \n",
              "6343               No               Mailed check           20.10   \n",
              "\n",
              "      TotalCharges Churn  \n",
              "2409       1682.05    No  \n",
              "2413        305.55    No  \n",
              "5577       1007.80    No  \n",
              "630        4687.90   Yes  \n",
              "6343        730.10    No  "
            ]
          },
          "execution_count": 81,
          "metadata": {},
          "output_type": "execute_result"
        }
      ],
      "source": [
        "df.sample(5)"
      ]
    },
    {
      "attachments": {},
      "cell_type": "markdown",
      "id": "089c43d2-f7e8-4494-8f29-0419d0e4d193",
      "metadata": {
        "id": "089c43d2-f7e8-4494-8f29-0419d0e4d193"
      },
      "source": [
        "**Ничего не заметили?**\n",
        "\n",
        "Может общая сумма, списанная с клиента, равна сумме, взимаемой с клиента ежемесячно, умноженной на количество времени?\n",
        "\n",
        "Давайте посмотрим."
      ]
    },
    {
      "cell_type": "code",
      "execution_count": 82,
      "id": "b5694487-db1c-4cf6-b543-af9e6a120970",
      "metadata": {
        "id": "b5694487-db1c-4cf6-b543-af9e6a120970"
      },
      "outputs": [
        {
          "data": {
            "text/html": [
              "<div>\n",
              "<style scoped>\n",
              "    .dataframe tbody tr th:only-of-type {\n",
              "        vertical-align: middle;\n",
              "    }\n",
              "\n",
              "    .dataframe tbody tr th {\n",
              "        vertical-align: top;\n",
              "    }\n",
              "\n",
              "    .dataframe thead th {\n",
              "        text-align: right;\n",
              "    }\n",
              "</style>\n",
              "<table border=\"1\" class=\"dataframe\">\n",
              "  <thead>\n",
              "    <tr style=\"text-align: right;\">\n",
              "      <th></th>\n",
              "      <th>customerID</th>\n",
              "      <th>gender</th>\n",
              "      <th>SeniorCitizen</th>\n",
              "      <th>Partner</th>\n",
              "      <th>Dependents</th>\n",
              "      <th>tenure</th>\n",
              "      <th>PhoneService</th>\n",
              "      <th>MultipleLines</th>\n",
              "      <th>InternetService</th>\n",
              "      <th>OnlineSecurity</th>\n",
              "      <th>OnlineBackup</th>\n",
              "      <th>DeviceProtection</th>\n",
              "      <th>TechSupport</th>\n",
              "      <th>StreamingTV</th>\n",
              "      <th>StreamingMovies</th>\n",
              "      <th>Contract</th>\n",
              "      <th>PaperlessBilling</th>\n",
              "      <th>PaymentMethod</th>\n",
              "      <th>MonthlyCharges</th>\n",
              "      <th>TotalCharges</th>\n",
              "      <th>Churn</th>\n",
              "    </tr>\n",
              "  </thead>\n",
              "  <tbody>\n",
              "    <tr>\n",
              "      <th>0</th>\n",
              "      <td>7590-VHVEG</td>\n",
              "      <td>Female</td>\n",
              "      <td>0</td>\n",
              "      <td>Yes</td>\n",
              "      <td>No</td>\n",
              "      <td>1</td>\n",
              "      <td>No</td>\n",
              "      <td>No phone service</td>\n",
              "      <td>DSL</td>\n",
              "      <td>No</td>\n",
              "      <td>Yes</td>\n",
              "      <td>No</td>\n",
              "      <td>No</td>\n",
              "      <td>No</td>\n",
              "      <td>No</td>\n",
              "      <td>Month-to-month</td>\n",
              "      <td>Yes</td>\n",
              "      <td>Electronic check</td>\n",
              "      <td>29.85</td>\n",
              "      <td>29.85</td>\n",
              "      <td>No</td>\n",
              "    </tr>\n",
              "    <tr>\n",
              "      <th>20</th>\n",
              "      <td>8779-QRDMV</td>\n",
              "      <td>Male</td>\n",
              "      <td>1</td>\n",
              "      <td>No</td>\n",
              "      <td>No</td>\n",
              "      <td>1</td>\n",
              "      <td>No</td>\n",
              "      <td>No phone service</td>\n",
              "      <td>DSL</td>\n",
              "      <td>No</td>\n",
              "      <td>No</td>\n",
              "      <td>Yes</td>\n",
              "      <td>No</td>\n",
              "      <td>No</td>\n",
              "      <td>Yes</td>\n",
              "      <td>Month-to-month</td>\n",
              "      <td>Yes</td>\n",
              "      <td>Electronic check</td>\n",
              "      <td>39.65</td>\n",
              "      <td>39.65</td>\n",
              "      <td>Yes</td>\n",
              "    </tr>\n",
              "    <tr>\n",
              "      <th>22</th>\n",
              "      <td>1066-JKSGK</td>\n",
              "      <td>Male</td>\n",
              "      <td>0</td>\n",
              "      <td>No</td>\n",
              "      <td>No</td>\n",
              "      <td>1</td>\n",
              "      <td>Yes</td>\n",
              "      <td>No</td>\n",
              "      <td>No</td>\n",
              "      <td>No internet service</td>\n",
              "      <td>No internet service</td>\n",
              "      <td>No internet service</td>\n",
              "      <td>No internet service</td>\n",
              "      <td>No internet service</td>\n",
              "      <td>No internet service</td>\n",
              "      <td>Month-to-month</td>\n",
              "      <td>No</td>\n",
              "      <td>Mailed check</td>\n",
              "      <td>20.15</td>\n",
              "      <td>20.15</td>\n",
              "      <td>Yes</td>\n",
              "    </tr>\n",
              "    <tr>\n",
              "      <th>27</th>\n",
              "      <td>8665-UTDHZ</td>\n",
              "      <td>Male</td>\n",
              "      <td>0</td>\n",
              "      <td>Yes</td>\n",
              "      <td>Yes</td>\n",
              "      <td>1</td>\n",
              "      <td>No</td>\n",
              "      <td>No phone service</td>\n",
              "      <td>DSL</td>\n",
              "      <td>No</td>\n",
              "      <td>Yes</td>\n",
              "      <td>No</td>\n",
              "      <td>No</td>\n",
              "      <td>No</td>\n",
              "      <td>No</td>\n",
              "      <td>Month-to-month</td>\n",
              "      <td>No</td>\n",
              "      <td>Electronic check</td>\n",
              "      <td>30.20</td>\n",
              "      <td>30.20</td>\n",
              "      <td>Yes</td>\n",
              "    </tr>\n",
              "    <tr>\n",
              "      <th>33</th>\n",
              "      <td>7310-EGVHZ</td>\n",
              "      <td>Male</td>\n",
              "      <td>0</td>\n",
              "      <td>No</td>\n",
              "      <td>No</td>\n",
              "      <td>1</td>\n",
              "      <td>Yes</td>\n",
              "      <td>No</td>\n",
              "      <td>No</td>\n",
              "      <td>No internet service</td>\n",
              "      <td>No internet service</td>\n",
              "      <td>No internet service</td>\n",
              "      <td>No internet service</td>\n",
              "      <td>No internet service</td>\n",
              "      <td>No internet service</td>\n",
              "      <td>Month-to-month</td>\n",
              "      <td>No</td>\n",
              "      <td>Bank transfer (automatic)</td>\n",
              "      <td>20.20</td>\n",
              "      <td>20.20</td>\n",
              "      <td>No</td>\n",
              "    </tr>\n",
              "  </tbody>\n",
              "</table>\n",
              "</div>"
            ],
            "text/plain": [
              "    customerID  gender  SeniorCitizen Partner Dependents  tenure PhoneService   \n",
              "0   7590-VHVEG  Female              0     Yes         No       1           No  \\\n",
              "20  8779-QRDMV    Male              1      No         No       1           No   \n",
              "22  1066-JKSGK    Male              0      No         No       1          Yes   \n",
              "27  8665-UTDHZ    Male              0     Yes        Yes       1           No   \n",
              "33  7310-EGVHZ    Male              0      No         No       1          Yes   \n",
              "\n",
              "       MultipleLines InternetService       OnlineSecurity   \n",
              "0   No phone service             DSL                   No  \\\n",
              "20  No phone service             DSL                   No   \n",
              "22                No              No  No internet service   \n",
              "27  No phone service             DSL                   No   \n",
              "33                No              No  No internet service   \n",
              "\n",
              "           OnlineBackup     DeviceProtection          TechSupport   \n",
              "0                   Yes                   No                   No  \\\n",
              "20                   No                  Yes                   No   \n",
              "22  No internet service  No internet service  No internet service   \n",
              "27                  Yes                   No                   No   \n",
              "33  No internet service  No internet service  No internet service   \n",
              "\n",
              "            StreamingTV      StreamingMovies        Contract PaperlessBilling   \n",
              "0                    No                   No  Month-to-month              Yes  \\\n",
              "20                   No                  Yes  Month-to-month              Yes   \n",
              "22  No internet service  No internet service  Month-to-month               No   \n",
              "27                   No                   No  Month-to-month               No   \n",
              "33  No internet service  No internet service  Month-to-month               No   \n",
              "\n",
              "                PaymentMethod  MonthlyCharges  TotalCharges Churn  \n",
              "0            Electronic check           29.85         29.85    No  \n",
              "20           Electronic check           39.65         39.65   Yes  \n",
              "22               Mailed check           20.15         20.15   Yes  \n",
              "27           Electronic check           30.20         30.20   Yes  \n",
              "33  Bank transfer (automatic)           20.20         20.20    No  "
            ]
          },
          "execution_count": 82,
          "metadata": {},
          "output_type": "execute_result"
        }
      ],
      "source": [
        "df[(df['TotalCharges'] / df['MonthlyCharges']) == df['tenure']].head()"
      ]
    },
    {
      "attachments": {},
      "cell_type": "markdown",
      "id": "12128a01-51a2-4a15-a8ab-d72557b413fe",
      "metadata": {
        "id": "12128a01-51a2-4a15-a8ab-d72557b413fe"
      },
      "source": [
        "Нашей гипотезе есть место быть.\n",
        "\n",
        "Значит `TotalCharges` = `MonthlyCharges` * время. В данном датасете указано только количество месяцев, без точного времени, потому будет грубо просто перемножить один столбец на другой. Но пропуски мы уже можем заменить на `0`, так как в тех строках `tenure` == 0.\n",
        "\n",
        "Заменим пропуски на нужное нам число."
      ]
    },
    {
      "cell_type": "code",
      "execution_count": 83,
      "id": "085bfa2f-2800-4814-9877-9fccf7c5994c",
      "metadata": {
        "id": "085bfa2f-2800-4814-9877-9fccf7c5994c",
        "tags": []
      },
      "outputs": [],
      "source": [
        "df['TotalCharges'].fillna(0, inplace=True)"
      ]
    },
    {
      "attachments": {},
      "cell_type": "markdown",
      "id": "pt3BGKLdPcn9",
      "metadata": {
        "id": "pt3BGKLdPcn9"
      },
      "source": [
        "# Изменение типа данных"
      ]
    },
    {
      "attachments": {},
      "cell_type": "markdown",
      "id": "12573416-214f-48ef-9a39-3d007253cf7a",
      "metadata": {
        "id": "12573416-214f-48ef-9a39-3d007253cf7a"
      },
      "source": [
        "Рассмотрев все данные, замените типы на нужные (при необходимости):\n",
        "\n",
        "- Если есть числа — на `int` или `float`\n",
        "- Если категории — можно оставить `object`"
      ]
    },
    {
      "cell_type": "code",
      "execution_count": 84,
      "id": "8099b599-1a04-437b-a2c9-ee834eee2809",
      "metadata": {
        "id": "8099b599-1a04-437b-a2c9-ee834eee2809"
      },
      "outputs": [
        {
          "name": "stdout",
          "output_type": "stream",
          "text": [
            "<class 'pandas.core.frame.DataFrame'>\n",
            "RangeIndex: 7043 entries, 0 to 7042\n",
            "Data columns (total 21 columns):\n",
            " #   Column            Non-Null Count  Dtype  \n",
            "---  ------            --------------  -----  \n",
            " 0   customerID        7043 non-null   object \n",
            " 1   gender            7043 non-null   object \n",
            " 2   SeniorCitizen     7043 non-null   int64  \n",
            " 3   Partner           7043 non-null   object \n",
            " 4   Dependents        7043 non-null   object \n",
            " 5   tenure            7043 non-null   int64  \n",
            " 6   PhoneService      7043 non-null   object \n",
            " 7   MultipleLines     7043 non-null   object \n",
            " 8   InternetService   7043 non-null   object \n",
            " 9   OnlineSecurity    7043 non-null   object \n",
            " 10  OnlineBackup      7043 non-null   object \n",
            " 11  DeviceProtection  7043 non-null   object \n",
            " 12  TechSupport       7043 non-null   object \n",
            " 13  StreamingTV       7043 non-null   object \n",
            " 14  StreamingMovies   7043 non-null   object \n",
            " 15  Contract          7043 non-null   object \n",
            " 16  PaperlessBilling  7043 non-null   object \n",
            " 17  PaymentMethod     7043 non-null   object \n",
            " 18  MonthlyCharges    7043 non-null   float64\n",
            " 19  TotalCharges      7043 non-null   float64\n",
            " 20  Churn             7043 non-null   object \n",
            "dtypes: float64(2), int64(2), object(17)\n",
            "memory usage: 1.1+ MB\n"
          ]
        }
      ],
      "source": [
        "df.info()"
      ]
    },
    {
      "cell_type": "code",
      "execution_count": 97,
      "id": "20bba921",
      "metadata": {},
      "outputs": [
        {
          "data": {
            "text/plain": [
              "array(['No', 'Yes'], dtype=object)"
            ]
          },
          "execution_count": 97,
          "metadata": {},
          "output_type": "execute_result"
        }
      ],
      "source": [
        "df['Churn'].unique()"
      ]
    },
    {
      "attachments": {},
      "cell_type": "markdown",
      "id": "97cfbb52",
      "metadata": {},
      "source": [
        "customerID, gender, Partner, Dependents, PhoneService, MultipleLines, InternetService, OnlineSecurity, OnlineBackup, DeviceProtection, TechSupport, StreamingTV, StreamingMovies, Contract, PaperlessBilling, PaymentMethod - не меняем, оставляем тип object\n",
        "SeniorCitizen, tenure - не меняем, оставляем тип int64\n",
        "MonthlyCharges, TotalCharges - не меняем, оставляем тип float64"
      ]
    },
    {
      "attachments": {},
      "cell_type": "markdown",
      "id": "6e2ca993-d92d-4ea3-bca5-6408708f6e83",
      "metadata": {
        "id": "6e2ca993-d92d-4ea3-bca5-6408708f6e83"
      },
      "source": [
        "**Вывод:**"
      ]
    },
    {
      "attachments": {},
      "cell_type": "markdown",
      "id": "84339281",
      "metadata": {
        "id": "84339281",
        "papermill": {
          "duration": 0.135596,
          "end_time": "2022-09-17T00:13:12.914231",
          "exception": false,
          "start_time": "2022-09-17T00:13:12.778635",
          "status": "completed"
        },
        "tags": []
      },
      "source": [
        "\n",
        "\n",
        "```\n",
        "# Выбран кодовый формат\n",
        "```\n",
        "\n",
        "# 4. Проверка гипотез"
      ]
    },
    {
      "attachments": {},
      "cell_type": "markdown",
      "id": "a6d6cc55-2a27-45ac-9f63-6ba92410d0ae",
      "metadata": {
        "id": "a6d6cc55-2a27-45ac-9f63-6ba92410d0ae"
      },
      "source": [
        "Задание: сравнить две выборки - `Churn='No'` и `Churn='Yes'` \n",
        "\n",
        "Нулевая гипотеза - среднее количество месяцев, в течение которых клиент оставался в компании не отличается между двумя выборками\n",
        "Альтернативная гипотеза - среднее количество месяцев, в течение которых клиент оставался в компании, отличается между двумя выборками"
      ]
    },
    {
      "attachments": {},
      "cell_type": "markdown",
      "id": "d26a7c71",
      "metadata": {},
      "source": [
        "Создадим 2 датафрейма:"
      ]
    },
    {
      "cell_type": "code",
      "execution_count": 98,
      "id": "7a01f484",
      "metadata": {},
      "outputs": [
        {
          "data": {
            "text/html": [
              "<div>\n",
              "<style scoped>\n",
              "    .dataframe tbody tr th:only-of-type {\n",
              "        vertical-align: middle;\n",
              "    }\n",
              "\n",
              "    .dataframe tbody tr th {\n",
              "        vertical-align: top;\n",
              "    }\n",
              "\n",
              "    .dataframe thead th {\n",
              "        text-align: right;\n",
              "    }\n",
              "</style>\n",
              "<table border=\"1\" class=\"dataframe\">\n",
              "  <thead>\n",
              "    <tr style=\"text-align: right;\">\n",
              "      <th></th>\n",
              "      <th>customerID</th>\n",
              "      <th>gender</th>\n",
              "      <th>SeniorCitizen</th>\n",
              "      <th>Partner</th>\n",
              "      <th>Dependents</th>\n",
              "      <th>tenure</th>\n",
              "      <th>PhoneService</th>\n",
              "      <th>MultipleLines</th>\n",
              "      <th>InternetService</th>\n",
              "      <th>OnlineSecurity</th>\n",
              "      <th>OnlineBackup</th>\n",
              "      <th>DeviceProtection</th>\n",
              "      <th>TechSupport</th>\n",
              "      <th>StreamingTV</th>\n",
              "      <th>StreamingMovies</th>\n",
              "      <th>Contract</th>\n",
              "      <th>PaperlessBilling</th>\n",
              "      <th>PaymentMethod</th>\n",
              "      <th>MonthlyCharges</th>\n",
              "      <th>TotalCharges</th>\n",
              "      <th>Churn</th>\n",
              "    </tr>\n",
              "  </thead>\n",
              "  <tbody>\n",
              "    <tr>\n",
              "      <th>0</th>\n",
              "      <td>7590-VHVEG</td>\n",
              "      <td>Female</td>\n",
              "      <td>0</td>\n",
              "      <td>Yes</td>\n",
              "      <td>No</td>\n",
              "      <td>1</td>\n",
              "      <td>No</td>\n",
              "      <td>No phone service</td>\n",
              "      <td>DSL</td>\n",
              "      <td>No</td>\n",
              "      <td>Yes</td>\n",
              "      <td>No</td>\n",
              "      <td>No</td>\n",
              "      <td>No</td>\n",
              "      <td>No</td>\n",
              "      <td>Month-to-month</td>\n",
              "      <td>Yes</td>\n",
              "      <td>Electronic check</td>\n",
              "      <td>29.85</td>\n",
              "      <td>29.85</td>\n",
              "      <td>No</td>\n",
              "    </tr>\n",
              "    <tr>\n",
              "      <th>1</th>\n",
              "      <td>5575-GNVDE</td>\n",
              "      <td>Male</td>\n",
              "      <td>0</td>\n",
              "      <td>No</td>\n",
              "      <td>No</td>\n",
              "      <td>34</td>\n",
              "      <td>Yes</td>\n",
              "      <td>No</td>\n",
              "      <td>DSL</td>\n",
              "      <td>Yes</td>\n",
              "      <td>No</td>\n",
              "      <td>Yes</td>\n",
              "      <td>No</td>\n",
              "      <td>No</td>\n",
              "      <td>No</td>\n",
              "      <td>One year</td>\n",
              "      <td>No</td>\n",
              "      <td>Mailed check</td>\n",
              "      <td>56.95</td>\n",
              "      <td>1889.50</td>\n",
              "      <td>No</td>\n",
              "    </tr>\n",
              "    <tr>\n",
              "      <th>3</th>\n",
              "      <td>7795-CFOCW</td>\n",
              "      <td>Male</td>\n",
              "      <td>0</td>\n",
              "      <td>No</td>\n",
              "      <td>No</td>\n",
              "      <td>45</td>\n",
              "      <td>No</td>\n",
              "      <td>No phone service</td>\n",
              "      <td>DSL</td>\n",
              "      <td>Yes</td>\n",
              "      <td>No</td>\n",
              "      <td>Yes</td>\n",
              "      <td>Yes</td>\n",
              "      <td>No</td>\n",
              "      <td>No</td>\n",
              "      <td>One year</td>\n",
              "      <td>No</td>\n",
              "      <td>Bank transfer (automatic)</td>\n",
              "      <td>42.30</td>\n",
              "      <td>1840.75</td>\n",
              "      <td>No</td>\n",
              "    </tr>\n",
              "    <tr>\n",
              "      <th>6</th>\n",
              "      <td>1452-KIOVK</td>\n",
              "      <td>Male</td>\n",
              "      <td>0</td>\n",
              "      <td>No</td>\n",
              "      <td>Yes</td>\n",
              "      <td>22</td>\n",
              "      <td>Yes</td>\n",
              "      <td>Yes</td>\n",
              "      <td>Fiber optic</td>\n",
              "      <td>No</td>\n",
              "      <td>Yes</td>\n",
              "      <td>No</td>\n",
              "      <td>No</td>\n",
              "      <td>Yes</td>\n",
              "      <td>No</td>\n",
              "      <td>Month-to-month</td>\n",
              "      <td>Yes</td>\n",
              "      <td>Credit card (automatic)</td>\n",
              "      <td>89.10</td>\n",
              "      <td>1949.40</td>\n",
              "      <td>No</td>\n",
              "    </tr>\n",
              "    <tr>\n",
              "      <th>7</th>\n",
              "      <td>6713-OKOMC</td>\n",
              "      <td>Female</td>\n",
              "      <td>0</td>\n",
              "      <td>No</td>\n",
              "      <td>No</td>\n",
              "      <td>10</td>\n",
              "      <td>No</td>\n",
              "      <td>No phone service</td>\n",
              "      <td>DSL</td>\n",
              "      <td>Yes</td>\n",
              "      <td>No</td>\n",
              "      <td>No</td>\n",
              "      <td>No</td>\n",
              "      <td>No</td>\n",
              "      <td>No</td>\n",
              "      <td>Month-to-month</td>\n",
              "      <td>No</td>\n",
              "      <td>Mailed check</td>\n",
              "      <td>29.75</td>\n",
              "      <td>301.90</td>\n",
              "      <td>No</td>\n",
              "    </tr>\n",
              "  </tbody>\n",
              "</table>\n",
              "</div>"
            ],
            "text/plain": [
              "   customerID  gender  SeniorCitizen Partner Dependents  tenure PhoneService   \n",
              "0  7590-VHVEG  Female              0     Yes         No       1           No  \\\n",
              "1  5575-GNVDE    Male              0      No         No      34          Yes   \n",
              "3  7795-CFOCW    Male              0      No         No      45           No   \n",
              "6  1452-KIOVK    Male              0      No        Yes      22          Yes   \n",
              "7  6713-OKOMC  Female              0      No         No      10           No   \n",
              "\n",
              "      MultipleLines InternetService OnlineSecurity OnlineBackup   \n",
              "0  No phone service             DSL             No          Yes  \\\n",
              "1                No             DSL            Yes           No   \n",
              "3  No phone service             DSL            Yes           No   \n",
              "6               Yes     Fiber optic             No          Yes   \n",
              "7  No phone service             DSL            Yes           No   \n",
              "\n",
              "  DeviceProtection TechSupport StreamingTV StreamingMovies        Contract   \n",
              "0               No          No          No              No  Month-to-month  \\\n",
              "1              Yes          No          No              No        One year   \n",
              "3              Yes         Yes          No              No        One year   \n",
              "6               No          No         Yes              No  Month-to-month   \n",
              "7               No          No          No              No  Month-to-month   \n",
              "\n",
              "  PaperlessBilling              PaymentMethod  MonthlyCharges  TotalCharges   \n",
              "0              Yes           Electronic check           29.85         29.85  \\\n",
              "1               No               Mailed check           56.95       1889.50   \n",
              "3               No  Bank transfer (automatic)           42.30       1840.75   \n",
              "6              Yes    Credit card (automatic)           89.10       1949.40   \n",
              "7               No               Mailed check           29.75        301.90   \n",
              "\n",
              "  Churn  \n",
              "0    No  \n",
              "1    No  \n",
              "3    No  \n",
              "6    No  \n",
              "7    No  "
            ]
          },
          "execution_count": 98,
          "metadata": {},
          "output_type": "execute_result"
        }
      ],
      "source": [
        "churn_no = df[df['Churn'] == 'No']\n",
        "churn_no.head()"
      ]
    },
    {
      "cell_type": "code",
      "execution_count": 99,
      "id": "a0d13764-53ad-4218-b614-c3ca5fb40ad2",
      "metadata": {
        "id": "a0d13764-53ad-4218-b614-c3ca5fb40ad2"
      },
      "outputs": [
        {
          "data": {
            "text/html": [
              "<div>\n",
              "<style scoped>\n",
              "    .dataframe tbody tr th:only-of-type {\n",
              "        vertical-align: middle;\n",
              "    }\n",
              "\n",
              "    .dataframe tbody tr th {\n",
              "        vertical-align: top;\n",
              "    }\n",
              "\n",
              "    .dataframe thead th {\n",
              "        text-align: right;\n",
              "    }\n",
              "</style>\n",
              "<table border=\"1\" class=\"dataframe\">\n",
              "  <thead>\n",
              "    <tr style=\"text-align: right;\">\n",
              "      <th></th>\n",
              "      <th>customerID</th>\n",
              "      <th>gender</th>\n",
              "      <th>SeniorCitizen</th>\n",
              "      <th>Partner</th>\n",
              "      <th>Dependents</th>\n",
              "      <th>tenure</th>\n",
              "      <th>PhoneService</th>\n",
              "      <th>MultipleLines</th>\n",
              "      <th>InternetService</th>\n",
              "      <th>OnlineSecurity</th>\n",
              "      <th>OnlineBackup</th>\n",
              "      <th>DeviceProtection</th>\n",
              "      <th>TechSupport</th>\n",
              "      <th>StreamingTV</th>\n",
              "      <th>StreamingMovies</th>\n",
              "      <th>Contract</th>\n",
              "      <th>PaperlessBilling</th>\n",
              "      <th>PaymentMethod</th>\n",
              "      <th>MonthlyCharges</th>\n",
              "      <th>TotalCharges</th>\n",
              "      <th>Churn</th>\n",
              "    </tr>\n",
              "  </thead>\n",
              "  <tbody>\n",
              "    <tr>\n",
              "      <th>2</th>\n",
              "      <td>3668-QPYBK</td>\n",
              "      <td>Male</td>\n",
              "      <td>0</td>\n",
              "      <td>No</td>\n",
              "      <td>No</td>\n",
              "      <td>2</td>\n",
              "      <td>Yes</td>\n",
              "      <td>No</td>\n",
              "      <td>DSL</td>\n",
              "      <td>Yes</td>\n",
              "      <td>Yes</td>\n",
              "      <td>No</td>\n",
              "      <td>No</td>\n",
              "      <td>No</td>\n",
              "      <td>No</td>\n",
              "      <td>Month-to-month</td>\n",
              "      <td>Yes</td>\n",
              "      <td>Mailed check</td>\n",
              "      <td>53.85</td>\n",
              "      <td>108.15</td>\n",
              "      <td>Yes</td>\n",
              "    </tr>\n",
              "    <tr>\n",
              "      <th>4</th>\n",
              "      <td>9237-HQITU</td>\n",
              "      <td>Female</td>\n",
              "      <td>0</td>\n",
              "      <td>No</td>\n",
              "      <td>No</td>\n",
              "      <td>2</td>\n",
              "      <td>Yes</td>\n",
              "      <td>No</td>\n",
              "      <td>Fiber optic</td>\n",
              "      <td>No</td>\n",
              "      <td>No</td>\n",
              "      <td>No</td>\n",
              "      <td>No</td>\n",
              "      <td>No</td>\n",
              "      <td>No</td>\n",
              "      <td>Month-to-month</td>\n",
              "      <td>Yes</td>\n",
              "      <td>Electronic check</td>\n",
              "      <td>70.70</td>\n",
              "      <td>151.65</td>\n",
              "      <td>Yes</td>\n",
              "    </tr>\n",
              "    <tr>\n",
              "      <th>5</th>\n",
              "      <td>9305-CDSKC</td>\n",
              "      <td>Female</td>\n",
              "      <td>0</td>\n",
              "      <td>No</td>\n",
              "      <td>No</td>\n",
              "      <td>8</td>\n",
              "      <td>Yes</td>\n",
              "      <td>Yes</td>\n",
              "      <td>Fiber optic</td>\n",
              "      <td>No</td>\n",
              "      <td>No</td>\n",
              "      <td>Yes</td>\n",
              "      <td>No</td>\n",
              "      <td>Yes</td>\n",
              "      <td>Yes</td>\n",
              "      <td>Month-to-month</td>\n",
              "      <td>Yes</td>\n",
              "      <td>Electronic check</td>\n",
              "      <td>99.65</td>\n",
              "      <td>820.50</td>\n",
              "      <td>Yes</td>\n",
              "    </tr>\n",
              "    <tr>\n",
              "      <th>8</th>\n",
              "      <td>7892-POOKP</td>\n",
              "      <td>Female</td>\n",
              "      <td>0</td>\n",
              "      <td>Yes</td>\n",
              "      <td>No</td>\n",
              "      <td>28</td>\n",
              "      <td>Yes</td>\n",
              "      <td>Yes</td>\n",
              "      <td>Fiber optic</td>\n",
              "      <td>No</td>\n",
              "      <td>No</td>\n",
              "      <td>Yes</td>\n",
              "      <td>Yes</td>\n",
              "      <td>Yes</td>\n",
              "      <td>Yes</td>\n",
              "      <td>Month-to-month</td>\n",
              "      <td>Yes</td>\n",
              "      <td>Electronic check</td>\n",
              "      <td>104.80</td>\n",
              "      <td>3046.05</td>\n",
              "      <td>Yes</td>\n",
              "    </tr>\n",
              "    <tr>\n",
              "      <th>13</th>\n",
              "      <td>0280-XJGEX</td>\n",
              "      <td>Male</td>\n",
              "      <td>0</td>\n",
              "      <td>No</td>\n",
              "      <td>No</td>\n",
              "      <td>49</td>\n",
              "      <td>Yes</td>\n",
              "      <td>Yes</td>\n",
              "      <td>Fiber optic</td>\n",
              "      <td>No</td>\n",
              "      <td>Yes</td>\n",
              "      <td>Yes</td>\n",
              "      <td>No</td>\n",
              "      <td>Yes</td>\n",
              "      <td>Yes</td>\n",
              "      <td>Month-to-month</td>\n",
              "      <td>Yes</td>\n",
              "      <td>Bank transfer (automatic)</td>\n",
              "      <td>103.70</td>\n",
              "      <td>5036.30</td>\n",
              "      <td>Yes</td>\n",
              "    </tr>\n",
              "  </tbody>\n",
              "</table>\n",
              "</div>"
            ],
            "text/plain": [
              "    customerID  gender  SeniorCitizen Partner Dependents  tenure PhoneService   \n",
              "2   3668-QPYBK    Male              0      No         No       2          Yes  \\\n",
              "4   9237-HQITU  Female              0      No         No       2          Yes   \n",
              "5   9305-CDSKC  Female              0      No         No       8          Yes   \n",
              "8   7892-POOKP  Female              0     Yes         No      28          Yes   \n",
              "13  0280-XJGEX    Male              0      No         No      49          Yes   \n",
              "\n",
              "   MultipleLines InternetService OnlineSecurity OnlineBackup DeviceProtection   \n",
              "2             No             DSL            Yes          Yes               No  \\\n",
              "4             No     Fiber optic             No           No               No   \n",
              "5            Yes     Fiber optic             No           No              Yes   \n",
              "8            Yes     Fiber optic             No           No              Yes   \n",
              "13           Yes     Fiber optic             No          Yes              Yes   \n",
              "\n",
              "   TechSupport StreamingTV StreamingMovies        Contract PaperlessBilling   \n",
              "2           No          No              No  Month-to-month              Yes  \\\n",
              "4           No          No              No  Month-to-month              Yes   \n",
              "5           No         Yes             Yes  Month-to-month              Yes   \n",
              "8          Yes         Yes             Yes  Month-to-month              Yes   \n",
              "13          No         Yes             Yes  Month-to-month              Yes   \n",
              "\n",
              "                PaymentMethod  MonthlyCharges  TotalCharges Churn  \n",
              "2                Mailed check           53.85        108.15   Yes  \n",
              "4            Electronic check           70.70        151.65   Yes  \n",
              "5            Electronic check           99.65        820.50   Yes  \n",
              "8            Electronic check          104.80       3046.05   Yes  \n",
              "13  Bank transfer (automatic)          103.70       5036.30   Yes  "
            ]
          },
          "execution_count": 99,
          "metadata": {},
          "output_type": "execute_result"
        }
      ],
      "source": [
        "churn_yes = df[df['Churn'] == 'Yes']\n",
        "churn_yes.head()"
      ]
    },
    {
      "cell_type": "code",
      "execution_count": 100,
      "id": "c6f5306e",
      "metadata": {},
      "outputs": [
        {
          "data": {
            "text/plain": [
              "37.56996521066873"
            ]
          },
          "execution_count": 100,
          "metadata": {},
          "output_type": "execute_result"
        }
      ],
      "source": [
        "churn_no['tenure'].mean()"
      ]
    },
    {
      "cell_type": "code",
      "execution_count": 101,
      "id": "ed437a13",
      "metadata": {},
      "outputs": [
        {
          "data": {
            "text/plain": [
              "17.979133226324237"
            ]
          },
          "execution_count": 101,
          "metadata": {},
          "output_type": "execute_result"
        }
      ],
      "source": [
        "churn_yes['tenure'].mean()"
      ]
    },
    {
      "attachments": {},
      "cell_type": "markdown",
      "id": "b0271755",
      "metadata": {},
      "source": [
        "Альтернативная Гипотеза подтверждена — среднее количество месяцев, в течение которых клиент оставался в компании, отличается между двумя выборками."
      ]
    },
    {
      "cell_type": "code",
      "execution_count": 116,
      "id": "79ea8d75",
      "metadata": {},
      "outputs": [
        {
          "name": "stdout",
          "output_type": "stream",
          "text": [
            "P-value:0.00000. Нулевая гипотеза отвергается\n"
          ]
        }
      ],
      "source": [
        "t_stat, pvalue = stats.ttest_ind(churn_no['tenure'], churn_yes['tenure'])\n",
        "alpha = .05\n",
        "\n",
        "if pvalue < alpha:\n",
        "    print(f'P-value:{pvalue:.5f}. Нулевая гипотеза отвергается')\n",
        "else:\n",
        "    print(f'P-value:{pvalue:.5f}. Подтверждается нулевая гипотеза')"
      ]
    },
    {
      "attachments": {},
      "cell_type": "markdown",
      "id": "66691f06-afde-4300-99f9-a4c781878d68",
      "metadata": {
        "id": "66691f06-afde-4300-99f9-a4c781878d68"
      },
      "source": [
        "**Вывод:**"
      ]
    },
    {
      "attachments": {},
      "cell_type": "markdown",
      "id": "182612f7",
      "metadata": {
        "id": "182612f7",
        "papermill": {
          "duration": 0.135397,
          "end_time": "2022-09-17T00:13:13.186292",
          "exception": false,
          "start_time": "2022-09-17T00:13:13.050895",
          "status": "completed"
        },
        "tags": []
      },
      "source": [
        "# 5. Статистический анализ на норму"
      ]
    },
    {
      "attachments": {},
      "cell_type": "markdown",
      "id": "c9cdddbd-896d-48af-9b88-662204560cb7",
      "metadata": {
        "id": "c9cdddbd-896d-48af-9b88-662204560cb7"
      },
      "source": [
        "Задание: выберите числовые признаки и проведите анализ — соответствуют ли распределения нормальному?"
      ]
    },
    {
      "attachments": {},
      "cell_type": "markdown",
      "id": "4b68885d",
      "metadata": {},
      "source": [
        "**Нулевая гипотеза - распределение значений в выборке соответствует нормальному распределению**\n",
        "**Альтернативная гипотеза - распределение значений в выборке не соответствует нормальному распределению**"
      ]
    },
    {
      "cell_type": "code",
      "execution_count": 117,
      "id": "c5c7251c-09de-40c2-8fc6-372e9dc30d19",
      "metadata": {
        "id": "c5c7251c-09de-40c2-8fc6-372e9dc30d19"
      },
      "outputs": [
        {
          "data": {
            "text/plain": [
              "array([[<Axes: title={'center': 'SeniorCitizen'}>,\n",
              "        <Axes: title={'center': 'tenure'}>],\n",
              "       [<Axes: title={'center': 'MonthlyCharges'}>,\n",
              "        <Axes: title={'center': 'TotalCharges'}>]], dtype=object)"
            ]
          },
          "execution_count": 117,
          "metadata": {},
          "output_type": "execute_result"
        },
        {
          "data": {
            "image/png": "[encoded data removed]",
            "text/plain": [
              "<Figure size 1000x500 with 4 Axes>"
            ]
          },
          "metadata": {},
          "output_type": "display_data"
        }
      ],
      "source": [
        "df.hist(bins=20, figsize=(10,5))"
      ]
    },
    {
      "attachments": {},
      "cell_type": "markdown",
      "id": "26ed0644",
      "metadata": {},
      "source": [
        "Просто взглянув на эту гистограмму, мы можем сказать, что набор данных не имеет «колокольчатой формы» и не имеет нормального распределения."
      ]
    },
    {
      "cell_type": "code",
      "execution_count": 120,
      "id": "96ab76d9",
      "metadata": {},
      "outputs": [
        {
          "data": {
            "image/png": "[encoded data removed]",
            "text/plain": [
              "<Figure size 640x480 with 1 Axes>"
            ]
          },
          "metadata": {},
          "output_type": "display_data"
        }
      ],
      "source": [
        "import pylab\n",
        "\n",
        "stats.probplot(df['SeniorCitizen'], dist='norm', plot=pylab)\n",
        "pylab.show()"
      ]
    },
    {
      "cell_type": "code",
      "execution_count": 121,
      "id": "09c57351",
      "metadata": {},
      "outputs": [
        {
          "data": {
            "image/png": "[encoded data removed]",
            "text/plain": [
              "<Figure size 640x480 with 1 Axes>"
            ]
          },
          "metadata": {},
          "output_type": "display_data"
        }
      ],
      "source": [
        "stats.probplot(df['tenure'], dist='norm', plot=pylab)\n",
        "pylab.show()"
      ]
    },
    {
      "cell_type": "code",
      "execution_count": 122,
      "id": "f762cb97",
      "metadata": {},
      "outputs": [
        {
          "data": {
            "image/png": "[encoded data removed]",
            "text/plain": [
              "<Figure size 640x480 with 1 Axes>"
            ]
          },
          "metadata": {},
          "output_type": "display_data"
        }
      ],
      "source": [
        "stats.probplot(df['MonthlyCharges'], dist='norm', plot=pylab)\n",
        "pylab.show()"
      ]
    },
    {
      "cell_type": "code",
      "execution_count": 123,
      "id": "f8277e6b",
      "metadata": {},
      "outputs": [
        {
          "data": {
            "image/png": "[encoded data removed]",
            "text/plain": [
              "<Figure size 640x480 with 1 Axes>"
            ]
          },
          "metadata": {},
          "output_type": "display_data"
        }
      ],
      "source": [
        "stats.probplot(df['TotalCharges'], dist='norm', plot=pylab)\n",
        "pylab.show()"
      ]
    },
    {
      "attachments": {},
      "cell_type": "markdown",
      "id": "b8b403af",
      "metadata": {},
      "source": [
        "На этих графиках мы так же видим не нормальное распределение, так как при нормальном все точки были бы расположены вдоль \"диагональной\" линии"
      ]
    },
    {
      "cell_type": "code",
      "execution_count": 124,
      "id": "a7a74d96",
      "metadata": {},
      "outputs": [
        {
          "name": "stdout",
          "output_type": "stream",
          "text": [
            "ShapiroResult(statistic=0.4433855414390564, pvalue=0.0)\n",
            "ShapiroResult(statistic=0.9037514925003052, pvalue=0.0)\n",
            "ShapiroResult(statistic=0.9208890199661255, pvalue=0.0)\n",
            "ShapiroResult(statistic=0.8601522445678711, pvalue=0.0)\n"
          ]
        },
        {
          "name": "stderr",
          "output_type": "stream",
          "text": [
            "C:\\Users\\1will\\AppData\\Local\\Packages\\PythonSoftwareFoundation.Python.3.10_qbz5n2kfra8p0\\LocalCache\\local-packages\\Python310\\site-packages\\scipy\\stats\\_morestats.py:1816: UserWarning: p-value may not be accurate for N > 5000.\n",
            "  warnings.warn(\"p-value may not be accurate for N > 5000.\")\n"
          ]
        }
      ],
      "source": [
        "from scipy.stats import shapiro \n",
        "\n",
        "df_ = np.random.normal(loc=50, scale=20, size=5000)\n",
        "\n",
        "print(shapiro(df['SeniorCitizen']))\n",
        "print(shapiro(df['tenure']))\n",
        "print(shapiro(df['MonthlyCharges']))\n",
        "print(shapiro(df['TotalCharges']))"
      ]
    },
    {
      "attachments": {},
      "cell_type": "markdown",
      "id": "7ed4c36f",
      "metadata": {},
      "source": [
        "Поскольку p-значение меньше 0,05, мы отвергаем нулевую гипотезу "
      ]
    },
    {
      "attachments": {},
      "cell_type": "markdown",
      "id": "e6bd29e6",
      "metadata": {},
      "source": [
        "Это означает, что у нас есть достаточно доказательств, чтобы сказать, что данные выборки не получены из нормального распределения."
      ]
    },
    {
      "attachments": {},
      "cell_type": "markdown",
      "id": "b9040662-d2e5-4bfe-9d50-e7070ea54714",
      "metadata": {
        "id": "b9040662-d2e5-4bfe-9d50-e7070ea54714"
      },
      "source": [
        "**Вывод:**"
      ]
    },
    {
      "attachments": {},
      "cell_type": "markdown",
      "id": "3f764616-e487-4f19-b6b8-25104e3f3195",
      "metadata": {
        "id": "3f764616-e487-4f19-b6b8-25104e3f3195"
      },
      "source": [
        "На выборке из 7043 строк мы проверили следующую работу:\n",
        "\n",
        "- Посмотрели общую статистику по количественным и категориальным переменным\n",
        "- Преобразовали колонку TotalCharges для анализа\n",
        "- Проверили выборки по `Churn='No'` и `Churn='Yes'`, подтвердили альтернативную гипотезу (среднее количество месяцев, в течение которых клиент оставался в компании, отличается между двумя выборками)\n",
        "- Проверили выборку на нормальное распределение и подтвердили альтернативную гипотезу (распределение значений в выборке не соответствует нормальному распределению)"
      ]
    },
    {
      "attachments": {},
      "cell_type": "markdown",
      "id": "3f3c0bce-40e3-4933-92a5-3b3e83b2ec89",
      "metadata": {
        "id": "3f3c0bce-40e3-4933-92a5-3b3e83b2ec89"
      },
      "source": [
        "Опишите данные и результат исследования, основываясь на предыдущих шагах:"
      ]
    },
    {
      "attachments": {},
      "cell_type": "markdown",
      "id": "64e826c1",
      "metadata": {},
      "source": [
        "Выборка, состоящая из 7043 строк, 21 колонки. Со значениями float64 2 колонка, int64 2 колонки, object 17 колонок (после преобразования).\n",
        "Данные не соответствует нормальному распледелению\n",
        "Для нашего заказчика мы можем сказать, что количество клиентов, которые остались в компании - 5174 (73,46%), а ушло 1869 (26,54%)"
      ]
    }
  ],
  "metadata": {
    "colab": {
      "provenance": []
    },
    "kernelspec": {
      "display_name": "Python 3 (ipykernel)",
      "language": "python",
      "name": "python3"
    },
    "language_info": {
      "codemirror_mode": {
        "name": "ipython",
        "version": 3
      },
      "file_extension": ".py",
      "mimetype": "text/x-python",
      "name": "python",
      "nbconvert_exporter": "python",
      "pygments_lexer": "ipython3",
      "version": "3.10.11"
    },
    "papermill": {
      "default_parameters": {},
      "duration": 110.694338,
      "end_time": "2022-09-17T00:14:38.634386",
      "environment_variables": {},
      "exception": null,
      "input_path": "__notebook__.ipynb",
      "output_path": "__notebook__.ipynb",
      "parameters": {},
      "start_time": "2022-09-17T00:12:47.940048",
      "version": "2.3.3"
    }
  },
  "nbformat": 4,
  "nbformat_minor": 5
}
