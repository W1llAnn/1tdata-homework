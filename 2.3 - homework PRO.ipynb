{
 "cells": [
  {
   "attachments": {},
   "cell_type": "markdown",
   "id": "b79bcc02",
   "metadata": {},
   "source": [
    "**Основные цели этого задания:**\n",
    "*   Научиться работать с новыми моделями: случайный лес, градиентный бустинг.\n",
    "*   Научиться распознавать факты переобучения и недообучения модели.\n",
    "*   Научить бороться с переобучением и недообучением модели путем варьирования ее гиперпараметров."
   ]
  },
  {
   "attachments": {},
   "cell_type": "markdown",
   "id": "2d83336b",
   "metadata": {},
   "source": [
    "**Задача: Построить модель машинного обучения, предсказывающую, является ли вино красным по одиннадцати его характеристикам.**"
   ]
  },
  {
   "attachments": {},
   "cell_type": "markdown",
   "id": "5750bcf7",
   "metadata": {},
   "source": [
    "*1. Загрузите данные, объедините источники в один датафрейм. Составьте целевую переменную на основе файла, из которого вы получили часть данных, изучите распределение по ней. Проверьте отсутствие пропусков в данных, отделите фичи и целевой признак друг от друга, разделите данные на обучающую и валидационную части.*"
   ]
  },
  {
   "cell_type": "code",
   "execution_count": 107,
   "id": "ecae65cd",
   "metadata": {},
   "outputs": [],
   "source": [
    "import pandas as pd\n",
    "import numpy as np\n",
    "\n",
    "from numpy import arange\n",
    "from sklearn.model_selection import train_test_split\n",
    "from sklearn.tree import DecisionTreeClassifier\n",
    "from sklearn.ensemble import RandomForestClassifier\n",
    "from sklearn.metrics import balanced_accuracy_score\n",
    "from matplotlib import pyplot as plt\n",
    "from xgboost import XGBClassifier\n",
    "\n",
    "from imblearn.metrics import sensitivity_score, specificity_score"
   ]
  },
  {
   "attachments": {},
   "cell_type": "markdown",
   "id": "231d3f3e",
   "metadata": {},
   "source": [
    "Сначала посмотрим оба файла по отдельности:"
   ]
  },
  {
   "cell_type": "code",
   "execution_count": 39,
   "id": "f1e9e7aa",
   "metadata": {},
   "outputs": [
    {
     "data": {
      "text/html": [
       "<div>\n",
       "<style scoped>\n",
       "    .dataframe tbody tr th:only-of-type {\n",
       "        vertical-align: middle;\n",
       "    }\n",
       "\n",
       "    .dataframe tbody tr th {\n",
       "        vertical-align: top;\n",
       "    }\n",
       "\n",
       "    .dataframe thead th {\n",
       "        text-align: right;\n",
       "    }\n",
       "</style>\n",
       "<table border=\"1\" class=\"dataframe\">\n",
       "  <thead>\n",
       "    <tr style=\"text-align: right;\">\n",
       "      <th></th>\n",
       "      <th>fixed acidity</th>\n",
       "      <th>volatile acidity</th>\n",
       "      <th>citric acid</th>\n",
       "      <th>residual sugar</th>\n",
       "      <th>chlorides</th>\n",
       "      <th>free sulfur dioxide</th>\n",
       "      <th>total sulfur dioxide</th>\n",
       "      <th>density</th>\n",
       "      <th>pH</th>\n",
       "      <th>sulphates</th>\n",
       "      <th>alcohol</th>\n",
       "      <th>quality</th>\n",
       "    </tr>\n",
       "  </thead>\n",
       "  <tbody>\n",
       "    <tr>\n",
       "      <th>0</th>\n",
       "      <td>7.0</td>\n",
       "      <td>0.27</td>\n",
       "      <td>0.36</td>\n",
       "      <td>20.7</td>\n",
       "      <td>0.045</td>\n",
       "      <td>45.0</td>\n",
       "      <td>170.0</td>\n",
       "      <td>1.0010</td>\n",
       "      <td>3.00</td>\n",
       "      <td>0.45</td>\n",
       "      <td>8.8</td>\n",
       "      <td>6</td>\n",
       "    </tr>\n",
       "    <tr>\n",
       "      <th>1</th>\n",
       "      <td>6.3</td>\n",
       "      <td>0.30</td>\n",
       "      <td>0.34</td>\n",
       "      <td>1.6</td>\n",
       "      <td>0.049</td>\n",
       "      <td>14.0</td>\n",
       "      <td>132.0</td>\n",
       "      <td>0.9940</td>\n",
       "      <td>3.30</td>\n",
       "      <td>0.49</td>\n",
       "      <td>9.5</td>\n",
       "      <td>6</td>\n",
       "    </tr>\n",
       "    <tr>\n",
       "      <th>2</th>\n",
       "      <td>8.1</td>\n",
       "      <td>0.28</td>\n",
       "      <td>0.40</td>\n",
       "      <td>6.9</td>\n",
       "      <td>0.050</td>\n",
       "      <td>30.0</td>\n",
       "      <td>97.0</td>\n",
       "      <td>0.9951</td>\n",
       "      <td>3.26</td>\n",
       "      <td>0.44</td>\n",
       "      <td>10.1</td>\n",
       "      <td>6</td>\n",
       "    </tr>\n",
       "    <tr>\n",
       "      <th>3</th>\n",
       "      <td>7.2</td>\n",
       "      <td>0.23</td>\n",
       "      <td>0.32</td>\n",
       "      <td>8.5</td>\n",
       "      <td>0.058</td>\n",
       "      <td>47.0</td>\n",
       "      <td>186.0</td>\n",
       "      <td>0.9956</td>\n",
       "      <td>3.19</td>\n",
       "      <td>0.40</td>\n",
       "      <td>9.9</td>\n",
       "      <td>6</td>\n",
       "    </tr>\n",
       "    <tr>\n",
       "      <th>4</th>\n",
       "      <td>7.2</td>\n",
       "      <td>0.23</td>\n",
       "      <td>0.32</td>\n",
       "      <td>8.5</td>\n",
       "      <td>0.058</td>\n",
       "      <td>47.0</td>\n",
       "      <td>186.0</td>\n",
       "      <td>0.9956</td>\n",
       "      <td>3.19</td>\n",
       "      <td>0.40</td>\n",
       "      <td>9.9</td>\n",
       "      <td>6</td>\n",
       "    </tr>\n",
       "  </tbody>\n",
       "</table>\n",
       "</div>"
      ],
      "text/plain": [
       "   fixed acidity  volatile acidity  citric acid  residual sugar  chlorides   \n",
       "0            7.0              0.27         0.36            20.7      0.045  \\\n",
       "1            6.3              0.30         0.34             1.6      0.049   \n",
       "2            8.1              0.28         0.40             6.9      0.050   \n",
       "3            7.2              0.23         0.32             8.5      0.058   \n",
       "4            7.2              0.23         0.32             8.5      0.058   \n",
       "\n",
       "   free sulfur dioxide  total sulfur dioxide  density    pH  sulphates   \n",
       "0                 45.0                 170.0   1.0010  3.00       0.45  \\\n",
       "1                 14.0                 132.0   0.9940  3.30       0.49   \n",
       "2                 30.0                  97.0   0.9951  3.26       0.44   \n",
       "3                 47.0                 186.0   0.9956  3.19       0.40   \n",
       "4                 47.0                 186.0   0.9956  3.19       0.40   \n",
       "\n",
       "   alcohol  quality  \n",
       "0      8.8        6  \n",
       "1      9.5        6  \n",
       "2     10.1        6  \n",
       "3      9.9        6  \n",
       "4      9.9        6  "
      ]
     },
     "execution_count": 39,
     "metadata": {},
     "output_type": "execute_result"
    }
   ],
   "source": [
    "df_white = pd.read_csv('https://raw.githubusercontent.com/W1llAnn/1tdata-homework/main/2.3winequality-white.csv', delimiter=';')\n",
    "df_white.head()"
   ]
  },
  {
   "cell_type": "code",
   "execution_count": 40,
   "id": "113c4012",
   "metadata": {},
   "outputs": [
    {
     "data": {
      "text/html": [
       "<div>\n",
       "<style scoped>\n",
       "    .dataframe tbody tr th:only-of-type {\n",
       "        vertical-align: middle;\n",
       "    }\n",
       "\n",
       "    .dataframe tbody tr th {\n",
       "        vertical-align: top;\n",
       "    }\n",
       "\n",
       "    .dataframe thead th {\n",
       "        text-align: right;\n",
       "    }\n",
       "</style>\n",
       "<table border=\"1\" class=\"dataframe\">\n",
       "  <thead>\n",
       "    <tr style=\"text-align: right;\">\n",
       "      <th></th>\n",
       "      <th>fixed acidity</th>\n",
       "      <th>volatile acidity</th>\n",
       "      <th>citric acid</th>\n",
       "      <th>residual sugar</th>\n",
       "      <th>chlorides</th>\n",
       "      <th>free sulfur dioxide</th>\n",
       "      <th>total sulfur dioxide</th>\n",
       "      <th>density</th>\n",
       "      <th>pH</th>\n",
       "      <th>sulphates</th>\n",
       "      <th>alcohol</th>\n",
       "      <th>quality</th>\n",
       "    </tr>\n",
       "  </thead>\n",
       "  <tbody>\n",
       "    <tr>\n",
       "      <th>0</th>\n",
       "      <td>7.4</td>\n",
       "      <td>0.70</td>\n",
       "      <td>0.00</td>\n",
       "      <td>1.9</td>\n",
       "      <td>0.076</td>\n",
       "      <td>11.0</td>\n",
       "      <td>34.0</td>\n",
       "      <td>0.9978</td>\n",
       "      <td>3.51</td>\n",
       "      <td>0.56</td>\n",
       "      <td>9.4</td>\n",
       "      <td>5</td>\n",
       "    </tr>\n",
       "    <tr>\n",
       "      <th>1</th>\n",
       "      <td>7.8</td>\n",
       "      <td>0.88</td>\n",
       "      <td>0.00</td>\n",
       "      <td>2.6</td>\n",
       "      <td>0.098</td>\n",
       "      <td>25.0</td>\n",
       "      <td>67.0</td>\n",
       "      <td>0.9968</td>\n",
       "      <td>3.20</td>\n",
       "      <td>0.68</td>\n",
       "      <td>9.8</td>\n",
       "      <td>5</td>\n",
       "    </tr>\n",
       "    <tr>\n",
       "      <th>2</th>\n",
       "      <td>7.8</td>\n",
       "      <td>0.76</td>\n",
       "      <td>0.04</td>\n",
       "      <td>2.3</td>\n",
       "      <td>0.092</td>\n",
       "      <td>15.0</td>\n",
       "      <td>54.0</td>\n",
       "      <td>0.9970</td>\n",
       "      <td>3.26</td>\n",
       "      <td>0.65</td>\n",
       "      <td>9.8</td>\n",
       "      <td>5</td>\n",
       "    </tr>\n",
       "    <tr>\n",
       "      <th>3</th>\n",
       "      <td>11.2</td>\n",
       "      <td>0.28</td>\n",
       "      <td>0.56</td>\n",
       "      <td>1.9</td>\n",
       "      <td>0.075</td>\n",
       "      <td>17.0</td>\n",
       "      <td>60.0</td>\n",
       "      <td>0.9980</td>\n",
       "      <td>3.16</td>\n",
       "      <td>0.58</td>\n",
       "      <td>9.8</td>\n",
       "      <td>6</td>\n",
       "    </tr>\n",
       "    <tr>\n",
       "      <th>4</th>\n",
       "      <td>7.4</td>\n",
       "      <td>0.70</td>\n",
       "      <td>0.00</td>\n",
       "      <td>1.9</td>\n",
       "      <td>0.076</td>\n",
       "      <td>11.0</td>\n",
       "      <td>34.0</td>\n",
       "      <td>0.9978</td>\n",
       "      <td>3.51</td>\n",
       "      <td>0.56</td>\n",
       "      <td>9.4</td>\n",
       "      <td>5</td>\n",
       "    </tr>\n",
       "  </tbody>\n",
       "</table>\n",
       "</div>"
      ],
      "text/plain": [
       "   fixed acidity  volatile acidity  citric acid  residual sugar  chlorides   \n",
       "0            7.4              0.70         0.00             1.9      0.076  \\\n",
       "1            7.8              0.88         0.00             2.6      0.098   \n",
       "2            7.8              0.76         0.04             2.3      0.092   \n",
       "3           11.2              0.28         0.56             1.9      0.075   \n",
       "4            7.4              0.70         0.00             1.9      0.076   \n",
       "\n",
       "   free sulfur dioxide  total sulfur dioxide  density    pH  sulphates   \n",
       "0                 11.0                  34.0   0.9978  3.51       0.56  \\\n",
       "1                 25.0                  67.0   0.9968  3.20       0.68   \n",
       "2                 15.0                  54.0   0.9970  3.26       0.65   \n",
       "3                 17.0                  60.0   0.9980  3.16       0.58   \n",
       "4                 11.0                  34.0   0.9978  3.51       0.56   \n",
       "\n",
       "   alcohol  quality  \n",
       "0      9.4        5  \n",
       "1      9.8        5  \n",
       "2      9.8        5  \n",
       "3      9.8        6  \n",
       "4      9.4        5  "
      ]
     },
     "execution_count": 40,
     "metadata": {},
     "output_type": "execute_result"
    }
   ],
   "source": [
    "df_red = pd.read_csv('https://raw.githubusercontent.com/W1llAnn/1tdata-homework/main/2.3winequality-red.csv', delimiter=';')\n",
    "df_red.head()"
   ]
  },
  {
   "cell_type": "code",
   "execution_count": 41,
   "id": "2ac996b7",
   "metadata": {},
   "outputs": [
    {
     "name": "stdout",
     "output_type": "stream",
     "text": [
      "<class 'pandas.core.frame.DataFrame'>\n",
      "RangeIndex: 4898 entries, 0 to 4897\n",
      "Data columns (total 12 columns):\n",
      " #   Column                Non-Null Count  Dtype  \n",
      "---  ------                --------------  -----  \n",
      " 0   fixed acidity         4898 non-null   float64\n",
      " 1   volatile acidity      4898 non-null   float64\n",
      " 2   citric acid           4898 non-null   float64\n",
      " 3   residual sugar        4898 non-null   float64\n",
      " 4   chlorides             4898 non-null   float64\n",
      " 5   free sulfur dioxide   4898 non-null   float64\n",
      " 6   total sulfur dioxide  4898 non-null   float64\n",
      " 7   density               4898 non-null   float64\n",
      " 8   pH                    4898 non-null   float64\n",
      " 9   sulphates             4898 non-null   float64\n",
      " 10  alcohol               4898 non-null   float64\n",
      " 11  quality               4898 non-null   int64  \n",
      "dtypes: float64(11), int64(1)\n",
      "memory usage: 459.3 KB\n"
     ]
    }
   ],
   "source": [
    "df_white.info()"
   ]
  },
  {
   "cell_type": "code",
   "execution_count": 42,
   "id": "69f0c684",
   "metadata": {},
   "outputs": [
    {
     "name": "stdout",
     "output_type": "stream",
     "text": [
      "<class 'pandas.core.frame.DataFrame'>\n",
      "RangeIndex: 1599 entries, 0 to 1598\n",
      "Data columns (total 12 columns):\n",
      " #   Column                Non-Null Count  Dtype  \n",
      "---  ------                --------------  -----  \n",
      " 0   fixed acidity         1599 non-null   float64\n",
      " 1   volatile acidity      1599 non-null   float64\n",
      " 2   citric acid           1599 non-null   float64\n",
      " 3   residual sugar        1599 non-null   float64\n",
      " 4   chlorides             1599 non-null   float64\n",
      " 5   free sulfur dioxide   1599 non-null   float64\n",
      " 6   total sulfur dioxide  1599 non-null   float64\n",
      " 7   density               1599 non-null   float64\n",
      " 8   pH                    1599 non-null   float64\n",
      " 9   sulphates             1599 non-null   float64\n",
      " 10  alcohol               1599 non-null   float64\n",
      " 11  quality               1599 non-null   int64  \n",
      "dtypes: float64(11), int64(1)\n",
      "memory usage: 150.0 KB\n"
     ]
    }
   ],
   "source": [
    "df_red.info()"
   ]
  },
  {
   "attachments": {},
   "cell_type": "markdown",
   "id": "f4a68b81",
   "metadata": {},
   "source": [
    "Пропусков нет, колонки имеют одинаковое название. Но нам не хватает столбца, где будет записано является вино красным или белым. Создадим такой столбец и объединим."
   ]
  },
  {
   "cell_type": "code",
   "execution_count": 43,
   "id": "1790ebf1",
   "metadata": {},
   "outputs": [],
   "source": [
    "df_red['wine_red'] = 1\n",
    "df_white['wine_red'] = 0"
   ]
  },
  {
   "attachments": {},
   "cell_type": "markdown",
   "id": "184efbb7",
   "metadata": {},
   "source": [
    "Если вино красное то значение будет 1, если нет 0"
   ]
  },
  {
   "cell_type": "code",
   "execution_count": 44,
   "id": "c334b70d",
   "metadata": {},
   "outputs": [],
   "source": [
    "frames = [df_red, df_white]\n",
    "df_merged = pd.concat(frames)"
   ]
  },
  {
   "cell_type": "code",
   "execution_count": 45,
   "id": "2d360c46",
   "metadata": {},
   "outputs": [
    {
     "data": {
      "text/html": [
       "<div>\n",
       "<style scoped>\n",
       "    .dataframe tbody tr th:only-of-type {\n",
       "        vertical-align: middle;\n",
       "    }\n",
       "\n",
       "    .dataframe tbody tr th {\n",
       "        vertical-align: top;\n",
       "    }\n",
       "\n",
       "    .dataframe thead th {\n",
       "        text-align: right;\n",
       "    }\n",
       "</style>\n",
       "<table border=\"1\" class=\"dataframe\">\n",
       "  <thead>\n",
       "    <tr style=\"text-align: right;\">\n",
       "      <th></th>\n",
       "      <th>fixed acidity</th>\n",
       "      <th>volatile acidity</th>\n",
       "      <th>citric acid</th>\n",
       "      <th>residual sugar</th>\n",
       "      <th>chlorides</th>\n",
       "      <th>free sulfur dioxide</th>\n",
       "      <th>total sulfur dioxide</th>\n",
       "      <th>density</th>\n",
       "      <th>pH</th>\n",
       "      <th>sulphates</th>\n",
       "      <th>alcohol</th>\n",
       "      <th>quality</th>\n",
       "      <th>wine_red</th>\n",
       "    </tr>\n",
       "  </thead>\n",
       "  <tbody>\n",
       "    <tr>\n",
       "      <th>0</th>\n",
       "      <td>7.4</td>\n",
       "      <td>0.70</td>\n",
       "      <td>0.00</td>\n",
       "      <td>1.9</td>\n",
       "      <td>0.076</td>\n",
       "      <td>11.0</td>\n",
       "      <td>34.0</td>\n",
       "      <td>0.9978</td>\n",
       "      <td>3.51</td>\n",
       "      <td>0.56</td>\n",
       "      <td>9.4</td>\n",
       "      <td>5</td>\n",
       "      <td>1</td>\n",
       "    </tr>\n",
       "    <tr>\n",
       "      <th>1</th>\n",
       "      <td>7.8</td>\n",
       "      <td>0.88</td>\n",
       "      <td>0.00</td>\n",
       "      <td>2.6</td>\n",
       "      <td>0.098</td>\n",
       "      <td>25.0</td>\n",
       "      <td>67.0</td>\n",
       "      <td>0.9968</td>\n",
       "      <td>3.20</td>\n",
       "      <td>0.68</td>\n",
       "      <td>9.8</td>\n",
       "      <td>5</td>\n",
       "      <td>1</td>\n",
       "    </tr>\n",
       "    <tr>\n",
       "      <th>2</th>\n",
       "      <td>7.8</td>\n",
       "      <td>0.76</td>\n",
       "      <td>0.04</td>\n",
       "      <td>2.3</td>\n",
       "      <td>0.092</td>\n",
       "      <td>15.0</td>\n",
       "      <td>54.0</td>\n",
       "      <td>0.9970</td>\n",
       "      <td>3.26</td>\n",
       "      <td>0.65</td>\n",
       "      <td>9.8</td>\n",
       "      <td>5</td>\n",
       "      <td>1</td>\n",
       "    </tr>\n",
       "    <tr>\n",
       "      <th>3</th>\n",
       "      <td>11.2</td>\n",
       "      <td>0.28</td>\n",
       "      <td>0.56</td>\n",
       "      <td>1.9</td>\n",
       "      <td>0.075</td>\n",
       "      <td>17.0</td>\n",
       "      <td>60.0</td>\n",
       "      <td>0.9980</td>\n",
       "      <td>3.16</td>\n",
       "      <td>0.58</td>\n",
       "      <td>9.8</td>\n",
       "      <td>6</td>\n",
       "      <td>1</td>\n",
       "    </tr>\n",
       "    <tr>\n",
       "      <th>4</th>\n",
       "      <td>7.4</td>\n",
       "      <td>0.70</td>\n",
       "      <td>0.00</td>\n",
       "      <td>1.9</td>\n",
       "      <td>0.076</td>\n",
       "      <td>11.0</td>\n",
       "      <td>34.0</td>\n",
       "      <td>0.9978</td>\n",
       "      <td>3.51</td>\n",
       "      <td>0.56</td>\n",
       "      <td>9.4</td>\n",
       "      <td>5</td>\n",
       "      <td>1</td>\n",
       "    </tr>\n",
       "  </tbody>\n",
       "</table>\n",
       "</div>"
      ],
      "text/plain": [
       "   fixed acidity  volatile acidity  citric acid  residual sugar  chlorides   \n",
       "0            7.4              0.70         0.00             1.9      0.076  \\\n",
       "1            7.8              0.88         0.00             2.6      0.098   \n",
       "2            7.8              0.76         0.04             2.3      0.092   \n",
       "3           11.2              0.28         0.56             1.9      0.075   \n",
       "4            7.4              0.70         0.00             1.9      0.076   \n",
       "\n",
       "   free sulfur dioxide  total sulfur dioxide  density    pH  sulphates   \n",
       "0                 11.0                  34.0   0.9978  3.51       0.56  \\\n",
       "1                 25.0                  67.0   0.9968  3.20       0.68   \n",
       "2                 15.0                  54.0   0.9970  3.26       0.65   \n",
       "3                 17.0                  60.0   0.9980  3.16       0.58   \n",
       "4                 11.0                  34.0   0.9978  3.51       0.56   \n",
       "\n",
       "   alcohol  quality  wine_red  \n",
       "0      9.4        5         1  \n",
       "1      9.8        5         1  \n",
       "2      9.8        5         1  \n",
       "3      9.8        6         1  \n",
       "4      9.4        5         1  "
      ]
     },
     "execution_count": 45,
     "metadata": {},
     "output_type": "execute_result"
    }
   ],
   "source": [
    "df_merged.head()"
   ]
  },
  {
   "cell_type": "code",
   "execution_count": 46,
   "id": "cee2a40c",
   "metadata": {},
   "outputs": [
    {
     "name": "stdout",
     "output_type": "stream",
     "text": [
      "<class 'pandas.core.frame.DataFrame'>\n",
      "Index: 6497 entries, 0 to 4897\n",
      "Data columns (total 13 columns):\n",
      " #   Column                Non-Null Count  Dtype  \n",
      "---  ------                --------------  -----  \n",
      " 0   fixed acidity         6497 non-null   float64\n",
      " 1   volatile acidity      6497 non-null   float64\n",
      " 2   citric acid           6497 non-null   float64\n",
      " 3   residual sugar        6497 non-null   float64\n",
      " 4   chlorides             6497 non-null   float64\n",
      " 5   free sulfur dioxide   6497 non-null   float64\n",
      " 6   total sulfur dioxide  6497 non-null   float64\n",
      " 7   density               6497 non-null   float64\n",
      " 8   pH                    6497 non-null   float64\n",
      " 9   sulphates             6497 non-null   float64\n",
      " 10  alcohol               6497 non-null   float64\n",
      " 11  quality               6497 non-null   int64  \n",
      " 12  wine_red              6497 non-null   int64  \n",
      "dtypes: float64(11), int64(2)\n",
      "memory usage: 710.6 KB\n"
     ]
    }
   ],
   "source": [
    "df_merged.info()"
   ]
  },
  {
   "cell_type": "code",
   "execution_count": 47,
   "id": "514f1056",
   "metadata": {},
   "outputs": [
    {
     "name": "stdout",
     "output_type": "stream",
     "text": [
      "Проверяем количество строк: 6497 = 6497\n"
     ]
    }
   ],
   "source": [
    "print(f'Проверяем количество строк: {4898 + 1599} = 6497')"
   ]
  },
  {
   "attachments": {},
   "cell_type": "markdown",
   "id": "eb9f56a8",
   "metadata": {},
   "source": [
    "Строки не \"потерялись\", можем продолжать"
   ]
  },
  {
   "cell_type": "code",
   "execution_count": 48,
   "id": "08e6404f",
   "metadata": {},
   "outputs": [
    {
     "data": {
      "text/plain": [
       "wine_red\n",
       "0    4898\n",
       "1    1599\n",
       "Name: count, dtype: int64"
      ]
     },
     "execution_count": 48,
     "metadata": {},
     "output_type": "execute_result"
    }
   ],
   "source": [
    "df_merged['wine_red'].value_counts()"
   ]
  },
  {
   "attachments": {},
   "cell_type": "markdown",
   "id": "5870e1b5",
   "metadata": {},
   "source": [
    "Как и предполагалось, в выборке количество строк с красным вином больше практически в 3 раза, чем белого"
   ]
  },
  {
   "cell_type": "code",
   "execution_count": 49,
   "id": "b86fde37",
   "metadata": {},
   "outputs": [],
   "source": [
    "X = df_merged.drop(['wine_red'], axis=1)\n",
    "y = df_merged['wine_red']\n",
    "\n",
    "X_train, X_test, y_train, y_test = train_test_split(X, y, stratify=y, test_size=0.20, random_state=42)"
   ]
  },
  {
   "attachments": {},
   "cell_type": "markdown",
   "id": "10b6fb5f",
   "metadata": {},
   "source": [
    "Разделили выборку на обучающую и тестовую"
   ]
  },
  {
   "attachments": {},
   "cell_type": "markdown",
   "id": "84d0abc8",
   "metadata": {},
   "source": [
    "*2. Поскольку выборка несбалансирована, воспользуемся для оценки качества модели новой метрикой balanced_accuracy_score. Изучите формулу расчета метрики в документации и реализуйте функцию balanced_accuracy_score_my для ее расчета. На вход она должна принимать правильные и прогнозные метки классов, а возвращать число от 0 до 1. Убедитесь, что вы корректно реализовали расчет, сравнив значения, получаемые библиотечной реализацией и собственной, подавая на вход векторы:   y_true = [0, 1, 1, 1, 1, 1, 1, 0, 1]   y_pred = [1, 0, 1, 1, 1, 1, 0, 0, 1]*"
   ]
  },
  {
   "cell_type": "code",
   "execution_count": 50,
   "id": "85340a4e",
   "metadata": {},
   "outputs": [],
   "source": [
    "y_true_test = [0, 1, 1, 1, 1, 1, 1, 0, 1]\n",
    "y_pred_test = [1, 0, 1, 1, 1, 1, 0, 0, 1]"
   ]
  },
  {
   "cell_type": "code",
   "execution_count": 51,
   "id": "315ed633",
   "metadata": {},
   "outputs": [],
   "source": [
    "def balanced_accuracy_score_my(y_true, y_pred):\n",
    "\n",
    "    #Sensitivity= TP / (TP + FN)       Specificity =TN / (TN + FP)\n",
    "    sensitivity = sensitivity_score(y_true, y_pred, average='binary')\n",
    "    specificity = specificity_score(y_true, y_pred, average='binary')\n",
    "    balanced_accuracy = (sensitivity + specificity) / 2\n",
    "    return balanced_accuracy"
   ]
  },
  {
   "cell_type": "code",
   "execution_count": 52,
   "id": "7d26be28",
   "metadata": {},
   "outputs": [
    {
     "name": "stdout",
     "output_type": "stream",
     "text": [
      "Написанная нами функция: 0.6071428571428572\n",
      "Библиотечная функция: 0.6071428571428572\n"
     ]
    },
    {
     "data": {
      "text/plain": [
       "True"
      ]
     },
     "execution_count": 52,
     "metadata": {},
     "output_type": "execute_result"
    }
   ],
   "source": [
    "print(f'Написанная нами функция: {balanced_accuracy_score_my(y_true_test, y_pred_test)}')\n",
    "print(f'Библиотечная функция: {balanced_accuracy_score(y_true_test, y_pred_test)}')\n",
    "balanced_accuracy_score(y_true_test, y_pred_test) == balanced_accuracy_score_my(y_true_test, y_pred_test)\n"
   ]
  },
  {
   "attachments": {},
   "cell_type": "markdown",
   "id": "bcfc3907",
   "metadata": {},
   "source": [
    "Библиотечная и написанная нами функции отрабатывают одинаково. Мы воспользуемся этими функциями позже"
   ]
  },
  {
   "attachments": {},
   "cell_type": "markdown",
   "id": "59f12a81",
   "metadata": {},
   "source": [
    "*3. Подберите лучшую модель решающего дерева:*\n",
    "*   Переберите несколько значений какого-либо гиперпараметра, отвечающего за сложность дерева, для каждого значения оцените качество на обучающей и валидационной частях\n",
    "*   Визуализируйте зависимость качества модели от значения гиперпараметров. Опишите зоны недообучения и переобучения, если вы их наблюдаете.\n",
    "*   Выведите значение гиперпараметра, при котором качество модели на валидационной части наилучшее. "
   ]
  },
  {
   "attachments": {},
   "cell_type": "markdown",
   "id": "842bc4be",
   "metadata": {},
   "source": [
    "Возьмем очень сложное дерево:"
   ]
  },
  {
   "cell_type": "code",
   "execution_count": 54,
   "id": "d8e182d9",
   "metadata": {},
   "outputs": [
    {
     "name": "stdout",
     "output_type": "stream",
     "text": [
      "Качество на обучающей выборке: 0.9998723838693211\n",
      "Качество на валидационной выборке: 0.9870854591836735\n"
     ]
    }
   ],
   "source": [
    "model_1 = DecisionTreeClassifier(min_samples_leaf=1, random_state=1)\n",
    "\n",
    "model_1.fit(X_train, y_train)\n",
    "pred_train_1 = model_1.predict(X_train)\n",
    "pred_test_1 = model_1.predict(X_test)\n",
    "\n",
    "print(f'Качество на обучающей выборке: {balanced_accuracy_score(y_train, pred_train_1)}')\n",
    "print(f'Качество на валидационной выборке: {balanced_accuracy_score(y_test, pred_test_1)}')"
   ]
  },
  {
   "cell_type": "code",
   "execution_count": 55,
   "id": "3225528f",
   "metadata": {},
   "outputs": [
    {
     "data": {
      "text/plain": [
       "22"
      ]
     },
     "execution_count": 55,
     "metadata": {},
     "output_type": "execute_result"
    }
   ],
   "source": [
    "model_1.get_depth()"
   ]
  },
  {
   "attachments": {},
   "cell_type": "markdown",
   "id": "4a66e98f",
   "metadata": {},
   "source": [
    "**Глубина дерева 22, однако модель дала хороший результат и на обучающей и на тестовой выборке, что говорит об обученной модели и отсутствия недообучения или переобучения. balanced_accuracy_score достаточно высокое значение**"
   ]
  },
  {
   "attachments": {},
   "cell_type": "markdown",
   "id": "f4a92cfb",
   "metadata": {},
   "source": [
    "Понаблюдаем как меняются ошибки в зависимости от сложности алгоритма"
   ]
  },
  {
   "cell_type": "code",
   "execution_count": 78,
   "id": "42f9b810",
   "metadata": {},
   "outputs": [
    {
     "data": {
      "image/png": "[encoded data removed]",
      "text/plain": [
       "<Figure size 640x480 with 1 Axes>"
      ]
     },
     "metadata": {},
     "output_type": "display_data"
    }
   ],
   "source": [
    "res_2 = []\n",
    "for param in range(1, 55, 1):\n",
    "    model_2 = DecisionTreeClassifier(min_samples_leaf=param, random_state=42)\n",
    "\n",
    "    model_2.fit(X_train, y_train)\n",
    "    pred_train_2 = model_2.predict(X_train)\n",
    "    pred_test_2 = model_2.predict(X_test)\n",
    "\n",
    "    res_2.append([param, balanced_accuracy_score(y_train, pred_train_2), balanced_accuracy_score(y_test, pred_test_2)])\n",
    "    \n",
    "res_pd_2 = pd.DataFrame(res_2, columns=['min_samples_leaf', 'b_a_s_train', 'b_a_s_test'])\n",
    "\n",
    "res_pd_2.set_index('min_samples_leaf')['b_a_s_train'].plot(label='b_a_s_train')\n",
    "res_pd_2.set_index('min_samples_leaf')['b_a_s_test'].plot(label='b_a_s_test')\n",
    "plt.legend()\n",
    "plt.ylabel('balanced_accuracy_score');"
   ]
  },
  {
   "cell_type": "code",
   "execution_count": 88,
   "id": "8b4f99bb",
   "metadata": {},
   "outputs": [
    {
     "data": {
      "text/html": [
       "<div>\n",
       "<style scoped>\n",
       "    .dataframe tbody tr th:only-of-type {\n",
       "        vertical-align: middle;\n",
       "    }\n",
       "\n",
       "    .dataframe tbody tr th {\n",
       "        vertical-align: top;\n",
       "    }\n",
       "\n",
       "    .dataframe thead th {\n",
       "        text-align: right;\n",
       "    }\n",
       "</style>\n",
       "<table border=\"1\" class=\"dataframe\">\n",
       "  <thead>\n",
       "    <tr style=\"text-align: right;\">\n",
       "      <th></th>\n",
       "      <th>min_samples_leaf</th>\n",
       "      <th>b_a_s_train</th>\n",
       "      <th>b_a_s_test</th>\n",
       "    </tr>\n",
       "  </thead>\n",
       "  <tbody>\n",
       "    <tr>\n",
       "      <th>1</th>\n",
       "      <td>2</td>\n",
       "      <td>0.989708</td>\n",
       "      <td>0.985969</td>\n",
       "    </tr>\n",
       "  </tbody>\n",
       "</table>\n",
       "</div>"
      ],
      "text/plain": [
       "   min_samples_leaf  b_a_s_train  b_a_s_test\n",
       "1                 2     0.989708    0.985969"
      ]
     },
     "execution_count": 88,
     "metadata": {},
     "output_type": "execute_result"
    }
   ],
   "source": [
    "res_pd_2[res_pd_2['b_a_s_test'] == res_pd_2['b_a_s_test'].max()]"
   ]
  },
  {
   "attachments": {},
   "cell_type": "markdown",
   "id": "c740f873",
   "metadata": {},
   "source": [
    "Получается, что при min_samples_leaf = 2 наблюдается максимальная точность модели"
   ]
  },
  {
   "cell_type": "code",
   "execution_count": 89,
   "id": "03a68035",
   "metadata": {},
   "outputs": [
    {
     "data": {
      "image/png": "[encoded data removed]",
      "text/plain": [
       "<Figure size 640x480 with 1 Axes>"
      ]
     },
     "metadata": {},
     "output_type": "display_data"
    }
   ],
   "source": [
    "res_3 = []\n",
    "for param in range(1, 100, 1):\n",
    "    model_3 = DecisionTreeClassifier(max_depth=param, min_samples_leaf=1, random_state=42)\n",
    "\n",
    "    model_3.fit(X_train, y_train)\n",
    "    pred_train_3 = model_3.predict(X_train)\n",
    "    pred_test_3 = model_3.predict(X_test)\n",
    "\n",
    "    res_3.append([param, balanced_accuracy_score(y_train, pred_train_3), balanced_accuracy_score(y_test, pred_test_3)])\n",
    "    \n",
    "res_pd_3 = pd.DataFrame(res_3, columns=['max_depth', 'b_a_s_train', 'b_a_s_test'])\n",
    "\n",
    "res_pd_3.set_index('max_depth')['b_a_s_train'].plot(label='b_a_s_train')\n",
    "res_pd_3.set_index('max_depth')['b_a_s_test'].plot(label='b_a_s_test')\n",
    "plt.legend()\n",
    "plt.ylabel('balanced_accuracy_score');"
   ]
  },
  {
   "cell_type": "code",
   "execution_count": 90,
   "id": "a62a3237",
   "metadata": {},
   "outputs": [
    {
     "data": {
      "text/html": [
       "<div>\n",
       "<style scoped>\n",
       "    .dataframe tbody tr th:only-of-type {\n",
       "        vertical-align: middle;\n",
       "    }\n",
       "\n",
       "    .dataframe tbody tr th {\n",
       "        vertical-align: top;\n",
       "    }\n",
       "\n",
       "    .dataframe thead th {\n",
       "        text-align: right;\n",
       "    }\n",
       "</style>\n",
       "<table border=\"1\" class=\"dataframe\">\n",
       "  <thead>\n",
       "    <tr style=\"text-align: right;\">\n",
       "      <th></th>\n",
       "      <th>max_depth</th>\n",
       "      <th>b_a_s_train</th>\n",
       "      <th>b_a_s_test</th>\n",
       "    </tr>\n",
       "  </thead>\n",
       "  <tbody>\n",
       "    <tr>\n",
       "      <th>13</th>\n",
       "      <td>14</td>\n",
       "      <td>0.997918</td>\n",
       "      <td>0.988106</td>\n",
       "    </tr>\n",
       "    <tr>\n",
       "      <th>17</th>\n",
       "      <td>18</td>\n",
       "      <td>0.999091</td>\n",
       "      <td>0.988106</td>\n",
       "    </tr>\n",
       "  </tbody>\n",
       "</table>\n",
       "</div>"
      ],
      "text/plain": [
       "    max_depth  b_a_s_train  b_a_s_test\n",
       "13         14     0.997918    0.988106\n",
       "17         18     0.999091    0.988106"
      ]
     },
     "execution_count": 90,
     "metadata": {},
     "output_type": "execute_result"
    }
   ],
   "source": [
    "res_pd_3[res_pd_3['b_a_s_test'] == res_pd_3['b_a_s_test'].max()]"
   ]
  },
  {
   "attachments": {},
   "cell_type": "markdown",
   "id": "540dc3ab",
   "metadata": {},
   "source": [
    "Получается, что при max_depth = 14 и 18 наблюдается максимальная точность модели"
   ]
  },
  {
   "attachments": {},
   "cell_type": "markdown",
   "id": "f7b7bf54",
   "metadata": {},
   "source": [
    "Попробуем обучить модель с min_samples_leaf=2 и max_depth=14"
   ]
  },
  {
   "cell_type": "code",
   "execution_count": 91,
   "id": "64a2871f",
   "metadata": {},
   "outputs": [
    {
     "name": "stdout",
     "output_type": "stream",
     "text": [
      "Качество на обучающей выборке: 0.9904900539240513\n",
      "Качество на валидационной выборке: 0.9839285714285715\n"
     ]
    }
   ],
   "source": [
    "model_3_test = DecisionTreeClassifier(min_samples_leaf=2, max_depth=14, random_state=1)\n",
    "\n",
    "model_3_test.fit(X_train, y_train)\n",
    "pred_train_3_test = model_3_test.predict(X_train)\n",
    "pred_test_3_test = model_3_test.predict(X_test)\n",
    "\n",
    "print(f'Качество на обучающей выборке: {balanced_accuracy_score(y_train, pred_train_3_test)}')\n",
    "print(f'Качество на валидационной выборке: {balanced_accuracy_score(y_test, pred_test_3_test)}')"
   ]
  },
  {
   "attachments": {},
   "cell_type": "markdown",
   "id": "d1a508f7",
   "metadata": {},
   "source": [
    "**Мы обучили модель по наилучшим параметрам в цикле, ее качество можно оценивать как высокое, сравнимо с первой моделью, полное сравнение мы сделаем в общем выводе**"
   ]
  },
  {
   "attachments": {},
   "cell_type": "markdown",
   "id": "14533173",
   "metadata": {},
   "source": [
    "*4. Подберите лучшую модель случайного леса:*\n",
    "*   Переберите несколько значений какого-либо гиперпараметра дерева и для каждого из них — несколько значений гиперпараметра, отвечающего за количество решающих деревьев в случайном лесу. Для каждой комбинации гиперпараметров оцените качество на валидационной части.\n",
    "*   Визуализируйте зависимость качества модели от значений гиперпараметров с помощью функции imshow. Опишите особенности, которые вы наблюдаете.\n",
    "*   Выведите значения гиперпараметров, при которых качество модели на валидационной части выборки наилучшее."
   ]
  },
  {
   "cell_type": "code",
   "execution_count": 99,
   "id": "b08bde74",
   "metadata": {},
   "outputs": [
    {
     "data": {
      "image/png": "[encoded data removed]",
      "text/plain": [
       "<Figure size 640x480 with 1 Axes>"
      ]
     },
     "metadata": {},
     "output_type": "display_data"
    }
   ],
   "source": [
    "res_4 = []\n",
    "for n_tree in range(1, 15):\n",
    "    model_4 = RandomForestClassifier(n_estimators=n_tree, min_samples_leaf=2, random_state=7)\n",
    "\n",
    "    model_4.fit(X_train, y_train)\n",
    "    pred_train_4 = model_4.predict(X_train)\n",
    "    pred_test_4 = model_4.predict(X_test)\n",
    "\n",
    "    res_4.append([n_tree, balanced_accuracy_score(y_train, pred_train_4), balanced_accuracy_score(y_test, pred_test_4)])\n",
    "\n",
    "res_pd_4 = pd.DataFrame(res_4, columns=['n_tree', 'b_a_s_train', 'b_a_s_test'])\n",
    "\n",
    "res_pd_4.set_index('n_tree')['b_a_s_train'].plot(label='b_a_s_train')\n",
    "res_pd_4.set_index('n_tree')['b_a_s_test'].plot(label='b_a_s_test')\n",
    "plt.legend()\n",
    "plt.ylabel('balanced_accuracy_score');"
   ]
  },
  {
   "cell_type": "code",
   "execution_count": 100,
   "id": "4ee012f5",
   "metadata": {},
   "outputs": [
    {
     "data": {
      "text/html": [
       "<div>\n",
       "<style scoped>\n",
       "    .dataframe tbody tr th:only-of-type {\n",
       "        vertical-align: middle;\n",
       "    }\n",
       "\n",
       "    .dataframe tbody tr th {\n",
       "        vertical-align: top;\n",
       "    }\n",
       "\n",
       "    .dataframe thead th {\n",
       "        text-align: right;\n",
       "    }\n",
       "</style>\n",
       "<table border=\"1\" class=\"dataframe\">\n",
       "  <thead>\n",
       "    <tr style=\"text-align: right;\">\n",
       "      <th></th>\n",
       "      <th>n_tree</th>\n",
       "      <th>b_a_s_train</th>\n",
       "      <th>b_a_s_test</th>\n",
       "    </tr>\n",
       "  </thead>\n",
       "  <tbody>\n",
       "    <tr>\n",
       "      <th>10</th>\n",
       "      <td>11</td>\n",
       "      <td>0.995181</td>\n",
       "      <td>0.996365</td>\n",
       "    </tr>\n",
       "    <tr>\n",
       "      <th>11</th>\n",
       "      <td>12</td>\n",
       "      <td>0.995700</td>\n",
       "      <td>0.996365</td>\n",
       "    </tr>\n",
       "    <tr>\n",
       "      <th>12</th>\n",
       "      <td>13</td>\n",
       "      <td>0.995963</td>\n",
       "      <td>0.996365</td>\n",
       "    </tr>\n",
       "    <tr>\n",
       "      <th>13</th>\n",
       "      <td>14</td>\n",
       "      <td>0.996354</td>\n",
       "      <td>0.996365</td>\n",
       "    </tr>\n",
       "  </tbody>\n",
       "</table>\n",
       "</div>"
      ],
      "text/plain": [
       "    n_tree  b_a_s_train  b_a_s_test\n",
       "10      11     0.995181    0.996365\n",
       "11      12     0.995700    0.996365\n",
       "12      13     0.995963    0.996365\n",
       "13      14     0.996354    0.996365"
      ]
     },
     "execution_count": 100,
     "metadata": {},
     "output_type": "execute_result"
    }
   ],
   "source": [
    "res_pd_4[res_pd_4['b_a_s_test'] == res_pd_4['b_a_s_test'].max()]"
   ]
  },
  {
   "attachments": {},
   "cell_type": "markdown",
   "id": "31029947",
   "metadata": {},
   "source": [
    "Минимальное количество деревьев - 11 при min_samples_leaf = 2, в этом случае самая высокая точность модели"
   ]
  },
  {
   "cell_type": "code",
   "execution_count": 103,
   "id": "63638836",
   "metadata": {},
   "outputs": [
    {
     "data": {
      "image/png": "[encoded data removed]",
      "text/plain": [
       "<Figure size 640x480 with 1 Axes>"
      ]
     },
     "metadata": {},
     "output_type": "display_data"
    }
   ],
   "source": [
    "res_5 = []\n",
    "for ml in range(1, 15):\n",
    "    model_5 = RandomForestClassifier(n_estimators=11, min_samples_leaf=ml, random_state=7)\n",
    "\n",
    "    model_5.fit(X_train, y_train)\n",
    "    pred_train_5 = model_5.predict(X_train)\n",
    "    pred_test_5 = model_5.predict(X_test)\n",
    "\n",
    "    res_5.append([ml, balanced_accuracy_score(y_train, pred_train_5), balanced_accuracy_score(y_test, pred_test_5)])\n",
    "\n",
    "res_pd_5 = pd.DataFrame(res_5, columns=['min_samples_leaf', 'b_a_s_train', 'b_a_s_test'])\n",
    "\n",
    "res_pd_5.set_index('min_samples_leaf')['b_a_s_train'].plot(label='b_a_s_train')\n",
    "res_pd_5.set_index('min_samples_leaf')['b_a_s_test'].plot(label='b_a_s_test')\n",
    "plt.legend()\n",
    "plt.ylabel('balanced_accuracy_score');"
   ]
  },
  {
   "cell_type": "code",
   "execution_count": 104,
   "id": "275862c8",
   "metadata": {},
   "outputs": [
    {
     "data": {
      "text/html": [
       "<div>\n",
       "<style scoped>\n",
       "    .dataframe tbody tr th:only-of-type {\n",
       "        vertical-align: middle;\n",
       "    }\n",
       "\n",
       "    .dataframe tbody tr th {\n",
       "        vertical-align: top;\n",
       "    }\n",
       "\n",
       "    .dataframe thead th {\n",
       "        text-align: right;\n",
       "    }\n",
       "</style>\n",
       "<table border=\"1\" class=\"dataframe\">\n",
       "  <thead>\n",
       "    <tr style=\"text-align: right;\">\n",
       "      <th></th>\n",
       "      <th>min_samples_leaf</th>\n",
       "      <th>b_a_s_train</th>\n",
       "      <th>b_a_s_test</th>\n",
       "    </tr>\n",
       "  </thead>\n",
       "  <tbody>\n",
       "    <tr>\n",
       "      <th>1</th>\n",
       "      <td>2</td>\n",
       "      <td>0.995181</td>\n",
       "      <td>0.996365</td>\n",
       "    </tr>\n",
       "  </tbody>\n",
       "</table>\n",
       "</div>"
      ],
      "text/plain": [
       "   min_samples_leaf  b_a_s_train  b_a_s_test\n",
       "1                 2     0.995181    0.996365"
      ]
     },
     "execution_count": 104,
     "metadata": {},
     "output_type": "execute_result"
    }
   ],
   "source": [
    "res_pd_5[res_pd_5['b_a_s_test'] == res_pd_5['b_a_s_test'].max()]"
   ]
  },
  {
   "attachments": {},
   "cell_type": "markdown",
   "id": "4419c0f4",
   "metadata": {},
   "source": [
    "При min_samples_leaf = 2 наблюдается максимальная точность модели"
   ]
  },
  {
   "attachments": {},
   "cell_type": "markdown",
   "id": "dc089ba8",
   "metadata": {},
   "source": [
    "Теперь обучим модель по данным параметрам:"
   ]
  },
  {
   "cell_type": "code",
   "execution_count": 105,
   "id": "51d5f908",
   "metadata": {},
   "outputs": [
    {
     "name": "stdout",
     "output_type": "stream",
     "text": [
      "Качество на обучающей выборке: 0.9950536027660073\n",
      "Качество на валидационной выборке: 0.993781887755102\n"
     ]
    }
   ],
   "source": [
    "model_5_test = RandomForestClassifier(n_estimators=11, min_samples_leaf=2, random_state=1)\n",
    "\n",
    "model_5_test.fit(X_train, y_train)\n",
    "pred_train_5_test = model_5_test.predict(X_train)\n",
    "pred_test_5_test = model_5_test.predict(X_test)\n",
    "\n",
    "print(f'Качество на обучающей выборке: {balanced_accuracy_score(y_train, pred_train_5_test)}')\n",
    "print(f'Качество на валидационной выборке: {balanced_accuracy_score(y_test, pred_test_5_test)}')"
   ]
  },
  {
   "attachments": {},
   "cell_type": "markdown",
   "id": "08565073",
   "metadata": {},
   "source": [
    "**Мы обучили модель по наилучшим параметрам в цикле, ее качество можно оценивать как высокое, сравнимо с первой моделью, полное сравнение мы сделаем в общем выводе**"
   ]
  },
  {
   "attachments": {},
   "cell_type": "markdown",
   "id": "dee72ca1",
   "metadata": {},
   "source": [
    "*5. Подберите лучший вариант градиентного бустинга:*\n",
    "*   Выделите из обучающей части данных часть для валидации градиентного бустинга в ходе обучения.\n",
    "*   Зафиксируйте небольшое количество деревьев, значение какого-либо параметра, отвечающего за сложность решающих деревьев и значение величины шага градиентного бустинга. Обучите градиентный бустинг с выбранными параметрами, выводя в процессе обучения значение функции потерь на обучающей и валидационной частях. Выведите значение метрики качества на экран.\n",
    "*   На фиксированном небольшом количестве деревьев сравните 3-4 комбинации значений параметров величины шага градиентного бустинга и какого-либо параметра, отвечающего за сложность решающих деревьев.\n",
    "*   Выберите из рассмотренных комбинаций лучшую и обоснуйте свой выбор.\n",
    "*   Увеличьте количество деревьев и опишите эффект. Изучите значение гиперпараметра early_stopping_rounds и воспользуйтесь им, чтобы сэкономить время, войдя в переобучение модели."
   ]
  },
  {
   "cell_type": "code",
   "execution_count": 106,
   "id": "911bb24f",
   "metadata": {},
   "outputs": [],
   "source": [
    "features_train_xgb, features_val, target_train_xgb, target_val = train_test_split(X_train, y_train, test_size=0.15, random_state=42)"
   ]
  },
  {
   "cell_type": "code",
   "execution_count": 112,
   "id": "c221b94a",
   "metadata": {},
   "outputs": [
    {
     "name": "stdout",
     "output_type": "stream",
     "text": [
      "[0]\tvalidation_0-logloss:0.61113\tvalidation_1-logloss:0.61160\n",
      "[0]\tvalidation_0-logloss:0.61113\tvalidation_1-logloss:0.61160\n",
      "[1]\tvalidation_0-logloss:0.54234\tvalidation_1-logloss:0.54312\n"
     ]
    },
    {
     "name": "stdout",
     "output_type": "stream",
     "text": [
      "[0]\tvalidation_0-logloss:0.61113\tvalidation_1-logloss:0.61160\n",
      "[1]\tvalidation_0-logloss:0.54234\tvalidation_1-logloss:0.54312\n",
      "[2]\tvalidation_0-logloss:0.48380\tvalidation_1-logloss:0.48490\n",
      "[0]\tvalidation_0-logloss:0.61113\tvalidation_1-logloss:0.61160\n",
      "[1]\tvalidation_0-logloss:0.54234\tvalidation_1-logloss:0.54312\n",
      "[2]\tvalidation_0-logloss:0.48380\tvalidation_1-logloss:0.48490\n",
      "[3]\tvalidation_0-logloss:0.43363\tvalidation_1-logloss:0.43487\n",
      "[0]\tvalidation_0-logloss:0.61113\tvalidation_1-logloss:0.61160\n",
      "[1]\tvalidation_0-logloss:0.54234\tvalidation_1-logloss:0.54312\n",
      "[2]\tvalidation_0-logloss:0.48380\tvalidation_1-logloss:0.48490\n",
      "[3]\tvalidation_0-logloss:0.43363\tvalidation_1-logloss:0.43487\n",
      "[4]\tvalidation_0-logloss:0.39014\tvalidation_1-logloss:0.39184\n",
      "[0]\tvalidation_0-logloss:0.61113\tvalidation_1-logloss:0.61160\n",
      "[1]\tvalidation_0-logloss:0.54234\tvalidation_1-logloss:0.54312\n",
      "[2]\tvalidation_0-logloss:0.48380\tvalidation_1-logloss:0.48490\n",
      "[3]\tvalidation_0-logloss:0.43363\tvalidation_1-logloss:0.43487\n",
      "[4]\tvalidation_0-logloss:0.39014\tvalidation_1-logloss:0.39184\n",
      "[5]\tvalidation_0-logloss:0.35226\tvalidation_1-logloss:0.35430\n",
      "[0]\tvalidation_0-logloss:0.61113\tvalidation_1-logloss:0.61160\n",
      "[1]\tvalidation_0-logloss:0.54234\tvalidation_1-logloss:0.54312\n",
      "[2]\tvalidation_0-logloss:0.48380\tvalidation_1-logloss:0.48490\n",
      "[3]\tvalidation_0-logloss:0.43363\tvalidation_1-logloss:0.43487\n",
      "[4]\tvalidation_0-logloss:0.39014\tvalidation_1-logloss:0.39184\n",
      "[5]\tvalidation_0-logloss:0.35226\tvalidation_1-logloss:0.35430\n",
      "[6]\tvalidation_0-logloss:0.31886\tvalidation_1-logloss:0.32138\n",
      "[0]\tvalidation_0-logloss:0.61113\tvalidation_1-logloss:0.61160\n",
      "[1]\tvalidation_0-logloss:0.54234\tvalidation_1-logloss:0.54312\n",
      "[2]\tvalidation_0-logloss:0.48380\tvalidation_1-logloss:0.48490\n",
      "[3]\tvalidation_0-logloss:0.43363\tvalidation_1-logloss:0.43487\n",
      "[4]\tvalidation_0-logloss:0.39014\tvalidation_1-logloss:0.39184\n",
      "[5]\tvalidation_0-logloss:0.35226\tvalidation_1-logloss:0.35430\n",
      "[6]\tvalidation_0-logloss:0.31886\tvalidation_1-logloss:0.32138\n",
      "[7]\tvalidation_0-logloss:0.28935\tvalidation_1-logloss:0.29240\n",
      "[0]\tvalidation_0-logloss:0.61113\tvalidation_1-logloss:0.61160\n",
      "[1]\tvalidation_0-logloss:0.54234\tvalidation_1-logloss:0.54312\n",
      "[2]\tvalidation_0-logloss:0.48380\tvalidation_1-logloss:0.48490\n",
      "[3]\tvalidation_0-logloss:0.43363\tvalidation_1-logloss:0.43487\n",
      "[4]\tvalidation_0-logloss:0.39014\tvalidation_1-logloss:0.39184\n",
      "[5]\tvalidation_0-logloss:0.35226\tvalidation_1-logloss:0.35430\n",
      "[6]\tvalidation_0-logloss:0.31886\tvalidation_1-logloss:0.32138\n",
      "[7]\tvalidation_0-logloss:0.28935\tvalidation_1-logloss:0.29240\n",
      "[8]\tvalidation_0-logloss:0.26324\tvalidation_1-logloss:0.26669\n",
      "[0]\tvalidation_0-logloss:0.61113\tvalidation_1-logloss:0.61160\n",
      "[1]\tvalidation_0-logloss:0.54234\tvalidation_1-logloss:0.54312\n",
      "[2]\tvalidation_0-logloss:0.48380\tvalidation_1-logloss:0.48490\n",
      "[3]\tvalidation_0-logloss:0.43363\tvalidation_1-logloss:0.43487\n",
      "[4]\tvalidation_0-logloss:0.39014\tvalidation_1-logloss:0.39184\n",
      "[5]\tvalidation_0-logloss:0.35226\tvalidation_1-logloss:0.35430\n",
      "[6]\tvalidation_0-logloss:0.31886\tvalidation_1-logloss:0.32138\n",
      "[7]\tvalidation_0-logloss:0.28935\tvalidation_1-logloss:0.29240\n",
      "[8]\tvalidation_0-logloss:0.26324\tvalidation_1-logloss:0.26669\n",
      "[9]\tvalidation_0-logloss:0.23980\tvalidation_1-logloss:0.24398\n",
      "[0]\tvalidation_0-logloss:0.61113\tvalidation_1-logloss:0.61160\n",
      "[1]\tvalidation_0-logloss:0.54234\tvalidation_1-logloss:0.54312\n",
      "[2]\tvalidation_0-logloss:0.48380\tvalidation_1-logloss:0.48490\n",
      "[3]\tvalidation_0-logloss:0.43363\tvalidation_1-logloss:0.43487\n",
      "[4]\tvalidation_0-logloss:0.39014\tvalidation_1-logloss:0.39184\n",
      "[5]\tvalidation_0-logloss:0.35226\tvalidation_1-logloss:0.35430\n",
      "[6]\tvalidation_0-logloss:0.31886\tvalidation_1-logloss:0.32138\n",
      "[7]\tvalidation_0-logloss:0.28935\tvalidation_1-logloss:0.29240\n",
      "[8]\tvalidation_0-logloss:0.26324\tvalidation_1-logloss:0.26669\n",
      "[9]\tvalidation_0-logloss:0.23980\tvalidation_1-logloss:0.24398\n",
      "[10]\tvalidation_0-logloss:0.21893\tvalidation_1-logloss:0.22380\n",
      "[0]\tvalidation_0-logloss:0.61113\tvalidation_1-logloss:0.61160\n",
      "[1]\tvalidation_0-logloss:0.54234\tvalidation_1-logloss:0.54312\n",
      "[2]\tvalidation_0-logloss:0.48380\tvalidation_1-logloss:0.48490\n",
      "[3]\tvalidation_0-logloss:0.43363\tvalidation_1-logloss:0.43487\n",
      "[4]\tvalidation_0-logloss:0.39014\tvalidation_1-logloss:0.39184\n",
      "[5]\tvalidation_0-logloss:0.35226\tvalidation_1-logloss:0.35430\n",
      "[6]\tvalidation_0-logloss:0.31886\tvalidation_1-logloss:0.32138\n",
      "[7]\tvalidation_0-logloss:0.28935\tvalidation_1-logloss:0.29240\n",
      "[8]\tvalidation_0-logloss:0.26324\tvalidation_1-logloss:0.26669\n",
      "[9]\tvalidation_0-logloss:0.23980\tvalidation_1-logloss:0.24398\n",
      "[10]\tvalidation_0-logloss:0.21893\tvalidation_1-logloss:0.22380\n",
      "[11]\tvalidation_0-logloss:0.20002\tvalidation_1-logloss:0.20523\n",
      "[0]\tvalidation_0-logloss:0.61113\tvalidation_1-logloss:0.61160\n",
      "[1]\tvalidation_0-logloss:0.54234\tvalidation_1-logloss:0.54312\n",
      "[2]\tvalidation_0-logloss:0.48380\tvalidation_1-logloss:0.48490\n",
      "[3]\tvalidation_0-logloss:0.43363\tvalidation_1-logloss:0.43487\n",
      "[4]\tvalidation_0-logloss:0.39014\tvalidation_1-logloss:0.39184\n",
      "[5]\tvalidation_0-logloss:0.35226\tvalidation_1-logloss:0.35430\n",
      "[6]\tvalidation_0-logloss:0.31886\tvalidation_1-logloss:0.32138\n",
      "[7]\tvalidation_0-logloss:0.28935\tvalidation_1-logloss:0.29240\n",
      "[8]\tvalidation_0-logloss:0.26324\tvalidation_1-logloss:0.26669\n",
      "[9]\tvalidation_0-logloss:0.23980\tvalidation_1-logloss:0.24398\n",
      "[10]\tvalidation_0-logloss:0.21893\tvalidation_1-logloss:0.22380\n",
      "[11]\tvalidation_0-logloss:0.20002\tvalidation_1-logloss:0.20523\n",
      "[12]\tvalidation_0-logloss:0.18316\tvalidation_1-logloss:0.18865\n",
      "[0]\tvalidation_0-logloss:0.61113\tvalidation_1-logloss:0.61160\n",
      "[1]\tvalidation_0-logloss:0.54234\tvalidation_1-logloss:0.54312\n",
      "[2]\tvalidation_0-logloss:0.48380\tvalidation_1-logloss:0.48490\n",
      "[3]\tvalidation_0-logloss:0.43363\tvalidation_1-logloss:0.43487\n",
      "[4]\tvalidation_0-logloss:0.39014\tvalidation_1-logloss:0.39184\n",
      "[5]\tvalidation_0-logloss:0.35226\tvalidation_1-logloss:0.35430\n",
      "[6]\tvalidation_0-logloss:0.31886\tvalidation_1-logloss:0.32138\n",
      "[7]\tvalidation_0-logloss:0.28935\tvalidation_1-logloss:0.29240\n",
      "[8]\tvalidation_0-logloss:0.26324\tvalidation_1-logloss:0.26669\n",
      "[9]\tvalidation_0-logloss:0.23980\tvalidation_1-logloss:0.24398\n",
      "[10]\tvalidation_0-logloss:0.21893\tvalidation_1-logloss:0.22380\n",
      "[11]\tvalidation_0-logloss:0.20002\tvalidation_1-logloss:0.20523\n",
      "[12]\tvalidation_0-logloss:0.18316\tvalidation_1-logloss:0.18865\n",
      "[13]\tvalidation_0-logloss:0.16801\tvalidation_1-logloss:0.17401\n",
      "[0]\tvalidation_0-logloss:0.61113\tvalidation_1-logloss:0.61160\n",
      "[1]\tvalidation_0-logloss:0.54234\tvalidation_1-logloss:0.54312\n",
      "[2]\tvalidation_0-logloss:0.48380\tvalidation_1-logloss:0.48490\n",
      "[3]\tvalidation_0-logloss:0.43363\tvalidation_1-logloss:0.43487\n",
      "[4]\tvalidation_0-logloss:0.39014\tvalidation_1-logloss:0.39184\n",
      "[5]\tvalidation_0-logloss:0.35226\tvalidation_1-logloss:0.35430\n",
      "[6]\tvalidation_0-logloss:0.31886\tvalidation_1-logloss:0.32138\n",
      "[7]\tvalidation_0-logloss:0.28935\tvalidation_1-logloss:0.29240\n",
      "[8]\tvalidation_0-logloss:0.26324\tvalidation_1-logloss:0.26669\n",
      "[9]\tvalidation_0-logloss:0.23980\tvalidation_1-logloss:0.24398\n",
      "[10]\tvalidation_0-logloss:0.21893\tvalidation_1-logloss:0.22380\n",
      "[11]\tvalidation_0-logloss:0.20002\tvalidation_1-logloss:0.20523\n",
      "[12]\tvalidation_0-logloss:0.18316\tvalidation_1-logloss:0.18865\n",
      "[13]\tvalidation_0-logloss:0.16801\tvalidation_1-logloss:0.17401\n",
      "[14]\tvalidation_0-logloss:0.15434\tvalidation_1-logloss:0.16046\n",
      "[0]\tvalidation_0-logloss:0.61113\tvalidation_1-logloss:0.61160\n",
      "[1]\tvalidation_0-logloss:0.54234\tvalidation_1-logloss:0.54312\n",
      "[2]\tvalidation_0-logloss:0.48380\tvalidation_1-logloss:0.48490\n",
      "[3]\tvalidation_0-logloss:0.43363\tvalidation_1-logloss:0.43487\n",
      "[4]\tvalidation_0-logloss:0.39014\tvalidation_1-logloss:0.39184\n",
      "[5]\tvalidation_0-logloss:0.35226\tvalidation_1-logloss:0.35430\n",
      "[6]\tvalidation_0-logloss:0.31886\tvalidation_1-logloss:0.32138\n",
      "[7]\tvalidation_0-logloss:0.28935\tvalidation_1-logloss:0.29240\n",
      "[8]\tvalidation_0-logloss:0.26324\tvalidation_1-logloss:0.26669\n",
      "[9]\tvalidation_0-logloss:0.23980\tvalidation_1-logloss:0.24398\n",
      "[10]\tvalidation_0-logloss:0.21893\tvalidation_1-logloss:0.22380\n",
      "[11]\tvalidation_0-logloss:0.20002\tvalidation_1-logloss:0.20523\n",
      "[12]\tvalidation_0-logloss:0.18316\tvalidation_1-logloss:0.18865\n",
      "[13]\tvalidation_0-logloss:0.16801\tvalidation_1-logloss:0.17401\n",
      "[14]\tvalidation_0-logloss:0.15434\tvalidation_1-logloss:0.16046\n",
      "[15]\tvalidation_0-logloss:0.14196\tvalidation_1-logloss:0.14814\n",
      "[0]\tvalidation_0-logloss:0.61113\tvalidation_1-logloss:0.61160\n",
      "[1]\tvalidation_0-logloss:0.54234\tvalidation_1-logloss:0.54312\n",
      "[2]\tvalidation_0-logloss:0.48380\tvalidation_1-logloss:0.48490\n",
      "[3]\tvalidation_0-logloss:0.43363\tvalidation_1-logloss:0.43487\n",
      "[4]\tvalidation_0-logloss:0.39014\tvalidation_1-logloss:0.39184\n",
      "[5]\tvalidation_0-logloss:0.35226\tvalidation_1-logloss:0.35430\n",
      "[6]\tvalidation_0-logloss:0.31886\tvalidation_1-logloss:0.32138\n",
      "[7]\tvalidation_0-logloss:0.28935\tvalidation_1-logloss:0.29240\n",
      "[8]\tvalidation_0-logloss:0.26324\tvalidation_1-logloss:0.26669\n",
      "[9]\tvalidation_0-logloss:0.23980\tvalidation_1-logloss:0.24398\n",
      "[10]\tvalidation_0-logloss:0.21893\tvalidation_1-logloss:0.22380\n",
      "[11]\tvalidation_0-logloss:0.20002\tvalidation_1-logloss:0.20523\n",
      "[12]\tvalidation_0-logloss:0.18316\tvalidation_1-logloss:0.18865\n",
      "[13]\tvalidation_0-logloss:0.16801\tvalidation_1-logloss:0.17401\n",
      "[14]\tvalidation_0-logloss:0.15434\tvalidation_1-logloss:0.16046\n",
      "[15]\tvalidation_0-logloss:0.14196\tvalidation_1-logloss:0.14814\n",
      "[16]\tvalidation_0-logloss:0.13080\tvalidation_1-logloss:0.13751\n",
      "[0]\tvalidation_0-logloss:0.61113\tvalidation_1-logloss:0.61160\n",
      "[1]\tvalidation_0-logloss:0.54234\tvalidation_1-logloss:0.54312\n",
      "[2]\tvalidation_0-logloss:0.48380\tvalidation_1-logloss:0.48490\n",
      "[3]\tvalidation_0-logloss:0.43363\tvalidation_1-logloss:0.43487\n",
      "[4]\tvalidation_0-logloss:0.39014\tvalidation_1-logloss:0.39184\n",
      "[5]\tvalidation_0-logloss:0.35226\tvalidation_1-logloss:0.35430\n",
      "[6]\tvalidation_0-logloss:0.31886\tvalidation_1-logloss:0.32138\n",
      "[7]\tvalidation_0-logloss:0.28935\tvalidation_1-logloss:0.29240\n",
      "[8]\tvalidation_0-logloss:0.26324\tvalidation_1-logloss:0.26669\n",
      "[9]\tvalidation_0-logloss:0.23980\tvalidation_1-logloss:0.24398\n",
      "[10]\tvalidation_0-logloss:0.21893\tvalidation_1-logloss:0.22380\n",
      "[11]\tvalidation_0-logloss:0.20002\tvalidation_1-logloss:0.20523\n",
      "[12]\tvalidation_0-logloss:0.18316\tvalidation_1-logloss:0.18865\n",
      "[13]\tvalidation_0-logloss:0.16801\tvalidation_1-logloss:0.17401\n",
      "[14]\tvalidation_0-logloss:0.15434\tvalidation_1-logloss:0.16046\n",
      "[15]\tvalidation_0-logloss:0.14196\tvalidation_1-logloss:0.14814\n",
      "[16]\tvalidation_0-logloss:0.13080\tvalidation_1-logloss:0.13751\n",
      "[17]\tvalidation_0-logloss:0.12069\tvalidation_1-logloss:0.12749\n",
      "[0]\tvalidation_0-logloss:0.61113\tvalidation_1-logloss:0.61160\n",
      "[1]\tvalidation_0-logloss:0.54234\tvalidation_1-logloss:0.54312\n",
      "[2]\tvalidation_0-logloss:0.48380\tvalidation_1-logloss:0.48490\n",
      "[3]\tvalidation_0-logloss:0.43363\tvalidation_1-logloss:0.43487\n",
      "[4]\tvalidation_0-logloss:0.39014\tvalidation_1-logloss:0.39184\n",
      "[5]\tvalidation_0-logloss:0.35226\tvalidation_1-logloss:0.35430\n",
      "[6]\tvalidation_0-logloss:0.31886\tvalidation_1-logloss:0.32138\n",
      "[7]\tvalidation_0-logloss:0.28935\tvalidation_1-logloss:0.29240\n",
      "[8]\tvalidation_0-logloss:0.26324\tvalidation_1-logloss:0.26669\n",
      "[9]\tvalidation_0-logloss:0.23980\tvalidation_1-logloss:0.24398\n",
      "[10]\tvalidation_0-logloss:0.21893\tvalidation_1-logloss:0.22380\n",
      "[11]\tvalidation_0-logloss:0.20002\tvalidation_1-logloss:0.20523\n",
      "[12]\tvalidation_0-logloss:0.18316\tvalidation_1-logloss:0.18865\n",
      "[13]\tvalidation_0-logloss:0.16801\tvalidation_1-logloss:0.17401\n",
      "[14]\tvalidation_0-logloss:0.15434\tvalidation_1-logloss:0.16046\n",
      "[15]\tvalidation_0-logloss:0.14196\tvalidation_1-logloss:0.14814\n",
      "[16]\tvalidation_0-logloss:0.13080\tvalidation_1-logloss:0.13751\n",
      "[17]\tvalidation_0-logloss:0.12069\tvalidation_1-logloss:0.12749\n",
      "[18]\tvalidation_0-logloss:0.11143\tvalidation_1-logloss:0.11874\n"
     ]
    },
    {
     "data": {
      "image/png": "[encoded data removed]",
      "text/plain": [
       "<Figure size 640x480 with 1 Axes>"
      ]
     },
     "metadata": {},
     "output_type": "display_data"
    }
   ],
   "source": [
    "res_xgb_1 = []\n",
    "for ne in range(1, 20):\n",
    "    model_xgb_1 = XGBClassifier(n_estimators=ne, learning_rate=0.09)\n",
    "\n",
    "    model_xgb_1.fit(features_train_xgb, target_train_xgb, eval_set= [(features_train_xgb, target_train_xgb), (features_val, target_val)])\n",
    "    pred_train_xgb_1 = model_xgb_1.predict(X_train)\n",
    "    pred_test_xgb_1 = model_xgb_1.predict(X_test)\n",
    "\n",
    "    res_xgb_1.append([ne, balanced_accuracy_score(y_train, pred_train_xgb_1), balanced_accuracy_score(y_test, pred_test_xgb_1)])\n",
    "\n",
    "res_pd_xgb_1 = pd.DataFrame(res_xgb_1, columns=['n_estimators', 'b_a_s_train', 'b_a_s_test'])\n",
    "\n",
    "res_pd_xgb_1.set_index('n_estimators')['b_a_s_train'].plot(label='b_a_s_train')\n",
    "res_pd_xgb_1.set_index('n_estimators')['b_a_s_test'].plot(label='b_a_s_test')\n",
    "plt.legend()\n",
    "plt.ylabel('balanced_accuracy_score');"
   ]
  },
  {
   "cell_type": "code",
   "execution_count": 113,
   "id": "54228d68",
   "metadata": {},
   "outputs": [
    {
     "data": {
      "text/html": [
       "<div>\n",
       "<style scoped>\n",
       "    .dataframe tbody tr th:only-of-type {\n",
       "        vertical-align: middle;\n",
       "    }\n",
       "\n",
       "    .dataframe tbody tr th {\n",
       "        vertical-align: top;\n",
       "    }\n",
       "\n",
       "    .dataframe thead th {\n",
       "        text-align: right;\n",
       "    }\n",
       "</style>\n",
       "<table border=\"1\" class=\"dataframe\">\n",
       "  <thead>\n",
       "    <tr style=\"text-align: right;\">\n",
       "      <th></th>\n",
       "      <th>n_estimators</th>\n",
       "      <th>b_a_s_train</th>\n",
       "      <th>b_a_s_test</th>\n",
       "    </tr>\n",
       "  </thead>\n",
       "  <tbody>\n",
       "    <tr>\n",
       "      <th>17</th>\n",
       "      <td>18</td>\n",
       "      <td>0.990498</td>\n",
       "      <td>0.988042</td>\n",
       "    </tr>\n",
       "    <tr>\n",
       "      <th>18</th>\n",
       "      <td>19</td>\n",
       "      <td>0.990107</td>\n",
       "      <td>0.988042</td>\n",
       "    </tr>\n",
       "  </tbody>\n",
       "</table>\n",
       "</div>"
      ],
      "text/plain": [
       "    n_estimators  b_a_s_train  b_a_s_test\n",
       "17            18     0.990498    0.988042\n",
       "18            19     0.990107    0.988042"
      ]
     },
     "execution_count": 113,
     "metadata": {},
     "output_type": "execute_result"
    }
   ],
   "source": [
    "res_pd_xgb_1[res_pd_xgb_1['b_a_s_test'] == res_pd_xgb_1['b_a_s_test'].max()]"
   ]
  },
  {
   "attachments": {},
   "cell_type": "markdown",
   "id": "d44a7ab5",
   "metadata": {},
   "source": [
    "Количесво деревьев 18, при этом достигается максимальная точность модели, теперь \"переберем\" другой параметр - максимальную глубину деревьев"
   ]
  },
  {
   "cell_type": "code",
   "execution_count": 118,
   "id": "64847c3c",
   "metadata": {},
   "outputs": [
    {
     "name": "stdout",
     "output_type": "stream",
     "text": [
      "[0]\tvalidation_0-logloss:0.63073\tvalidation_1-logloss:0.63151\n",
      "[1]\tvalidation_0-logloss:0.57697\tvalidation_1-logloss:0.57693\n",
      "[2]\tvalidation_0-logloss:0.53118\tvalidation_1-logloss:0.53158\n",
      "[3]\tvalidation_0-logloss:0.49088\tvalidation_1-logloss:0.49046\n",
      "[4]\tvalidation_0-logloss:0.45602\tvalidation_1-logloss:0.45604\n",
      "[5]\tvalidation_0-logloss:0.42495\tvalidation_1-logloss:0.42416\n",
      "[6]\tvalidation_0-logloss:0.39793\tvalidation_1-logloss:0.39743\n",
      "[7]\tvalidation_0-logloss:0.37348\tvalidation_1-logloss:0.37220\n",
      "[8]\tvalidation_0-logloss:0.35208\tvalidation_1-logloss:0.35099\n",
      "[9]\tvalidation_0-logloss:0.33237\tvalidation_1-logloss:0.33054\n",
      "[10]\tvalidation_0-logloss:0.31505\tvalidation_1-logloss:0.31378\n",
      "[11]\tvalidation_0-logloss:0.29905\tvalidation_1-logloss:0.29670\n",
      "[12]\tvalidation_0-logloss:0.28476\tvalidation_1-logloss:0.28280\n",
      "[13]\tvalidation_0-logloss:0.27149\tvalidation_1-logloss:0.26948\n",
      "[14]\tvalidation_0-logloss:0.25909\tvalidation_1-logloss:0.25681\n",
      "[15]\tvalidation_0-logloss:0.24812\tvalidation_1-logloss:0.24613\n"
     ]
    },
    {
     "name": "stdout",
     "output_type": "stream",
     "text": [
      "[16]\tvalidation_0-logloss:0.23783\tvalidation_1-logloss:0.23577\n",
      "[17]\tvalidation_0-logloss:0.22823\tvalidation_1-logloss:0.22612\n",
      "[0]\tvalidation_0-logloss:0.61843\tvalidation_1-logloss:0.61756\n",
      "[1]\tvalidation_0-logloss:0.55596\tvalidation_1-logloss:0.55399\n",
      "[2]\tvalidation_0-logloss:0.50301\tvalidation_1-logloss:0.50032\n",
      "[3]\tvalidation_0-logloss:0.45745\tvalidation_1-logloss:0.45451\n",
      "[4]\tvalidation_0-logloss:0.41675\tvalidation_1-logloss:0.41330\n",
      "[5]\tvalidation_0-logloss:0.38135\tvalidation_1-logloss:0.37743\n",
      "[6]\tvalidation_0-logloss:0.35050\tvalidation_1-logloss:0.34612\n",
      "[7]\tvalidation_0-logloss:0.32345\tvalidation_1-logloss:0.31866\n",
      "[8]\tvalidation_0-logloss:0.29926\tvalidation_1-logloss:0.29467\n",
      "[9]\tvalidation_0-logloss:0.27790\tvalidation_1-logloss:0.27289\n",
      "[10]\tvalidation_0-logloss:0.25898\tvalidation_1-logloss:0.25367\n",
      "[11]\tvalidation_0-logloss:0.24191\tvalidation_1-logloss:0.23670\n",
      "[12]\tvalidation_0-logloss:0.22675\tvalidation_1-logloss:0.22110\n",
      "[13]\tvalidation_0-logloss:0.21319\tvalidation_1-logloss:0.20686\n",
      "[14]\tvalidation_0-logloss:0.19981\tvalidation_1-logloss:0.19329\n",
      "[15]\tvalidation_0-logloss:0.18799\tvalidation_1-logloss:0.18156\n",
      "[16]\tvalidation_0-logloss:0.17777\tvalidation_1-logloss:0.17151\n",
      "[17]\tvalidation_0-logloss:0.16769\tvalidation_1-logloss:0.16185\n",
      "[0]\tvalidation_0-logloss:0.61444\tvalidation_1-logloss:0.61433\n",
      "[1]\tvalidation_0-logloss:0.54866\tvalidation_1-logloss:0.54815\n",
      "[2]\tvalidation_0-logloss:0.49314\tvalidation_1-logloss:0.49208\n",
      "[3]\tvalidation_0-logloss:0.44513\tvalidation_1-logloss:0.44369\n",
      "[4]\tvalidation_0-logloss:0.40347\tvalidation_1-logloss:0.40227\n",
      "[5]\tvalidation_0-logloss:0.36718\tvalidation_1-logloss:0.36601\n",
      "[6]\tvalidation_0-logloss:0.33405\tvalidation_1-logloss:0.33251\n",
      "[7]\tvalidation_0-logloss:0.30498\tvalidation_1-logloss:0.30311\n",
      "[8]\tvalidation_0-logloss:0.27934\tvalidation_1-logloss:0.27715\n",
      "[9]\tvalidation_0-logloss:0.25712\tvalidation_1-logloss:0.25452\n",
      "[10]\tvalidation_0-logloss:0.23729\tvalidation_1-logloss:0.23526\n",
      "[11]\tvalidation_0-logloss:0.21900\tvalidation_1-logloss:0.21670\n",
      "[12]\tvalidation_0-logloss:0.20270\tvalidation_1-logloss:0.20010\n",
      "[13]\tvalidation_0-logloss:0.18811\tvalidation_1-logloss:0.18574\n",
      "[14]\tvalidation_0-logloss:0.17489\tvalidation_1-logloss:0.17219\n",
      "[15]\tvalidation_0-logloss:0.16268\tvalidation_1-logloss:0.16006\n",
      "[16]\tvalidation_0-logloss:0.15176\tvalidation_1-logloss:0.14912\n",
      "[17]\tvalidation_0-logloss:0.14171\tvalidation_1-logloss:0.13959\n",
      "[0]\tvalidation_0-logloss:0.61211\tvalidation_1-logloss:0.61242\n",
      "[1]\tvalidation_0-logloss:0.54435\tvalidation_1-logloss:0.54516\n",
      "[2]\tvalidation_0-logloss:0.48683\tvalidation_1-logloss:0.48805\n",
      "[3]\tvalidation_0-logloss:0.43776\tvalidation_1-logloss:0.43887\n",
      "[4]\tvalidation_0-logloss:0.39476\tvalidation_1-logloss:0.39620\n",
      "[5]\tvalidation_0-logloss:0.35702\tvalidation_1-logloss:0.35825\n",
      "[6]\tvalidation_0-logloss:0.32331\tvalidation_1-logloss:0.32484\n",
      "[7]\tvalidation_0-logloss:0.29373\tvalidation_1-logloss:0.29507\n",
      "[8]\tvalidation_0-logloss:0.26764\tvalidation_1-logloss:0.26914\n",
      "[9]\tvalidation_0-logloss:0.24450\tvalidation_1-logloss:0.24633\n",
      "[10]\tvalidation_0-logloss:0.22376\tvalidation_1-logloss:0.22556\n",
      "[11]\tvalidation_0-logloss:0.20515\tvalidation_1-logloss:0.20696\n",
      "[12]\tvalidation_0-logloss:0.18850\tvalidation_1-logloss:0.19025\n",
      "[13]\tvalidation_0-logloss:0.17334\tvalidation_1-logloss:0.17472\n",
      "[14]\tvalidation_0-logloss:0.15982\tvalidation_1-logloss:0.16155\n",
      "[15]\tvalidation_0-logloss:0.14748\tvalidation_1-logloss:0.14884\n",
      "[16]\tvalidation_0-logloss:0.13641\tvalidation_1-logloss:0.13743\n",
      "[17]\tvalidation_0-logloss:0.12641\tvalidation_1-logloss:0.12774\n",
      "[0]\tvalidation_0-logloss:0.61130\tvalidation_1-logloss:0.61174\n",
      "[1]\tvalidation_0-logloss:0.54282\tvalidation_1-logloss:0.54353\n",
      "[2]\tvalidation_0-logloss:0.48466\tvalidation_1-logloss:0.48576\n",
      "[3]\tvalidation_0-logloss:0.43479\tvalidation_1-logloss:0.43604\n",
      "[4]\tvalidation_0-logloss:0.39128\tvalidation_1-logloss:0.39299\n",
      "[5]\tvalidation_0-logloss:0.35342\tvalidation_1-logloss:0.35564\n",
      "[6]\tvalidation_0-logloss:0.32009\tvalidation_1-logloss:0.32235\n",
      "[7]\tvalidation_0-logloss:0.29098\tvalidation_1-logloss:0.29387\n",
      "[8]\tvalidation_0-logloss:0.26477\tvalidation_1-logloss:0.26811\n",
      "[9]\tvalidation_0-logloss:0.24122\tvalidation_1-logloss:0.24509\n",
      "[10]\tvalidation_0-logloss:0.22013\tvalidation_1-logloss:0.22439\n",
      "[11]\tvalidation_0-logloss:0.20128\tvalidation_1-logloss:0.20583\n",
      "[12]\tvalidation_0-logloss:0.18454\tvalidation_1-logloss:0.18928\n",
      "[13]\tvalidation_0-logloss:0.16934\tvalidation_1-logloss:0.17451\n",
      "[14]\tvalidation_0-logloss:0.15572\tvalidation_1-logloss:0.16134\n",
      "[15]\tvalidation_0-logloss:0.14334\tvalidation_1-logloss:0.14946\n",
      "[16]\tvalidation_0-logloss:0.13220\tvalidation_1-logloss:0.13867\n",
      "[17]\tvalidation_0-logloss:0.12197\tvalidation_1-logloss:0.12878\n",
      "[0]\tvalidation_0-logloss:0.61113\tvalidation_1-logloss:0.61160\n",
      "[1]\tvalidation_0-logloss:0.54234\tvalidation_1-logloss:0.54312\n",
      "[2]\tvalidation_0-logloss:0.48380\tvalidation_1-logloss:0.48490\n",
      "[3]\tvalidation_0-logloss:0.43363\tvalidation_1-logloss:0.43487\n",
      "[4]\tvalidation_0-logloss:0.39014\tvalidation_1-logloss:0.39184\n",
      "[5]\tvalidation_0-logloss:0.35226\tvalidation_1-logloss:0.35430\n",
      "[6]\tvalidation_0-logloss:0.31886\tvalidation_1-logloss:0.32138\n",
      "[7]\tvalidation_0-logloss:0.28935\tvalidation_1-logloss:0.29240\n",
      "[8]\tvalidation_0-logloss:0.26324\tvalidation_1-logloss:0.26669\n",
      "[9]\tvalidation_0-logloss:0.23980\tvalidation_1-logloss:0.24398\n",
      "[10]\tvalidation_0-logloss:0.21893\tvalidation_1-logloss:0.22380\n",
      "[11]\tvalidation_0-logloss:0.20002\tvalidation_1-logloss:0.20523\n",
      "[12]\tvalidation_0-logloss:0.18316\tvalidation_1-logloss:0.18865\n",
      "[13]\tvalidation_0-logloss:0.16801\tvalidation_1-logloss:0.17401\n",
      "[14]\tvalidation_0-logloss:0.15434\tvalidation_1-logloss:0.16046\n",
      "[15]\tvalidation_0-logloss:0.14196\tvalidation_1-logloss:0.14814\n",
      "[16]\tvalidation_0-logloss:0.13080\tvalidation_1-logloss:0.13751\n",
      "[17]\tvalidation_0-logloss:0.12069\tvalidation_1-logloss:0.12749\n",
      "[0]\tvalidation_0-logloss:0.61110\tvalidation_1-logloss:0.61151\n",
      "[1]\tvalidation_0-logloss:0.54222\tvalidation_1-logloss:0.54291\n",
      "[2]\tvalidation_0-logloss:0.48367\tvalidation_1-logloss:0.48476\n",
      "[3]\tvalidation_0-logloss:0.43343\tvalidation_1-logloss:0.43486\n",
      "[4]\tvalidation_0-logloss:0.38989\tvalidation_1-logloss:0.39177\n",
      "[5]\tvalidation_0-logloss:0.35187\tvalidation_1-logloss:0.35429\n",
      "[6]\tvalidation_0-logloss:0.31850\tvalidation_1-logloss:0.32141\n",
      "[7]\tvalidation_0-logloss:0.28903\tvalidation_1-logloss:0.29235\n",
      "[8]\tvalidation_0-logloss:0.26298\tvalidation_1-logloss:0.26653\n",
      "[9]\tvalidation_0-logloss:0.23945\tvalidation_1-logloss:0.24381\n",
      "[10]\tvalidation_0-logloss:0.21854\tvalidation_1-logloss:0.22363\n",
      "[11]\tvalidation_0-logloss:0.19958\tvalidation_1-logloss:0.20502\n",
      "[12]\tvalidation_0-logloss:0.18270\tvalidation_1-logloss:0.18865\n",
      "[13]\tvalidation_0-logloss:0.16759\tvalidation_1-logloss:0.17390\n",
      "[14]\tvalidation_0-logloss:0.15392\tvalidation_1-logloss:0.16044\n",
      "[15]\tvalidation_0-logloss:0.14162\tvalidation_1-logloss:0.14827\n",
      "[16]\tvalidation_0-logloss:0.13049\tvalidation_1-logloss:0.13743\n",
      "[17]\tvalidation_0-logloss:0.12021\tvalidation_1-logloss:0.12771\n",
      "[0]\tvalidation_0-logloss:0.61084\tvalidation_1-logloss:0.61141\n",
      "[1]\tvalidation_0-logloss:0.54198\tvalidation_1-logloss:0.54282\n",
      "[2]\tvalidation_0-logloss:0.48347\tvalidation_1-logloss:0.48469\n",
      "[3]\tvalidation_0-logloss:0.43329\tvalidation_1-logloss:0.43483\n",
      "[4]\tvalidation_0-logloss:0.38986\tvalidation_1-logloss:0.39194\n",
      "[5]\tvalidation_0-logloss:0.35190\tvalidation_1-logloss:0.35426\n",
      "[6]\tvalidation_0-logloss:0.31849\tvalidation_1-logloss:0.32129\n",
      "[7]\tvalidation_0-logloss:0.28893\tvalidation_1-logloss:0.29233\n",
      "[8]\tvalidation_0-logloss:0.26283\tvalidation_1-logloss:0.26656\n",
      "[9]\tvalidation_0-logloss:0.23931\tvalidation_1-logloss:0.24379\n",
      "[10]\tvalidation_0-logloss:0.21834\tvalidation_1-logloss:0.22372\n",
      "[11]\tvalidation_0-logloss:0.19949\tvalidation_1-logloss:0.20535\n",
      "[12]\tvalidation_0-logloss:0.18253\tvalidation_1-logloss:0.18894\n",
      "[13]\tvalidation_0-logloss:0.16731\tvalidation_1-logloss:0.17407\n",
      "[14]\tvalidation_0-logloss:0.15364\tvalidation_1-logloss:0.16065\n",
      "[15]\tvalidation_0-logloss:0.14126\tvalidation_1-logloss:0.14841\n",
      "[16]\tvalidation_0-logloss:0.13004\tvalidation_1-logloss:0.13761\n",
      "[17]\tvalidation_0-logloss:0.11983\tvalidation_1-logloss:0.12754\n",
      "[0]\tvalidation_0-logloss:0.61082\tvalidation_1-logloss:0.61141\n",
      "[1]\tvalidation_0-logloss:0.54197\tvalidation_1-logloss:0.54282\n",
      "[2]\tvalidation_0-logloss:0.48345\tvalidation_1-logloss:0.48469\n",
      "[3]\tvalidation_0-logloss:0.43328\tvalidation_1-logloss:0.43483\n",
      "[4]\tvalidation_0-logloss:0.38966\tvalidation_1-logloss:0.39203\n",
      "[5]\tvalidation_0-logloss:0.35167\tvalidation_1-logloss:0.35444\n",
      "[6]\tvalidation_0-logloss:0.31834\tvalidation_1-logloss:0.32139\n",
      "[7]\tvalidation_0-logloss:0.28885\tvalidation_1-logloss:0.29229\n",
      "[8]\tvalidation_0-logloss:0.26274\tvalidation_1-logloss:0.26652\n",
      "[9]\tvalidation_0-logloss:0.23921\tvalidation_1-logloss:0.24376\n",
      "[10]\tvalidation_0-logloss:0.21828\tvalidation_1-logloss:0.22359\n",
      "[11]\tvalidation_0-logloss:0.19938\tvalidation_1-logloss:0.20524\n",
      "[12]\tvalidation_0-logloss:0.18243\tvalidation_1-logloss:0.18882\n",
      "[13]\tvalidation_0-logloss:0.16724\tvalidation_1-logloss:0.17396\n",
      "[14]\tvalidation_0-logloss:0.15349\tvalidation_1-logloss:0.16025\n",
      "[15]\tvalidation_0-logloss:0.14106\tvalidation_1-logloss:0.14799\n",
      "[16]\tvalidation_0-logloss:0.12994\tvalidation_1-logloss:0.13723\n",
      "[17]\tvalidation_0-logloss:0.11973\tvalidation_1-logloss:0.12717\n",
      "[0]\tvalidation_0-logloss:0.61082\tvalidation_1-logloss:0.61141\n",
      "[1]\tvalidation_0-logloss:0.54197\tvalidation_1-logloss:0.54282\n",
      "[2]\tvalidation_0-logloss:0.48345\tvalidation_1-logloss:0.48469\n",
      "[3]\tvalidation_0-logloss:0.43328\tvalidation_1-logloss:0.43483\n",
      "[4]\tvalidation_0-logloss:0.38966\tvalidation_1-logloss:0.39203\n",
      "[5]\tvalidation_0-logloss:0.35167\tvalidation_1-logloss:0.35444\n",
      "[6]\tvalidation_0-logloss:0.31834\tvalidation_1-logloss:0.32139\n",
      "[7]\tvalidation_0-logloss:0.28885\tvalidation_1-logloss:0.29229\n",
      "[8]\tvalidation_0-logloss:0.26274\tvalidation_1-logloss:0.26652\n",
      "[9]\tvalidation_0-logloss:0.23917\tvalidation_1-logloss:0.24376\n",
      "[10]\tvalidation_0-logloss:0.21823\tvalidation_1-logloss:0.22358\n",
      "[11]\tvalidation_0-logloss:0.19932\tvalidation_1-logloss:0.20522\n",
      "[12]\tvalidation_0-logloss:0.18237\tvalidation_1-logloss:0.18880\n",
      "[13]\tvalidation_0-logloss:0.16712\tvalidation_1-logloss:0.17377\n",
      "[14]\tvalidation_0-logloss:0.15336\tvalidation_1-logloss:0.16006\n",
      "[15]\tvalidation_0-logloss:0.14093\tvalidation_1-logloss:0.14782\n",
      "[16]\tvalidation_0-logloss:0.12979\tvalidation_1-logloss:0.13675\n",
      "[17]\tvalidation_0-logloss:0.11961\tvalidation_1-logloss:0.12705\n",
      "[0]\tvalidation_0-logloss:0.61082\tvalidation_1-logloss:0.61141\n",
      "[1]\tvalidation_0-logloss:0.54197\tvalidation_1-logloss:0.54282\n",
      "[2]\tvalidation_0-logloss:0.48345\tvalidation_1-logloss:0.48469\n",
      "[3]\tvalidation_0-logloss:0.43328\tvalidation_1-logloss:0.43483\n",
      "[4]\tvalidation_0-logloss:0.38966\tvalidation_1-logloss:0.39203\n",
      "[5]\tvalidation_0-logloss:0.35167\tvalidation_1-logloss:0.35444\n",
      "[6]\tvalidation_0-logloss:0.31834\tvalidation_1-logloss:0.32139\n",
      "[7]\tvalidation_0-logloss:0.28885\tvalidation_1-logloss:0.29229\n",
      "[8]\tvalidation_0-logloss:0.26274\tvalidation_1-logloss:0.26652\n",
      "[9]\tvalidation_0-logloss:0.23917\tvalidation_1-logloss:0.24376\n",
      "[10]\tvalidation_0-logloss:0.21819\tvalidation_1-logloss:0.22355\n",
      "[11]\tvalidation_0-logloss:0.19929\tvalidation_1-logloss:0.20525\n",
      "[12]\tvalidation_0-logloss:0.18234\tvalidation_1-logloss:0.18883\n",
      "[13]\tvalidation_0-logloss:0.16708\tvalidation_1-logloss:0.17379\n",
      "[14]\tvalidation_0-logloss:0.15333\tvalidation_1-logloss:0.16008\n",
      "[15]\tvalidation_0-logloss:0.14091\tvalidation_1-logloss:0.14783\n",
      "[16]\tvalidation_0-logloss:0.12973\tvalidation_1-logloss:0.13678\n",
      "[17]\tvalidation_0-logloss:0.11955\tvalidation_1-logloss:0.12707\n",
      "[0]\tvalidation_0-logloss:0.61082\tvalidation_1-logloss:0.61141\n",
      "[1]\tvalidation_0-logloss:0.54197\tvalidation_1-logloss:0.54282\n",
      "[2]\tvalidation_0-logloss:0.48345\tvalidation_1-logloss:0.48469\n",
      "[3]\tvalidation_0-logloss:0.43328\tvalidation_1-logloss:0.43483\n",
      "[4]\tvalidation_0-logloss:0.38966\tvalidation_1-logloss:0.39203\n",
      "[5]\tvalidation_0-logloss:0.35167\tvalidation_1-logloss:0.35444\n",
      "[6]\tvalidation_0-logloss:0.31834\tvalidation_1-logloss:0.32139\n",
      "[7]\tvalidation_0-logloss:0.28885\tvalidation_1-logloss:0.29229\n",
      "[8]\tvalidation_0-logloss:0.26274\tvalidation_1-logloss:0.26652\n",
      "[9]\tvalidation_0-logloss:0.23917\tvalidation_1-logloss:0.24376\n",
      "[10]\tvalidation_0-logloss:0.21819\tvalidation_1-logloss:0.22355\n",
      "[11]\tvalidation_0-logloss:0.19929\tvalidation_1-logloss:0.20525\n",
      "[12]\tvalidation_0-logloss:0.18234\tvalidation_1-logloss:0.18883\n",
      "[13]\tvalidation_0-logloss:0.16708\tvalidation_1-logloss:0.17379\n",
      "[14]\tvalidation_0-logloss:0.15333\tvalidation_1-logloss:0.16008\n",
      "[15]\tvalidation_0-logloss:0.14091\tvalidation_1-logloss:0.14783\n",
      "[16]\tvalidation_0-logloss:0.12973\tvalidation_1-logloss:0.13678\n",
      "[17]\tvalidation_0-logloss:0.11955\tvalidation_1-logloss:0.12707\n",
      "[0]\tvalidation_0-logloss:0.61082\tvalidation_1-logloss:0.61141\n",
      "[1]\tvalidation_0-logloss:0.54197\tvalidation_1-logloss:0.54282\n",
      "[2]\tvalidation_0-logloss:0.48345\tvalidation_1-logloss:0.48469\n",
      "[3]\tvalidation_0-logloss:0.43328\tvalidation_1-logloss:0.43483\n",
      "[4]\tvalidation_0-logloss:0.38966\tvalidation_1-logloss:0.39203\n",
      "[5]\tvalidation_0-logloss:0.35167\tvalidation_1-logloss:0.35444\n",
      "[6]\tvalidation_0-logloss:0.31834\tvalidation_1-logloss:0.32139\n",
      "[7]\tvalidation_0-logloss:0.28885\tvalidation_1-logloss:0.29229\n",
      "[8]\tvalidation_0-logloss:0.26274\tvalidation_1-logloss:0.26652\n",
      "[9]\tvalidation_0-logloss:0.23917\tvalidation_1-logloss:0.24376\n",
      "[10]\tvalidation_0-logloss:0.21819\tvalidation_1-logloss:0.22355\n",
      "[11]\tvalidation_0-logloss:0.19929\tvalidation_1-logloss:0.20525\n",
      "[12]\tvalidation_0-logloss:0.18234\tvalidation_1-logloss:0.18883\n",
      "[13]\tvalidation_0-logloss:0.16708\tvalidation_1-logloss:0.17379\n",
      "[14]\tvalidation_0-logloss:0.15333\tvalidation_1-logloss:0.16008\n",
      "[15]\tvalidation_0-logloss:0.14091\tvalidation_1-logloss:0.14783\n",
      "[16]\tvalidation_0-logloss:0.12973\tvalidation_1-logloss:0.13678\n",
      "[17]\tvalidation_0-logloss:0.11955\tvalidation_1-logloss:0.12707\n",
      "[0]\tvalidation_0-logloss:0.61082\tvalidation_1-logloss:0.61141\n",
      "[1]\tvalidation_0-logloss:0.54197\tvalidation_1-logloss:0.54282\n",
      "[2]\tvalidation_0-logloss:0.48345\tvalidation_1-logloss:0.48469\n",
      "[3]\tvalidation_0-logloss:0.43328\tvalidation_1-logloss:0.43483\n",
      "[4]\tvalidation_0-logloss:0.38966\tvalidation_1-logloss:0.39203\n",
      "[5]\tvalidation_0-logloss:0.35167\tvalidation_1-logloss:0.35444\n",
      "[6]\tvalidation_0-logloss:0.31834\tvalidation_1-logloss:0.32139\n",
      "[7]\tvalidation_0-logloss:0.28885\tvalidation_1-logloss:0.29229\n",
      "[8]\tvalidation_0-logloss:0.26274\tvalidation_1-logloss:0.26652\n",
      "[9]\tvalidation_0-logloss:0.23917\tvalidation_1-logloss:0.24376\n",
      "[10]\tvalidation_0-logloss:0.21819\tvalidation_1-logloss:0.22355\n",
      "[11]\tvalidation_0-logloss:0.19929\tvalidation_1-logloss:0.20525\n",
      "[12]\tvalidation_0-logloss:0.18234\tvalidation_1-logloss:0.18883\n",
      "[13]\tvalidation_0-logloss:0.16708\tvalidation_1-logloss:0.17379\n",
      "[14]\tvalidation_0-logloss:0.15333\tvalidation_1-logloss:0.16008\n",
      "[15]\tvalidation_0-logloss:0.14091\tvalidation_1-logloss:0.14783\n",
      "[16]\tvalidation_0-logloss:0.12973\tvalidation_1-logloss:0.13678\n",
      "[17]\tvalidation_0-logloss:0.11955\tvalidation_1-logloss:0.12707\n",
      "[0]\tvalidation_0-logloss:0.61082\tvalidation_1-logloss:0.61141\n",
      "[1]\tvalidation_0-logloss:0.54197\tvalidation_1-logloss:0.54282\n",
      "[2]\tvalidation_0-logloss:0.48345\tvalidation_1-logloss:0.48469\n",
      "[3]\tvalidation_0-logloss:0.43328\tvalidation_1-logloss:0.43483\n",
      "[4]\tvalidation_0-logloss:0.38966\tvalidation_1-logloss:0.39203\n",
      "[5]\tvalidation_0-logloss:0.35167\tvalidation_1-logloss:0.35444\n",
      "[6]\tvalidation_0-logloss:0.31834\tvalidation_1-logloss:0.32139\n",
      "[7]\tvalidation_0-logloss:0.28885\tvalidation_1-logloss:0.29229\n",
      "[8]\tvalidation_0-logloss:0.26274\tvalidation_1-logloss:0.26652\n",
      "[9]\tvalidation_0-logloss:0.23917\tvalidation_1-logloss:0.24376\n",
      "[10]\tvalidation_0-logloss:0.21819\tvalidation_1-logloss:0.22355\n",
      "[11]\tvalidation_0-logloss:0.19929\tvalidation_1-logloss:0.20525\n",
      "[12]\tvalidation_0-logloss:0.18234\tvalidation_1-logloss:0.18883\n",
      "[13]\tvalidation_0-logloss:0.16708\tvalidation_1-logloss:0.17379\n",
      "[14]\tvalidation_0-logloss:0.15333\tvalidation_1-logloss:0.16008\n",
      "[15]\tvalidation_0-logloss:0.14091\tvalidation_1-logloss:0.14783\n",
      "[16]\tvalidation_0-logloss:0.12973\tvalidation_1-logloss:0.13678\n",
      "[17]\tvalidation_0-logloss:0.11955\tvalidation_1-logloss:0.12707\n",
      "[0]\tvalidation_0-logloss:0.61082\tvalidation_1-logloss:0.61141\n",
      "[1]\tvalidation_0-logloss:0.54197\tvalidation_1-logloss:0.54282\n",
      "[2]\tvalidation_0-logloss:0.48345\tvalidation_1-logloss:0.48469\n",
      "[3]\tvalidation_0-logloss:0.43328\tvalidation_1-logloss:0.43483\n",
      "[4]\tvalidation_0-logloss:0.38966\tvalidation_1-logloss:0.39203\n",
      "[5]\tvalidation_0-logloss:0.35167\tvalidation_1-logloss:0.35444\n",
      "[6]\tvalidation_0-logloss:0.31834\tvalidation_1-logloss:0.32139\n",
      "[7]\tvalidation_0-logloss:0.28885\tvalidation_1-logloss:0.29229\n",
      "[8]\tvalidation_0-logloss:0.26274\tvalidation_1-logloss:0.26652\n",
      "[9]\tvalidation_0-logloss:0.23917\tvalidation_1-logloss:0.24376\n",
      "[10]\tvalidation_0-logloss:0.21819\tvalidation_1-logloss:0.22355\n",
      "[11]\tvalidation_0-logloss:0.19929\tvalidation_1-logloss:0.20525\n",
      "[12]\tvalidation_0-logloss:0.18234\tvalidation_1-logloss:0.18883\n",
      "[13]\tvalidation_0-logloss:0.16708\tvalidation_1-logloss:0.17379\n",
      "[14]\tvalidation_0-logloss:0.15333\tvalidation_1-logloss:0.16008\n",
      "[15]\tvalidation_0-logloss:0.14091\tvalidation_1-logloss:0.14783\n",
      "[16]\tvalidation_0-logloss:0.12973\tvalidation_1-logloss:0.13678\n",
      "[17]\tvalidation_0-logloss:0.11955\tvalidation_1-logloss:0.12707\n",
      "[0]\tvalidation_0-logloss:0.61082\tvalidation_1-logloss:0.61141\n",
      "[1]\tvalidation_0-logloss:0.54197\tvalidation_1-logloss:0.54282\n",
      "[2]\tvalidation_0-logloss:0.48345\tvalidation_1-logloss:0.48469\n",
      "[3]\tvalidation_0-logloss:0.43328\tvalidation_1-logloss:0.43483\n",
      "[4]\tvalidation_0-logloss:0.38966\tvalidation_1-logloss:0.39203\n",
      "[5]\tvalidation_0-logloss:0.35167\tvalidation_1-logloss:0.35444\n",
      "[6]\tvalidation_0-logloss:0.31834\tvalidation_1-logloss:0.32139\n",
      "[7]\tvalidation_0-logloss:0.28885\tvalidation_1-logloss:0.29229\n",
      "[8]\tvalidation_0-logloss:0.26274\tvalidation_1-logloss:0.26652\n",
      "[9]\tvalidation_0-logloss:0.23917\tvalidation_1-logloss:0.24376\n",
      "[10]\tvalidation_0-logloss:0.21819\tvalidation_1-logloss:0.22355\n",
      "[11]\tvalidation_0-logloss:0.19929\tvalidation_1-logloss:0.20525\n",
      "[12]\tvalidation_0-logloss:0.18234\tvalidation_1-logloss:0.18883\n",
      "[13]\tvalidation_0-logloss:0.16708\tvalidation_1-logloss:0.17379\n",
      "[14]\tvalidation_0-logloss:0.15333\tvalidation_1-logloss:0.16008\n",
      "[15]\tvalidation_0-logloss:0.14091\tvalidation_1-logloss:0.14783\n",
      "[16]\tvalidation_0-logloss:0.12973\tvalidation_1-logloss:0.13678\n",
      "[17]\tvalidation_0-logloss:0.11955\tvalidation_1-logloss:0.12707\n",
      "[0]\tvalidation_0-logloss:0.61082\tvalidation_1-logloss:0.61141\n",
      "[1]\tvalidation_0-logloss:0.54197\tvalidation_1-logloss:0.54282\n",
      "[2]\tvalidation_0-logloss:0.48345\tvalidation_1-logloss:0.48469\n",
      "[3]\tvalidation_0-logloss:0.43328\tvalidation_1-logloss:0.43483\n",
      "[4]\tvalidation_0-logloss:0.38966\tvalidation_1-logloss:0.39203\n",
      "[5]\tvalidation_0-logloss:0.35167\tvalidation_1-logloss:0.35444\n",
      "[6]\tvalidation_0-logloss:0.31834\tvalidation_1-logloss:0.32139\n",
      "[7]\tvalidation_0-logloss:0.28885\tvalidation_1-logloss:0.29229\n",
      "[8]\tvalidation_0-logloss:0.26274\tvalidation_1-logloss:0.26652\n",
      "[9]\tvalidation_0-logloss:0.23917\tvalidation_1-logloss:0.24376\n",
      "[10]\tvalidation_0-logloss:0.21819\tvalidation_1-logloss:0.22355\n",
      "[11]\tvalidation_0-logloss:0.19929\tvalidation_1-logloss:0.20525\n",
      "[12]\tvalidation_0-logloss:0.18234\tvalidation_1-logloss:0.18883\n",
      "[13]\tvalidation_0-logloss:0.16708\tvalidation_1-logloss:0.17379\n",
      "[14]\tvalidation_0-logloss:0.15333\tvalidation_1-logloss:0.16008\n",
      "[15]\tvalidation_0-logloss:0.14091\tvalidation_1-logloss:0.14783\n",
      "[16]\tvalidation_0-logloss:0.12973\tvalidation_1-logloss:0.13678\n",
      "[17]\tvalidation_0-logloss:0.11955\tvalidation_1-logloss:0.12707\n",
      "[0]\tvalidation_0-logloss:0.61082\tvalidation_1-logloss:0.61141\n",
      "[1]\tvalidation_0-logloss:0.54197\tvalidation_1-logloss:0.54282\n",
      "[2]\tvalidation_0-logloss:0.48345\tvalidation_1-logloss:0.48469\n",
      "[3]\tvalidation_0-logloss:0.43328\tvalidation_1-logloss:0.43483\n",
      "[4]\tvalidation_0-logloss:0.38966\tvalidation_1-logloss:0.39203\n",
      "[5]\tvalidation_0-logloss:0.35167\tvalidation_1-logloss:0.35444\n",
      "[6]\tvalidation_0-logloss:0.31834\tvalidation_1-logloss:0.32139\n",
      "[7]\tvalidation_0-logloss:0.28885\tvalidation_1-logloss:0.29229\n",
      "[8]\tvalidation_0-logloss:0.26274\tvalidation_1-logloss:0.26652\n",
      "[9]\tvalidation_0-logloss:0.23917\tvalidation_1-logloss:0.24376\n",
      "[10]\tvalidation_0-logloss:0.21819\tvalidation_1-logloss:0.22355\n",
      "[11]\tvalidation_0-logloss:0.19929\tvalidation_1-logloss:0.20525\n",
      "[12]\tvalidation_0-logloss:0.18234\tvalidation_1-logloss:0.18883\n",
      "[13]\tvalidation_0-logloss:0.16708\tvalidation_1-logloss:0.17379\n",
      "[14]\tvalidation_0-logloss:0.15333\tvalidation_1-logloss:0.16008\n",
      "[15]\tvalidation_0-logloss:0.14091\tvalidation_1-logloss:0.14783\n",
      "[16]\tvalidation_0-logloss:0.12973\tvalidation_1-logloss:0.13678\n",
      "[17]\tvalidation_0-logloss:0.11955\tvalidation_1-logloss:0.12707\n"
     ]
    },
    {
     "data": {
      "image/png": "[encoded data removed]",
      "text/plain": [
       "<Figure size 640x480 with 1 Axes>"
      ]
     },
     "metadata": {},
     "output_type": "display_data"
    }
   ],
   "source": [
    "res_xgb_2 = []\n",
    "for md in range(1, 20):\n",
    "    model_res_xgb_2 = XGBClassifier(n_estimators=18, max_depth=md, learning_rate=0.09)\n",
    "\n",
    "    model_res_xgb_2.fit(features_train_xgb, target_train_xgb, eval_set= [(features_train_xgb, target_train_xgb), (features_val, target_val)])\n",
    "    pred_train_xgb_2 = model_res_xgb_2.predict(X_train)\n",
    "    pred_test_xgb_2 = model_res_xgb_2.predict(X_test)\n",
    "\n",
    "    res_xgb_2.append([md, balanced_accuracy_score(y_train, pred_train_xgb_2), balanced_accuracy_score(y_test, pred_test_xgb_2)])\n",
    "\n",
    "res_pd_xgb_2 = pd.DataFrame(res_xgb_2, columns=['max_depth', 'b_a_s_train', 'b_a_s_test'])\n",
    "\n",
    "res_pd_xgb_2.set_index('max_depth')['b_a_s_train'].plot(label='b_a_s_train')\n",
    "res_pd_xgb_2.set_index('max_depth')['b_a_s_test'].plot(label='b_a_s_test')\n",
    "plt.legend()\n",
    "plt.ylabel('balanced_accuracy_score');"
   ]
  },
  {
   "cell_type": "code",
   "execution_count": 119,
   "id": "c4fcf3d7",
   "metadata": {},
   "outputs": [
    {
     "data": {
      "text/html": [
       "<div>\n",
       "<style scoped>\n",
       "    .dataframe tbody tr th:only-of-type {\n",
       "        vertical-align: middle;\n",
       "    }\n",
       "\n",
       "    .dataframe tbody tr th {\n",
       "        vertical-align: top;\n",
       "    }\n",
       "\n",
       "    .dataframe thead th {\n",
       "        text-align: right;\n",
       "    }\n",
       "</style>\n",
       "<table border=\"1\" class=\"dataframe\">\n",
       "  <thead>\n",
       "    <tr style=\"text-align: right;\">\n",
       "      <th></th>\n",
       "      <th>max_depth</th>\n",
       "      <th>b_a_s_train</th>\n",
       "      <th>b_a_s_test</th>\n",
       "    </tr>\n",
       "  </thead>\n",
       "  <tbody>\n",
       "    <tr>\n",
       "      <th>5</th>\n",
       "      <td>6</td>\n",
       "      <td>0.990498</td>\n",
       "      <td>0.988042</td>\n",
       "    </tr>\n",
       "    <tr>\n",
       "      <th>6</th>\n",
       "      <td>7</td>\n",
       "      <td>0.990371</td>\n",
       "      <td>0.988042</td>\n",
       "    </tr>\n",
       "    <tr>\n",
       "      <th>7</th>\n",
       "      <td>8</td>\n",
       "      <td>0.990761</td>\n",
       "      <td>0.988042</td>\n",
       "    </tr>\n",
       "  </tbody>\n",
       "</table>\n",
       "</div>"
      ],
      "text/plain": [
       "   max_depth  b_a_s_train  b_a_s_test\n",
       "5          6     0.990498    0.988042\n",
       "6          7     0.990371    0.988042\n",
       "7          8     0.990761    0.988042"
      ]
     },
     "execution_count": 119,
     "metadata": {},
     "output_type": "execute_result"
    }
   ],
   "source": [
    "res_pd_xgb_2[res_pd_xgb_2['b_a_s_test'] == res_pd_xgb_2['b_a_s_test'].max()]"
   ]
  },
  {
   "attachments": {},
   "cell_type": "markdown",
   "id": "3b28bd6e",
   "metadata": {},
   "source": [
    "Максимальная глубина деревьев 6, при этом достигается максимальная точность модели, теперь построим модель с данными параметрами"
   ]
  },
  {
   "cell_type": "code",
   "execution_count": 120,
   "id": "e491e125",
   "metadata": {},
   "outputs": [
    {
     "name": "stdout",
     "output_type": "stream",
     "text": [
      "[0]\tvalidation_0-logloss:0.61113\tvalidation_1-logloss:0.61160\n",
      "[1]\tvalidation_0-logloss:0.54234\tvalidation_1-logloss:0.54312\n",
      "[2]\tvalidation_0-logloss:0.48380\tvalidation_1-logloss:0.48490\n",
      "[3]\tvalidation_0-logloss:0.43363\tvalidation_1-logloss:0.43487\n",
      "[4]\tvalidation_0-logloss:0.39014\tvalidation_1-logloss:0.39184\n",
      "[5]\tvalidation_0-logloss:0.35226\tvalidation_1-logloss:0.35430\n",
      "[6]\tvalidation_0-logloss:0.31886\tvalidation_1-logloss:0.32138\n",
      "[7]\tvalidation_0-logloss:0.28935\tvalidation_1-logloss:0.29240\n",
      "[8]\tvalidation_0-logloss:0.26324\tvalidation_1-logloss:0.26669\n",
      "[9]\tvalidation_0-logloss:0.23980\tvalidation_1-logloss:0.24398\n",
      "[10]\tvalidation_0-logloss:0.21893\tvalidation_1-logloss:0.22380\n",
      "[11]\tvalidation_0-logloss:0.20002\tvalidation_1-logloss:0.20523\n",
      "[12]\tvalidation_0-logloss:0.18316\tvalidation_1-logloss:0.18865\n",
      "[13]\tvalidation_0-logloss:0.16801\tvalidation_1-logloss:0.17401\n",
      "[14]\tvalidation_0-logloss:0.15434\tvalidation_1-logloss:0.16046\n",
      "[15]\tvalidation_0-logloss:0.14196\tvalidation_1-logloss:0.14814\n",
      "[16]\tvalidation_0-logloss:0.13080\tvalidation_1-logloss:0.13751\n",
      "[17]\tvalidation_0-logloss:0.12069\tvalidation_1-logloss:0.12749\n",
      "Качество на обучающей выборке: 0.9907614502301081\n",
      "Качество на валидационной выборке: 0.9864795918367346\n"
     ]
    }
   ],
   "source": [
    "model_xgb = XGBClassifier(n_estimators=18, max_depth=6, learning_rate=0.09)\n",
    "\n",
    "model_xgb.fit(features_train_xgb, target_train_xgb, eval_set= [(features_train_xgb, target_train_xgb), (features_val, target_val)])\n",
    "pred_train_xgb = model_res_xgb_2.predict(X_train)\n",
    "pred_test_xgb = model_res_xgb_2.predict(X_test)\n",
    "\n",
    "print(f'Качество на обучающей выборке: {balanced_accuracy_score(y_train, pred_train_xgb)}')\n",
    "print(f'Качество на валидационной выборке: {balanced_accuracy_score(y_test, pred_test_xgb)}')"
   ]
  },
  {
   "attachments": {},
   "cell_type": "markdown",
   "id": "1e4bec46",
   "metadata": {},
   "source": [
    "**Мы обучили модель по наилучшим параметрам в цикле, ее качество можно оценивать как высокое, сравнимо с первой моделью, полное сравнение мы сделаем в общем выводе**"
   ]
  },
  {
   "attachments": {},
   "cell_type": "markdown",
   "id": "ea27d71a",
   "metadata": {},
   "source": [
    "*6. В выводах напишите, какая модель показала себя лучше всего, какого качества удалось достичь.*"
   ]
  },
  {
   "attachments": {},
   "cell_type": "markdown",
   "id": "4a4379a9",
   "metadata": {},
   "source": [
    "Мы посмотрели следующие модели:"
   ]
  },
  {
   "cell_type": "code",
   "execution_count": 121,
   "id": "2ce59126",
   "metadata": {},
   "outputs": [
    {
     "data": {
      "text/html": [
       "<div>\n",
       "<style scoped>\n",
       "    .dataframe tbody tr th:only-of-type {\n",
       "        vertical-align: middle;\n",
       "    }\n",
       "\n",
       "    .dataframe tbody tr th {\n",
       "        vertical-align: top;\n",
       "    }\n",
       "\n",
       "    .dataframe thead th {\n",
       "        text-align: right;\n",
       "    }\n",
       "</style>\n",
       "<table border=\"1\" class=\"dataframe\">\n",
       "  <thead>\n",
       "    <tr style=\"text-align: right;\">\n",
       "      <th></th>\n",
       "      <th>Модель</th>\n",
       "      <th>Качество на обучающей выборке</th>\n",
       "      <th>Качество на тестовой</th>\n",
       "    </tr>\n",
       "  </thead>\n",
       "  <tbody>\n",
       "    <tr>\n",
       "      <th>0</th>\n",
       "      <td>DecisionTreeClassifier max_depth=22</td>\n",
       "      <td>0.9999</td>\n",
       "      <td>0.9871</td>\n",
       "    </tr>\n",
       "    <tr>\n",
       "      <th>1</th>\n",
       "      <td>DecisionTreeClassifier(min_samples_leaf=2, max...</td>\n",
       "      <td>0.9905</td>\n",
       "      <td>0.9839</td>\n",
       "    </tr>\n",
       "    <tr>\n",
       "      <th>2</th>\n",
       "      <td>RandomForestClassifier(n_estimators=11, min_sa...</td>\n",
       "      <td>0.9951</td>\n",
       "      <td>0.9938</td>\n",
       "    </tr>\n",
       "    <tr>\n",
       "      <th>3</th>\n",
       "      <td>XGBClassifier(n_estimators=18, max_depth=6, le...</td>\n",
       "      <td>0.9908</td>\n",
       "      <td>0.9848</td>\n",
       "    </tr>\n",
       "  </tbody>\n",
       "</table>\n",
       "</div>"
      ],
      "text/plain": [
       "                                              Модель   \n",
       "0                DecisionTreeClassifier max_depth=22  \\\n",
       "1  DecisionTreeClassifier(min_samples_leaf=2, max...   \n",
       "2  RandomForestClassifier(n_estimators=11, min_sa...   \n",
       "3  XGBClassifier(n_estimators=18, max_depth=6, le...   \n",
       "\n",
       "   Качество на обучающей выборке  Качество на тестовой  \n",
       "0                         0.9999                0.9871  \n",
       "1                         0.9905                0.9839  \n",
       "2                         0.9951                0.9938  \n",
       "3                         0.9908                0.9848  "
      ]
     },
     "execution_count": 121,
     "metadata": {},
     "output_type": "execute_result"
    }
   ],
   "source": [
    "tabledata = [[\"DecisionTreeClassifier max_depth=22\", 0.9999, 0.9871],\n",
    "            [\"DecisionTreeClassifier(min_samples_leaf=2, max_depth=14)\", 0.9905, 0.9839],\n",
    "            [\"RandomForestClassifier(n_estimators=11, min_samples_leaf=2)\", 0.9951, 0.9938],\n",
    "            [\"XGBClassifier(n_estimators=18, max_depth=6, learning_rate=0.09)\", 0.9908, 0.9848]]\n",
    "\n",
    "pd.DataFrame(tabledata, columns=[\"Модель\",\"Качество на обучающей выборке\", \"Качество на тестовой\"])\n"
   ]
  },
  {
   "attachments": {},
   "cell_type": "markdown",
   "id": "591cf5c8",
   "metadata": {},
   "source": [
    "По показателям лучше всех на тестовой выборке отработала модель RandomForestClassifier. Но так как мы подбирали наилучшие параметры для каждой модели, то все они показывали себя \"хорошо\", качество у каждой высокое."
   ]
  }
 ],
 "metadata": {
  "kernelspec": {
   "display_name": "Python 3 (ipykernel)",
   "language": "python",
   "name": "python3"
  },
  "language_info": {
   "codemirror_mode": {
    "name": "ipython",
    "version": 3
   },
   "file_extension": ".py",
   "mimetype": "text/x-python",
   "name": "python",
   "nbconvert_exporter": "python",
   "pygments_lexer": "ipython3",
   "version": "3.10.11"
  }
 },
 "nbformat": 4,
 "nbformat_minor": 5
}
