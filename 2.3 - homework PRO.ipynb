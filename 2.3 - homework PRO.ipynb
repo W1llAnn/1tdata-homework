{
 "cells": [
  {
   "attachments": {},
   "cell_type": "markdown",
   "id": "b79bcc02",
   "metadata": {},
   "source": [
    "**Основные цели этого задания:**\n",
    "*   Научиться работать с новыми моделями: случайный лес, градиентный бустинг.\n",
    "*   Научиться распознавать факты переобучения и недообучения модели.\n",
    "*   Научить бороться с переобучением и недообучением модели путем варьирования ее гиперпараметров."
   ]
  },
  {
   "attachments": {},
   "cell_type": "markdown",
   "id": "2d83336b",
   "metadata": {},
   "source": [
    "**Задача: Построить модель машинного обучения, предсказывающую, является ли вино красным по одиннадцати его характеристикам.**"
   ]
  },
  {
   "attachments": {},
   "cell_type": "markdown",
   "id": "5750bcf7",
   "metadata": {},
   "source": [
    "*1. Загрузите данные, объедините источники в один датафрейм. Составьте целевую переменную на основе файла, из которого вы получили часть данных, изучите распределение по ней. Проверьте отсутствие пропусков в данных, отделите фичи и целевой признак друг от друга, разделите данные на обучающую и валидационную части.*"
   ]
  },
  {
   "cell_type": "code",
   "execution_count": 34,
   "id": "ecae65cd",
   "metadata": {},
   "outputs": [],
   "source": [
    "import pandas as pd\n",
    "import numpy as np\n",
    "\n",
    "from numpy import arange\n",
    "from sklearn.model_selection import train_test_split\n",
    "from sklearn.tree import DecisionTreeRegressor\n",
    "from sklearn.ensemble import RandomForestRegressor\n",
    "from sklearn.metrics import mean_absolute_error\n",
    "from matplotlib import pyplot as plt\n",
    "\n",
    "from imblearn.metrics import sensitivity_score, specificity_score"
   ]
  },
  {
   "attachments": {},
   "cell_type": "markdown",
   "id": "231d3f3e",
   "metadata": {},
   "source": [
    "Сначала посмотрим оба файла по отдельности:"
   ]
  },
  {
   "cell_type": "code",
   "execution_count": 35,
   "id": "f1e9e7aa",
   "metadata": {},
   "outputs": [
    {
     "data": {
      "text/html": [
       "<div>\n",
       "<style scoped>\n",
       "    .dataframe tbody tr th:only-of-type {\n",
       "        vertical-align: middle;\n",
       "    }\n",
       "\n",
       "    .dataframe tbody tr th {\n",
       "        vertical-align: top;\n",
       "    }\n",
       "\n",
       "    .dataframe thead th {\n",
       "        text-align: right;\n",
       "    }\n",
       "</style>\n",
       "<table border=\"1\" class=\"dataframe\">\n",
       "  <thead>\n",
       "    <tr style=\"text-align: right;\">\n",
       "      <th></th>\n",
       "      <th>fixed acidity</th>\n",
       "      <th>volatile acidity</th>\n",
       "      <th>citric acid</th>\n",
       "      <th>residual sugar</th>\n",
       "      <th>chlorides</th>\n",
       "      <th>free sulfur dioxide</th>\n",
       "      <th>total sulfur dioxide</th>\n",
       "      <th>density</th>\n",
       "      <th>pH</th>\n",
       "      <th>sulphates</th>\n",
       "      <th>alcohol</th>\n",
       "      <th>quality</th>\n",
       "    </tr>\n",
       "  </thead>\n",
       "  <tbody>\n",
       "    <tr>\n",
       "      <th>0</th>\n",
       "      <td>7.0</td>\n",
       "      <td>0.27</td>\n",
       "      <td>0.36</td>\n",
       "      <td>20.7</td>\n",
       "      <td>0.045</td>\n",
       "      <td>45.0</td>\n",
       "      <td>170.0</td>\n",
       "      <td>1.0010</td>\n",
       "      <td>3.00</td>\n",
       "      <td>0.45</td>\n",
       "      <td>8.8</td>\n",
       "      <td>6</td>\n",
       "    </tr>\n",
       "    <tr>\n",
       "      <th>1</th>\n",
       "      <td>6.3</td>\n",
       "      <td>0.30</td>\n",
       "      <td>0.34</td>\n",
       "      <td>1.6</td>\n",
       "      <td>0.049</td>\n",
       "      <td>14.0</td>\n",
       "      <td>132.0</td>\n",
       "      <td>0.9940</td>\n",
       "      <td>3.30</td>\n",
       "      <td>0.49</td>\n",
       "      <td>9.5</td>\n",
       "      <td>6</td>\n",
       "    </tr>\n",
       "    <tr>\n",
       "      <th>2</th>\n",
       "      <td>8.1</td>\n",
       "      <td>0.28</td>\n",
       "      <td>0.40</td>\n",
       "      <td>6.9</td>\n",
       "      <td>0.050</td>\n",
       "      <td>30.0</td>\n",
       "      <td>97.0</td>\n",
       "      <td>0.9951</td>\n",
       "      <td>3.26</td>\n",
       "      <td>0.44</td>\n",
       "      <td>10.1</td>\n",
       "      <td>6</td>\n",
       "    </tr>\n",
       "    <tr>\n",
       "      <th>3</th>\n",
       "      <td>7.2</td>\n",
       "      <td>0.23</td>\n",
       "      <td>0.32</td>\n",
       "      <td>8.5</td>\n",
       "      <td>0.058</td>\n",
       "      <td>47.0</td>\n",
       "      <td>186.0</td>\n",
       "      <td>0.9956</td>\n",
       "      <td>3.19</td>\n",
       "      <td>0.40</td>\n",
       "      <td>9.9</td>\n",
       "      <td>6</td>\n",
       "    </tr>\n",
       "    <tr>\n",
       "      <th>4</th>\n",
       "      <td>7.2</td>\n",
       "      <td>0.23</td>\n",
       "      <td>0.32</td>\n",
       "      <td>8.5</td>\n",
       "      <td>0.058</td>\n",
       "      <td>47.0</td>\n",
       "      <td>186.0</td>\n",
       "      <td>0.9956</td>\n",
       "      <td>3.19</td>\n",
       "      <td>0.40</td>\n",
       "      <td>9.9</td>\n",
       "      <td>6</td>\n",
       "    </tr>\n",
       "  </tbody>\n",
       "</table>\n",
       "</div>"
      ],
      "text/plain": [
       "   fixed acidity  volatile acidity  citric acid  residual sugar  chlorides   \n",
       "0            7.0              0.27         0.36            20.7      0.045  \\\n",
       "1            6.3              0.30         0.34             1.6      0.049   \n",
       "2            8.1              0.28         0.40             6.9      0.050   \n",
       "3            7.2              0.23         0.32             8.5      0.058   \n",
       "4            7.2              0.23         0.32             8.5      0.058   \n",
       "\n",
       "   free sulfur dioxide  total sulfur dioxide  density    pH  sulphates   \n",
       "0                 45.0                 170.0   1.0010  3.00       0.45  \\\n",
       "1                 14.0                 132.0   0.9940  3.30       0.49   \n",
       "2                 30.0                  97.0   0.9951  3.26       0.44   \n",
       "3                 47.0                 186.0   0.9956  3.19       0.40   \n",
       "4                 47.0                 186.0   0.9956  3.19       0.40   \n",
       "\n",
       "   alcohol  quality  \n",
       "0      8.8        6  \n",
       "1      9.5        6  \n",
       "2     10.1        6  \n",
       "3      9.9        6  \n",
       "4      9.9        6  "
      ]
     },
     "execution_count": 35,
     "metadata": {},
     "output_type": "execute_result"
    }
   ],
   "source": [
    "df_white = pd.read_csv('https://raw.githubusercontent.com/W1llAnn/1tdata-homework/main/2.3winequality-white.csv', delimiter=';')\n",
    "df_white.head()"
   ]
  },
  {
   "cell_type": "code",
   "execution_count": 36,
   "id": "113c4012",
   "metadata": {},
   "outputs": [
    {
     "data": {
      "text/html": [
       "<div>\n",
       "<style scoped>\n",
       "    .dataframe tbody tr th:only-of-type {\n",
       "        vertical-align: middle;\n",
       "    }\n",
       "\n",
       "    .dataframe tbody tr th {\n",
       "        vertical-align: top;\n",
       "    }\n",
       "\n",
       "    .dataframe thead th {\n",
       "        text-align: right;\n",
       "    }\n",
       "</style>\n",
       "<table border=\"1\" class=\"dataframe\">\n",
       "  <thead>\n",
       "    <tr style=\"text-align: right;\">\n",
       "      <th></th>\n",
       "      <th>fixed acidity</th>\n",
       "      <th>volatile acidity</th>\n",
       "      <th>citric acid</th>\n",
       "      <th>residual sugar</th>\n",
       "      <th>chlorides</th>\n",
       "      <th>free sulfur dioxide</th>\n",
       "      <th>total sulfur dioxide</th>\n",
       "      <th>density</th>\n",
       "      <th>pH</th>\n",
       "      <th>sulphates</th>\n",
       "      <th>alcohol</th>\n",
       "      <th>quality</th>\n",
       "    </tr>\n",
       "  </thead>\n",
       "  <tbody>\n",
       "    <tr>\n",
       "      <th>0</th>\n",
       "      <td>7.4</td>\n",
       "      <td>0.70</td>\n",
       "      <td>0.00</td>\n",
       "      <td>1.9</td>\n",
       "      <td>0.076</td>\n",
       "      <td>11.0</td>\n",
       "      <td>34.0</td>\n",
       "      <td>0.9978</td>\n",
       "      <td>3.51</td>\n",
       "      <td>0.56</td>\n",
       "      <td>9.4</td>\n",
       "      <td>5</td>\n",
       "    </tr>\n",
       "    <tr>\n",
       "      <th>1</th>\n",
       "      <td>7.8</td>\n",
       "      <td>0.88</td>\n",
       "      <td>0.00</td>\n",
       "      <td>2.6</td>\n",
       "      <td>0.098</td>\n",
       "      <td>25.0</td>\n",
       "      <td>67.0</td>\n",
       "      <td>0.9968</td>\n",
       "      <td>3.20</td>\n",
       "      <td>0.68</td>\n",
       "      <td>9.8</td>\n",
       "      <td>5</td>\n",
       "    </tr>\n",
       "    <tr>\n",
       "      <th>2</th>\n",
       "      <td>7.8</td>\n",
       "      <td>0.76</td>\n",
       "      <td>0.04</td>\n",
       "      <td>2.3</td>\n",
       "      <td>0.092</td>\n",
       "      <td>15.0</td>\n",
       "      <td>54.0</td>\n",
       "      <td>0.9970</td>\n",
       "      <td>3.26</td>\n",
       "      <td>0.65</td>\n",
       "      <td>9.8</td>\n",
       "      <td>5</td>\n",
       "    </tr>\n",
       "    <tr>\n",
       "      <th>3</th>\n",
       "      <td>11.2</td>\n",
       "      <td>0.28</td>\n",
       "      <td>0.56</td>\n",
       "      <td>1.9</td>\n",
       "      <td>0.075</td>\n",
       "      <td>17.0</td>\n",
       "      <td>60.0</td>\n",
       "      <td>0.9980</td>\n",
       "      <td>3.16</td>\n",
       "      <td>0.58</td>\n",
       "      <td>9.8</td>\n",
       "      <td>6</td>\n",
       "    </tr>\n",
       "    <tr>\n",
       "      <th>4</th>\n",
       "      <td>7.4</td>\n",
       "      <td>0.70</td>\n",
       "      <td>0.00</td>\n",
       "      <td>1.9</td>\n",
       "      <td>0.076</td>\n",
       "      <td>11.0</td>\n",
       "      <td>34.0</td>\n",
       "      <td>0.9978</td>\n",
       "      <td>3.51</td>\n",
       "      <td>0.56</td>\n",
       "      <td>9.4</td>\n",
       "      <td>5</td>\n",
       "    </tr>\n",
       "  </tbody>\n",
       "</table>\n",
       "</div>"
      ],
      "text/plain": [
       "   fixed acidity  volatile acidity  citric acid  residual sugar  chlorides   \n",
       "0            7.4              0.70         0.00             1.9      0.076  \\\n",
       "1            7.8              0.88         0.00             2.6      0.098   \n",
       "2            7.8              0.76         0.04             2.3      0.092   \n",
       "3           11.2              0.28         0.56             1.9      0.075   \n",
       "4            7.4              0.70         0.00             1.9      0.076   \n",
       "\n",
       "   free sulfur dioxide  total sulfur dioxide  density    pH  sulphates   \n",
       "0                 11.0                  34.0   0.9978  3.51       0.56  \\\n",
       "1                 25.0                  67.0   0.9968  3.20       0.68   \n",
       "2                 15.0                  54.0   0.9970  3.26       0.65   \n",
       "3                 17.0                  60.0   0.9980  3.16       0.58   \n",
       "4                 11.0                  34.0   0.9978  3.51       0.56   \n",
       "\n",
       "   alcohol  quality  \n",
       "0      9.4        5  \n",
       "1      9.8        5  \n",
       "2      9.8        5  \n",
       "3      9.8        6  \n",
       "4      9.4        5  "
      ]
     },
     "execution_count": 36,
     "metadata": {},
     "output_type": "execute_result"
    }
   ],
   "source": [
    "df_red = pd.read_csv('https://raw.githubusercontent.com/W1llAnn/1tdata-homework/main/2.3winequality-red.csv', delimiter=';')\n",
    "df_red.head()"
   ]
  },
  {
   "cell_type": "code",
   "execution_count": 37,
   "id": "2ac996b7",
   "metadata": {},
   "outputs": [
    {
     "name": "stdout",
     "output_type": "stream",
     "text": [
      "<class 'pandas.core.frame.DataFrame'>\n",
      "RangeIndex: 4898 entries, 0 to 4897\n",
      "Data columns (total 12 columns):\n",
      " #   Column                Non-Null Count  Dtype  \n",
      "---  ------                --------------  -----  \n",
      " 0   fixed acidity         4898 non-null   float64\n",
      " 1   volatile acidity      4898 non-null   float64\n",
      " 2   citric acid           4898 non-null   float64\n",
      " 3   residual sugar        4898 non-null   float64\n",
      " 4   chlorides             4898 non-null   float64\n",
      " 5   free sulfur dioxide   4898 non-null   float64\n",
      " 6   total sulfur dioxide  4898 non-null   float64\n",
      " 7   density               4898 non-null   float64\n",
      " 8   pH                    4898 non-null   float64\n",
      " 9   sulphates             4898 non-null   float64\n",
      " 10  alcohol               4898 non-null   float64\n",
      " 11  quality               4898 non-null   int64  \n",
      "dtypes: float64(11), int64(1)\n",
      "memory usage: 459.3 KB\n"
     ]
    }
   ],
   "source": [
    "df_white.info()"
   ]
  },
  {
   "cell_type": "code",
   "execution_count": 38,
   "id": "69f0c684",
   "metadata": {},
   "outputs": [
    {
     "name": "stdout",
     "output_type": "stream",
     "text": [
      "<class 'pandas.core.frame.DataFrame'>\n",
      "RangeIndex: 1599 entries, 0 to 1598\n",
      "Data columns (total 12 columns):\n",
      " #   Column                Non-Null Count  Dtype  \n",
      "---  ------                --------------  -----  \n",
      " 0   fixed acidity         1599 non-null   float64\n",
      " 1   volatile acidity      1599 non-null   float64\n",
      " 2   citric acid           1599 non-null   float64\n",
      " 3   residual sugar        1599 non-null   float64\n",
      " 4   chlorides             1599 non-null   float64\n",
      " 5   free sulfur dioxide   1599 non-null   float64\n",
      " 6   total sulfur dioxide  1599 non-null   float64\n",
      " 7   density               1599 non-null   float64\n",
      " 8   pH                    1599 non-null   float64\n",
      " 9   sulphates             1599 non-null   float64\n",
      " 10  alcohol               1599 non-null   float64\n",
      " 11  quality               1599 non-null   int64  \n",
      "dtypes: float64(11), int64(1)\n",
      "memory usage: 150.0 KB\n"
     ]
    }
   ],
   "source": [
    "df_red.info()"
   ]
  },
  {
   "attachments": {},
   "cell_type": "markdown",
   "id": "f4a68b81",
   "metadata": {},
   "source": [
    "Пропусков нет, колонки имеют одинаковое название. Но нам не хватает столбца, где будет записано является вино красным или белым. Создадим такой столбец и объединим."
   ]
  },
  {
   "cell_type": "code",
   "execution_count": 39,
   "id": "1790ebf1",
   "metadata": {},
   "outputs": [],
   "source": [
    "df_red['wine_red'] = 1\n",
    "df_white['wine_red'] = 0"
   ]
  },
  {
   "attachments": {},
   "cell_type": "markdown",
   "id": "184efbb7",
   "metadata": {},
   "source": [
    "Если вино красное то значение будет 1, если нет 0"
   ]
  },
  {
   "cell_type": "code",
   "execution_count": 40,
   "id": "c334b70d",
   "metadata": {},
   "outputs": [],
   "source": [
    "frames = [df_red, df_white]\n",
    "df_merged = pd.concat(frames)"
   ]
  },
  {
   "cell_type": "code",
   "execution_count": 41,
   "id": "2d360c46",
   "metadata": {},
   "outputs": [
    {
     "data": {
      "text/html": [
       "<div>\n",
       "<style scoped>\n",
       "    .dataframe tbody tr th:only-of-type {\n",
       "        vertical-align: middle;\n",
       "    }\n",
       "\n",
       "    .dataframe tbody tr th {\n",
       "        vertical-align: top;\n",
       "    }\n",
       "\n",
       "    .dataframe thead th {\n",
       "        text-align: right;\n",
       "    }\n",
       "</style>\n",
       "<table border=\"1\" class=\"dataframe\">\n",
       "  <thead>\n",
       "    <tr style=\"text-align: right;\">\n",
       "      <th></th>\n",
       "      <th>fixed acidity</th>\n",
       "      <th>volatile acidity</th>\n",
       "      <th>citric acid</th>\n",
       "      <th>residual sugar</th>\n",
       "      <th>chlorides</th>\n",
       "      <th>free sulfur dioxide</th>\n",
       "      <th>total sulfur dioxide</th>\n",
       "      <th>density</th>\n",
       "      <th>pH</th>\n",
       "      <th>sulphates</th>\n",
       "      <th>alcohol</th>\n",
       "      <th>quality</th>\n",
       "      <th>wine_red</th>\n",
       "    </tr>\n",
       "  </thead>\n",
       "  <tbody>\n",
       "    <tr>\n",
       "      <th>0</th>\n",
       "      <td>7.4</td>\n",
       "      <td>0.70</td>\n",
       "      <td>0.00</td>\n",
       "      <td>1.9</td>\n",
       "      <td>0.076</td>\n",
       "      <td>11.0</td>\n",
       "      <td>34.0</td>\n",
       "      <td>0.9978</td>\n",
       "      <td>3.51</td>\n",
       "      <td>0.56</td>\n",
       "      <td>9.4</td>\n",
       "      <td>5</td>\n",
       "      <td>1</td>\n",
       "    </tr>\n",
       "    <tr>\n",
       "      <th>1</th>\n",
       "      <td>7.8</td>\n",
       "      <td>0.88</td>\n",
       "      <td>0.00</td>\n",
       "      <td>2.6</td>\n",
       "      <td>0.098</td>\n",
       "      <td>25.0</td>\n",
       "      <td>67.0</td>\n",
       "      <td>0.9968</td>\n",
       "      <td>3.20</td>\n",
       "      <td>0.68</td>\n",
       "      <td>9.8</td>\n",
       "      <td>5</td>\n",
       "      <td>1</td>\n",
       "    </tr>\n",
       "    <tr>\n",
       "      <th>2</th>\n",
       "      <td>7.8</td>\n",
       "      <td>0.76</td>\n",
       "      <td>0.04</td>\n",
       "      <td>2.3</td>\n",
       "      <td>0.092</td>\n",
       "      <td>15.0</td>\n",
       "      <td>54.0</td>\n",
       "      <td>0.9970</td>\n",
       "      <td>3.26</td>\n",
       "      <td>0.65</td>\n",
       "      <td>9.8</td>\n",
       "      <td>5</td>\n",
       "      <td>1</td>\n",
       "    </tr>\n",
       "    <tr>\n",
       "      <th>3</th>\n",
       "      <td>11.2</td>\n",
       "      <td>0.28</td>\n",
       "      <td>0.56</td>\n",
       "      <td>1.9</td>\n",
       "      <td>0.075</td>\n",
       "      <td>17.0</td>\n",
       "      <td>60.0</td>\n",
       "      <td>0.9980</td>\n",
       "      <td>3.16</td>\n",
       "      <td>0.58</td>\n",
       "      <td>9.8</td>\n",
       "      <td>6</td>\n",
       "      <td>1</td>\n",
       "    </tr>\n",
       "    <tr>\n",
       "      <th>4</th>\n",
       "      <td>7.4</td>\n",
       "      <td>0.70</td>\n",
       "      <td>0.00</td>\n",
       "      <td>1.9</td>\n",
       "      <td>0.076</td>\n",
       "      <td>11.0</td>\n",
       "      <td>34.0</td>\n",
       "      <td>0.9978</td>\n",
       "      <td>3.51</td>\n",
       "      <td>0.56</td>\n",
       "      <td>9.4</td>\n",
       "      <td>5</td>\n",
       "      <td>1</td>\n",
       "    </tr>\n",
       "  </tbody>\n",
       "</table>\n",
       "</div>"
      ],
      "text/plain": [
       "   fixed acidity  volatile acidity  citric acid  residual sugar  chlorides   \n",
       "0            7.4              0.70         0.00             1.9      0.076  \\\n",
       "1            7.8              0.88         0.00             2.6      0.098   \n",
       "2            7.8              0.76         0.04             2.3      0.092   \n",
       "3           11.2              0.28         0.56             1.9      0.075   \n",
       "4            7.4              0.70         0.00             1.9      0.076   \n",
       "\n",
       "   free sulfur dioxide  total sulfur dioxide  density    pH  sulphates   \n",
       "0                 11.0                  34.0   0.9978  3.51       0.56  \\\n",
       "1                 25.0                  67.0   0.9968  3.20       0.68   \n",
       "2                 15.0                  54.0   0.9970  3.26       0.65   \n",
       "3                 17.0                  60.0   0.9980  3.16       0.58   \n",
       "4                 11.0                  34.0   0.9978  3.51       0.56   \n",
       "\n",
       "   alcohol  quality  wine_red  \n",
       "0      9.4        5         1  \n",
       "1      9.8        5         1  \n",
       "2      9.8        5         1  \n",
       "3      9.8        6         1  \n",
       "4      9.4        5         1  "
      ]
     },
     "execution_count": 41,
     "metadata": {},
     "output_type": "execute_result"
    }
   ],
   "source": [
    "df_merged.head()"
   ]
  },
  {
   "cell_type": "code",
   "execution_count": 42,
   "id": "cee2a40c",
   "metadata": {},
   "outputs": [
    {
     "name": "stdout",
     "output_type": "stream",
     "text": [
      "<class 'pandas.core.frame.DataFrame'>\n",
      "Index: 6497 entries, 0 to 4897\n",
      "Data columns (total 13 columns):\n",
      " #   Column                Non-Null Count  Dtype  \n",
      "---  ------                --------------  -----  \n",
      " 0   fixed acidity         6497 non-null   float64\n",
      " 1   volatile acidity      6497 non-null   float64\n",
      " 2   citric acid           6497 non-null   float64\n",
      " 3   residual sugar        6497 non-null   float64\n",
      " 4   chlorides             6497 non-null   float64\n",
      " 5   free sulfur dioxide   6497 non-null   float64\n",
      " 6   total sulfur dioxide  6497 non-null   float64\n",
      " 7   density               6497 non-null   float64\n",
      " 8   pH                    6497 non-null   float64\n",
      " 9   sulphates             6497 non-null   float64\n",
      " 10  alcohol               6497 non-null   float64\n",
      " 11  quality               6497 non-null   int64  \n",
      " 12  wine_red              6497 non-null   int64  \n",
      "dtypes: float64(11), int64(2)\n",
      "memory usage: 710.6 KB\n"
     ]
    }
   ],
   "source": [
    "df_merged.info()"
   ]
  },
  {
   "cell_type": "code",
   "execution_count": 43,
   "id": "514f1056",
   "metadata": {},
   "outputs": [
    {
     "name": "stdout",
     "output_type": "stream",
     "text": [
      "Проверяем количество строк: 6497 = 6497\n"
     ]
    }
   ],
   "source": [
    "print(f'Проверяем количество строк: {4898 + 1599} = 6497')"
   ]
  },
  {
   "attachments": {},
   "cell_type": "markdown",
   "id": "eb9f56a8",
   "metadata": {},
   "source": [
    "Строки не \"потерялись\", можем продолжать"
   ]
  },
  {
   "cell_type": "code",
   "execution_count": 44,
   "id": "08e6404f",
   "metadata": {},
   "outputs": [
    {
     "data": {
      "text/plain": [
       "wine_red\n",
       "0    4898\n",
       "1    1599\n",
       "Name: count, dtype: int64"
      ]
     },
     "execution_count": 44,
     "metadata": {},
     "output_type": "execute_result"
    }
   ],
   "source": [
    "df_merged['wine_red'].value_counts()"
   ]
  },
  {
   "attachments": {},
   "cell_type": "markdown",
   "id": "5870e1b5",
   "metadata": {},
   "source": [
    "Как и предполагалось, в выборке количество строк с красным вином больше практически в 3 раза, чем белого"
   ]
  },
  {
   "cell_type": "code",
   "execution_count": 45,
   "id": "b86fde37",
   "metadata": {},
   "outputs": [],
   "source": [
    "X = df_merged.drop(['wine_red'], axis=1)\n",
    "y = df_merged['wine_red']\n",
    "\n",
    "X_train, X_test, y_train, y_test = train_test_split(X, y, stratify=y, test_size=0.20, random_state=42)"
   ]
  },
  {
   "attachments": {},
   "cell_type": "markdown",
   "id": "10b6fb5f",
   "metadata": {},
   "source": [
    "Разделили выборку на обучающую и тестовую"
   ]
  },
  {
   "attachments": {},
   "cell_type": "markdown",
   "id": "84d0abc8",
   "metadata": {},
   "source": [
    "*2. Поскольку выборка несбалансирована, воспользуемся для оценки качества модели новой метрикой balanced_accuracy_score. Изучите формулу расчета метрики в документации и реализуйте функцию balanced_accuracy_score_my для ее расчета. На вход она должна принимать правильные и прогнозные метки классов, а возвращать число от 0 до 1. Убедитесь, что вы корректно реализовали расчет, сравнив значения, получаемые библиотечной реализацией и собственной, подавая на вход векторы:   y_true = [0, 1, 1, 1, 1, 1, 1, 0, 1]   y_pred = [1, 0, 1, 1, 1, 1, 0, 0, 1]*"
   ]
  },
  {
   "cell_type": "code",
   "execution_count": 46,
   "id": "315ed633",
   "metadata": {},
   "outputs": [],
   "source": [
    "def balanced_accuracy_score_my(y_true, y_pred):\n",
    "\n",
    "    #Sensitivity= TP / (TP + FN)       Specificity =TN / (TN + FP)\n",
    "    sensitivity = sensitivity_score(y_true, y_pred, average='binary')\n",
    "    specificity = specificity_score(y_true, y_pred, average='binary')\n",
    "    balanced_accuracy = (sensitivity + specificity) / 2\n",
    "    return balanced_accuracy"
   ]
  },
  {
   "attachments": {},
   "cell_type": "markdown",
   "id": "bcfc3907",
   "metadata": {},
   "source": [
    "Мы воспользуемся этой функцией позже"
   ]
  },
  {
   "attachments": {},
   "cell_type": "markdown",
   "id": "59f12a81",
   "metadata": {},
   "source": [
    "*3. Подберите лучшую модель решающего дерева:*\n",
    "*   Переберите несколько значений какого-либо гиперпараметра, отвечающего за сложность дерева, для каждого значения оцените качество на обучающей и валидационной частях\n",
    "*   Визуализируйте зависимость качества модели от значения гиперпараметров. Опишите зоны недообучения и переобучения, если вы их наблюдаете.\n",
    "*   Выведите значение гиперпараметра, при котором качество модели на валидационной части наилучшее. "
   ]
  },
  {
   "attachments": {},
   "cell_type": "markdown",
   "id": "842bc4be",
   "metadata": {},
   "source": [
    "Возьмем очень сложное дерево:"
   ]
  },
  {
   "cell_type": "code",
   "execution_count": 41,
   "id": "d8e182d9",
   "metadata": {},
   "outputs": [
    {
     "name": "stdout",
     "output_type": "stream",
     "text": [
      "Качество на обучающей выборке: 0.00025655827079725484\n",
      "Качество на валидационной выборке: 0.011538461538461539\n"
     ]
    }
   ],
   "source": [
    "model_1 = DecisionTreeRegressor(min_samples_leaf=1, random_state=1)\n",
    "\n",
    "model_1.fit(X_train, y_train)\n",
    "pred_train = model_1.predict(X_train)\n",
    "pred_test = model_1.predict(X_test)\n",
    "\n",
    "print(f'Качество на обучающей выборке: {mean_absolute_error(pred_train, y_train)}')\n",
    "print(f'Качество на валидационной выборке: {mean_absolute_error(pred_test, y_test)}')"
   ]
  },
  {
   "cell_type": "code",
   "execution_count": 42,
   "id": "3225528f",
   "metadata": {},
   "outputs": [
    {
     "data": {
      "text/plain": [
       "22"
      ]
     },
     "execution_count": 42,
     "metadata": {},
     "output_type": "execute_result"
    }
   ],
   "source": [
    "model_1.get_depth()"
   ]
  },
  {
   "cell_type": "code",
   "execution_count": 43,
   "id": "8a9a5e19",
   "metadata": {},
   "outputs": [
    {
     "data": {
      "text/plain": [
       "0.9870854591836735"
      ]
     },
     "execution_count": 43,
     "metadata": {},
     "output_type": "execute_result"
    }
   ],
   "source": [
    "balanced_accuracy_score_my(y_test, pred_test)"
   ]
  },
  {
   "cell_type": "code",
   "execution_count": 44,
   "id": "4f532a32",
   "metadata": {},
   "outputs": [
    {
     "data": {
      "text/plain": [
       "0.9378188775510204"
      ]
     },
     "execution_count": 44,
     "metadata": {},
     "output_type": "execute_result"
    }
   ],
   "source": [
    "model_1.score(X_test, y_test)"
   ]
  },
  {
   "attachments": {},
   "cell_type": "markdown",
   "id": "4a66e98f",
   "metadata": {},
   "source": [
    "Глубина дерева 22, однако модель дала хороший результат и на обучающей и на тестовой выборке, что говорит об обученной модели и отсутствия недообучения или переобучения. balanced_accuracy_score достаточно высокое значение"
   ]
  },
  {
   "attachments": {},
   "cell_type": "markdown",
   "id": "f4a92cfb",
   "metadata": {},
   "source": [
    "Понаблюдаем как меняются ошибки в зависимости от сложности алгоритма"
   ]
  },
  {
   "cell_type": "code",
   "execution_count": 45,
   "id": "42f9b810",
   "metadata": {},
   "outputs": [
    {
     "data": {
      "image/png": "[encoded data removed]",
      "text/plain": [
       "<Figure size 640x480 with 1 Axes>"
      ]
     },
     "metadata": {},
     "output_type": "display_data"
    }
   ],
   "source": [
    "res = []\n",
    "for param in range(1, 100, 1):\n",
    "    model_2 = DecisionTreeRegressor(min_samples_leaf=param, random_state=42)\n",
    "\n",
    "    model_2.fit(X_train, y_train)\n",
    "    pred_train = model_2.predict(X_train)\n",
    "    pred_test = model_2.predict(X_test)\n",
    "\n",
    "    res.append([param, mean_absolute_error(pred_train, y_train), mean_absolute_error(pred_test, y_test)])\n",
    "    \n",
    "res_pd = pd.DataFrame(res, columns=['min_samples_leaf', 'mae_train', 'mae_test'])\n",
    "\n",
    "res_pd.set_index('min_samples_leaf')['mae_train'].plot(label='mae_train')\n",
    "res_pd.set_index('min_samples_leaf')['mae_test'].plot(label='mae_test')\n",
    "plt.legend()\n",
    "plt.ylabel('MAE');"
   ]
  },
  {
   "cell_type": "code",
   "execution_count": 46,
   "id": "8b4f99bb",
   "metadata": {},
   "outputs": [
    {
     "data": {
      "text/html": [
       "<div>\n",
       "<style scoped>\n",
       "    .dataframe tbody tr th:only-of-type {\n",
       "        vertical-align: middle;\n",
       "    }\n",
       "\n",
       "    .dataframe tbody tr th {\n",
       "        vertical-align: top;\n",
       "    }\n",
       "\n",
       "    .dataframe thead th {\n",
       "        text-align: right;\n",
       "    }\n",
       "</style>\n",
       "<table border=\"1\" class=\"dataframe\">\n",
       "  <thead>\n",
       "    <tr style=\"text-align: right;\">\n",
       "      <th></th>\n",
       "      <th>min_samples_leaf</th>\n",
       "      <th>mae_train</th>\n",
       "      <th>mae_test</th>\n",
       "    </tr>\n",
       "  </thead>\n",
       "  <tbody>\n",
       "    <tr>\n",
       "      <th>0</th>\n",
       "      <td>1</td>\n",
       "      <td>0.000257</td>\n",
       "      <td>0.013077</td>\n",
       "    </tr>\n",
       "  </tbody>\n",
       "</table>\n",
       "</div>"
      ],
      "text/plain": [
       "   min_samples_leaf  mae_train  mae_test\n",
       "0                 1   0.000257  0.013077"
      ]
     },
     "execution_count": 46,
     "metadata": {},
     "output_type": "execute_result"
    }
   ],
   "source": [
    "res_pd[res_pd['mae_test'] == res_pd['mae_test'].min()]"
   ]
  },
  {
   "attachments": {},
   "cell_type": "markdown",
   "id": "c740f873",
   "metadata": {},
   "source": [
    "Получается, что min_samples_leaf должен быть равен 1, тогда достигаются наилучшие значения mae"
   ]
  },
  {
   "cell_type": "code",
   "execution_count": 47,
   "id": "03a68035",
   "metadata": {},
   "outputs": [
    {
     "data": {
      "image/png": "[encoded data removed]",
      "text/plain": [
       "<Figure size 640x480 with 1 Axes>"
      ]
     },
     "metadata": {},
     "output_type": "display_data"
    }
   ],
   "source": [
    "res_2 = []\n",
    "for param in range(1, 100, 1):\n",
    "    model_2 = DecisionTreeRegressor(max_depth=param, random_state=42)\n",
    "\n",
    "    model_2.fit(X_train, y_train)\n",
    "    pred_train2 = model_2.predict(X_train)\n",
    "    pred_test2 = model_2.predict(X_test)\n",
    "\n",
    "    res_2.append([param, mean_absolute_error(pred_train2, y_train), mean_absolute_error(pred_test2, y_test)])\n",
    "    \n",
    "res2_pd = pd.DataFrame(res_2, columns=['max_depth', 'mae_train', 'mae_test'])\n",
    "\n",
    "res2_pd.set_index('max_depth')['mae_train'].plot(label='mae_train')\n",
    "res2_pd.set_index('max_depth')['mae_test'].plot(label='mae_test')\n",
    "plt.legend()\n",
    "plt.ylabel('MAE');"
   ]
  },
  {
   "cell_type": "code",
   "execution_count": 48,
   "id": "a62a3237",
   "metadata": {},
   "outputs": [
    {
     "data": {
      "text/html": [
       "<div>\n",
       "<style scoped>\n",
       "    .dataframe tbody tr th:only-of-type {\n",
       "        vertical-align: middle;\n",
       "    }\n",
       "\n",
       "    .dataframe tbody tr th {\n",
       "        vertical-align: top;\n",
       "    }\n",
       "\n",
       "    .dataframe thead th {\n",
       "        text-align: right;\n",
       "    }\n",
       "</style>\n",
       "<table border=\"1\" class=\"dataframe\">\n",
       "  <thead>\n",
       "    <tr style=\"text-align: right;\">\n",
       "      <th></th>\n",
       "      <th>max_depth</th>\n",
       "      <th>mae_train</th>\n",
       "      <th>mae_test</th>\n",
       "    </tr>\n",
       "  </thead>\n",
       "  <tbody>\n",
       "    <tr>\n",
       "      <th>17</th>\n",
       "      <td>18</td>\n",
       "      <td>0.001004</td>\n",
       "      <td>0.01058</td>\n",
       "    </tr>\n",
       "  </tbody>\n",
       "</table>\n",
       "</div>"
      ],
      "text/plain": [
       "    max_depth  mae_train  mae_test\n",
       "17         18   0.001004   0.01058"
      ]
     },
     "execution_count": 48,
     "metadata": {},
     "output_type": "execute_result"
    }
   ],
   "source": [
    "res2_pd[res2_pd['mae_test'] == res2_pd['mae_test'].min()]"
   ]
  },
  {
   "cell_type": "code",
   "execution_count": 55,
   "id": "d4829e45",
   "metadata": {},
   "outputs": [
    {
     "data": {
      "text/plain": [
       "0.9850127551020408"
      ]
     },
     "execution_count": 55,
     "metadata": {},
     "output_type": "execute_result"
    }
   ],
   "source": [
    "balanced_accuracy_score_my(y_test, pred_test2)"
   ]
  },
  {
   "attachments": {},
   "cell_type": "markdown",
   "id": "540dc3ab",
   "metadata": {},
   "source": [
    "Максимальная глубина дерева 18, при ней наблюдается самая низкая mae и высокая точность модели"
   ]
  },
  {
   "attachments": {},
   "cell_type": "markdown",
   "id": "14533173",
   "metadata": {},
   "source": [
    "*4. Подберите лучшую модель случайного леса:*\n",
    "*   Переберите несколько значений какого-либо гиперпараметра дерева и для каждого из них — несколько значений гиперпараметра, отвечающего за количество решающих деревьев в случайном лесу. Для каждой комбинации гиперпараметров оцените качество на валидационной части.\n",
    "*   Визуализируйте зависимость качества модели от значений гиперпараметров с помощью функции imshow. Опишите особенности, которые вы наблюдаете.\n",
    "*   Выведите значения гиперпараметров, при которых качество модели на валидационной части выборки наилучшее."
   ]
  },
  {
   "cell_type": "code",
   "execution_count": 63,
   "id": "b08bde74",
   "metadata": {},
   "outputs": [
    {
     "data": {
      "image/png": "[encoded data removed]",
      "text/plain": [
       "<Figure size 640x480 with 1 Axes>"
      ]
     },
     "metadata": {},
     "output_type": "display_data"
    }
   ],
   "source": [
    "res_3 = []\n",
    "for n_tree in range(1, 10):\n",
    "    model_3 = RandomForestRegressor(n_estimators=n_tree, min_samples_leaf=2, random_state=7)\n",
    "\n",
    "    model_3.fit(X_train, y_train)\n",
    "    pred_train3 = model_3.predict(X_train)\n",
    "    pred_test3 = model_3.predict(X_test)\n",
    "\n",
    "    res_3.append([n_tree, mean_absolute_error(pred_train3, y_train), mean_absolute_error(pred_test3, y_test)])\n",
    "\n",
    "res3_pd = pd.DataFrame(res_3, columns=['n_tree', 'mae_train', 'mae_test'])\n",
    "\n",
    "res3_pd.set_index('n_tree')['mae_train'].plot(label='mae_train')\n",
    "res3_pd.set_index('n_tree')['mae_test'].plot(label='mae_test')\n",
    "plt.legend()\n",
    "plt.ylabel('MAE');"
   ]
  },
  {
   "cell_type": "code",
   "execution_count": 64,
   "id": "4ee012f5",
   "metadata": {},
   "outputs": [
    {
     "data": {
      "text/html": [
       "<div>\n",
       "<style scoped>\n",
       "    .dataframe tbody tr th:only-of-type {\n",
       "        vertical-align: middle;\n",
       "    }\n",
       "\n",
       "    .dataframe tbody tr th {\n",
       "        vertical-align: top;\n",
       "    }\n",
       "\n",
       "    .dataframe thead th {\n",
       "        text-align: right;\n",
       "    }\n",
       "</style>\n",
       "<table border=\"1\" class=\"dataframe\">\n",
       "  <thead>\n",
       "    <tr style=\"text-align: right;\">\n",
       "      <th></th>\n",
       "      <th>n_tree</th>\n",
       "      <th>mae_train</th>\n",
       "      <th>mae_test</th>\n",
       "    </tr>\n",
       "  </thead>\n",
       "  <tbody>\n",
       "    <tr>\n",
       "      <th>8</th>\n",
       "      <td>9</td>\n",
       "      <td>0.010988</td>\n",
       "      <td>0.015688</td>\n",
       "    </tr>\n",
       "  </tbody>\n",
       "</table>\n",
       "</div>"
      ],
      "text/plain": [
       "   n_tree  mae_train  mae_test\n",
       "8       9   0.010988  0.015688"
      ]
     },
     "execution_count": 64,
     "metadata": {},
     "output_type": "execute_result"
    }
   ],
   "source": [
    "res3_pd[res3_pd['mae_test'] == res3_pd['mae_test'].min()]"
   ]
  },
  {
   "attachments": {},
   "cell_type": "markdown",
   "id": "31029947",
   "metadata": {},
   "source": [
    "Минимальное количество деревьев - 9 при min_samples_leaf = 2."
   ]
  },
  {
   "cell_type": "code",
   "execution_count": 47,
   "id": "bd6a8517",
   "metadata": {},
   "outputs": [
    {
     "name": "stdout",
     "output_type": "stream",
     "text": [
      "Качество на обучающей выборке: 0.01228960828572855\n",
      "Качество на валидационной выборке: 0.014288715929871243\n"
     ]
    }
   ],
   "source": [
    "model_4 = RandomForestRegressor(min_samples_leaf=2, n_estimators=9, max_depth=10)\n",
    "\n",
    "model_4.fit(X_train, y_train)\n",
    "pred_train4 = model_4.predict(X_train)\n",
    "pred_test4 = model_4.predict(X_test)\n",
    "\n",
    "print(f'Качество на обучающей выборке: {mean_absolute_error(pred_train4, y_train)}')\n",
    "print(f'Качество на валидационной выборке: {mean_absolute_error(pred_test4, y_test)}')"
   ]
  },
  {
   "cell_type": "code",
   "execution_count": 101,
   "id": "f687059a",
   "metadata": {},
   "outputs": [
    {
     "data": {
      "text/plain": [
       "0.9720166347324866"
      ]
     },
     "execution_count": 101,
     "metadata": {},
     "output_type": "execute_result"
    }
   ],
   "source": [
    "model_4.score(X_test, y_test)"
   ]
  },
  {
   "attachments": {},
   "cell_type": "markdown",
   "id": "145be0f0",
   "metadata": {},
   "source": [
    "Максимальная количество деревьев 9, а min_samples_leaf 2, при этом наблюдается самая низкая mae и высокая точность модели"
   ]
  },
  {
   "attachments": {},
   "cell_type": "markdown",
   "id": "dee72ca1",
   "metadata": {},
   "source": [
    "*5. Подберите лучший вариант градиентного бустинга:*\n",
    "*   Выделите из обучающей части данных часть для валидации градиентного бустинга в ходе обучения.\n",
    "*   Зафиксируйте небольшое количество деревьев, значение какого-либо параметра, отвечающего за сложность решающих деревьев и значение величины шага градиентного бустинга. Обучите градиентный бустинг с выбранными параметрами, выводя в процессе обучения значение функции потерь на обучающей и валидационной частях. Выведите значение метрики качества на экран.\n",
    "*   На фиксированном небольшом количестве деревьев сравните 3-4 комбинации значений параметров величины шага градиентного бустинга и какого-либо параметра, отвечающего за сложность решающих деревьев.\n",
    "*   Выберите из рассмотренных комбинаций лучшую и обоснуйте свой выбор.\n",
    "*   Увеличьте количество деревьев и опишите эффект. Изучите значение гиперпараметра early_stopping_rounds и воспользуйтесь им, чтобы сэкономить время, войдя в переобучение модели."
   ]
  },
  {
   "cell_type": "code",
   "execution_count": 14,
   "id": "68cf9425",
   "metadata": {},
   "outputs": [],
   "source": [
    "from xgboost import XGBRegressor"
   ]
  },
  {
   "cell_type": "code",
   "execution_count": 20,
   "id": "911bb24f",
   "metadata": {},
   "outputs": [],
   "source": [
    "features_train_xgb, features_val, target_train_xgb, target_val = train_test_split(X_train, y_train, test_size=0.15, random_state=42)"
   ]
  },
  {
   "cell_type": "code",
   "execution_count": 31,
   "id": "34d3a3c9",
   "metadata": {},
   "outputs": [
    {
     "name": "stdout",
     "output_type": "stream",
     "text": [
      "[0]\tvalidation_0-rmse:0.45741\tvalidation_1-rmse:0.45770\n",
      "[1]\tvalidation_0-rmse:0.41880\tvalidation_1-rmse:0.41949\n",
      "[2]\tvalidation_0-rmse:0.38384\tvalidation_1-rmse:0.38499\n",
      "[3]\tvalidation_0-rmse:0.35240\tvalidation_1-rmse:0.35349\n",
      "[4]\tvalidation_0-rmse:0.32383\tvalidation_1-rmse:0.32504\n",
      "[5]\tvalidation_0-rmse:0.29722\tvalidation_1-rmse:0.29860\n",
      "[6]\tvalidation_0-rmse:0.27333\tvalidation_1-rmse:0.27504\n",
      "[7]\tvalidation_0-rmse:0.25163\tvalidation_1-rmse:0.25353\n"
     ]
    },
    {
     "name": "stdout",
     "output_type": "stream",
     "text": [
      "[8]\tvalidation_0-rmse:0.23209\tvalidation_1-rmse:0.23418\n",
      "[9]\tvalidation_0-rmse:0.21448\tvalidation_1-rmse:0.21693\n",
      "[10]\tvalidation_0-rmse:0.19859\tvalidation_1-rmse:0.20151\n",
      "[11]\tvalidation_0-rmse:0.18444\tvalidation_1-rmse:0.18767\n",
      "[12]\tvalidation_0-rmse:0.17190\tvalidation_1-rmse:0.17570\n",
      "[13]\tvalidation_0-rmse:0.16038\tvalidation_1-rmse:0.16491\n",
      "[14]\tvalidation_0-rmse:0.15017\tvalidation_1-rmse:0.15524\n",
      "[15]\tvalidation_0-rmse:0.14122\tvalidation_1-rmse:0.14683\n",
      "[16]\tvalidation_0-rmse:0.13338\tvalidation_1-rmse:0.13944\n",
      "[17]\tvalidation_0-rmse:0.12622\tvalidation_1-rmse:0.13294\n",
      "[18]\tvalidation_0-rmse:0.12006\tvalidation_1-rmse:0.12718\n",
      "[19]\tvalidation_0-rmse:0.11407\tvalidation_1-rmse:0.12133\n",
      "[20]\tvalidation_0-rmse:0.10896\tvalidation_1-rmse:0.11602\n",
      "[21]\tvalidation_0-rmse:0.10435\tvalidation_1-rmse:0.11161\n",
      "[22]\tvalidation_0-rmse:0.10041\tvalidation_1-rmse:0.10766\n",
      "[23]\tvalidation_0-rmse:0.09683\tvalidation_1-rmse:0.10433\n",
      "[24]\tvalidation_0-rmse:0.09347\tvalidation_1-rmse:0.10130\n",
      "[25]\tvalidation_0-rmse:0.09069\tvalidation_1-rmse:0.09888\n",
      "[26]\tvalidation_0-rmse:0.08801\tvalidation_1-rmse:0.09661\n",
      "[27]\tvalidation_0-rmse:0.08566\tvalidation_1-rmse:0.09501\n",
      "[28]\tvalidation_0-rmse:0.08366\tvalidation_1-rmse:0.09345\n",
      "[29]\tvalidation_0-rmse:0.08171\tvalidation_1-rmse:0.09183\n",
      "[30]\tvalidation_0-rmse:0.08014\tvalidation_1-rmse:0.09060\n",
      "[31]\tvalidation_0-rmse:0.07842\tvalidation_1-rmse:0.08931\n",
      "[32]\tvalidation_0-rmse:0.07726\tvalidation_1-rmse:0.08827\n",
      "[33]\tvalidation_0-rmse:0.07618\tvalidation_1-rmse:0.08743\n",
      "[34]\tvalidation_0-rmse:0.07514\tvalidation_1-rmse:0.08685\n",
      "[35]\tvalidation_0-rmse:0.07418\tvalidation_1-rmse:0.08639\n",
      "[36]\tvalidation_0-rmse:0.07319\tvalidation_1-rmse:0.08586\n",
      "[37]\tvalidation_0-rmse:0.07236\tvalidation_1-rmse:0.08537\n",
      "[38]\tvalidation_0-rmse:0.07160\tvalidation_1-rmse:0.08497\n",
      "[39]\tvalidation_0-rmse:0.07101\tvalidation_1-rmse:0.08471\n",
      "[40]\tvalidation_0-rmse:0.07021\tvalidation_1-rmse:0.08452\n",
      "[41]\tvalidation_0-rmse:0.06946\tvalidation_1-rmse:0.08424\n",
      "[42]\tvalidation_0-rmse:0.06870\tvalidation_1-rmse:0.08381\n",
      "[43]\tvalidation_0-rmse:0.06813\tvalidation_1-rmse:0.08365\n",
      "[44]\tvalidation_0-rmse:0.06756\tvalidation_1-rmse:0.08338\n",
      "[45]\tvalidation_0-rmse:0.06706\tvalidation_1-rmse:0.08314\n",
      "[46]\tvalidation_0-rmse:0.06662\tvalidation_1-rmse:0.08298\n",
      "[47]\tvalidation_0-rmse:0.06625\tvalidation_1-rmse:0.08296\n",
      "[48]\tvalidation_0-rmse:0.06583\tvalidation_1-rmse:0.08285\n",
      "[49]\tvalidation_0-rmse:0.06533\tvalidation_1-rmse:0.08269\n",
      "Ошибка на обучающей выборке: 0.020610193010544245\n",
      "Ошибка на валидационной выборке: 0.023534897527178356\n"
     ]
    },
    {
     "data": {
      "image/png": "[encoded data removed]",
      "text/plain": [
       "<Figure size 640x480 with 1 Axes>"
      ]
     },
     "metadata": {},
     "output_type": "display_data"
    }
   ],
   "source": [
    "model_xgb = XGBRegressor(n_estimators=50, max_depth=4, learning_rate=0.09)\n",
    "\n",
    "model_xgb.fit(features_train_xgb, target_train_xgb, eval_set= [(features_train_xgb, target_train_xgb), (features_val, target_val)])\n",
    "pred_train_xgb = model_xgb.predict(X_train)\n",
    "pred_test_xgb = model_xgb.predict(X_test)\n",
    "\n",
    "print(f'Ошибка на обучающей выборке: {mean_absolute_error(pred_train_xgb, y_train)}')\n",
    "print(f'Ошибка на валидационной выборке: {mean_absolute_error(pred_test_xgb, y_test)}')\n",
    "\n",
    "epochs = len(model_xgb.evals_result()['validation_0']['rmse'])\n",
    "x_axis = range(0, epochs)\n",
    "\n",
    "fig, ax = plt.subplots()\n",
    "\n",
    "ax.plot(x_axis, model_xgb.evals_result()['validation_0']['rmse'], label='Train')\n",
    "ax.plot(x_axis, model_xgb.evals_result()['validation_1']['rmse'], label='Val')\n",
    "\n",
    "plt.title('XGBoost RMSE')\n",
    "plt.xlabel(\"Boosting Iterations\")\n",
    "plt.ylabel(\"RMSE Deviance\")\n",
    "plt.legend(loc=\"upper right\");"
   ]
  },
  {
   "cell_type": "code",
   "execution_count": 32,
   "id": "657bdf72",
   "metadata": {},
   "outputs": [
    {
     "data": {
      "text/plain": [
       "0.9675479721701173"
      ]
     },
     "execution_count": 32,
     "metadata": {},
     "output_type": "execute_result"
    }
   ],
   "source": [
    "model_xgb.score(X_test, y_test)"
   ]
  },
  {
   "attachments": {},
   "cell_type": "markdown",
   "id": "1e4bec46",
   "metadata": {},
   "source": [
    "Максимальная точность модели достигается n_estimators=50 (количество) и max_depth=4 (максимальной глубиной)"
   ]
  },
  {
   "attachments": {},
   "cell_type": "markdown",
   "id": "ea27d71a",
   "metadata": {},
   "source": [
    "*6. В выводах напишите, какая модель показала себя лучше всего, какого качества удалось достичь.*"
   ]
  },
  {
   "attachments": {},
   "cell_type": "markdown",
   "id": "4a4379a9",
   "metadata": {},
   "source": [
    "Мы посмотрели следующие модели:\n",
    "*   DecisionTreeRegressor    глубина решающего дерева 22\n",
    "*   DecisionTreeRegressor    min_samples_leaf=1 max_depth=18\n",
    "*   RandomForestRegressor    Минимальное количество деревьев - 9 при min_samples_leaf = 2.\n",
    "*   XGBRegressor    n_estimators=50 (количество) и max_depth=4 (максимальной глубиной)"
   ]
  },
  {
   "attachments": {},
   "cell_type": "markdown",
   "id": "8f885411",
   "metadata": {},
   "source": [
    "Так как мы подбирали наилучшие параметры для каждой модели, то все они показывали себя \"хорошо\", качество у каждой было высокое, также как и MAE. Но например если ограничить модель DecisionTreeRegressor глубиной, например 3, то качество сильно упадет. "
   ]
  }
 ],
 "metadata": {
  "kernelspec": {
   "display_name": "Python 3 (ipykernel)",
   "language": "python",
   "name": "python3"
  },
  "language_info": {
   "codemirror_mode": {
    "name": "ipython",
    "version": 3
   },
   "file_extension": ".py",
   "mimetype": "text/x-python",
   "name": "python",
   "nbconvert_exporter": "python",
   "pygments_lexer": "ipython3",
   "version": "3.10.11"
  }
 },
 "nbformat": 4,
 "nbformat_minor": 5
}
