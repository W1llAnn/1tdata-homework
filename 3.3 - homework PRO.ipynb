{
 "cells": [
  {
   "cell_type": "markdown",
   "id": "08eaadea",
   "metadata": {},
   "source": [
    "**2. PRO уровень (Задание не обязательно к выполнению)**\n",
    "\n",
    "Доработав код захвата видео с камеры, сделайте запись видео с собой сегментированным, выводящим рукой надпись «1Т». Приложите ту часть кода на Python, которая ответственна за создание файла видео. Так же, как и в легком уровне, приложите скриншот сегментированного человека (это можете быть вы или какое-либо видео с человеком)."
   ]
  },
  {
   "cell_type": "code",
   "execution_count": 1,
   "id": "fc6d5565",
   "metadata": {},
   "outputs": [],
   "source": [
    "coco_labels = '''person \n",
    "bicycle\n",
    "car\n",
    "motorcycle\n",
    "airplane\n",
    "bus\n",
    "train\n",
    "truck\n",
    "boat\n",
    "traffic light\n",
    "fire hydrant\n",
    "street sign\n",
    "stop sign\n",
    "parking meter\n",
    "bench\n",
    "bird\n",
    "cat\n",
    "dog\n",
    "horse\n",
    "sheep\n",
    "cow\n",
    "elephant\n",
    "bear\n",
    "zebra\n",
    "giraffe\n",
    "hat\n",
    "backpack\n",
    "umbrella\n",
    "shoe\n",
    "eye glasses\n",
    "handbag\n",
    "tie\n",
    "suitcase\n",
    "frisbee\n",
    "skis\n",
    "snowboard\n",
    "sports ball\n",
    "kite\n",
    "baseball bat\n",
    "baseball glove\n",
    "skateboard\n",
    "surfboard\n",
    "tennis racket\n",
    "bottle\n",
    "plate\n",
    "wine glass\n",
    "cup\n",
    "fork\n",
    "knife\n",
    "spoon\n",
    "bowl\n",
    "banana\n",
    "apple\n",
    "sandwich\n",
    "orange\n",
    "broccoli\n",
    "carrot\n",
    "hot dog\n",
    "pizza\n",
    "donut\n",
    "cake\n",
    "chair\n",
    "couch\n",
    "potted plant\n",
    "bed\n",
    "mirror\n",
    "dining table\n",
    "window\n",
    "desk\n",
    "toilet\n",
    "door\n",
    "tv\n",
    "laptop\n",
    "mouse\n",
    "remote\n",
    "keyboard\n",
    "cell phone\n",
    "microwave\n",
    "oven\n",
    "toaster\n",
    "sink\n",
    "refrigerator\n",
    "blender\n",
    "book\n",
    "clock\n",
    "vase\n",
    "scissors\n",
    "teddy bear\n",
    "hair drier\n",
    "toothbrush\n",
    "hair brush'''.split()"
   ]
  },
  {
   "cell_type": "code",
   "execution_count": 2,
   "id": "490b0396",
   "metadata": {},
   "outputs": [
    {
     "ename": "KeyboardInterrupt",
     "evalue": "",
     "output_type": "error",
     "traceback": [
      "\u001b[1;31m---------------------------------------------------------------------------\u001b[0m",
      "\u001b[1;31mKeyboardInterrupt\u001b[0m                         Traceback (most recent call last)",
      "Cell \u001b[1;32mIn[2], line 8\u001b[0m\n\u001b[0;32m      6\u001b[0m \u001b[39mwhile\u001b[39;00m video\u001b[39m.\u001b[39misOpened():\n\u001b[0;32m      7\u001b[0m     difference \u001b[39m=\u001b[39m cv2\u001b[39m.\u001b[39mabsdiff(frame1, frame2)\n\u001b[1;32m----> 8\u001b[0m     gray \u001b[39m=\u001b[39m cv2\u001b[39m.\u001b[39;49mcvtColor(difference, cv2\u001b[39m.\u001b[39;49mCOLOR_BGR2GRAY)\n\u001b[0;32m      9\u001b[0m     blur \u001b[39m=\u001b[39m cv2\u001b[39m.\u001b[39mGaussianBlur(gray, (\u001b[39m5\u001b[39m,\u001b[39m5\u001b[39m), \u001b[39m0\u001b[39m)\n\u001b[0;32m     10\u001b[0m     _, threshold \u001b[39m=\u001b[39m cv2\u001b[39m.\u001b[39mthreshold(blur, \u001b[39m20\u001b[39m, \u001b[39m255\u001b[39m, cv2\u001b[39m.\u001b[39mTHRESH_BINARY)\n",
      "\u001b[1;31mKeyboardInterrupt\u001b[0m: "
     ]
    },
    {
     "ename": "",
     "evalue": "",
     "output_type": "error",
     "traceback": [
      "\u001b[1;31mПри выполнении кода в текущей ячейке или предыдущей ячейке ядро аварийно завершило работу. Проверьте код в ячейках, чтобы определить возможную причину сбоя. Щелкните <a href=\"https://aka.ms/vscodeJupyterKernelCrash\">здесь</a> для получения дополнительных сведений. Подробнее см. в <a href='command:jupyter.viewOutput'>журнале Jupyter</a>."
     ]
    }
   ],
   "source": [
    "import numpy as np\n",
    "import cv2\n",
    "video = cv2.VideoCapture(\"3-3/video_preview_h264.mp4\")\n",
    "ret, frame1 = video.read()\n",
    "ret, frame2 = video.read()\n",
    "while video.isOpened():\n",
    "    difference = cv2.absdiff(frame1, frame2)\n",
    "    gray = cv2.cvtColor(difference, cv2.COLOR_BGR2GRAY)\n",
    "    blur = cv2.GaussianBlur(gray, (5,5), 0)\n",
    "    _, threshold = cv2.threshold(blur, 20, 255, cv2.THRESH_BINARY)\n",
    "    dilate = cv2.dilate(threshold, None, iterations=3)\n",
    "    contour, _ = cv2.findContours(dilate, cv2.RETR_TREE, cv2.CHAIN_APPROX_SIMPLE)\n",
    "    cv2.drawContours(frame1, contour, -1, (0, 0, 255), 2)\n",
    "    cv2.imshow(\"image\", frame1)\n",
    "    frame1 = frame2\n",
    "    ret, frame2 = video.read()\n",
    "    if cv2.waitKey(40) == ord('q'):\n",
    "        break\n",
    "video.release()"
   ]
  },
  {
   "cell_type": "code",
   "execution_count": null,
   "id": "44cd4c39",
   "metadata": {},
   "outputs": [],
   "source": []
  },
  {
   "cell_type": "code",
   "execution_count": 11,
   "id": "9927fea9",
   "metadata": {},
   "outputs": [
    {
     "ename": "KeyboardInterrupt",
     "evalue": "",
     "output_type": "error",
     "traceback": [
      "\u001b[1;31m---------------------------------------------------------------------------\u001b[0m",
      "\u001b[1;31mKeyboardInterrupt\u001b[0m                         Traceback (most recent call last)",
      "Cell \u001b[1;32mIn[11], line 37\u001b[0m\n\u001b[0;32m     34\u001b[0m     face_capture()\n\u001b[0;32m     36\u001b[0m \u001b[39mif\u001b[39;00m \u001b[39m__name__\u001b[39m \u001b[39m==\u001b[39m \u001b[39m'\u001b[39m\u001b[39m__main__\u001b[39m\u001b[39m'\u001b[39m:\n\u001b[1;32m---> 37\u001b[0m     main()\n",
      "Cell \u001b[1;32mIn[11], line 34\u001b[0m, in \u001b[0;36mmain\u001b[1;34m()\u001b[0m\n\u001b[0;32m     33\u001b[0m \u001b[39mdef\u001b[39;00m \u001b[39mmain\u001b[39m():\n\u001b[1;32m---> 34\u001b[0m     face_capture()\n",
      "Cell \u001b[1;32mIn[11], line 13\u001b[0m, in \u001b[0;36mface_capture\u001b[1;34m()\u001b[0m\n\u001b[0;32m     10\u001b[0m _, frame \u001b[39m=\u001b[39m camera\u001b[39m.\u001b[39mread()\n\u001b[0;32m     11\u001b[0m gray \u001b[39m=\u001b[39m cv2\u001b[39m.\u001b[39mcvtColor(frame, cv2\u001b[39m.\u001b[39mCOLOR_BGR2GRAY)\n\u001b[1;32m---> 13\u001b[0m faces \u001b[39m=\u001b[39m clf\u001b[39m.\u001b[39;49mdetectMultiScale(\n\u001b[0;32m     14\u001b[0m     gray,\n\u001b[0;32m     15\u001b[0m     \n\u001b[0;32m     16\u001b[0m     minNeighbors\u001b[39m=\u001b[39;49m\u001b[39m5\u001b[39;49m,\n\u001b[0;32m     17\u001b[0m     minSize\u001b[39m=\u001b[39;49m(\u001b[39m30\u001b[39;49m, \u001b[39m30\u001b[39;49m),\n\u001b[0;32m     18\u001b[0m     flags\u001b[39m=\u001b[39;49mcv2\u001b[39m.\u001b[39;49mCASCADE_SCALE_IMAGE\n\u001b[0;32m     19\u001b[0m )\n\u001b[0;32m     21\u001b[0m \u001b[39mfor\u001b[39;00m (x, y, width, height) \u001b[39min\u001b[39;00m faces:\n\u001b[0;32m     22\u001b[0m     cv2\u001b[39m.\u001b[39mrectangle(frame, (x, y), (x \u001b[39m+\u001b[39m width, y \u001b[39m+\u001b[39m height), (\u001b[39m255\u001b[39m, \u001b[39m255\u001b[39m, \u001b[39m255\u001b[39m), \u001b[39m2\u001b[39m)\n",
      "\u001b[1;31mKeyboardInterrupt\u001b[0m: "
     ]
    },
    {
     "ename": "",
     "evalue": "",
     "output_type": "error",
     "traceback": [
      "\u001b[1;31mПри выполнении кода в текущей ячейке или предыдущей ячейке ядро аварийно завершило работу. Проверьте код в ячейках, чтобы определить возможную причину сбоя. Щелкните <a href=\"https://aka.ms/vscodeJupyterKernelCrash\">здесь</a> для получения дополнительных сведений. Подробнее см. в <a href='command:jupyter.viewOutput'>журнале Jupyter</a>."
     ]
    }
   ],
   "source": [
    "from platform import release\n",
    "import cv2\n",
    "\n",
    "def face_capture():\n",
    "    cascade_path = '3-3/haarcascade_frontalface_default.xml'\n",
    "    clf = cv2.CascadeClassifier(cascade_path)\n",
    "    camera = cv2.VideoCapture(0)\n",
    "\n",
    "    while True:\n",
    "        _, frame = camera.read()\n",
    "        gray = cv2.cvtColor(frame, cv2.COLOR_BGR2GRAY)\n",
    "\n",
    "        faces = clf.detectMultiScale(\n",
    "            gray,\n",
    "            \n",
    "            minNeighbors=5,\n",
    "            minSize=(30, 30),\n",
    "            flags=cv2.CASCADE_SCALE_IMAGE\n",
    "        )\n",
    "\n",
    "        for (x, y, width, height) in faces:\n",
    "            cv2.rectangle(frame, (x, y), (x + width, y + height), (255, 255, 255), 2)\n",
    "\n",
    "        cv2.imshow('Super Faces', frame)\n",
    "\n",
    "        if cv2.waitKey(1) == ord('h'):\n",
    "            break\n",
    "\n",
    "    camera.release()\n",
    "    cv2.destroyAllWindows()\n",
    "\n",
    "\n",
    "def main():\n",
    "    face_capture()\n",
    "\n",
    "if __name__ == '__main__':\n",
    "    main()"
   ]
  },
  {
   "cell_type": "code",
   "execution_count": null,
   "id": "36ab17dc",
   "metadata": {},
   "outputs": [],
   "source": []
  },
  {
   "cell_type": "code",
   "execution_count": null,
   "id": "0ad66d74",
   "metadata": {},
   "outputs": [],
   "source": []
  }
 ],
 "metadata": {
  "kernelspec": {
   "display_name": "Python 3 (ipykernel)",
   "language": "python",
   "name": "python3"
  },
  "language_info": {
   "codemirror_mode": {
    "name": "ipython",
    "version": 3
   },
   "file_extension": ".py",
   "mimetype": "text/x-python",
   "name": "python",
   "nbconvert_exporter": "python",
   "pygments_lexer": "ipython3",
   "version": "3.11.4"
  }
 },
 "nbformat": 4,
 "nbformat_minor": 5
}
