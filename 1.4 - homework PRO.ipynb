{
  "cells": [
    {
      "attachments": {},
      "cell_type": "markdown",
      "id": "8277ca02",
      "metadata": {
        "id": "8277ca02",
        "papermill": {
          "duration": 0.112743,
          "end_time": "2022-09-17T00:12:57.265328",
          "exception": false,
          "start_time": "2022-09-17T00:12:57.152585",
          "status": "completed"
        },
        "tags": []
      },
      "source": [
        "\n",
        "# Проверка гипотез с помощью python."
      ]
    },
    {
      "attachments": {},
      "cell_type": "markdown",
      "id": "ed2f4a30",
      "metadata": {
        "id": "ed2f4a30",
        "papermill": {
          "duration": 0.109327,
          "end_time": "2022-09-17T00:12:57.963155",
          "exception": false,
          "start_time": "2022-09-17T00:12:57.853828",
          "status": "completed"
        },
        "tags": []
      },
      "source": [
        "## Задание\n",
        "\n",
        "* Выполнить проверку предложенной гипотезы\n",
        "* Выполнить проверку статистической гипотезы для проверки нормальности числовых признаков\n",
        "* Проверка мультиколлинеарности\n",
        "* Все статистические тесты должны быть выполнены с 95%-м уровнем достоверности (т.е. значение р < 0,05)"
      ]
    },
    {
      "attachments": {},
      "cell_type": "markdown",
      "id": "b36dd14f-cd82-46c1-87de-cde64db77940",
      "metadata": {
        "id": "b36dd14f-cd82-46c1-87de-cde64db77940",
        "papermill": {
          "duration": 0.106947,
          "end_time": "2022-09-17T00:13:02.034149",
          "exception": false,
          "start_time": "2022-09-17T00:13:01.927202",
          "status": "completed"
        },
        "tags": []
      },
      "source": [
        "## Датасет"
      ]
    },
    {
      "attachments": {},
      "cell_type": "markdown",
      "id": "ab7d97da-ee9e-4cd5-8d01-f75481a99393",
      "metadata": {
        "id": "ab7d97da-ee9e-4cd5-8d01-f75481a99393"
      },
      "source": [
        "Как данные представлены заказчиком:"
      ]
    },
    {
      "attachments": {},
      "cell_type": "markdown",
      "id": "746dd87c-32f5-4ee4-97f3-ace09b9661ae",
      "metadata": {
        "id": "746dd87c-32f5-4ee4-97f3-ace09b9661ae",
        "papermill": {
          "duration": 0.107761,
          "end_time": "2022-09-17T00:13:02.248931",
          "exception": false,
          "start_time": "2022-09-17T00:13:02.141170",
          "status": "completed"
        },
        "tags": []
      },
      "source": [
        "<table>\n",
        "<thead><tr>\n",
        "<th><strong>Feature Name</strong></th>\n",
        "<th><strong>Description</strong></th>\n",
        "<th><strong>Data Type</strong></th>\n",
        "</tr>\n",
        "</thead>\n",
        "<tbody>\n",
        "<tr>\n",
        "<td>customerID</td>\n",
        "<td>Содержит идентификатор клиента</td>\n",
        "<td>categorical</td>\n",
        "</tr>\n",
        "<tr>\n",
        "<td>gender</td>\n",
        "<td>Пол клиента</td>\n",
        "<td>categorical</td>\n",
        "</tr>\n",
        "<tr>\n",
        "<td>SeniorCitizen</td>\n",
        "<td>Является ли клиент пожилым гражданином</td>\n",
        "<td>numeric, int</td>\n",
        "</tr>\n",
        "<tr>\n",
        "<td>Partner</td>\n",
        "<td>Есть ли у клиента партнер</td>\n",
        "<td>categorical</td>\n",
        "</tr>\n",
        "<tr>\n",
        "<td>Dependents</td>\n",
        "<td>Является ли клиент кормильцем</td>\n",
        "<td>categorical</td>\n",
        "</tr>\n",
        "<tr>\n",
        "<td>tenure</td>\n",
        "<td>Количество месяцев, в течение которых клиент оставался в компании</td>\n",
        "<td>numeric, int</td>\n",
        "</tr>\n",
        "<tr>\n",
        "<td>PhoneService</td>\n",
        "<td>Есть ли у клиента телефонная связь</td>\n",
        "<td>categorical</td>\n",
        "</tr>\n",
        "<tr>\n",
        "<td>MultipleLines</td>\n",
        "<td>Есть ли у клиента несколько линий</td>\n",
        "<td>categorical</td>\n",
        "</tr>\n",
        "<tr>\n",
        "<td>InternetService</td>\n",
        "<td>Интернет-провайдер клиента</td>\n",
        "<td>categorical</td>\n",
        "</tr>\n",
        "<tr>\n",
        "<td>OnlineSecurity</td>\n",
        "<td>Есть ли у клиента онлайн-безопасность</td>\n",
        "<td>categorical</td>\n",
        "</tr>\n",
        "<tr>\n",
        "<td>OnlineBackup</td>\n",
        "<td>Есть ли у клиента онлайн-резервное копирование</td>\n",
        "<td>categorical</td>\n",
        "</tr>\n",
        "<tr>\n",
        "<td>DeviceProtection</td>\n",
        "<td>Имеет ли клиент защиту устройства</td>\n",
        "<td>categorical</td>\n",
        "</tr>\n",
        "<tr>\n",
        "<td>TechSupport</td>\n",
        "<td>Есть ли у клиента техническая поддержка</td>\n",
        "<td>categorical</td>\n",
        "</tr>\n",
        "<tr>\n",
        "<td>streamingTV</td>\n",
        "<td>Есть ли у клиента потоковое телевидение</td>\n",
        "<td>categorical</td>\n",
        "</tr>\n",
        "<tr>\n",
        "<td>streamingMovies</td>\n",
        "<td>Есть ли у клиента стриминговые сервисы</td>\n",
        "<td>categorical</td>\n",
        "</tr>\n",
        "<tr>\n",
        "<td>Contract</td>\n",
        "<td>Срок действия контракта заказчика</td>\n",
        "<td>categorical</td>\n",
        "</tr>\n",
        "<tr>\n",
        "<td>PaperlessBilling</td>\n",
        "<td>Имеет ли клиент безналичные счета</td>\n",
        "<td>categorical</td>\n",
        "</tr>\n",
        "<tr>\n",
        "<td>PaymentMethod</td>\n",
        "<td>Способ оплаты клиента</td>\n",
        "<td>categorical</td>\n",
        "</tr>\n",
        "<tr>\n",
        "<td>MonthlyCharges</td>\n",
        "<td>Сумма, взимаемая с клиента ежемесячно </td>\n",
        "<td> numeric , int</td>\n",
        "</tr>\n",
        "<tr>\n",
        "<td>TotalCharges</td>\n",
        "<td>Общая сумма, списанная с клиента</td>\n",
        "<td>object</td>\n",
        "</tr>\n",
        "<tr>\n",
        "<td>Churn</td>\n",
        "<td>Ушел ли клиент</td>\n",
        "<td>categorical</td>\n",
        "</tr>\n",
        "</tbody>\n",
        "</table>"
      ]
    },
    {
      "attachments": {},
      "cell_type": "markdown",
      "id": "08ae603f-bf76-4e2a-b7e0-cc8f4c48ea08",
      "metadata": {
        "id": "08ae603f-bf76-4e2a-b7e0-cc8f4c48ea08"
      },
      "source": [
        "Описание от заказчика:\n",
        "\n",
        "Каждая строка представляет клиента, каждый столбец содержит атрибуты клиента.\n",
        "\n",
        "Набор данных включает информацию :\n",
        "\n",
        "- Клиенты, которые ушли в течение последнего месяца — колонка называется `Churn`\n",
        "- Услуги, на которые подписался каждый клиент — телефон, несколько линий, интернет, онлайн-безопасность, резервное копирование, защита устройств, техническая поддержка, потоковое ТВ и фильмы.\n",
        "- Информация о счетах клиентов — как долго они являются клиентами, контракт, способ оплаты, безналичные счета, ежемесячные платежи и общая сумма платежей.\n",
        "- Демографическая информация о клиентах — пол, возраст, наличие партнеров и иждивенцев."
      ]
    },
    {
      "attachments": {},
      "cell_type": "markdown",
      "id": "d5987f69",
      "metadata": {
        "id": "d5987f69",
        "papermill": {
          "duration": 0.104938,
          "end_time": "2022-09-17T00:12:58.405685",
          "exception": false,
          "start_time": "2022-09-17T00:12:58.300747",
          "status": "completed"
        },
        "tags": []
      },
      "source": [
        "## 1. Импорт Библиотек "
      ]
    },
    {
      "attachments": {},
      "cell_type": "markdown",
      "id": "02b1ba32-c7a4-4cca-940c-2c26096652a5",
      "metadata": {
        "id": "02b1ba32-c7a4-4cca-940c-2c26096652a5"
      },
      "source": [
        "Импортируйте необходимые библиотеки"
      ]
    },
    {
      "cell_type": "code",
      "execution_count": 27,
      "id": "aced3dd7",
      "metadata": {
        "_kg_hide-input": true,
        "id": "aced3dd7",
        "papermill": {
          "duration": 2.648922,
          "end_time": "2022-09-17T00:13:01.160303",
          "exception": false,
          "start_time": "2022-09-17T00:12:58.511381",
          "status": "completed"
        },
        "tags": []
      },
      "outputs": [],
      "source": [
        "import numpy as np\n",
        "import pandas as pd\n",
        "pd.set_option('display.max_columns', None) # отобразить все колонки\n",
        "\n",
        "from scipy import stats"
      ]
    },
    {
      "attachments": {},
      "cell_type": "markdown",
      "id": "a08aba17",
      "metadata": {
        "id": "a08aba17",
        "papermill": {
          "duration": 0.105855,
          "end_time": "2022-09-17T00:13:01.597528",
          "exception": false,
          "start_time": "2022-09-17T00:13:01.491673",
          "status": "completed"
        },
        "tags": []
      },
      "source": [
        "## Данные"
      ]
    },
    {
      "cell_type": "code",
      "execution_count": 52,
      "id": "423cbac6",
      "metadata": {
        "id": "423cbac6",
        "papermill": {
          "duration": 0.24658,
          "end_time": "2022-09-17T00:13:02.607322",
          "exception": false,
          "start_time": "2022-09-17T00:13:02.360742",
          "status": "completed"
        },
        "tags": []
      },
      "outputs": [
        {
          "data": {
            "text/html": [
              "<div>\n",
              "<style scoped>\n",
              "    .dataframe tbody tr th:only-of-type {\n",
              "        vertical-align: middle;\n",
              "    }\n",
              "\n",
              "    .dataframe tbody tr th {\n",
              "        vertical-align: top;\n",
              "    }\n",
              "\n",
              "    .dataframe thead th {\n",
              "        text-align: right;\n",
              "    }\n",
              "</style>\n",
              "<table border=\"1\" class=\"dataframe\">\n",
              "  <thead>\n",
              "    <tr style=\"text-align: right;\">\n",
              "      <th></th>\n",
              "      <th>customerID</th>\n",
              "      <th>gender</th>\n",
              "      <th>SeniorCitizen</th>\n",
              "      <th>Partner</th>\n",
              "      <th>Dependents</th>\n",
              "      <th>tenure</th>\n",
              "      <th>PhoneService</th>\n",
              "      <th>MultipleLines</th>\n",
              "      <th>InternetService</th>\n",
              "      <th>OnlineSecurity</th>\n",
              "      <th>OnlineBackup</th>\n",
              "      <th>DeviceProtection</th>\n",
              "      <th>TechSupport</th>\n",
              "      <th>StreamingTV</th>\n",
              "      <th>StreamingMovies</th>\n",
              "      <th>Contract</th>\n",
              "      <th>PaperlessBilling</th>\n",
              "      <th>PaymentMethod</th>\n",
              "      <th>MonthlyCharges</th>\n",
              "      <th>TotalCharges</th>\n",
              "      <th>Churn</th>\n",
              "    </tr>\n",
              "  </thead>\n",
              "  <tbody>\n",
              "    <tr>\n",
              "      <th>0</th>\n",
              "      <td>7590-VHVEG</td>\n",
              "      <td>Female</td>\n",
              "      <td>0</td>\n",
              "      <td>Yes</td>\n",
              "      <td>No</td>\n",
              "      <td>1</td>\n",
              "      <td>No</td>\n",
              "      <td>No phone service</td>\n",
              "      <td>DSL</td>\n",
              "      <td>No</td>\n",
              "      <td>Yes</td>\n",
              "      <td>No</td>\n",
              "      <td>No</td>\n",
              "      <td>No</td>\n",
              "      <td>No</td>\n",
              "      <td>Month-to-month</td>\n",
              "      <td>Yes</td>\n",
              "      <td>Electronic check</td>\n",
              "      <td>29.85</td>\n",
              "      <td>29.85</td>\n",
              "      <td>No</td>\n",
              "    </tr>\n",
              "    <tr>\n",
              "      <th>1</th>\n",
              "      <td>5575-GNVDE</td>\n",
              "      <td>Male</td>\n",
              "      <td>0</td>\n",
              "      <td>No</td>\n",
              "      <td>No</td>\n",
              "      <td>34</td>\n",
              "      <td>Yes</td>\n",
              "      <td>No</td>\n",
              "      <td>DSL</td>\n",
              "      <td>Yes</td>\n",
              "      <td>No</td>\n",
              "      <td>Yes</td>\n",
              "      <td>No</td>\n",
              "      <td>No</td>\n",
              "      <td>No</td>\n",
              "      <td>One year</td>\n",
              "      <td>No</td>\n",
              "      <td>Mailed check</td>\n",
              "      <td>56.95</td>\n",
              "      <td>1889.5</td>\n",
              "      <td>No</td>\n",
              "    </tr>\n",
              "    <tr>\n",
              "      <th>2</th>\n",
              "      <td>3668-QPYBK</td>\n",
              "      <td>Male</td>\n",
              "      <td>0</td>\n",
              "      <td>No</td>\n",
              "      <td>No</td>\n",
              "      <td>2</td>\n",
              "      <td>Yes</td>\n",
              "      <td>No</td>\n",
              "      <td>DSL</td>\n",
              "      <td>Yes</td>\n",
              "      <td>Yes</td>\n",
              "      <td>No</td>\n",
              "      <td>No</td>\n",
              "      <td>No</td>\n",
              "      <td>No</td>\n",
              "      <td>Month-to-month</td>\n",
              "      <td>Yes</td>\n",
              "      <td>Mailed check</td>\n",
              "      <td>53.85</td>\n",
              "      <td>108.15</td>\n",
              "      <td>Yes</td>\n",
              "    </tr>\n",
              "    <tr>\n",
              "      <th>3</th>\n",
              "      <td>7795-CFOCW</td>\n",
              "      <td>Male</td>\n",
              "      <td>0</td>\n",
              "      <td>No</td>\n",
              "      <td>No</td>\n",
              "      <td>45</td>\n",
              "      <td>No</td>\n",
              "      <td>No phone service</td>\n",
              "      <td>DSL</td>\n",
              "      <td>Yes</td>\n",
              "      <td>No</td>\n",
              "      <td>Yes</td>\n",
              "      <td>Yes</td>\n",
              "      <td>No</td>\n",
              "      <td>No</td>\n",
              "      <td>One year</td>\n",
              "      <td>No</td>\n",
              "      <td>Bank transfer (automatic)</td>\n",
              "      <td>42.30</td>\n",
              "      <td>1840.75</td>\n",
              "      <td>No</td>\n",
              "    </tr>\n",
              "    <tr>\n",
              "      <th>4</th>\n",
              "      <td>9237-HQITU</td>\n",
              "      <td>Female</td>\n",
              "      <td>0</td>\n",
              "      <td>No</td>\n",
              "      <td>No</td>\n",
              "      <td>2</td>\n",
              "      <td>Yes</td>\n",
              "      <td>No</td>\n",
              "      <td>Fiber optic</td>\n",
              "      <td>No</td>\n",
              "      <td>No</td>\n",
              "      <td>No</td>\n",
              "      <td>No</td>\n",
              "      <td>No</td>\n",
              "      <td>No</td>\n",
              "      <td>Month-to-month</td>\n",
              "      <td>Yes</td>\n",
              "      <td>Electronic check</td>\n",
              "      <td>70.70</td>\n",
              "      <td>151.65</td>\n",
              "      <td>Yes</td>\n",
              "    </tr>\n",
              "  </tbody>\n",
              "</table>\n",
              "</div>"
            ],
            "text/plain": [
              "   customerID  gender  SeniorCitizen Partner Dependents  tenure PhoneService   \n",
              "0  7590-VHVEG  Female              0     Yes         No       1           No  \\\n",
              "1  5575-GNVDE    Male              0      No         No      34          Yes   \n",
              "2  3668-QPYBK    Male              0      No         No       2          Yes   \n",
              "3  7795-CFOCW    Male              0      No         No      45           No   \n",
              "4  9237-HQITU  Female              0      No         No       2          Yes   \n",
              "\n",
              "      MultipleLines InternetService OnlineSecurity OnlineBackup   \n",
              "0  No phone service             DSL             No          Yes  \\\n",
              "1                No             DSL            Yes           No   \n",
              "2                No             DSL            Yes          Yes   \n",
              "3  No phone service             DSL            Yes           No   \n",
              "4                No     Fiber optic             No           No   \n",
              "\n",
              "  DeviceProtection TechSupport StreamingTV StreamingMovies        Contract   \n",
              "0               No          No          No              No  Month-to-month  \\\n",
              "1              Yes          No          No              No        One year   \n",
              "2               No          No          No              No  Month-to-month   \n",
              "3              Yes         Yes          No              No        One year   \n",
              "4               No          No          No              No  Month-to-month   \n",
              "\n",
              "  PaperlessBilling              PaymentMethod  MonthlyCharges TotalCharges   \n",
              "0              Yes           Electronic check           29.85        29.85  \\\n",
              "1               No               Mailed check           56.95       1889.5   \n",
              "2              Yes               Mailed check           53.85       108.15   \n",
              "3               No  Bank transfer (automatic)           42.30      1840.75   \n",
              "4              Yes           Electronic check           70.70       151.65   \n",
              "\n",
              "  Churn  \n",
              "0    No  \n",
              "1    No  \n",
              "2   Yes  \n",
              "3    No  \n",
              "4   Yes  "
            ]
          },
          "execution_count": 52,
          "metadata": {},
          "output_type": "execute_result"
        }
      ],
      "source": [
        "df = pd.read_csv('https://raw.githubusercontent.com/W1llAnn/1tdata-homework/main/1.4churn.csv', delimiter=',')\n",
        "df.head()"
      ]
    },
    {
      "attachments": {},
      "cell_type": "markdown",
      "id": "59d8f6d7",
      "metadata": {
        "id": "59d8f6d7",
        "papermill": {
          "duration": 0.110182,
          "end_time": "2022-09-17T00:13:04.215152",
          "exception": false,
          "start_time": "2022-09-17T00:13:04.104970",
          "status": "completed"
        },
        "tags": []
      },
      "source": [
        "## 2. Описательный анализ данных"
      ]
    },
    {
      "attachments": {},
      "cell_type": "markdown",
      "id": "4f3a9143-db55-4062-92c1-95bae165c967",
      "metadata": {
        "id": "4f3a9143-db55-4062-92c1-95bae165c967"
      },
      "source": [
        "Рассмотрите данные — изучите медианы, средние, дисперсии и т.д. \n",
        "\n",
        "Что можете сказать о данных? Сделайте вывод."
      ]
    },
    {
      "cell_type": "code",
      "execution_count": 6,
      "id": "103b2699-e4bd-46b4-a287-d4e70ad26878",
      "metadata": {
        "id": "103b2699-e4bd-46b4-a287-d4e70ad26878"
      },
      "outputs": [
        {
          "name": "stdout",
          "output_type": "stream",
          "text": [
            "<class 'pandas.core.frame.DataFrame'>\n",
            "RangeIndex: 7043 entries, 0 to 7042\n",
            "Data columns (total 21 columns):\n",
            " #   Column            Non-Null Count  Dtype  \n",
            "---  ------            --------------  -----  \n",
            " 0   customerID        7043 non-null   object \n",
            " 1   gender            7043 non-null   object \n",
            " 2   SeniorCitizen     7043 non-null   int64  \n",
            " 3   Partner           7043 non-null   object \n",
            " 4   Dependents        7043 non-null   object \n",
            " 5   tenure            7043 non-null   int64  \n",
            " 6   PhoneService      7043 non-null   object \n",
            " 7   MultipleLines     7043 non-null   object \n",
            " 8   InternetService   7043 non-null   object \n",
            " 9   OnlineSecurity    7043 non-null   object \n",
            " 10  OnlineBackup      7043 non-null   object \n",
            " 11  DeviceProtection  7043 non-null   object \n",
            " 12  TechSupport       7043 non-null   object \n",
            " 13  StreamingTV       7043 non-null   object \n",
            " 14  StreamingMovies   7043 non-null   object \n",
            " 15  Contract          7043 non-null   object \n",
            " 16  PaperlessBilling  7043 non-null   object \n",
            " 17  PaymentMethod     7043 non-null   object \n",
            " 18  MonthlyCharges    7043 non-null   float64\n",
            " 19  TotalCharges      7043 non-null   object \n",
            " 20  Churn             7043 non-null   object \n",
            "dtypes: float64(1), int64(2), object(18)\n",
            "memory usage: 1.1+ MB\n"
          ]
        }
      ],
      "source": [
        "df.info()"
      ]
    },
    {
      "attachments": {},
      "cell_type": "markdown",
      "id": "e2801702",
      "metadata": {},
      "source": [
        "Опишем наш датафрейм в общем:\n",
        " - Всего 7043 строки, пустые строки (NaN) отсутствуют\n",
        " - Всего 21 колонка. Из них со значениями float64 1 колонка, int64 2 колонки, object 18 колонок\n",
        " - Объем занимаемый датафреймом 1.1+ MB"
      ]
    },
    {
      "attachments": {},
      "cell_type": "markdown",
      "id": "de6d60ef",
      "metadata": {},
      "source": [
        "Рассмотрим статистику для числовых данных:"
      ]
    },
    {
      "cell_type": "code",
      "execution_count": 4,
      "id": "8e8e865f",
      "metadata": {},
      "outputs": [
        {
          "data": {
            "text/html": [
              "<div>\n",
              "<style scoped>\n",
              "    .dataframe tbody tr th:only-of-type {\n",
              "        vertical-align: middle;\n",
              "    }\n",
              "\n",
              "    .dataframe tbody tr th {\n",
              "        vertical-align: top;\n",
              "    }\n",
              "\n",
              "    .dataframe thead th {\n",
              "        text-align: right;\n",
              "    }\n",
              "</style>\n",
              "<table border=\"1\" class=\"dataframe\">\n",
              "  <thead>\n",
              "    <tr style=\"text-align: right;\">\n",
              "      <th></th>\n",
              "      <th>SeniorCitizen</th>\n",
              "      <th>tenure</th>\n",
              "      <th>MonthlyCharges</th>\n",
              "    </tr>\n",
              "  </thead>\n",
              "  <tbody>\n",
              "    <tr>\n",
              "      <th>count</th>\n",
              "      <td>7043.000000</td>\n",
              "      <td>7043.000000</td>\n",
              "      <td>7043.000000</td>\n",
              "    </tr>\n",
              "    <tr>\n",
              "      <th>mean</th>\n",
              "      <td>0.162147</td>\n",
              "      <td>32.371149</td>\n",
              "      <td>64.761692</td>\n",
              "    </tr>\n",
              "    <tr>\n",
              "      <th>std</th>\n",
              "      <td>0.368612</td>\n",
              "      <td>24.559481</td>\n",
              "      <td>30.090047</td>\n",
              "    </tr>\n",
              "    <tr>\n",
              "      <th>min</th>\n",
              "      <td>0.000000</td>\n",
              "      <td>0.000000</td>\n",
              "      <td>18.250000</td>\n",
              "    </tr>\n",
              "    <tr>\n",
              "      <th>25%</th>\n",
              "      <td>0.000000</td>\n",
              "      <td>9.000000</td>\n",
              "      <td>35.500000</td>\n",
              "    </tr>\n",
              "    <tr>\n",
              "      <th>50%</th>\n",
              "      <td>0.000000</td>\n",
              "      <td>29.000000</td>\n",
              "      <td>70.350000</td>\n",
              "    </tr>\n",
              "    <tr>\n",
              "      <th>75%</th>\n",
              "      <td>0.000000</td>\n",
              "      <td>55.000000</td>\n",
              "      <td>89.850000</td>\n",
              "    </tr>\n",
              "    <tr>\n",
              "      <th>max</th>\n",
              "      <td>1.000000</td>\n",
              "      <td>72.000000</td>\n",
              "      <td>118.750000</td>\n",
              "    </tr>\n",
              "  </tbody>\n",
              "</table>\n",
              "</div>"
            ],
            "text/plain": [
              "       SeniorCitizen       tenure  MonthlyCharges\n",
              "count    7043.000000  7043.000000     7043.000000\n",
              "mean        0.162147    32.371149       64.761692\n",
              "std         0.368612    24.559481       30.090047\n",
              "min         0.000000     0.000000       18.250000\n",
              "25%         0.000000     9.000000       35.500000\n",
              "50%         0.000000    29.000000       70.350000\n",
              "75%         0.000000    55.000000       89.850000\n",
              "max         1.000000    72.000000      118.750000"
            ]
          },
          "execution_count": 4,
          "metadata": {},
          "output_type": "execute_result"
        }
      ],
      "source": [
        "df.describe()"
      ]
    },
    {
      "attachments": {},
      "cell_type": "markdown",
      "id": "4a285bbf",
      "metadata": {},
      "source": [
        "count - Всего значений\n",
        "mean - Среднее арифметическое\n",
        "std - Стандартное отклонение\n",
        "min - Минимальное значение\n",
        "25%\n",
        "50% - Медиана\n",
        "75%\n",
        "max - Максимальное значение\n",
        "\n",
        "SeniorCitizen - Является ли клиент пожилым гражданином\n",
        "tenure - Количество месяцев, в течение которых клиент оставался в компании\n",
        "MonthlyCharges - Сумма, взимаемая с клиента ежемесячно"
      ]
    },
    {
      "attachments": {},
      "cell_type": "markdown",
      "id": "1daff97f-7552-4abb-918f-39fdda6d078e",
      "metadata": {
        "id": "1daff97f-7552-4abb-918f-39fdda6d078e"
      },
      "source": [
        "**Вывод:**\n",
        "**В колонке SeniorCitizen значения только 0 и 1, т.е. данные условно обозначают да/нет, поэтому тут мы обратим внимание на общее количество значений и уникальные значения. Пропусков данных нет, минимальное значение 0, максимальное 1**\n",
        "\n",
        "**В колонке tenure уже данные о количестве месяцев, минимальное значение 0, максимальное 72. Пропусков данных нет. В среднем 32.37 месяца клиенты остаются в компании (не учитывая являются ли они клиентами сейчас). Стандартное отклонение от среднего - 24.56 что говорит: данные распределены в широком диапазоне от среднего значения. Медиана по колонке 29, т.е. половина выборки имеет значение больше медианы, вторая половина меньше.**\n",
        "\n",
        "**В колонке MonthlyCharges также пропусков нет, среднее значение 64,76 а стандартное отклонение 30,09. Данные также находятся распределены в широком диапазоне от среднего. Минимальное значение 18.25 а максимальное 118.75. Медиана 70.35, т.е. половина выборки имеет значение больше медианы, вторая половина меньше.**"
      ]
    },
    {
      "attachments": {},
      "cell_type": "markdown",
      "id": "20dfbfdf",
      "metadata": {
        "id": "20dfbfdf",
        "papermill": {
          "duration": 0.109572,
          "end_time": "2022-09-17T00:13:04.713273",
          "exception": false,
          "start_time": "2022-09-17T00:13:04.603701",
          "status": "completed"
        },
        "tags": []
      },
      "source": [
        "### Уникальные значения для всех столбцов"
      ]
    },
    {
      "attachments": {},
      "cell_type": "markdown",
      "id": "6dae3e7e-2d2d-48f4-a815-12203933284b",
      "metadata": {
        "id": "6dae3e7e-2d2d-48f4-a815-12203933284b",
        "tags": []
      },
      "source": [
        "Рассмотрите уникальные значения категориальных признаков. \n",
        "\n",
        "Сделайте вывод.\n",
        "\n",
        "**Подсказка:** можете воспользоваться методом `describe(include='object')`"
      ]
    },
    {
      "cell_type": "code",
      "execution_count": 5,
      "id": "8fdc1546-6a9b-4dc8-afdc-fca1fd637ded",
      "metadata": {
        "id": "8fdc1546-6a9b-4dc8-afdc-fca1fd637ded"
      },
      "outputs": [
        {
          "data": {
            "text/html": [
              "<div>\n",
              "<style scoped>\n",
              "    .dataframe tbody tr th:only-of-type {\n",
              "        vertical-align: middle;\n",
              "    }\n",
              "\n",
              "    .dataframe tbody tr th {\n",
              "        vertical-align: top;\n",
              "    }\n",
              "\n",
              "    .dataframe thead th {\n",
              "        text-align: right;\n",
              "    }\n",
              "</style>\n",
              "<table border=\"1\" class=\"dataframe\">\n",
              "  <thead>\n",
              "    <tr style=\"text-align: right;\">\n",
              "      <th></th>\n",
              "      <th>customerID</th>\n",
              "      <th>gender</th>\n",
              "      <th>Partner</th>\n",
              "      <th>Dependents</th>\n",
              "      <th>PhoneService</th>\n",
              "      <th>MultipleLines</th>\n",
              "      <th>InternetService</th>\n",
              "      <th>OnlineSecurity</th>\n",
              "      <th>OnlineBackup</th>\n",
              "      <th>DeviceProtection</th>\n",
              "      <th>TechSupport</th>\n",
              "      <th>StreamingTV</th>\n",
              "      <th>StreamingMovies</th>\n",
              "      <th>Contract</th>\n",
              "      <th>PaperlessBilling</th>\n",
              "      <th>PaymentMethod</th>\n",
              "      <th>TotalCharges</th>\n",
              "      <th>Churn</th>\n",
              "    </tr>\n",
              "  </thead>\n",
              "  <tbody>\n",
              "    <tr>\n",
              "      <th>count</th>\n",
              "      <td>7043</td>\n",
              "      <td>7043</td>\n",
              "      <td>7043</td>\n",
              "      <td>7043</td>\n",
              "      <td>7043</td>\n",
              "      <td>7043</td>\n",
              "      <td>7043</td>\n",
              "      <td>7043</td>\n",
              "      <td>7043</td>\n",
              "      <td>7043</td>\n",
              "      <td>7043</td>\n",
              "      <td>7043</td>\n",
              "      <td>7043</td>\n",
              "      <td>7043</td>\n",
              "      <td>7043</td>\n",
              "      <td>7043</td>\n",
              "      <td>7043</td>\n",
              "      <td>7043</td>\n",
              "    </tr>\n",
              "    <tr>\n",
              "      <th>unique</th>\n",
              "      <td>7043</td>\n",
              "      <td>2</td>\n",
              "      <td>2</td>\n",
              "      <td>2</td>\n",
              "      <td>2</td>\n",
              "      <td>3</td>\n",
              "      <td>3</td>\n",
              "      <td>3</td>\n",
              "      <td>3</td>\n",
              "      <td>3</td>\n",
              "      <td>3</td>\n",
              "      <td>3</td>\n",
              "      <td>3</td>\n",
              "      <td>3</td>\n",
              "      <td>2</td>\n",
              "      <td>4</td>\n",
              "      <td>6531</td>\n",
              "      <td>2</td>\n",
              "    </tr>\n",
              "    <tr>\n",
              "      <th>top</th>\n",
              "      <td>7590-VHVEG</td>\n",
              "      <td>Male</td>\n",
              "      <td>No</td>\n",
              "      <td>No</td>\n",
              "      <td>Yes</td>\n",
              "      <td>No</td>\n",
              "      <td>Fiber optic</td>\n",
              "      <td>No</td>\n",
              "      <td>No</td>\n",
              "      <td>No</td>\n",
              "      <td>No</td>\n",
              "      <td>No</td>\n",
              "      <td>No</td>\n",
              "      <td>Month-to-month</td>\n",
              "      <td>Yes</td>\n",
              "      <td>Electronic check</td>\n",
              "      <td></td>\n",
              "      <td>No</td>\n",
              "    </tr>\n",
              "    <tr>\n",
              "      <th>freq</th>\n",
              "      <td>1</td>\n",
              "      <td>3555</td>\n",
              "      <td>3641</td>\n",
              "      <td>4933</td>\n",
              "      <td>6361</td>\n",
              "      <td>3390</td>\n",
              "      <td>3096</td>\n",
              "      <td>3498</td>\n",
              "      <td>3088</td>\n",
              "      <td>3095</td>\n",
              "      <td>3473</td>\n",
              "      <td>2810</td>\n",
              "      <td>2785</td>\n",
              "      <td>3875</td>\n",
              "      <td>4171</td>\n",
              "      <td>2365</td>\n",
              "      <td>11</td>\n",
              "      <td>5174</td>\n",
              "    </tr>\n",
              "  </tbody>\n",
              "</table>\n",
              "</div>"
            ],
            "text/plain": [
              "        customerID gender Partner Dependents PhoneService MultipleLines   \n",
              "count         7043   7043    7043       7043         7043          7043  \\\n",
              "unique        7043      2       2          2            2             3   \n",
              "top     7590-VHVEG   Male      No         No          Yes            No   \n",
              "freq             1   3555    3641       4933         6361          3390   \n",
              "\n",
              "       InternetService OnlineSecurity OnlineBackup DeviceProtection   \n",
              "count             7043           7043         7043             7043  \\\n",
              "unique               3              3            3                3   \n",
              "top        Fiber optic             No           No               No   \n",
              "freq              3096           3498         3088             3095   \n",
              "\n",
              "       TechSupport StreamingTV StreamingMovies        Contract   \n",
              "count         7043        7043            7043            7043  \\\n",
              "unique           3           3               3               3   \n",
              "top             No          No              No  Month-to-month   \n",
              "freq          3473        2810            2785            3875   \n",
              "\n",
              "       PaperlessBilling     PaymentMethod TotalCharges Churn  \n",
              "count              7043              7043         7043  7043  \n",
              "unique                2                 4         6531     2  \n",
              "top                 Yes  Electronic check                 No  \n",
              "freq               4171              2365           11  5174  "
            ]
          },
          "execution_count": 5,
          "metadata": {},
          "output_type": "execute_result"
        }
      ],
      "source": [
        "df.describe(include='object')"
      ]
    },
    {
      "attachments": {},
      "cell_type": "markdown",
      "id": "32d362e2",
      "metadata": {},
      "source": [
        "count - Всего значений\n",
        "unique - Уникальные\n",
        "top - Большее количество значений\n",
        "freq - Количество top"
      ]
    },
    {
      "attachments": {},
      "cell_type": "markdown",
      "id": "31dd4378-da15-45df-94a6-2e6d9466b368",
      "metadata": {
        "id": "31dd4378-da15-45df-94a6-2e6d9466b368"
      },
      "source": [
        "**Вывод:**\n",
        "**По всем колонкам нет пропущенных значений**\n",
        "**- customerID - все значения уникальные, как и должно быть, так как это id** \n",
        "**- gender - в выборке больше клиентов с мужским полом (3555 записей)** 2 уникальных значения ['Female', 'Male']\n",
        "**- Partner -  в выборке больше клиентов без партнера** 2 уникальных значения ['Yes', 'No']\n",
        "**- Dependents - в выборке больше клиентов не являющимися кормильцами** 2 уникальных значения ['Yes', 'No']\n",
        "**- PhoneService - в выборке больше клиентов которые пользуются телефонной связью** 2 уникальных значения ['Yes', 'No']\n",
        "**- MultipleLines - в выборке больше клиентов у которых нет нескольких линий** 3 уникальных значения ['No phone service', 'No', 'Yes']\n",
        "**- InternetService - в выборке больше клиентов у которых Fiber optic интернет** 3 уникальных значения ['DSL', 'Fiber optic', 'No']\n",
        "**- OnlineSecurity - в выборке больше клиентов у которых нет онлайн-безопасности** 3 уникальных значения ['No', 'Yes', 'No internet service']\n",
        "**- OnlineBackup - в выборке больше клиентов у которых нет онлайн-резервного копирования** 3 уникальных значения ['No', 'Yes', 'No internet service']\n",
        "**- DeviceProtection - в выборке больше клиентов у которых нет защиты устройства** 3 уникальных значения ['No', 'Yes', 'No internet service']\n",
        "**- TechSupport - в выборке больше клиентов у которых нет технической поддержки (3473 записи)** 3 уникальных значения ['No', 'Yes', 'No internet service']\n",
        "**- streamingTV - в выборке больше клиентов у которых нет потокового телевидения (2810 записей)** 3 уникальных значения ['No', 'Yes', 'No internet service']\n",
        "**- streamingMovies - в выборке больше клиентов у которых нет стриминговых сервисов (2785 записей)** 3 уникальных значения ['No', 'Yes', 'No internet service']\n",
        "**- Contract - в выборке больше клиентов у которых срок действия контракта заказчика Month-to-month (3875 записей)** 3 уникальных значения ['Month-to-month', 'One year', 'Two year']\n",
        "**- PaperlessBilling - в выборке больше клиентов у которых есть безналичные счета (4171 записей)** 2 уникальных значения ['Yes', 'No']\n",
        "**- PaymentMethod - большее количество клиентов предпочитают Electronic check как способ оплаты (2365 записи)** 24 уникальных значения ['Electronic check', 'Mailed check', 'Bank transfer (automatic)', 'Credit card (automatic)']\n",
        "**- TotalCharges - Общая сумма, списанная с клиента** 6531 уникальных значений\n",
        "**- Churn - большее количество клиентов не ушло (5174 записей)** 2 уникальных значения ['Yes', 'No']\n",
        "\n",
        "# По большому счету мы можем перевести значения из типа object в тип float и посчитать все значения как у числовых данных, сделаем это ниже:"
      ]
    },
    {
      "attachments": {},
      "cell_type": "markdown",
      "id": "71169f8f-3bf5-498c-8844-ec8e47c232a4",
      "metadata": {
        "id": "71169f8f-3bf5-498c-8844-ec8e47c232a4",
        "papermill": {
          "duration": 0.107391,
          "end_time": "2022-09-17T00:13:03.296525",
          "exception": false,
          "start_time": "2022-09-17T00:13:03.189134",
          "status": "completed"
        },
        "tags": []
      },
      "source": [
        "## 3. Предобработка данных"
      ]
    },
    {
      "attachments": {},
      "cell_type": "markdown",
      "id": "0a01fab1-c07b-46b0-a2d2-e8939670ed1d",
      "metadata": {
        "id": "0a01fab1-c07b-46b0-a2d2-e8939670ed1d",
        "papermill": {
          "duration": 0.110418,
          "end_time": "2022-09-17T00:13:05.443495",
          "exception": false,
          "start_time": "2022-09-17T00:13:05.333077",
          "status": "completed"
        },
        "tags": []
      },
      "source": [
        "### Дубликаты"
      ]
    },
    {
      "attachments": {},
      "cell_type": "markdown",
      "id": "e30c5d7d-10fe-4889-9156-e89b3ac80e9f",
      "metadata": {
        "id": "e30c5d7d-10fe-4889-9156-e89b3ac80e9f"
      },
      "source": [
        "Предобработайте датасет — проверьте на наличие дубликатов и удалите, если они есть."
      ]
    },
    {
      "cell_type": "code",
      "execution_count": 7,
      "id": "719cd83b-60bd-4da9-81c4-0c22893b3e47",
      "metadata": {
        "id": "719cd83b-60bd-4da9-81c4-0c22893b3e47"
      },
      "outputs": [
        {
          "data": {
            "text/plain": [
              "0"
            ]
          },
          "execution_count": 7,
          "metadata": {},
          "output_type": "execute_result"
        }
      ],
      "source": [
        "len(df)- len(df.drop_duplicates ())"
      ]
    },
    {
      "attachments": {},
      "cell_type": "markdown",
      "id": "d1081bef",
      "metadata": {},
      "source": [
        "дубликаты не были обнаружены, но если бы они были мы могли воспользоваться:"
      ]
    },
    {
      "cell_type": "code",
      "execution_count": 8,
      "id": "03a03a76",
      "metadata": {},
      "outputs": [],
      "source": [
        "df = df.drop_duplicates()"
      ]
    },
    {
      "attachments": {},
      "cell_type": "markdown",
      "id": "8e8f7fbc",
      "metadata": {
        "id": "8e8f7fbc",
        "papermill": {
          "duration": 0.110418,
          "end_time": "2022-09-17T00:13:05.443495",
          "exception": false,
          "start_time": "2022-09-17T00:13:05.333077",
          "status": "completed"
        },
        "tags": []
      },
      "source": [
        "### Отсутствующие значения"
      ]
    },
    {
      "attachments": {},
      "cell_type": "markdown",
      "id": "cefe6e59-bbf6-409f-bc89-299984ccf9ec",
      "metadata": {
        "id": "cefe6e59-bbf6-409f-bc89-299984ccf9ec"
      },
      "source": [
        "Пояснение к данному датасету:\n",
        "\n",
        "Не всегда в данных есть явные пропуски, которые легко индексируются средствами Pandas. К сожалению бывают проблемы с выгрузками данных, некачественными источниками, или когда данные записываются вручную — часто присутствует человеческий фактор. По мере работы с новыми данными лучше проверять на наличие таких данных, иначе из-за этого исследование может исказиться.\n",
        "\n",
        "Рассмотрим такой случай:"
      ]
    },
    {
      "cell_type": "code",
      "execution_count": 53,
      "id": "3493172e",
      "metadata": {
        "id": "3493172e",
        "papermill": {
          "duration": 0.127904,
          "end_time": "2022-09-17T00:13:05.681445",
          "exception": false,
          "start_time": "2022-09-17T00:13:05.553541",
          "status": "completed"
        },
        "tags": []
      },
      "outputs": [
        {
          "data": {
            "text/plain": [
              "customerID          0\n",
              "gender              0\n",
              "SeniorCitizen       0\n",
              "Partner             0\n",
              "Dependents          0\n",
              "tenure              0\n",
              "PhoneService        0\n",
              "MultipleLines       0\n",
              "InternetService     0\n",
              "OnlineSecurity      0\n",
              "OnlineBackup        0\n",
              "DeviceProtection    0\n",
              "TechSupport         0\n",
              "StreamingTV         0\n",
              "StreamingMovies     0\n",
              "Contract            0\n",
              "PaperlessBilling    0\n",
              "PaymentMethod       0\n",
              "MonthlyCharges      0\n",
              "TotalCharges        0\n",
              "Churn               0\n",
              "dtype: int64"
            ]
          },
          "execution_count": 53,
          "metadata": {},
          "output_type": "execute_result"
        }
      ],
      "source": [
        "df.isna().sum()"
      ]
    },
    {
      "attachments": {},
      "cell_type": "markdown",
      "id": "9262f68f-8d27-4794-ab21-327484d502ac",
      "metadata": {
        "id": "9262f68f-8d27-4794-ab21-327484d502ac"
      },
      "source": [
        "Да, не видно пропусков. Но почему тогда столбец `TotalCharges` не отобразился изначально как числовой столбец?\n",
        "\n",
        "Проверим все столбцы:"
      ]
    },
    {
      "cell_type": "code",
      "execution_count": 54,
      "id": "c086249f",
      "metadata": {
        "id": "c086249f",
        "papermill": {
          "duration": 0.212036,
          "end_time": "2022-09-17T00:13:06.005380",
          "exception": false,
          "start_time": "2022-09-17T00:13:05.793344",
          "status": "completed"
        },
        "tags": []
      },
      "outputs": [
        {
          "name": "stdout",
          "output_type": "stream",
          "text": [
            "Неявные пропуски столбца TotalCharges: 11\n"
          ]
        }
      ],
      "source": [
        "for col in df:\n",
        "    if df[col].dtype == 'object':\n",
        "        nans = df[col].apply(lambda x: len(x.strip())==0).sum()\n",
        "        if nans > 0:\n",
        "            print(f'Неявные пропуски столбца {col}:', df[col].apply(lambda x: len(x.strip())==0).sum())"
      ]
    },
    {
      "attachments": {},
      "cell_type": "markdown",
      "id": "d9751428-4425-4a69-a8b9-0d8be7bdda21",
      "metadata": {
        "id": "d9751428-4425-4a69-a8b9-0d8be7bdda21"
      },
      "source": [
        "Что мы можем сделать в таком случае?\n",
        "\n",
        "1) По этому же фильтру удалить строки с пропусками, чтобы не искажать данные\n",
        "2) Перевести тип столбца на числовой с параметром `errors = 'coerce'` и удалить\n",
        "\n",
        "Но можно не удалять, чтобы не потерять данные, а:\n",
        "\n",
        "1) Заменить значения на другое\n",
        "2) Поменять на другое — но только в том случае, если есть какая-то зависимость в данных.\n",
        "\n",
        "Давайте изменим тип и найдем зависимость:"
      ]
    },
    {
      "cell_type": "code",
      "execution_count": 55,
      "id": "32c7fbb7-ea06-491f-9629-525175141ed2",
      "metadata": {
        "id": "32c7fbb7-ea06-491f-9629-525175141ed2",
        "tags": []
      },
      "outputs": [
        {
          "data": {
            "text/html": [
              "<div>\n",
              "<style scoped>\n",
              "    .dataframe tbody tr th:only-of-type {\n",
              "        vertical-align: middle;\n",
              "    }\n",
              "\n",
              "    .dataframe tbody tr th {\n",
              "        vertical-align: top;\n",
              "    }\n",
              "\n",
              "    .dataframe thead th {\n",
              "        text-align: right;\n",
              "    }\n",
              "</style>\n",
              "<table border=\"1\" class=\"dataframe\">\n",
              "  <thead>\n",
              "    <tr style=\"text-align: right;\">\n",
              "      <th></th>\n",
              "      <th>customerID</th>\n",
              "      <th>gender</th>\n",
              "      <th>SeniorCitizen</th>\n",
              "      <th>Partner</th>\n",
              "      <th>Dependents</th>\n",
              "      <th>tenure</th>\n",
              "      <th>PhoneService</th>\n",
              "      <th>MultipleLines</th>\n",
              "      <th>InternetService</th>\n",
              "      <th>OnlineSecurity</th>\n",
              "      <th>OnlineBackup</th>\n",
              "      <th>DeviceProtection</th>\n",
              "      <th>TechSupport</th>\n",
              "      <th>StreamingTV</th>\n",
              "      <th>StreamingMovies</th>\n",
              "      <th>Contract</th>\n",
              "      <th>PaperlessBilling</th>\n",
              "      <th>PaymentMethod</th>\n",
              "      <th>MonthlyCharges</th>\n",
              "      <th>TotalCharges</th>\n",
              "      <th>Churn</th>\n",
              "    </tr>\n",
              "  </thead>\n",
              "  <tbody>\n",
              "    <tr>\n",
              "      <th>488</th>\n",
              "      <td>4472-LVYGI</td>\n",
              "      <td>Female</td>\n",
              "      <td>0</td>\n",
              "      <td>Yes</td>\n",
              "      <td>Yes</td>\n",
              "      <td>0</td>\n",
              "      <td>No</td>\n",
              "      <td>No phone service</td>\n",
              "      <td>DSL</td>\n",
              "      <td>Yes</td>\n",
              "      <td>No</td>\n",
              "      <td>Yes</td>\n",
              "      <td>Yes</td>\n",
              "      <td>Yes</td>\n",
              "      <td>No</td>\n",
              "      <td>Two year</td>\n",
              "      <td>Yes</td>\n",
              "      <td>Bank transfer (automatic)</td>\n",
              "      <td>52.55</td>\n",
              "      <td>NaN</td>\n",
              "      <td>No</td>\n",
              "    </tr>\n",
              "    <tr>\n",
              "      <th>753</th>\n",
              "      <td>3115-CZMZD</td>\n",
              "      <td>Male</td>\n",
              "      <td>0</td>\n",
              "      <td>No</td>\n",
              "      <td>Yes</td>\n",
              "      <td>0</td>\n",
              "      <td>Yes</td>\n",
              "      <td>No</td>\n",
              "      <td>No</td>\n",
              "      <td>No internet service</td>\n",
              "      <td>No internet service</td>\n",
              "      <td>No internet service</td>\n",
              "      <td>No internet service</td>\n",
              "      <td>No internet service</td>\n",
              "      <td>No internet service</td>\n",
              "      <td>Two year</td>\n",
              "      <td>No</td>\n",
              "      <td>Mailed check</td>\n",
              "      <td>20.25</td>\n",
              "      <td>NaN</td>\n",
              "      <td>No</td>\n",
              "    </tr>\n",
              "    <tr>\n",
              "      <th>936</th>\n",
              "      <td>5709-LVOEQ</td>\n",
              "      <td>Female</td>\n",
              "      <td>0</td>\n",
              "      <td>Yes</td>\n",
              "      <td>Yes</td>\n",
              "      <td>0</td>\n",
              "      <td>Yes</td>\n",
              "      <td>No</td>\n",
              "      <td>DSL</td>\n",
              "      <td>Yes</td>\n",
              "      <td>Yes</td>\n",
              "      <td>Yes</td>\n",
              "      <td>No</td>\n",
              "      <td>Yes</td>\n",
              "      <td>Yes</td>\n",
              "      <td>Two year</td>\n",
              "      <td>No</td>\n",
              "      <td>Mailed check</td>\n",
              "      <td>80.85</td>\n",
              "      <td>NaN</td>\n",
              "      <td>No</td>\n",
              "    </tr>\n",
              "    <tr>\n",
              "      <th>1082</th>\n",
              "      <td>4367-NUYAO</td>\n",
              "      <td>Male</td>\n",
              "      <td>0</td>\n",
              "      <td>Yes</td>\n",
              "      <td>Yes</td>\n",
              "      <td>0</td>\n",
              "      <td>Yes</td>\n",
              "      <td>Yes</td>\n",
              "      <td>No</td>\n",
              "      <td>No internet service</td>\n",
              "      <td>No internet service</td>\n",
              "      <td>No internet service</td>\n",
              "      <td>No internet service</td>\n",
              "      <td>No internet service</td>\n",
              "      <td>No internet service</td>\n",
              "      <td>Two year</td>\n",
              "      <td>No</td>\n",
              "      <td>Mailed check</td>\n",
              "      <td>25.75</td>\n",
              "      <td>NaN</td>\n",
              "      <td>No</td>\n",
              "    </tr>\n",
              "    <tr>\n",
              "      <th>1340</th>\n",
              "      <td>1371-DWPAZ</td>\n",
              "      <td>Female</td>\n",
              "      <td>0</td>\n",
              "      <td>Yes</td>\n",
              "      <td>Yes</td>\n",
              "      <td>0</td>\n",
              "      <td>No</td>\n",
              "      <td>No phone service</td>\n",
              "      <td>DSL</td>\n",
              "      <td>Yes</td>\n",
              "      <td>Yes</td>\n",
              "      <td>Yes</td>\n",
              "      <td>Yes</td>\n",
              "      <td>Yes</td>\n",
              "      <td>No</td>\n",
              "      <td>Two year</td>\n",
              "      <td>No</td>\n",
              "      <td>Credit card (automatic)</td>\n",
              "      <td>56.05</td>\n",
              "      <td>NaN</td>\n",
              "      <td>No</td>\n",
              "    </tr>\n",
              "    <tr>\n",
              "      <th>3331</th>\n",
              "      <td>7644-OMVMY</td>\n",
              "      <td>Male</td>\n",
              "      <td>0</td>\n",
              "      <td>Yes</td>\n",
              "      <td>Yes</td>\n",
              "      <td>0</td>\n",
              "      <td>Yes</td>\n",
              "      <td>No</td>\n",
              "      <td>No</td>\n",
              "      <td>No internet service</td>\n",
              "      <td>No internet service</td>\n",
              "      <td>No internet service</td>\n",
              "      <td>No internet service</td>\n",
              "      <td>No internet service</td>\n",
              "      <td>No internet service</td>\n",
              "      <td>Two year</td>\n",
              "      <td>No</td>\n",
              "      <td>Mailed check</td>\n",
              "      <td>19.85</td>\n",
              "      <td>NaN</td>\n",
              "      <td>No</td>\n",
              "    </tr>\n",
              "    <tr>\n",
              "      <th>3826</th>\n",
              "      <td>3213-VVOLG</td>\n",
              "      <td>Male</td>\n",
              "      <td>0</td>\n",
              "      <td>Yes</td>\n",
              "      <td>Yes</td>\n",
              "      <td>0</td>\n",
              "      <td>Yes</td>\n",
              "      <td>Yes</td>\n",
              "      <td>No</td>\n",
              "      <td>No internet service</td>\n",
              "      <td>No internet service</td>\n",
              "      <td>No internet service</td>\n",
              "      <td>No internet service</td>\n",
              "      <td>No internet service</td>\n",
              "      <td>No internet service</td>\n",
              "      <td>Two year</td>\n",
              "      <td>No</td>\n",
              "      <td>Mailed check</td>\n",
              "      <td>25.35</td>\n",
              "      <td>NaN</td>\n",
              "      <td>No</td>\n",
              "    </tr>\n",
              "    <tr>\n",
              "      <th>4380</th>\n",
              "      <td>2520-SGTTA</td>\n",
              "      <td>Female</td>\n",
              "      <td>0</td>\n",
              "      <td>Yes</td>\n",
              "      <td>Yes</td>\n",
              "      <td>0</td>\n",
              "      <td>Yes</td>\n",
              "      <td>No</td>\n",
              "      <td>No</td>\n",
              "      <td>No internet service</td>\n",
              "      <td>No internet service</td>\n",
              "      <td>No internet service</td>\n",
              "      <td>No internet service</td>\n",
              "      <td>No internet service</td>\n",
              "      <td>No internet service</td>\n",
              "      <td>Two year</td>\n",
              "      <td>No</td>\n",
              "      <td>Mailed check</td>\n",
              "      <td>20.00</td>\n",
              "      <td>NaN</td>\n",
              "      <td>No</td>\n",
              "    </tr>\n",
              "    <tr>\n",
              "      <th>5218</th>\n",
              "      <td>2923-ARZLG</td>\n",
              "      <td>Male</td>\n",
              "      <td>0</td>\n",
              "      <td>Yes</td>\n",
              "      <td>Yes</td>\n",
              "      <td>0</td>\n",
              "      <td>Yes</td>\n",
              "      <td>No</td>\n",
              "      <td>No</td>\n",
              "      <td>No internet service</td>\n",
              "      <td>No internet service</td>\n",
              "      <td>No internet service</td>\n",
              "      <td>No internet service</td>\n",
              "      <td>No internet service</td>\n",
              "      <td>No internet service</td>\n",
              "      <td>One year</td>\n",
              "      <td>Yes</td>\n",
              "      <td>Mailed check</td>\n",
              "      <td>19.70</td>\n",
              "      <td>NaN</td>\n",
              "      <td>No</td>\n",
              "    </tr>\n",
              "    <tr>\n",
              "      <th>6670</th>\n",
              "      <td>4075-WKNIU</td>\n",
              "      <td>Female</td>\n",
              "      <td>0</td>\n",
              "      <td>Yes</td>\n",
              "      <td>Yes</td>\n",
              "      <td>0</td>\n",
              "      <td>Yes</td>\n",
              "      <td>Yes</td>\n",
              "      <td>DSL</td>\n",
              "      <td>No</td>\n",
              "      <td>Yes</td>\n",
              "      <td>Yes</td>\n",
              "      <td>Yes</td>\n",
              "      <td>Yes</td>\n",
              "      <td>No</td>\n",
              "      <td>Two year</td>\n",
              "      <td>No</td>\n",
              "      <td>Mailed check</td>\n",
              "      <td>73.35</td>\n",
              "      <td>NaN</td>\n",
              "      <td>No</td>\n",
              "    </tr>\n",
              "    <tr>\n",
              "      <th>6754</th>\n",
              "      <td>2775-SEFEE</td>\n",
              "      <td>Male</td>\n",
              "      <td>0</td>\n",
              "      <td>No</td>\n",
              "      <td>Yes</td>\n",
              "      <td>0</td>\n",
              "      <td>Yes</td>\n",
              "      <td>Yes</td>\n",
              "      <td>DSL</td>\n",
              "      <td>Yes</td>\n",
              "      <td>Yes</td>\n",
              "      <td>No</td>\n",
              "      <td>Yes</td>\n",
              "      <td>No</td>\n",
              "      <td>No</td>\n",
              "      <td>Two year</td>\n",
              "      <td>Yes</td>\n",
              "      <td>Bank transfer (automatic)</td>\n",
              "      <td>61.90</td>\n",
              "      <td>NaN</td>\n",
              "      <td>No</td>\n",
              "    </tr>\n",
              "  </tbody>\n",
              "</table>\n",
              "</div>"
            ],
            "text/plain": [
              "      customerID  gender  SeniorCitizen Partner Dependents  tenure   \n",
              "488   4472-LVYGI  Female              0     Yes        Yes       0  \\\n",
              "753   3115-CZMZD    Male              0      No        Yes       0   \n",
              "936   5709-LVOEQ  Female              0     Yes        Yes       0   \n",
              "1082  4367-NUYAO    Male              0     Yes        Yes       0   \n",
              "1340  1371-DWPAZ  Female              0     Yes        Yes       0   \n",
              "3331  7644-OMVMY    Male              0     Yes        Yes       0   \n",
              "3826  3213-VVOLG    Male              0     Yes        Yes       0   \n",
              "4380  2520-SGTTA  Female              0     Yes        Yes       0   \n",
              "5218  2923-ARZLG    Male              0     Yes        Yes       0   \n",
              "6670  4075-WKNIU  Female              0     Yes        Yes       0   \n",
              "6754  2775-SEFEE    Male              0      No        Yes       0   \n",
              "\n",
              "     PhoneService     MultipleLines InternetService       OnlineSecurity   \n",
              "488            No  No phone service             DSL                  Yes  \\\n",
              "753           Yes                No              No  No internet service   \n",
              "936           Yes                No             DSL                  Yes   \n",
              "1082          Yes               Yes              No  No internet service   \n",
              "1340           No  No phone service             DSL                  Yes   \n",
              "3331          Yes                No              No  No internet service   \n",
              "3826          Yes               Yes              No  No internet service   \n",
              "4380          Yes                No              No  No internet service   \n",
              "5218          Yes                No              No  No internet service   \n",
              "6670          Yes               Yes             DSL                   No   \n",
              "6754          Yes               Yes             DSL                  Yes   \n",
              "\n",
              "             OnlineBackup     DeviceProtection          TechSupport   \n",
              "488                    No                  Yes                  Yes  \\\n",
              "753   No internet service  No internet service  No internet service   \n",
              "936                   Yes                  Yes                   No   \n",
              "1082  No internet service  No internet service  No internet service   \n",
              "1340                  Yes                  Yes                  Yes   \n",
              "3331  No internet service  No internet service  No internet service   \n",
              "3826  No internet service  No internet service  No internet service   \n",
              "4380  No internet service  No internet service  No internet service   \n",
              "5218  No internet service  No internet service  No internet service   \n",
              "6670                  Yes                  Yes                  Yes   \n",
              "6754                  Yes                   No                  Yes   \n",
              "\n",
              "              StreamingTV      StreamingMovies  Contract PaperlessBilling   \n",
              "488                   Yes                   No  Two year              Yes  \\\n",
              "753   No internet service  No internet service  Two year               No   \n",
              "936                   Yes                  Yes  Two year               No   \n",
              "1082  No internet service  No internet service  Two year               No   \n",
              "1340                  Yes                   No  Two year               No   \n",
              "3331  No internet service  No internet service  Two year               No   \n",
              "3826  No internet service  No internet service  Two year               No   \n",
              "4380  No internet service  No internet service  Two year               No   \n",
              "5218  No internet service  No internet service  One year              Yes   \n",
              "6670                  Yes                   No  Two year               No   \n",
              "6754                   No                   No  Two year              Yes   \n",
              "\n",
              "                  PaymentMethod  MonthlyCharges  TotalCharges Churn  \n",
              "488   Bank transfer (automatic)           52.55           NaN    No  \n",
              "753                Mailed check           20.25           NaN    No  \n",
              "936                Mailed check           80.85           NaN    No  \n",
              "1082               Mailed check           25.75           NaN    No  \n",
              "1340    Credit card (automatic)           56.05           NaN    No  \n",
              "3331               Mailed check           19.85           NaN    No  \n",
              "3826               Mailed check           25.35           NaN    No  \n",
              "4380               Mailed check           20.00           NaN    No  \n",
              "5218               Mailed check           19.70           NaN    No  \n",
              "6670               Mailed check           73.35           NaN    No  \n",
              "6754  Bank transfer (automatic)           61.90           NaN    No  "
            ]
          },
          "execution_count": 55,
          "metadata": {},
          "output_type": "execute_result"
        }
      ],
      "source": [
        "df[\"TotalCharges\"] = pd.to_numeric(df[\"TotalCharges\"], errors = 'coerce')\n",
        "\n",
        "df[df[\"TotalCharges\"].isna()]"
      ]
    },
    {
      "attachments": {},
      "cell_type": "markdown",
      "id": "2c030a1f-7848-4412-93b1-a8eecc8cbf5f",
      "metadata": {
        "id": "2c030a1f-7848-4412-93b1-a8eecc8cbf5f"
      },
      "source": [
        "**Но как выглядят наши данные обычно?**"
      ]
    },
    {
      "cell_type": "code",
      "execution_count": 56,
      "id": "c5a0c8e0-8906-4a9a-b081-b718f4e11053",
      "metadata": {
        "id": "c5a0c8e0-8906-4a9a-b081-b718f4e11053",
        "tags": []
      },
      "outputs": [
        {
          "data": {
            "text/html": [
              "<div>\n",
              "<style scoped>\n",
              "    .dataframe tbody tr th:only-of-type {\n",
              "        vertical-align: middle;\n",
              "    }\n",
              "\n",
              "    .dataframe tbody tr th {\n",
              "        vertical-align: top;\n",
              "    }\n",
              "\n",
              "    .dataframe thead th {\n",
              "        text-align: right;\n",
              "    }\n",
              "</style>\n",
              "<table border=\"1\" class=\"dataframe\">\n",
              "  <thead>\n",
              "    <tr style=\"text-align: right;\">\n",
              "      <th></th>\n",
              "      <th>customerID</th>\n",
              "      <th>gender</th>\n",
              "      <th>SeniorCitizen</th>\n",
              "      <th>Partner</th>\n",
              "      <th>Dependents</th>\n",
              "      <th>tenure</th>\n",
              "      <th>PhoneService</th>\n",
              "      <th>MultipleLines</th>\n",
              "      <th>InternetService</th>\n",
              "      <th>OnlineSecurity</th>\n",
              "      <th>OnlineBackup</th>\n",
              "      <th>DeviceProtection</th>\n",
              "      <th>TechSupport</th>\n",
              "      <th>StreamingTV</th>\n",
              "      <th>StreamingMovies</th>\n",
              "      <th>Contract</th>\n",
              "      <th>PaperlessBilling</th>\n",
              "      <th>PaymentMethod</th>\n",
              "      <th>MonthlyCharges</th>\n",
              "      <th>TotalCharges</th>\n",
              "      <th>Churn</th>\n",
              "    </tr>\n",
              "  </thead>\n",
              "  <tbody>\n",
              "    <tr>\n",
              "      <th>1043</th>\n",
              "      <td>4883-QICIH</td>\n",
              "      <td>Male</td>\n",
              "      <td>0</td>\n",
              "      <td>Yes</td>\n",
              "      <td>Yes</td>\n",
              "      <td>32</td>\n",
              "      <td>Yes</td>\n",
              "      <td>No</td>\n",
              "      <td>Fiber optic</td>\n",
              "      <td>No</td>\n",
              "      <td>No</td>\n",
              "      <td>No</td>\n",
              "      <td>No</td>\n",
              "      <td>No</td>\n",
              "      <td>No</td>\n",
              "      <td>Month-to-month</td>\n",
              "      <td>Yes</td>\n",
              "      <td>Bank transfer (automatic)</td>\n",
              "      <td>69.75</td>\n",
              "      <td>2347.90</td>\n",
              "      <td>Yes</td>\n",
              "    </tr>\n",
              "    <tr>\n",
              "      <th>3849</th>\n",
              "      <td>5089-IFSDP</td>\n",
              "      <td>Female</td>\n",
              "      <td>0</td>\n",
              "      <td>Yes</td>\n",
              "      <td>No</td>\n",
              "      <td>58</td>\n",
              "      <td>Yes</td>\n",
              "      <td>Yes</td>\n",
              "      <td>Fiber optic</td>\n",
              "      <td>Yes</td>\n",
              "      <td>Yes</td>\n",
              "      <td>Yes</td>\n",
              "      <td>No</td>\n",
              "      <td>Yes</td>\n",
              "      <td>Yes</td>\n",
              "      <td>Two year</td>\n",
              "      <td>Yes</td>\n",
              "      <td>Bank transfer (automatic)</td>\n",
              "      <td>109.45</td>\n",
              "      <td>6144.55</td>\n",
              "      <td>Yes</td>\n",
              "    </tr>\n",
              "    <tr>\n",
              "      <th>5507</th>\n",
              "      <td>5753-QQWPW</td>\n",
              "      <td>Female</td>\n",
              "      <td>0</td>\n",
              "      <td>No</td>\n",
              "      <td>No</td>\n",
              "      <td>28</td>\n",
              "      <td>Yes</td>\n",
              "      <td>No</td>\n",
              "      <td>DSL</td>\n",
              "      <td>Yes</td>\n",
              "      <td>Yes</td>\n",
              "      <td>No</td>\n",
              "      <td>Yes</td>\n",
              "      <td>No</td>\n",
              "      <td>No</td>\n",
              "      <td>One year</td>\n",
              "      <td>Yes</td>\n",
              "      <td>Electronic check</td>\n",
              "      <td>59.90</td>\n",
              "      <td>1654.70</td>\n",
              "      <td>No</td>\n",
              "    </tr>\n",
              "    <tr>\n",
              "      <th>5177</th>\n",
              "      <td>3672-YITQD</td>\n",
              "      <td>Male</td>\n",
              "      <td>1</td>\n",
              "      <td>Yes</td>\n",
              "      <td>No</td>\n",
              "      <td>36</td>\n",
              "      <td>Yes</td>\n",
              "      <td>Yes</td>\n",
              "      <td>Fiber optic</td>\n",
              "      <td>No</td>\n",
              "      <td>No</td>\n",
              "      <td>No</td>\n",
              "      <td>No</td>\n",
              "      <td>No</td>\n",
              "      <td>Yes</td>\n",
              "      <td>Month-to-month</td>\n",
              "      <td>Yes</td>\n",
              "      <td>Electronic check</td>\n",
              "      <td>84.10</td>\n",
              "      <td>3021.60</td>\n",
              "      <td>Yes</td>\n",
              "    </tr>\n",
              "    <tr>\n",
              "      <th>2395</th>\n",
              "      <td>6486-LHTMA</td>\n",
              "      <td>Female</td>\n",
              "      <td>1</td>\n",
              "      <td>Yes</td>\n",
              "      <td>No</td>\n",
              "      <td>31</td>\n",
              "      <td>Yes</td>\n",
              "      <td>Yes</td>\n",
              "      <td>Fiber optic</td>\n",
              "      <td>No</td>\n",
              "      <td>No</td>\n",
              "      <td>Yes</td>\n",
              "      <td>No</td>\n",
              "      <td>Yes</td>\n",
              "      <td>No</td>\n",
              "      <td>One year</td>\n",
              "      <td>Yes</td>\n",
              "      <td>Electronic check</td>\n",
              "      <td>90.70</td>\n",
              "      <td>2835.50</td>\n",
              "      <td>No</td>\n",
              "    </tr>\n",
              "  </tbody>\n",
              "</table>\n",
              "</div>"
            ],
            "text/plain": [
              "      customerID  gender  SeniorCitizen Partner Dependents  tenure   \n",
              "1043  4883-QICIH    Male              0     Yes        Yes      32  \\\n",
              "3849  5089-IFSDP  Female              0     Yes         No      58   \n",
              "5507  5753-QQWPW  Female              0      No         No      28   \n",
              "5177  3672-YITQD    Male              1     Yes         No      36   \n",
              "2395  6486-LHTMA  Female              1     Yes         No      31   \n",
              "\n",
              "     PhoneService MultipleLines InternetService OnlineSecurity OnlineBackup   \n",
              "1043          Yes            No     Fiber optic             No           No  \\\n",
              "3849          Yes           Yes     Fiber optic            Yes          Yes   \n",
              "5507          Yes            No             DSL            Yes          Yes   \n",
              "5177          Yes           Yes     Fiber optic             No           No   \n",
              "2395          Yes           Yes     Fiber optic             No           No   \n",
              "\n",
              "     DeviceProtection TechSupport StreamingTV StreamingMovies        Contract   \n",
              "1043               No          No          No              No  Month-to-month  \\\n",
              "3849              Yes          No         Yes             Yes        Two year   \n",
              "5507               No         Yes          No              No        One year   \n",
              "5177               No          No          No             Yes  Month-to-month   \n",
              "2395              Yes          No         Yes              No        One year   \n",
              "\n",
              "     PaperlessBilling              PaymentMethod  MonthlyCharges   \n",
              "1043              Yes  Bank transfer (automatic)           69.75  \\\n",
              "3849              Yes  Bank transfer (automatic)          109.45   \n",
              "5507              Yes           Electronic check           59.90   \n",
              "5177              Yes           Electronic check           84.10   \n",
              "2395              Yes           Electronic check           90.70   \n",
              "\n",
              "      TotalCharges Churn  \n",
              "1043       2347.90   Yes  \n",
              "3849       6144.55   Yes  \n",
              "5507       1654.70    No  \n",
              "5177       3021.60   Yes  \n",
              "2395       2835.50    No  "
            ]
          },
          "execution_count": 56,
          "metadata": {},
          "output_type": "execute_result"
        }
      ],
      "source": [
        "df.sample(5)"
      ]
    },
    {
      "attachments": {},
      "cell_type": "markdown",
      "id": "089c43d2-f7e8-4494-8f29-0419d0e4d193",
      "metadata": {
        "id": "089c43d2-f7e8-4494-8f29-0419d0e4d193"
      },
      "source": [
        "**Ничего не заметили?**\n",
        "\n",
        "Может общая сумма, списанная с клиента, равна сумме, взимаемой с клиента ежемесячно умноженной на количество времени?\n",
        "\n",
        "Давайте посмотрим."
      ]
    },
    {
      "cell_type": "code",
      "execution_count": 57,
      "id": "b5694487-db1c-4cf6-b543-af9e6a120970",
      "metadata": {
        "id": "b5694487-db1c-4cf6-b543-af9e6a120970"
      },
      "outputs": [
        {
          "data": {
            "text/html": [
              "<div>\n",
              "<style scoped>\n",
              "    .dataframe tbody tr th:only-of-type {\n",
              "        vertical-align: middle;\n",
              "    }\n",
              "\n",
              "    .dataframe tbody tr th {\n",
              "        vertical-align: top;\n",
              "    }\n",
              "\n",
              "    .dataframe thead th {\n",
              "        text-align: right;\n",
              "    }\n",
              "</style>\n",
              "<table border=\"1\" class=\"dataframe\">\n",
              "  <thead>\n",
              "    <tr style=\"text-align: right;\">\n",
              "      <th></th>\n",
              "      <th>customerID</th>\n",
              "      <th>gender</th>\n",
              "      <th>SeniorCitizen</th>\n",
              "      <th>Partner</th>\n",
              "      <th>Dependents</th>\n",
              "      <th>tenure</th>\n",
              "      <th>PhoneService</th>\n",
              "      <th>MultipleLines</th>\n",
              "      <th>InternetService</th>\n",
              "      <th>OnlineSecurity</th>\n",
              "      <th>OnlineBackup</th>\n",
              "      <th>DeviceProtection</th>\n",
              "      <th>TechSupport</th>\n",
              "      <th>StreamingTV</th>\n",
              "      <th>StreamingMovies</th>\n",
              "      <th>Contract</th>\n",
              "      <th>PaperlessBilling</th>\n",
              "      <th>PaymentMethod</th>\n",
              "      <th>MonthlyCharges</th>\n",
              "      <th>TotalCharges</th>\n",
              "      <th>Churn</th>\n",
              "    </tr>\n",
              "  </thead>\n",
              "  <tbody>\n",
              "    <tr>\n",
              "      <th>0</th>\n",
              "      <td>7590-VHVEG</td>\n",
              "      <td>Female</td>\n",
              "      <td>0</td>\n",
              "      <td>Yes</td>\n",
              "      <td>No</td>\n",
              "      <td>1</td>\n",
              "      <td>No</td>\n",
              "      <td>No phone service</td>\n",
              "      <td>DSL</td>\n",
              "      <td>No</td>\n",
              "      <td>Yes</td>\n",
              "      <td>No</td>\n",
              "      <td>No</td>\n",
              "      <td>No</td>\n",
              "      <td>No</td>\n",
              "      <td>Month-to-month</td>\n",
              "      <td>Yes</td>\n",
              "      <td>Electronic check</td>\n",
              "      <td>29.85</td>\n",
              "      <td>29.85</td>\n",
              "      <td>No</td>\n",
              "    </tr>\n",
              "    <tr>\n",
              "      <th>20</th>\n",
              "      <td>8779-QRDMV</td>\n",
              "      <td>Male</td>\n",
              "      <td>1</td>\n",
              "      <td>No</td>\n",
              "      <td>No</td>\n",
              "      <td>1</td>\n",
              "      <td>No</td>\n",
              "      <td>No phone service</td>\n",
              "      <td>DSL</td>\n",
              "      <td>No</td>\n",
              "      <td>No</td>\n",
              "      <td>Yes</td>\n",
              "      <td>No</td>\n",
              "      <td>No</td>\n",
              "      <td>Yes</td>\n",
              "      <td>Month-to-month</td>\n",
              "      <td>Yes</td>\n",
              "      <td>Electronic check</td>\n",
              "      <td>39.65</td>\n",
              "      <td>39.65</td>\n",
              "      <td>Yes</td>\n",
              "    </tr>\n",
              "    <tr>\n",
              "      <th>22</th>\n",
              "      <td>1066-JKSGK</td>\n",
              "      <td>Male</td>\n",
              "      <td>0</td>\n",
              "      <td>No</td>\n",
              "      <td>No</td>\n",
              "      <td>1</td>\n",
              "      <td>Yes</td>\n",
              "      <td>No</td>\n",
              "      <td>No</td>\n",
              "      <td>No internet service</td>\n",
              "      <td>No internet service</td>\n",
              "      <td>No internet service</td>\n",
              "      <td>No internet service</td>\n",
              "      <td>No internet service</td>\n",
              "      <td>No internet service</td>\n",
              "      <td>Month-to-month</td>\n",
              "      <td>No</td>\n",
              "      <td>Mailed check</td>\n",
              "      <td>20.15</td>\n",
              "      <td>20.15</td>\n",
              "      <td>Yes</td>\n",
              "    </tr>\n",
              "    <tr>\n",
              "      <th>27</th>\n",
              "      <td>8665-UTDHZ</td>\n",
              "      <td>Male</td>\n",
              "      <td>0</td>\n",
              "      <td>Yes</td>\n",
              "      <td>Yes</td>\n",
              "      <td>1</td>\n",
              "      <td>No</td>\n",
              "      <td>No phone service</td>\n",
              "      <td>DSL</td>\n",
              "      <td>No</td>\n",
              "      <td>Yes</td>\n",
              "      <td>No</td>\n",
              "      <td>No</td>\n",
              "      <td>No</td>\n",
              "      <td>No</td>\n",
              "      <td>Month-to-month</td>\n",
              "      <td>No</td>\n",
              "      <td>Electronic check</td>\n",
              "      <td>30.20</td>\n",
              "      <td>30.20</td>\n",
              "      <td>Yes</td>\n",
              "    </tr>\n",
              "    <tr>\n",
              "      <th>33</th>\n",
              "      <td>7310-EGVHZ</td>\n",
              "      <td>Male</td>\n",
              "      <td>0</td>\n",
              "      <td>No</td>\n",
              "      <td>No</td>\n",
              "      <td>1</td>\n",
              "      <td>Yes</td>\n",
              "      <td>No</td>\n",
              "      <td>No</td>\n",
              "      <td>No internet service</td>\n",
              "      <td>No internet service</td>\n",
              "      <td>No internet service</td>\n",
              "      <td>No internet service</td>\n",
              "      <td>No internet service</td>\n",
              "      <td>No internet service</td>\n",
              "      <td>Month-to-month</td>\n",
              "      <td>No</td>\n",
              "      <td>Bank transfer (automatic)</td>\n",
              "      <td>20.20</td>\n",
              "      <td>20.20</td>\n",
              "      <td>No</td>\n",
              "    </tr>\n",
              "  </tbody>\n",
              "</table>\n",
              "</div>"
            ],
            "text/plain": [
              "    customerID  gender  SeniorCitizen Partner Dependents  tenure PhoneService   \n",
              "0   7590-VHVEG  Female              0     Yes         No       1           No  \\\n",
              "20  8779-QRDMV    Male              1      No         No       1           No   \n",
              "22  1066-JKSGK    Male              0      No         No       1          Yes   \n",
              "27  8665-UTDHZ    Male              0     Yes        Yes       1           No   \n",
              "33  7310-EGVHZ    Male              0      No         No       1          Yes   \n",
              "\n",
              "       MultipleLines InternetService       OnlineSecurity   \n",
              "0   No phone service             DSL                   No  \\\n",
              "20  No phone service             DSL                   No   \n",
              "22                No              No  No internet service   \n",
              "27  No phone service             DSL                   No   \n",
              "33                No              No  No internet service   \n",
              "\n",
              "           OnlineBackup     DeviceProtection          TechSupport   \n",
              "0                   Yes                   No                   No  \\\n",
              "20                   No                  Yes                   No   \n",
              "22  No internet service  No internet service  No internet service   \n",
              "27                  Yes                   No                   No   \n",
              "33  No internet service  No internet service  No internet service   \n",
              "\n",
              "            StreamingTV      StreamingMovies        Contract PaperlessBilling   \n",
              "0                    No                   No  Month-to-month              Yes  \\\n",
              "20                   No                  Yes  Month-to-month              Yes   \n",
              "22  No internet service  No internet service  Month-to-month               No   \n",
              "27                   No                   No  Month-to-month               No   \n",
              "33  No internet service  No internet service  Month-to-month               No   \n",
              "\n",
              "                PaymentMethod  MonthlyCharges  TotalCharges Churn  \n",
              "0            Electronic check           29.85         29.85    No  \n",
              "20           Electronic check           39.65         39.65   Yes  \n",
              "22               Mailed check           20.15         20.15   Yes  \n",
              "27           Electronic check           30.20         30.20   Yes  \n",
              "33  Bank transfer (automatic)           20.20         20.20    No  "
            ]
          },
          "execution_count": 57,
          "metadata": {},
          "output_type": "execute_result"
        }
      ],
      "source": [
        "df[(df['TotalCharges'] / df['MonthlyCharges']) == df['tenure']].head()"
      ]
    },
    {
      "attachments": {},
      "cell_type": "markdown",
      "id": "12128a01-51a2-4a15-a8ab-d72557b413fe",
      "metadata": {
        "id": "12128a01-51a2-4a15-a8ab-d72557b413fe"
      },
      "source": [
        "Нашей гипотезе есть место быть.\n",
        "\n",
        "Значит `TotalCharges` = `MonthlyCharges` * время. В данном датасете указано только количество месяцев, без точного времени, поэтому будет грубо просто перемножить один столбец на другой. Но пропуски мы уже можем заменить на `0`, так как в тех строках `tenure` == 0.\n",
        "\n",
        "Заменим пропуски на нужное нам число."
      ]
    },
    {
      "cell_type": "code",
      "execution_count": 58,
      "id": "085bfa2f-2800-4814-9877-9fccf7c5994c",
      "metadata": {
        "id": "085bfa2f-2800-4814-9877-9fccf7c5994c",
        "tags": []
      },
      "outputs": [],
      "source": [
        "df['TotalCharges'].fillna(0, inplace=True)"
      ]
    },
    {
      "attachments": {},
      "cell_type": "markdown",
      "id": "pt3BGKLdPcn9",
      "metadata": {
        "id": "pt3BGKLdPcn9"
      },
      "source": [
        "### Изменение типа данных"
      ]
    },
    {
      "attachments": {},
      "cell_type": "markdown",
      "id": "12573416-214f-48ef-9a39-3d007253cf7a",
      "metadata": {
        "id": "12573416-214f-48ef-9a39-3d007253cf7a"
      },
      "source": [
        "Рассмотрев все данные, замените типы на нужные (при необходимости):\n",
        "\n",
        "- Если есть числа — на `int` или `float`\n",
        "- Если категории — можно оставить `object`"
      ]
    },
    {
      "cell_type": "code",
      "execution_count": 59,
      "id": "8099b599-1a04-437b-a2c9-ee834eee2809",
      "metadata": {
        "id": "8099b599-1a04-437b-a2c9-ee834eee2809"
      },
      "outputs": [
        {
          "name": "stdout",
          "output_type": "stream",
          "text": [
            "<class 'pandas.core.frame.DataFrame'>\n",
            "RangeIndex: 7043 entries, 0 to 7042\n",
            "Data columns (total 21 columns):\n",
            " #   Column            Non-Null Count  Dtype  \n",
            "---  ------            --------------  -----  \n",
            " 0   customerID        7043 non-null   object \n",
            " 1   gender            7043 non-null   object \n",
            " 2   SeniorCitizen     7043 non-null   int64  \n",
            " 3   Partner           7043 non-null   object \n",
            " 4   Dependents        7043 non-null   object \n",
            " 5   tenure            7043 non-null   int64  \n",
            " 6   PhoneService      7043 non-null   object \n",
            " 7   MultipleLines     7043 non-null   object \n",
            " 8   InternetService   7043 non-null   object \n",
            " 9   OnlineSecurity    7043 non-null   object \n",
            " 10  OnlineBackup      7043 non-null   object \n",
            " 11  DeviceProtection  7043 non-null   object \n",
            " 12  TechSupport       7043 non-null   object \n",
            " 13  StreamingTV       7043 non-null   object \n",
            " 14  StreamingMovies   7043 non-null   object \n",
            " 15  Contract          7043 non-null   object \n",
            " 16  PaperlessBilling  7043 non-null   object \n",
            " 17  PaymentMethod     7043 non-null   object \n",
            " 18  MonthlyCharges    7043 non-null   float64\n",
            " 19  TotalCharges      7043 non-null   float64\n",
            " 20  Churn             7043 non-null   object \n",
            "dtypes: float64(2), int64(2), object(17)\n",
            "memory usage: 1.1+ MB\n"
          ]
        }
      ],
      "source": [
        "df.info()"
      ]
    },
    {
      "attachments": {},
      "cell_type": "markdown",
      "id": "29aeebfc",
      "metadata": {},
      "source": [
        "customerID, gender, Partner, Dependents, PhoneService, MultipleLines, InternetService, OnlineSecurity, OnlineBackup, DeviceProtection, TechSupport, StreamingTV, StreamingMovies, Contract, PaperlessBilling, PaymentMethod - не меняем, оставляем тип object\n",
        "SeniorCitizen, tenure - не меняем, оставляем тип int64\n",
        "MonthlyCharges, TotalCharges - не меняем, оставляем тип float64"
      ]
    },
    {
      "attachments": {},
      "cell_type": "markdown",
      "id": "6e2ca993-d92d-4ea3-bca5-6408708f6e83",
      "metadata": {
        "id": "6e2ca993-d92d-4ea3-bca5-6408708f6e83"
      },
      "source": [
        "**Вывод:**"
      ]
    },
    {
      "attachments": {},
      "cell_type": "markdown",
      "id": "84339281",
      "metadata": {
        "id": "84339281",
        "papermill": {
          "duration": 0.135596,
          "end_time": "2022-09-17T00:13:12.914231",
          "exception": false,
          "start_time": "2022-09-17T00:13:12.778635",
          "status": "completed"
        },
        "tags": []
      },
      "source": [
        "# 4. Проверка гипотез"
      ]
    },
    {
      "attachments": {},
      "cell_type": "markdown",
      "id": "a6d6cc55-2a27-45ac-9f63-6ba92410d0ae",
      "metadata": {
        "id": "a6d6cc55-2a27-45ac-9f63-6ba92410d0ae"
      },
      "source": [
        "Задание: сравнить две выборки — `Churn='No'` и `Churn='Yes'` \n",
        "\n",
        "Гипотеза — среднее количество месяцев, в течение которых клиент оставался в компании, отличается между двумя выборками."
      ]
    },
    {
      "attachments": {},
      "cell_type": "markdown",
      "id": "410cd111",
      "metadata": {},
      "source": [
        "Создадим 2 датафрейма:"
      ]
    },
    {
      "cell_type": "code",
      "execution_count": 17,
      "id": "a0d13764-53ad-4218-b614-c3ca5fb40ad2",
      "metadata": {
        "id": "a0d13764-53ad-4218-b614-c3ca5fb40ad2"
      },
      "outputs": [
        {
          "data": {
            "text/html": [
              "<div>\n",
              "<style scoped>\n",
              "    .dataframe tbody tr th:only-of-type {\n",
              "        vertical-align: middle;\n",
              "    }\n",
              "\n",
              "    .dataframe tbody tr th {\n",
              "        vertical-align: top;\n",
              "    }\n",
              "\n",
              "    .dataframe thead th {\n",
              "        text-align: right;\n",
              "    }\n",
              "</style>\n",
              "<table border=\"1\" class=\"dataframe\">\n",
              "  <thead>\n",
              "    <tr style=\"text-align: right;\">\n",
              "      <th></th>\n",
              "      <th>customerID</th>\n",
              "      <th>gender</th>\n",
              "      <th>SeniorCitizen</th>\n",
              "      <th>Partner</th>\n",
              "      <th>Dependents</th>\n",
              "      <th>tenure</th>\n",
              "      <th>PhoneService</th>\n",
              "      <th>MultipleLines</th>\n",
              "      <th>InternetService</th>\n",
              "      <th>OnlineSecurity</th>\n",
              "      <th>OnlineBackup</th>\n",
              "      <th>DeviceProtection</th>\n",
              "      <th>TechSupport</th>\n",
              "      <th>StreamingTV</th>\n",
              "      <th>StreamingMovies</th>\n",
              "      <th>Contract</th>\n",
              "      <th>PaperlessBilling</th>\n",
              "      <th>PaymentMethod</th>\n",
              "      <th>MonthlyCharges</th>\n",
              "      <th>TotalCharges</th>\n",
              "      <th>Churn</th>\n",
              "    </tr>\n",
              "  </thead>\n",
              "  <tbody>\n",
              "    <tr>\n",
              "      <th>0</th>\n",
              "      <td>7590-VHVEG</td>\n",
              "      <td>Female</td>\n",
              "      <td>0</td>\n",
              "      <td>Yes</td>\n",
              "      <td>No</td>\n",
              "      <td>1</td>\n",
              "      <td>No</td>\n",
              "      <td>No phone service</td>\n",
              "      <td>DSL</td>\n",
              "      <td>No</td>\n",
              "      <td>Yes</td>\n",
              "      <td>No</td>\n",
              "      <td>No</td>\n",
              "      <td>No</td>\n",
              "      <td>No</td>\n",
              "      <td>Month-to-month</td>\n",
              "      <td>Yes</td>\n",
              "      <td>Electronic check</td>\n",
              "      <td>29.85</td>\n",
              "      <td>29.85</td>\n",
              "      <td>No</td>\n",
              "    </tr>\n",
              "    <tr>\n",
              "      <th>1</th>\n",
              "      <td>5575-GNVDE</td>\n",
              "      <td>Male</td>\n",
              "      <td>0</td>\n",
              "      <td>No</td>\n",
              "      <td>No</td>\n",
              "      <td>34</td>\n",
              "      <td>Yes</td>\n",
              "      <td>No</td>\n",
              "      <td>DSL</td>\n",
              "      <td>Yes</td>\n",
              "      <td>No</td>\n",
              "      <td>Yes</td>\n",
              "      <td>No</td>\n",
              "      <td>No</td>\n",
              "      <td>No</td>\n",
              "      <td>One year</td>\n",
              "      <td>No</td>\n",
              "      <td>Mailed check</td>\n",
              "      <td>56.95</td>\n",
              "      <td>1889.50</td>\n",
              "      <td>No</td>\n",
              "    </tr>\n",
              "    <tr>\n",
              "      <th>3</th>\n",
              "      <td>7795-CFOCW</td>\n",
              "      <td>Male</td>\n",
              "      <td>0</td>\n",
              "      <td>No</td>\n",
              "      <td>No</td>\n",
              "      <td>45</td>\n",
              "      <td>No</td>\n",
              "      <td>No phone service</td>\n",
              "      <td>DSL</td>\n",
              "      <td>Yes</td>\n",
              "      <td>No</td>\n",
              "      <td>Yes</td>\n",
              "      <td>Yes</td>\n",
              "      <td>No</td>\n",
              "      <td>No</td>\n",
              "      <td>One year</td>\n",
              "      <td>No</td>\n",
              "      <td>Bank transfer (automatic)</td>\n",
              "      <td>42.30</td>\n",
              "      <td>1840.75</td>\n",
              "      <td>No</td>\n",
              "    </tr>\n",
              "    <tr>\n",
              "      <th>6</th>\n",
              "      <td>1452-KIOVK</td>\n",
              "      <td>Male</td>\n",
              "      <td>0</td>\n",
              "      <td>No</td>\n",
              "      <td>Yes</td>\n",
              "      <td>22</td>\n",
              "      <td>Yes</td>\n",
              "      <td>Yes</td>\n",
              "      <td>Fiber optic</td>\n",
              "      <td>No</td>\n",
              "      <td>Yes</td>\n",
              "      <td>No</td>\n",
              "      <td>No</td>\n",
              "      <td>Yes</td>\n",
              "      <td>No</td>\n",
              "      <td>Month-to-month</td>\n",
              "      <td>Yes</td>\n",
              "      <td>Credit card (automatic)</td>\n",
              "      <td>89.10</td>\n",
              "      <td>1949.40</td>\n",
              "      <td>No</td>\n",
              "    </tr>\n",
              "    <tr>\n",
              "      <th>7</th>\n",
              "      <td>6713-OKOMC</td>\n",
              "      <td>Female</td>\n",
              "      <td>0</td>\n",
              "      <td>No</td>\n",
              "      <td>No</td>\n",
              "      <td>10</td>\n",
              "      <td>No</td>\n",
              "      <td>No phone service</td>\n",
              "      <td>DSL</td>\n",
              "      <td>Yes</td>\n",
              "      <td>No</td>\n",
              "      <td>No</td>\n",
              "      <td>No</td>\n",
              "      <td>No</td>\n",
              "      <td>No</td>\n",
              "      <td>Month-to-month</td>\n",
              "      <td>No</td>\n",
              "      <td>Mailed check</td>\n",
              "      <td>29.75</td>\n",
              "      <td>301.90</td>\n",
              "      <td>No</td>\n",
              "    </tr>\n",
              "  </tbody>\n",
              "</table>\n",
              "</div>"
            ],
            "text/plain": [
              "   customerID  gender  SeniorCitizen Partner Dependents  tenure PhoneService   \n",
              "0  7590-VHVEG  Female              0     Yes         No       1           No  \\\n",
              "1  5575-GNVDE    Male              0      No         No      34          Yes   \n",
              "3  7795-CFOCW    Male              0      No         No      45           No   \n",
              "6  1452-KIOVK    Male              0      No        Yes      22          Yes   \n",
              "7  6713-OKOMC  Female              0      No         No      10           No   \n",
              "\n",
              "      MultipleLines InternetService OnlineSecurity OnlineBackup   \n",
              "0  No phone service             DSL             No          Yes  \\\n",
              "1                No             DSL            Yes           No   \n",
              "3  No phone service             DSL            Yes           No   \n",
              "6               Yes     Fiber optic             No          Yes   \n",
              "7  No phone service             DSL            Yes           No   \n",
              "\n",
              "  DeviceProtection TechSupport StreamingTV StreamingMovies        Contract   \n",
              "0               No          No          No              No  Month-to-month  \\\n",
              "1              Yes          No          No              No        One year   \n",
              "3              Yes         Yes          No              No        One year   \n",
              "6               No          No         Yes              No  Month-to-month   \n",
              "7               No          No          No              No  Month-to-month   \n",
              "\n",
              "  PaperlessBilling              PaymentMethod  MonthlyCharges  TotalCharges   \n",
              "0              Yes           Electronic check           29.85         29.85  \\\n",
              "1               No               Mailed check           56.95       1889.50   \n",
              "3               No  Bank transfer (automatic)           42.30       1840.75   \n",
              "6              Yes    Credit card (automatic)           89.10       1949.40   \n",
              "7               No               Mailed check           29.75        301.90   \n",
              "\n",
              "  Churn  \n",
              "0    No  \n",
              "1    No  \n",
              "3    No  \n",
              "6    No  \n",
              "7    No  "
            ]
          },
          "execution_count": 17,
          "metadata": {},
          "output_type": "execute_result"
        }
      ],
      "source": [
        "churn_no = df[df['Churn'] == 'No']\n",
        "churn_no.head()"
      ]
    },
    {
      "cell_type": "code",
      "execution_count": 18,
      "id": "175eda47",
      "metadata": {},
      "outputs": [
        {
          "data": {
            "text/html": [
              "<div>\n",
              "<style scoped>\n",
              "    .dataframe tbody tr th:only-of-type {\n",
              "        vertical-align: middle;\n",
              "    }\n",
              "\n",
              "    .dataframe tbody tr th {\n",
              "        vertical-align: top;\n",
              "    }\n",
              "\n",
              "    .dataframe thead th {\n",
              "        text-align: right;\n",
              "    }\n",
              "</style>\n",
              "<table border=\"1\" class=\"dataframe\">\n",
              "  <thead>\n",
              "    <tr style=\"text-align: right;\">\n",
              "      <th></th>\n",
              "      <th>customerID</th>\n",
              "      <th>gender</th>\n",
              "      <th>SeniorCitizen</th>\n",
              "      <th>Partner</th>\n",
              "      <th>Dependents</th>\n",
              "      <th>tenure</th>\n",
              "      <th>PhoneService</th>\n",
              "      <th>MultipleLines</th>\n",
              "      <th>InternetService</th>\n",
              "      <th>OnlineSecurity</th>\n",
              "      <th>OnlineBackup</th>\n",
              "      <th>DeviceProtection</th>\n",
              "      <th>TechSupport</th>\n",
              "      <th>StreamingTV</th>\n",
              "      <th>StreamingMovies</th>\n",
              "      <th>Contract</th>\n",
              "      <th>PaperlessBilling</th>\n",
              "      <th>PaymentMethod</th>\n",
              "      <th>MonthlyCharges</th>\n",
              "      <th>TotalCharges</th>\n",
              "      <th>Churn</th>\n",
              "    </tr>\n",
              "  </thead>\n",
              "  <tbody>\n",
              "    <tr>\n",
              "      <th>2</th>\n",
              "      <td>3668-QPYBK</td>\n",
              "      <td>Male</td>\n",
              "      <td>0</td>\n",
              "      <td>No</td>\n",
              "      <td>No</td>\n",
              "      <td>2</td>\n",
              "      <td>Yes</td>\n",
              "      <td>No</td>\n",
              "      <td>DSL</td>\n",
              "      <td>Yes</td>\n",
              "      <td>Yes</td>\n",
              "      <td>No</td>\n",
              "      <td>No</td>\n",
              "      <td>No</td>\n",
              "      <td>No</td>\n",
              "      <td>Month-to-month</td>\n",
              "      <td>Yes</td>\n",
              "      <td>Mailed check</td>\n",
              "      <td>53.85</td>\n",
              "      <td>108.15</td>\n",
              "      <td>Yes</td>\n",
              "    </tr>\n",
              "    <tr>\n",
              "      <th>4</th>\n",
              "      <td>9237-HQITU</td>\n",
              "      <td>Female</td>\n",
              "      <td>0</td>\n",
              "      <td>No</td>\n",
              "      <td>No</td>\n",
              "      <td>2</td>\n",
              "      <td>Yes</td>\n",
              "      <td>No</td>\n",
              "      <td>Fiber optic</td>\n",
              "      <td>No</td>\n",
              "      <td>No</td>\n",
              "      <td>No</td>\n",
              "      <td>No</td>\n",
              "      <td>No</td>\n",
              "      <td>No</td>\n",
              "      <td>Month-to-month</td>\n",
              "      <td>Yes</td>\n",
              "      <td>Electronic check</td>\n",
              "      <td>70.70</td>\n",
              "      <td>151.65</td>\n",
              "      <td>Yes</td>\n",
              "    </tr>\n",
              "    <tr>\n",
              "      <th>5</th>\n",
              "      <td>9305-CDSKC</td>\n",
              "      <td>Female</td>\n",
              "      <td>0</td>\n",
              "      <td>No</td>\n",
              "      <td>No</td>\n",
              "      <td>8</td>\n",
              "      <td>Yes</td>\n",
              "      <td>Yes</td>\n",
              "      <td>Fiber optic</td>\n",
              "      <td>No</td>\n",
              "      <td>No</td>\n",
              "      <td>Yes</td>\n",
              "      <td>No</td>\n",
              "      <td>Yes</td>\n",
              "      <td>Yes</td>\n",
              "      <td>Month-to-month</td>\n",
              "      <td>Yes</td>\n",
              "      <td>Electronic check</td>\n",
              "      <td>99.65</td>\n",
              "      <td>820.50</td>\n",
              "      <td>Yes</td>\n",
              "    </tr>\n",
              "    <tr>\n",
              "      <th>8</th>\n",
              "      <td>7892-POOKP</td>\n",
              "      <td>Female</td>\n",
              "      <td>0</td>\n",
              "      <td>Yes</td>\n",
              "      <td>No</td>\n",
              "      <td>28</td>\n",
              "      <td>Yes</td>\n",
              "      <td>Yes</td>\n",
              "      <td>Fiber optic</td>\n",
              "      <td>No</td>\n",
              "      <td>No</td>\n",
              "      <td>Yes</td>\n",
              "      <td>Yes</td>\n",
              "      <td>Yes</td>\n",
              "      <td>Yes</td>\n",
              "      <td>Month-to-month</td>\n",
              "      <td>Yes</td>\n",
              "      <td>Electronic check</td>\n",
              "      <td>104.80</td>\n",
              "      <td>3046.05</td>\n",
              "      <td>Yes</td>\n",
              "    </tr>\n",
              "    <tr>\n",
              "      <th>13</th>\n",
              "      <td>0280-XJGEX</td>\n",
              "      <td>Male</td>\n",
              "      <td>0</td>\n",
              "      <td>No</td>\n",
              "      <td>No</td>\n",
              "      <td>49</td>\n",
              "      <td>Yes</td>\n",
              "      <td>Yes</td>\n",
              "      <td>Fiber optic</td>\n",
              "      <td>No</td>\n",
              "      <td>Yes</td>\n",
              "      <td>Yes</td>\n",
              "      <td>No</td>\n",
              "      <td>Yes</td>\n",
              "      <td>Yes</td>\n",
              "      <td>Month-to-month</td>\n",
              "      <td>Yes</td>\n",
              "      <td>Bank transfer (automatic)</td>\n",
              "      <td>103.70</td>\n",
              "      <td>5036.30</td>\n",
              "      <td>Yes</td>\n",
              "    </tr>\n",
              "  </tbody>\n",
              "</table>\n",
              "</div>"
            ],
            "text/plain": [
              "    customerID  gender  SeniorCitizen Partner Dependents  tenure PhoneService   \n",
              "2   3668-QPYBK    Male              0      No         No       2          Yes  \\\n",
              "4   9237-HQITU  Female              0      No         No       2          Yes   \n",
              "5   9305-CDSKC  Female              0      No         No       8          Yes   \n",
              "8   7892-POOKP  Female              0     Yes         No      28          Yes   \n",
              "13  0280-XJGEX    Male              0      No         No      49          Yes   \n",
              "\n",
              "   MultipleLines InternetService OnlineSecurity OnlineBackup DeviceProtection   \n",
              "2             No             DSL            Yes          Yes               No  \\\n",
              "4             No     Fiber optic             No           No               No   \n",
              "5            Yes     Fiber optic             No           No              Yes   \n",
              "8            Yes     Fiber optic             No           No              Yes   \n",
              "13           Yes     Fiber optic             No          Yes              Yes   \n",
              "\n",
              "   TechSupport StreamingTV StreamingMovies        Contract PaperlessBilling   \n",
              "2           No          No              No  Month-to-month              Yes  \\\n",
              "4           No          No              No  Month-to-month              Yes   \n",
              "5           No         Yes             Yes  Month-to-month              Yes   \n",
              "8          Yes         Yes             Yes  Month-to-month              Yes   \n",
              "13          No         Yes             Yes  Month-to-month              Yes   \n",
              "\n",
              "                PaymentMethod  MonthlyCharges  TotalCharges Churn  \n",
              "2                Mailed check           53.85        108.15   Yes  \n",
              "4            Electronic check           70.70        151.65   Yes  \n",
              "5            Electronic check           99.65        820.50   Yes  \n",
              "8            Electronic check          104.80       3046.05   Yes  \n",
              "13  Bank transfer (automatic)          103.70       5036.30   Yes  "
            ]
          },
          "execution_count": 18,
          "metadata": {},
          "output_type": "execute_result"
        }
      ],
      "source": [
        "churn_yes = df[df['Churn'] == 'Yes']\n",
        "churn_yes.head()"
      ]
    },
    {
      "cell_type": "code",
      "execution_count": 19,
      "id": "4456091b",
      "metadata": {},
      "outputs": [
        {
          "data": {
            "text/plain": [
              "37.56996521066873"
            ]
          },
          "execution_count": 19,
          "metadata": {},
          "output_type": "execute_result"
        }
      ],
      "source": [
        "churn_no['tenure'].mean()"
      ]
    },
    {
      "cell_type": "code",
      "execution_count": 20,
      "id": "2f2cef3d",
      "metadata": {},
      "outputs": [
        {
          "data": {
            "text/plain": [
              "17.979133226324237"
            ]
          },
          "execution_count": 20,
          "metadata": {},
          "output_type": "execute_result"
        }
      ],
      "source": [
        "churn_yes['tenure'].mean()"
      ]
    },
    {
      "cell_type": "code",
      "execution_count": 21,
      "id": "adb91372",
      "metadata": {},
      "outputs": [
        {
          "name": "stdout",
          "output_type": "stream",
          "text": [
            "P-value:0.00000. Нулевая гипотеза отвергается\n"
          ]
        }
      ],
      "source": [
        "t_stat, pvalue = stats.ttest_ind(churn_no['tenure'], churn_yes['tenure'])\n",
        "alpha = .05\n",
        "\n",
        "if pvalue < alpha:\n",
        "    print(f'P-value:{pvalue:.5f}. Нулевая гипотеза отвергается')\n",
        "else:\n",
        "    print(f'P-value:{pvalue:.5f}. Подтверждается нулевая гипотеза')"
      ]
    },
    {
      "attachments": {},
      "cell_type": "markdown",
      "id": "13193283",
      "metadata": {},
      "source": [
        "Альтернативная Гипотеза подтверждена — среднее количество месяцев, в течение которых клиент оставался в компании, отличается между двумя выборками."
      ]
    },
    {
      "attachments": {},
      "cell_type": "markdown",
      "id": "66691f06-afde-4300-99f9-a4c781878d68",
      "metadata": {
        "id": "66691f06-afde-4300-99f9-a4c781878d68"
      },
      "source": [
        "**Вывод:**"
      ]
    },
    {
      "attachments": {},
      "cell_type": "markdown",
      "id": "182612f7",
      "metadata": {
        "id": "182612f7",
        "papermill": {
          "duration": 0.135397,
          "end_time": "2022-09-17T00:13:13.186292",
          "exception": false,
          "start_time": "2022-09-17T00:13:13.050895",
          "status": "completed"
        },
        "tags": []
      },
      "source": [
        "## 5. Статистический анализ на норму"
      ]
    },
    {
      "attachments": {},
      "cell_type": "markdown",
      "id": "c9cdddbd-896d-48af-9b88-662204560cb7",
      "metadata": {
        "id": "c9cdddbd-896d-48af-9b88-662204560cb7"
      },
      "source": [
        "Задание: выберите числовые признаки и проведите анализ — соответствуют ли распределения нормальному?"
      ]
    },
    {
      "attachments": {},
      "cell_type": "markdown",
      "id": "1bfe3b04",
      "metadata": {},
      "source": [
        "**Нулевая гипотеза - распределение значений в выборке соответствует нормальному распределению**\n",
        "**Альтернативная гипотеза - распределение значений в выборке не соответствует нормальному распределению**"
      ]
    },
    {
      "cell_type": "code",
      "execution_count": 21,
      "id": "7cf1ce3c-4ee0-4a63-a3fc-a0ef35e759f6",
      "metadata": {
        "id": "7cf1ce3c-4ee0-4a63-a3fc-a0ef35e759f6"
      },
      "outputs": [
        {
          "data": {
            "text/plain": [
              "array([[<Axes: title={'center': 'SeniorCitizen'}>,\n",
              "        <Axes: title={'center': 'tenure'}>],\n",
              "       [<Axes: title={'center': 'MonthlyCharges'}>,\n",
              "        <Axes: title={'center': 'TotalCharges'}>]], dtype=object)"
            ]
          },
          "execution_count": 21,
          "metadata": {},
          "output_type": "execute_result"
        },
        {
          "data": {
            "image/png": "[encoded data removed]",
            "text/plain": [
              "<Figure size 1000x500 with 4 Axes>"
            ]
          },
          "metadata": {},
          "output_type": "display_data"
        }
      ],
      "source": [
        "df.hist(bins=20, figsize=(10,5))"
      ]
    },
    {
      "attachments": {},
      "cell_type": "markdown",
      "id": "4f4ce47b",
      "metadata": {},
      "source": [
        "Просто взглянув на эту гистограмму, мы можем сказать, что набор данных не имеет «колокольчатой формы» и не имеет нормального распределения."
      ]
    },
    {
      "cell_type": "code",
      "execution_count": 22,
      "id": "c5c7251c-09de-40c2-8fc6-372e9dc30d19",
      "metadata": {
        "id": "c5c7251c-09de-40c2-8fc6-372e9dc30d19"
      },
      "outputs": [
        {
          "data": {
            "image/png": "[encoded data removed]",
            "text/plain": [
              "<Figure size 640x480 with 1 Axes>"
            ]
          },
          "metadata": {},
          "output_type": "display_data"
        }
      ],
      "source": [
        "import pylab\n",
        "\n",
        "stats.probplot(df['SeniorCitizen'], dist='norm', plot=pylab)\n",
        "pylab.show()"
      ]
    },
    {
      "cell_type": "code",
      "execution_count": 23,
      "id": "428f01cb",
      "metadata": {},
      "outputs": [
        {
          "data": {
            "image/png": "[encoded data removed]",
            "text/plain": [
              "<Figure size 640x480 with 1 Axes>"
            ]
          },
          "metadata": {},
          "output_type": "display_data"
        }
      ],
      "source": [
        "stats.probplot(df['tenure'], dist='norm', plot=pylab)\n",
        "pylab.show()"
      ]
    },
    {
      "cell_type": "code",
      "execution_count": 24,
      "id": "5d886e21",
      "metadata": {},
      "outputs": [
        {
          "data": {
            "image/png": "[encoded data removed]",
            "text/plain": [
              "<Figure size 640x480 with 1 Axes>"
            ]
          },
          "metadata": {},
          "output_type": "display_data"
        }
      ],
      "source": [
        "stats.probplot(df['MonthlyCharges'], dist='norm', plot=pylab)\n",
        "pylab.show()"
      ]
    },
    {
      "cell_type": "code",
      "execution_count": 25,
      "id": "fe1942cb",
      "metadata": {},
      "outputs": [
        {
          "data": {
            "image/png": "[encoded data removed]",
            "text/plain": [
              "<Figure size 640x480 with 1 Axes>"
            ]
          },
          "metadata": {},
          "output_type": "display_data"
        }
      ],
      "source": [
        "stats.probplot(df['TotalCharges'], dist='norm', plot=pylab)\n",
        "pylab.show()"
      ]
    },
    {
      "attachments": {},
      "cell_type": "markdown",
      "id": "27431a45",
      "metadata": {},
      "source": [
        "На этих графиках мы так же видим не нормальное распределение, так как при нормальном все точки были бы расположены вдоль \"диагональной\" линии"
      ]
    },
    {
      "cell_type": "code",
      "execution_count": 26,
      "id": "3ef98488",
      "metadata": {},
      "outputs": [
        {
          "name": "stdout",
          "output_type": "stream",
          "text": [
            "ShapiroResult(statistic=0.4433855414390564, pvalue=0.0)\n",
            "ShapiroResult(statistic=0.9037514925003052, pvalue=0.0)\n",
            "ShapiroResult(statistic=0.9208890199661255, pvalue=0.0)\n",
            "ShapiroResult(statistic=0.8601522445678711, pvalue=0.0)\n"
          ]
        },
        {
          "name": "stderr",
          "output_type": "stream",
          "text": [
            "C:\\Users\\1will\\AppData\\Local\\Packages\\PythonSoftwareFoundation.Python.3.10_qbz5n2kfra8p0\\LocalCache\\local-packages\\Python310\\site-packages\\scipy\\stats\\_morestats.py:1816: UserWarning: p-value may not be accurate for N > 5000.\n",
            "  warnings.warn(\"p-value may not be accurate for N > 5000.\")\n"
          ]
        }
      ],
      "source": [
        "from scipy.stats import shapiro \n",
        "\n",
        "df_ = np.random.normal(loc=50, scale=20, size=5000)\n",
        "\n",
        "print(shapiro(df['SeniorCitizen']))\n",
        "print(shapiro(df['tenure']))\n",
        "print(shapiro(df['MonthlyCharges']))\n",
        "print(shapiro(df['TotalCharges']))"
      ]
    },
    {
      "attachments": {},
      "cell_type": "markdown",
      "id": "744d1828",
      "metadata": {},
      "source": [
        "Поскольку p-значение меньше 0,05, мы отвергаем нулевую гипотезу "
      ]
    },
    {
      "attachments": {},
      "cell_type": "markdown",
      "id": "3200f21d",
      "metadata": {},
      "source": [
        "Это означает, что у нас есть достаточно доказательств, чтобы сказать, что данные выборки не получены из нормального распределения."
      ]
    },
    {
      "attachments": {},
      "cell_type": "markdown",
      "id": "b9040662-d2e5-4bfe-9d50-e7070ea54714",
      "metadata": {
        "id": "b9040662-d2e5-4bfe-9d50-e7070ea54714"
      },
      "source": [
        "**Вывод:**"
      ]
    },
    {
      "attachments": {},
      "cell_type": "markdown",
      "id": "05ce9884",
      "metadata": {},
      "source": [
        "На выборке из 7043 строк мы проверили следующую работу:\n",
        "\n",
        "- Посмотрели общую статистику по количественным и категориальным переменным\n",
        "- Преобразовали колонку TotalCharges для анализа\n",
        "- Проверили выборки по `Churn='No'` и `Churn='Yes'`, подтвердили альтернативную гипотезу (среднее количество месяцев, в течение которых клиент оставался в компании, отличается между двумя выборками)\n",
        "- Проверили выборку на нормальное распределение и подтвердили альтернативную гипотезу (распределение значений в выборке не соответствует нормальному распределению)"
      ]
    },
    {
      "attachments": {},
      "cell_type": "markdown",
      "id": "c99ad67d-b05b-42d2-bf68-3f887a938f35",
      "metadata": {
        "id": "c99ad67d-b05b-42d2-bf68-3f887a938f35",
        "tags": []
      },
      "source": [
        "## 6. ЗАДАЧИ PRO"
      ]
    },
    {
      "attachments": {},
      "cell_type": "markdown",
      "id": "21df731c-c6c5-48e5-8ea0-a8231b8a0141",
      "metadata": {
        "id": "21df731c-c6c5-48e5-8ea0-a8231b8a0141"
      },
      "source": [
        "Мы провели базовый анализ выше и сделали выводы.\n",
        "\n",
        "Но требование заказчика — выяснить причину ухода клиента.\n",
        "\n",
        "Ваша задача — провести полный анализ с помощью статистических гипотез взаимосвязи всех признаков с нашим таргетом `Churn` (целевым признаком). \n",
        "\n",
        "**Этапы:**\n",
        "\n",
        "1.\tПредобработка данных — измените датасет в части: категориальные признаки надо перевести в числовые представления. Главное —понимать взаимосвязь: бинарный признак, порядковый, просто категории или что-то иное.\n",
        "2.\tВыберите нужные гипотезы, основываясь на типах признаков.\n",
        "3.\tПроведите анализ и выясните, почему клиент уходит, с чем коррелирует Churn, может это зависит от пола клиента? Или есть иные обстоятельства?\n",
        "4.\tПосле проверки гипотез постройте тепловую карту корреляции Phik и сделайте дополнительный вывод.\n",
        "5.\tДополните общий вывод.\n",
        "\n",
        "\n",
        "**Примечание:** задание не ограничено только этими этапами. Можно их дополнить — может стоит сделать фильтр данных, рассмотреть данные под другим углом и провести дополнительную аналитику? Средствами и методами не ограничены."
      ]
    },
    {
      "attachments": {},
      "cell_type": "markdown",
      "id": "3dbda88f",
      "metadata": {},
      "source": [
        "Сначала взглянем на общую таблицу и подумаем какие категориальные признаки надо перевести в числовые представления"
      ]
    },
    {
      "cell_type": "code",
      "execution_count": 36,
      "id": "4e44f617",
      "metadata": {},
      "outputs": [
        {
          "data": {
            "text/html": [
              "<div>\n",
              "<style scoped>\n",
              "    .dataframe tbody tr th:only-of-type {\n",
              "        vertical-align: middle;\n",
              "    }\n",
              "\n",
              "    .dataframe tbody tr th {\n",
              "        vertical-align: top;\n",
              "    }\n",
              "\n",
              "    .dataframe thead th {\n",
              "        text-align: right;\n",
              "    }\n",
              "</style>\n",
              "<table border=\"1\" class=\"dataframe\">\n",
              "  <thead>\n",
              "    <tr style=\"text-align: right;\">\n",
              "      <th></th>\n",
              "      <th>customerID</th>\n",
              "      <th>gender</th>\n",
              "      <th>SeniorCitizen</th>\n",
              "      <th>Partner</th>\n",
              "      <th>Dependents</th>\n",
              "      <th>tenure</th>\n",
              "      <th>PhoneService</th>\n",
              "      <th>MultipleLines</th>\n",
              "      <th>InternetService</th>\n",
              "      <th>OnlineSecurity</th>\n",
              "      <th>OnlineBackup</th>\n",
              "      <th>DeviceProtection</th>\n",
              "      <th>TechSupport</th>\n",
              "      <th>StreamingTV</th>\n",
              "      <th>StreamingMovies</th>\n",
              "      <th>Contract</th>\n",
              "      <th>PaperlessBilling</th>\n",
              "      <th>PaymentMethod</th>\n",
              "      <th>MonthlyCharges</th>\n",
              "      <th>TotalCharges</th>\n",
              "      <th>Churn</th>\n",
              "    </tr>\n",
              "  </thead>\n",
              "  <tbody>\n",
              "    <tr>\n",
              "      <th>0</th>\n",
              "      <td>7590-VHVEG</td>\n",
              "      <td>Female</td>\n",
              "      <td>0</td>\n",
              "      <td>Yes</td>\n",
              "      <td>No</td>\n",
              "      <td>1</td>\n",
              "      <td>No</td>\n",
              "      <td>No phone service</td>\n",
              "      <td>DSL</td>\n",
              "      <td>No</td>\n",
              "      <td>Yes</td>\n",
              "      <td>No</td>\n",
              "      <td>No</td>\n",
              "      <td>No</td>\n",
              "      <td>No</td>\n",
              "      <td>Month-to-month</td>\n",
              "      <td>Yes</td>\n",
              "      <td>Electronic check</td>\n",
              "      <td>29.85</td>\n",
              "      <td>29.85</td>\n",
              "      <td>No</td>\n",
              "    </tr>\n",
              "    <tr>\n",
              "      <th>1</th>\n",
              "      <td>5575-GNVDE</td>\n",
              "      <td>Male</td>\n",
              "      <td>0</td>\n",
              "      <td>No</td>\n",
              "      <td>No</td>\n",
              "      <td>34</td>\n",
              "      <td>Yes</td>\n",
              "      <td>No</td>\n",
              "      <td>DSL</td>\n",
              "      <td>Yes</td>\n",
              "      <td>No</td>\n",
              "      <td>Yes</td>\n",
              "      <td>No</td>\n",
              "      <td>No</td>\n",
              "      <td>No</td>\n",
              "      <td>One year</td>\n",
              "      <td>No</td>\n",
              "      <td>Mailed check</td>\n",
              "      <td>56.95</td>\n",
              "      <td>1889.50</td>\n",
              "      <td>No</td>\n",
              "    </tr>\n",
              "    <tr>\n",
              "      <th>2</th>\n",
              "      <td>3668-QPYBK</td>\n",
              "      <td>Male</td>\n",
              "      <td>0</td>\n",
              "      <td>No</td>\n",
              "      <td>No</td>\n",
              "      <td>2</td>\n",
              "      <td>Yes</td>\n",
              "      <td>No</td>\n",
              "      <td>DSL</td>\n",
              "      <td>Yes</td>\n",
              "      <td>Yes</td>\n",
              "      <td>No</td>\n",
              "      <td>No</td>\n",
              "      <td>No</td>\n",
              "      <td>No</td>\n",
              "      <td>Month-to-month</td>\n",
              "      <td>Yes</td>\n",
              "      <td>Mailed check</td>\n",
              "      <td>53.85</td>\n",
              "      <td>108.15</td>\n",
              "      <td>Yes</td>\n",
              "    </tr>\n",
              "    <tr>\n",
              "      <th>3</th>\n",
              "      <td>7795-CFOCW</td>\n",
              "      <td>Male</td>\n",
              "      <td>0</td>\n",
              "      <td>No</td>\n",
              "      <td>No</td>\n",
              "      <td>45</td>\n",
              "      <td>No</td>\n",
              "      <td>No phone service</td>\n",
              "      <td>DSL</td>\n",
              "      <td>Yes</td>\n",
              "      <td>No</td>\n",
              "      <td>Yes</td>\n",
              "      <td>Yes</td>\n",
              "      <td>No</td>\n",
              "      <td>No</td>\n",
              "      <td>One year</td>\n",
              "      <td>No</td>\n",
              "      <td>Bank transfer (automatic)</td>\n",
              "      <td>42.30</td>\n",
              "      <td>1840.75</td>\n",
              "      <td>No</td>\n",
              "    </tr>\n",
              "    <tr>\n",
              "      <th>4</th>\n",
              "      <td>9237-HQITU</td>\n",
              "      <td>Female</td>\n",
              "      <td>0</td>\n",
              "      <td>No</td>\n",
              "      <td>No</td>\n",
              "      <td>2</td>\n",
              "      <td>Yes</td>\n",
              "      <td>No</td>\n",
              "      <td>Fiber optic</td>\n",
              "      <td>No</td>\n",
              "      <td>No</td>\n",
              "      <td>No</td>\n",
              "      <td>No</td>\n",
              "      <td>No</td>\n",
              "      <td>No</td>\n",
              "      <td>Month-to-month</td>\n",
              "      <td>Yes</td>\n",
              "      <td>Electronic check</td>\n",
              "      <td>70.70</td>\n",
              "      <td>151.65</td>\n",
              "      <td>Yes</td>\n",
              "    </tr>\n",
              "  </tbody>\n",
              "</table>\n",
              "</div>"
            ],
            "text/plain": [
              "   customerID  gender  SeniorCitizen Partner Dependents  tenure PhoneService   \n",
              "0  7590-VHVEG  Female              0     Yes         No       1           No  \\\n",
              "1  5575-GNVDE    Male              0      No         No      34          Yes   \n",
              "2  3668-QPYBK    Male              0      No         No       2          Yes   \n",
              "3  7795-CFOCW    Male              0      No         No      45           No   \n",
              "4  9237-HQITU  Female              0      No         No       2          Yes   \n",
              "\n",
              "      MultipleLines InternetService OnlineSecurity OnlineBackup   \n",
              "0  No phone service             DSL             No          Yes  \\\n",
              "1                No             DSL            Yes           No   \n",
              "2                No             DSL            Yes          Yes   \n",
              "3  No phone service             DSL            Yes           No   \n",
              "4                No     Fiber optic             No           No   \n",
              "\n",
              "  DeviceProtection TechSupport StreamingTV StreamingMovies        Contract   \n",
              "0               No          No          No              No  Month-to-month  \\\n",
              "1              Yes          No          No              No        One year   \n",
              "2               No          No          No              No  Month-to-month   \n",
              "3              Yes         Yes          No              No        One year   \n",
              "4               No          No          No              No  Month-to-month   \n",
              "\n",
              "  PaperlessBilling              PaymentMethod  MonthlyCharges  TotalCharges   \n",
              "0              Yes           Electronic check           29.85         29.85  \\\n",
              "1               No               Mailed check           56.95       1889.50   \n",
              "2              Yes               Mailed check           53.85        108.15   \n",
              "3               No  Bank transfer (automatic)           42.30       1840.75   \n",
              "4              Yes           Electronic check           70.70        151.65   \n",
              "\n",
              "  Churn  \n",
              "0    No  \n",
              "1    No  \n",
              "2   Yes  \n",
              "3    No  \n",
              "4   Yes  "
            ]
          },
          "execution_count": 36,
          "metadata": {},
          "output_type": "execute_result"
        }
      ],
      "source": [
        "df.head()"
      ]
    },
    {
      "attachments": {},
      "cell_type": "markdown",
      "id": "847e1b27",
      "metadata": {},
      "source": [
        "На мой взгляд нужно перевести значения: \n",
        "**- gender** 2 уникальных значения ['Female', 'Male']\n",
        "**- Partner** 2 уникальных значения ['Yes', 'No']\n",
        "**- Dependents** 2 уникальных значения ['Yes', 'No']\n",
        "**- PhoneService** 2 уникальных значения ['Yes', 'No']\n",
        "**- MultipleLines** 3 уникальных значения ['No phone service', 'No', 'Yes']\n",
        "**- InternetService** 3 уникальных значения ['DSL', 'Fiber optic', 'No']\n",
        "**- OnlineSecurity** 3 уникальных значения ['No', 'Yes', 'No internet service']\n",
        "**- OnlineBackup** 3 уникальных значения ['No', 'Yes', 'No internet service']\n",
        "**- DeviceProtection** 3 уникальных значения ['No', 'Yes', 'No internet service']\n",
        "**- TechSupport** 3 уникальных значения ['No', 'Yes', 'No internet service']\n",
        "**- StreamingTV** 3 уникальных значения ['No', 'Yes', 'No internet service']\n",
        "**- StreamingMovies** 3 уникальных значения ['No', 'Yes', 'No internet service']\n",
        "**- Contract** 3 уникальных значения ['Month-to-month', 'One year', 'Two year']\n",
        "**- PaymentMethod** 4 уникальных значения ['Electronic check', 'Mailed check', 'Bank transfer (automatic)', 'Credit card (automatic)']\n",
        "\n",
        "Ну и соответственно Churn:\n",
        "**- Churn** 2 уникальных значения ['Yes', 'No']"
      ]
    },
    {
      "cell_type": "code",
      "execution_count": 77,
      "id": "0914e48b",
      "metadata": {},
      "outputs": [],
      "source": [
        "df['gender'] = pd.factorize(df['gender'])[ 0 ]                      # 0-Female          1-Male\n",
        "df['Partner'] = pd.factorize(df['Partner'])[ 0 ]                    # 1-Yes             0-No\n",
        "df['Dependents'] = pd.factorize(df['Dependents'])[ 0 ]              # 1-Yes             0-No\n",
        "df['PhoneService'] = pd.factorize(df['PhoneService'])[ 0 ]          # 1-Yes             0-No\n",
        "df['MultipleLines'] = pd.factorize(df['MultipleLines'])[ 0 ]        # 2-Yes             1-No                0-No phone service\n",
        "df['InternetService'] = pd.factorize(df['InternetService'])[ 0 ]    # 0-DSL             1-Fiber optic       2-No\n",
        "df['OnlineSecurity'] = pd.factorize(df['OnlineSecurity'])[ 0 ]      # 1-Yes             0-No                2-No internet service\n",
        "df['OnlineBackup'] = pd.factorize(df['OnlineBackup'])[ 0 ]          # 1-Yes             0-No                2-No internet service\n",
        "df['DeviceProtection'] = pd.factorize(df['DeviceProtection'])[ 0 ]  # 1-Yes             0-No                2-No internet service\n",
        "df['TechSupport'] = pd.factorize(df['TechSupport'])[ 0 ]            # 1-Yes             0-No                2-No internet service\n",
        "df['StreamingTV'] = pd.factorize(df['StreamingTV'])[ 0 ]            # 1-Yes             0-No                2-No internet service\n",
        "df['StreamingMovies'] = pd.factorize(df['StreamingMovies'])[ 0 ]    # 1-Yes             0-No                2-No internet service\n",
        "df['Contract'] = pd.factorize(df['Contract'])[ 0 ]                  # 0-Month-to-month  2-One year          1-Two year\n",
        "df['PaymentMethod'] = pd.factorize(df['PaymentMethod'])[ 0 ]        # 0-Electronic check    1-Mailed check  2-Bank transfer (automatic)     3-Credit card (automatic)\n",
        "df['Churn'] = pd.factorize(df['Churn'])[ 0 ]                        # 1-Yes             0-No"
      ]
    },
    {
      "cell_type": "code",
      "execution_count": 95,
      "id": "a1378b2b",
      "metadata": {},
      "outputs": [
        {
          "data": {
            "text/html": [
              "<div>\n",
              "<style scoped>\n",
              "    .dataframe tbody tr th:only-of-type {\n",
              "        vertical-align: middle;\n",
              "    }\n",
              "\n",
              "    .dataframe tbody tr th {\n",
              "        vertical-align: top;\n",
              "    }\n",
              "\n",
              "    .dataframe thead th {\n",
              "        text-align: right;\n",
              "    }\n",
              "</style>\n",
              "<table border=\"1\" class=\"dataframe\">\n",
              "  <thead>\n",
              "    <tr style=\"text-align: right;\">\n",
              "      <th></th>\n",
              "      <th>customerID</th>\n",
              "      <th>gender</th>\n",
              "      <th>SeniorCitizen</th>\n",
              "      <th>Partner</th>\n",
              "      <th>Dependents</th>\n",
              "      <th>tenure</th>\n",
              "      <th>PhoneService</th>\n",
              "      <th>MultipleLines</th>\n",
              "      <th>InternetService</th>\n",
              "      <th>OnlineSecurity</th>\n",
              "      <th>OnlineBackup</th>\n",
              "      <th>DeviceProtection</th>\n",
              "      <th>TechSupport</th>\n",
              "      <th>StreamingTV</th>\n",
              "      <th>StreamingMovies</th>\n",
              "      <th>Contract</th>\n",
              "      <th>PaperlessBilling</th>\n",
              "      <th>PaymentMethod</th>\n",
              "      <th>MonthlyCharges</th>\n",
              "      <th>TotalCharges</th>\n",
              "      <th>Churn</th>\n",
              "    </tr>\n",
              "  </thead>\n",
              "  <tbody>\n",
              "    <tr>\n",
              "      <th>0</th>\n",
              "      <td>7590-VHVEG</td>\n",
              "      <td>0</td>\n",
              "      <td>0</td>\n",
              "      <td>0</td>\n",
              "      <td>0</td>\n",
              "      <td>1</td>\n",
              "      <td>0</td>\n",
              "      <td>0</td>\n",
              "      <td>0</td>\n",
              "      <td>0</td>\n",
              "      <td>0</td>\n",
              "      <td>0</td>\n",
              "      <td>0</td>\n",
              "      <td>0</td>\n",
              "      <td>0</td>\n",
              "      <td>0</td>\n",
              "      <td>Yes</td>\n",
              "      <td>0</td>\n",
              "      <td>29.85</td>\n",
              "      <td>29.85</td>\n",
              "      <td>0</td>\n",
              "    </tr>\n",
              "    <tr>\n",
              "      <th>1</th>\n",
              "      <td>5575-GNVDE</td>\n",
              "      <td>1</td>\n",
              "      <td>0</td>\n",
              "      <td>1</td>\n",
              "      <td>0</td>\n",
              "      <td>34</td>\n",
              "      <td>1</td>\n",
              "      <td>1</td>\n",
              "      <td>0</td>\n",
              "      <td>1</td>\n",
              "      <td>1</td>\n",
              "      <td>1</td>\n",
              "      <td>0</td>\n",
              "      <td>0</td>\n",
              "      <td>0</td>\n",
              "      <td>1</td>\n",
              "      <td>No</td>\n",
              "      <td>1</td>\n",
              "      <td>56.95</td>\n",
              "      <td>1889.50</td>\n",
              "      <td>0</td>\n",
              "    </tr>\n",
              "    <tr>\n",
              "      <th>2</th>\n",
              "      <td>3668-QPYBK</td>\n",
              "      <td>1</td>\n",
              "      <td>0</td>\n",
              "      <td>1</td>\n",
              "      <td>0</td>\n",
              "      <td>2</td>\n",
              "      <td>1</td>\n",
              "      <td>1</td>\n",
              "      <td>0</td>\n",
              "      <td>1</td>\n",
              "      <td>0</td>\n",
              "      <td>0</td>\n",
              "      <td>0</td>\n",
              "      <td>0</td>\n",
              "      <td>0</td>\n",
              "      <td>0</td>\n",
              "      <td>Yes</td>\n",
              "      <td>1</td>\n",
              "      <td>53.85</td>\n",
              "      <td>108.15</td>\n",
              "      <td>1</td>\n",
              "    </tr>\n",
              "    <tr>\n",
              "      <th>3</th>\n",
              "      <td>7795-CFOCW</td>\n",
              "      <td>1</td>\n",
              "      <td>0</td>\n",
              "      <td>1</td>\n",
              "      <td>0</td>\n",
              "      <td>45</td>\n",
              "      <td>0</td>\n",
              "      <td>0</td>\n",
              "      <td>0</td>\n",
              "      <td>1</td>\n",
              "      <td>1</td>\n",
              "      <td>1</td>\n",
              "      <td>1</td>\n",
              "      <td>0</td>\n",
              "      <td>0</td>\n",
              "      <td>1</td>\n",
              "      <td>No</td>\n",
              "      <td>2</td>\n",
              "      <td>42.30</td>\n",
              "      <td>1840.75</td>\n",
              "      <td>0</td>\n",
              "    </tr>\n",
              "    <tr>\n",
              "      <th>4</th>\n",
              "      <td>9237-HQITU</td>\n",
              "      <td>0</td>\n",
              "      <td>0</td>\n",
              "      <td>1</td>\n",
              "      <td>0</td>\n",
              "      <td>2</td>\n",
              "      <td>1</td>\n",
              "      <td>1</td>\n",
              "      <td>1</td>\n",
              "      <td>0</td>\n",
              "      <td>1</td>\n",
              "      <td>0</td>\n",
              "      <td>0</td>\n",
              "      <td>0</td>\n",
              "      <td>0</td>\n",
              "      <td>0</td>\n",
              "      <td>Yes</td>\n",
              "      <td>0</td>\n",
              "      <td>70.70</td>\n",
              "      <td>151.65</td>\n",
              "      <td>1</td>\n",
              "    </tr>\n",
              "  </tbody>\n",
              "</table>\n",
              "</div>"
            ],
            "text/plain": [
              "   customerID  gender  SeniorCitizen  Partner  Dependents  tenure   \n",
              "0  7590-VHVEG       0              0        0           0       1  \\\n",
              "1  5575-GNVDE       1              0        1           0      34   \n",
              "2  3668-QPYBK       1              0        1           0       2   \n",
              "3  7795-CFOCW       1              0        1           0      45   \n",
              "4  9237-HQITU       0              0        1           0       2   \n",
              "\n",
              "   PhoneService  MultipleLines  InternetService  OnlineSecurity  OnlineBackup   \n",
              "0             0              0                0               0             0  \\\n",
              "1             1              1                0               1             1   \n",
              "2             1              1                0               1             0   \n",
              "3             0              0                0               1             1   \n",
              "4             1              1                1               0             1   \n",
              "\n",
              "   DeviceProtection  TechSupport  StreamingTV  StreamingMovies  Contract   \n",
              "0                 0            0            0                0         0  \\\n",
              "1                 1            0            0                0         1   \n",
              "2                 0            0            0                0         0   \n",
              "3                 1            1            0                0         1   \n",
              "4                 0            0            0                0         0   \n",
              "\n",
              "  PaperlessBilling  PaymentMethod  MonthlyCharges  TotalCharges  Churn  \n",
              "0              Yes              0           29.85         29.85      0  \n",
              "1               No              1           56.95       1889.50      0  \n",
              "2              Yes              1           53.85        108.15      1  \n",
              "3               No              2           42.30       1840.75      0  \n",
              "4              Yes              0           70.70        151.65      1  "
            ]
          },
          "execution_count": 95,
          "metadata": {},
          "output_type": "execute_result"
        }
      ],
      "source": [
        "df.head()"
      ]
    },
    {
      "attachments": {},
      "cell_type": "markdown",
      "id": "0823296b",
      "metadata": {},
      "source": [
        "Теперь определимся с гипотезами:\n",
        "Остались клиенты или нет (на мой взгляд) может зависеть от следующих факторов: "
      ]
    },
    {
      "attachments": {},
      "cell_type": "markdown",
      "id": "32cf9d43",
      "metadata": {},
      "source": [
        "# - SeniorCitizen(Является ли клиент пожилым гражданином).\n",
        "*Нулевая гипотеза: Количество пожилых клиентов, отказавшиеся от услуг равно количеству не пожилых клиентов, отказавшиеся от услуг*\n",
        "*Альтернативная гипотеза: Количество пожилых клиентов, отказавшиеся от услуг отличается от количества не пожилых клиентов, отказавшиеся от услуг*\n",
        "\n",
        "# - gender (пол клиента). \n",
        "*Нулевая гипотеза: Количество мужчин, отказавшиеся от услуг равно количеству женщин, отказавшиеся от услуг*\n",
        "*Альтернативная гипотеза: Количество мужчин, отказавшиеся от услуг отличается от количества женщин, отказавшиеся от услуг*\n",
        "\n",
        "# - Partner (есть ли у клиента партнер). \n",
        "*Нулевая гипотеза: Количество клиентов без партнера, отказавшиеся от услуг равно количеству клиентов с партнером отказавшихся от услуг*\n",
        "*Альтернативная гипотеза: Количество клиентов без партнера, отказавшиеся от услуг отличается от количества клиентов с партнером отказавшихся от услуг*\n",
        "\n",
        "# - Dependents (Является ли клиент кормильцем).\n",
        "*Нулевая гипотеза: Количество клиентов-кормильцев, отказавшиеся от услуг равно количеству клиентов-не-кормильцев отказавшихся от услуг*\n",
        "*Альтернативная гипотеза: Количество клиентов-кормильцев, отказавшиеся от услуг отличается от количества клиентов-не-кормильцев отказавшихся от услуг*\n",
        "\n",
        "# - PhoneService (Есть ли у клиента телефонная связь).\n",
        "*Гипотеза: Клиенты с телефонной связью реже отказываются от услуг компании*\n",
        "\n",
        "# - MultipleLines (Есть ли у клиента несколько линий).\n",
        "*Гипотеза: Клиенты с несколькими линиями связью реже отказываются от услуг компании*\n",
        "\n",
        "# - InternetService (Интернет-провайдер клиента).\n",
        "*Гипотеза: Клиенты с Fiber optic интернетом реже отказываются от услуг компании*\n",
        "    \n",
        "# - OnlineSecurity (Есть ли у клиента онлайн-безопасность).\n",
        "*Гипотеза: Клиенты с онлайн-безопасностью реже отказываются от услуг компании*\n",
        "\n",
        "# - OnlineBackup (Есть ли у клиента онлайн-резервное копирование).\n",
        "*Гипотеза: Клиенты с онлайн-резервным копированием реже отказываются от услуг компании*\n",
        "\n",
        "# - DeviceProtection (Имеет ли клиент защиту устройства).\n",
        "*Гипотеза: Клиенты с защитой устройств реже отказываются от услуг компании*\n",
        "\n",
        "# - TechSupport (Есть ли у клиента техническая поддержка).\n",
        "*Гипотеза: Клиенты с технической поддержкой реже отказываются от услуг компании*\n",
        "\n",
        "# - streamingTV (Есть ли у клиента потоковое телевидение).\n",
        "*Гипотеза: Клиенты с потоковым телевидинием реже отказываются от услуг компании*\n",
        "\n",
        "# - streamingMovies (Есть ли у клиента стриминговые сервисы).\n",
        "*Гипотеза: Клиенты со стриминговым сервисом реже отказываются от услуг компании*\n",
        "\n",
        "# - Contract (Срок действия контракта заказчика).\n",
        "*Гипотеза 1: Клиенты со сроком действия контракта 'One year' реже отказываются от услуг компании*\n",
        "*Гипотеза 2: Клиенты со сроком действия контракта 'Two year' реже отказываются от услуг компании*\n",
        "*Гипотеза 3: Клиенты со сроком действия контракта 'Month-to-month' чаще отказываются от услуг компании*\n",
        "\n",
        "# - PaymentMethod (Способ оплаты клиента).\n",
        "*Гипотеза 1: Клиенты со способом оплаты 'Bank transfer (automatic)' реже отказываются от услуг компании*\n",
        "*Гипотеза 2: Клиенты со способом оплаты 'Credit card (automatic)' реже отказываются от услуг компании*\n",
        "*Гипотеза 3: Клиенты со способом оплаты 'Electronic check' чаще отказываются от услуг компании*\n",
        "*Гипотеза 4: Клиенты со способом оплаты 'Mailed check' чаще отказываются от услуг компании*\n",
        "\n"
      ]
    },
    {
      "attachments": {},
      "cell_type": "markdown",
      "id": "30151b24",
      "metadata": {},
      "source": [
        "'gender'            0-Female            1-Male\n",
        "'Partner'           1-Yes               0-No\n",
        "'Dependents'        1-Yes               0-No\n",
        "'PhoneService'      1-Yes               0-No\n",
        "'MultipleLines'     2-Yes               1-No                0-No phone service\n",
        "'InternetService'   0-DSL               1-Fiber optic       2-No\n",
        "'OnlineSecurity'    1-Yes               0-No                2-No internet service\n",
        "'OnlineBackup'      1-Yes               0-No                2-No internet service\n",
        "'DeviceProtection'  1-Yes               0-No                2-No internet service\n",
        "'TechSupport'       1-Yes               0-No                2-No internet service\n",
        "'StreamingTV'       1-Yes               0-No                2-No internet service\n",
        "'StreamingMovies'   1-Yes               0-No                2-No internet service\n",
        "'Contract'          0-Month-to-month    2-One year          1-Two year\n",
        "'PaymentMethod'     0-Electronic check  1-Mailed check      2-Bank transfer (automatic)     3-Credit card (automatic)\n",
        "'Churn'             1-Yes               0-No"
      ]
    },
    {
      "cell_type": "code",
      "execution_count": 187,
      "id": "de2b1c35",
      "metadata": {},
      "outputs": [],
      "source": [
        "df_del = df[df.OnlineSecurity < 2]"
      ]
    },
    {
      "cell_type": "code",
      "execution_count": 188,
      "id": "964bd7ee",
      "metadata": {},
      "outputs": [],
      "source": [
        "churn_no = df_del[df_del['Churn'] == 0]\n",
        "churn_yes = df_del[df_del['Churn'] == 1]"
      ]
    },
    {
      "attachments": {},
      "cell_type": "markdown",
      "id": "b3ac3681",
      "metadata": {},
      "source": [
        "# Пройдемся по гипотезам:"
      ]
    },
    {
      "attachments": {},
      "cell_type": "markdown",
      "id": "651d809f",
      "metadata": {},
      "source": [
        "# - SeniorCitizen (Является ли клиент пожилым гражданином).\n",
        "*Нулевая гипотеза: Количество пожилых клиентов, отказавшиеся от услуг равно количеству не пожилых клиентов, отказавшиеся от услуг*\n",
        "*Альтернативная гипотеза: Количество пожилых клиентов, отказавшиеся от услуг отличается от количества не пожилых клиентов, отказавшиеся от услуг*"
      ]
    },
    {
      "cell_type": "code",
      "execution_count": 203,
      "id": "00f5f909",
      "metadata": {},
      "outputs": [
        {
          "data": {
            "text/plain": [
              "SeniorCitizen\n",
              "0    3142\n",
              "1     619\n",
              "Name: count, dtype: int64"
            ]
          },
          "execution_count": 203,
          "metadata": {},
          "output_type": "execute_result"
        }
      ],
      "source": [
        "churn_no['SeniorCitizen'].value_counts()"
      ]
    },
    {
      "cell_type": "code",
      "execution_count": 204,
      "id": "877a107f",
      "metadata": {},
      "outputs": [
        {
          "data": {
            "text/plain": [
              "SeniorCitizen\n",
              "0    1285\n",
              "1     471\n",
              "Name: count, dtype: int64"
            ]
          },
          "execution_count": 204,
          "metadata": {},
          "output_type": "execute_result"
        }
      ],
      "source": [
        "churn_yes['SeniorCitizen'].value_counts()"
      ]
    },
    {
      "cell_type": "code",
      "execution_count": 205,
      "id": "f1749d24",
      "metadata": {},
      "outputs": [
        {
          "name": "stdout",
          "output_type": "stream",
          "text": [
            "MultipleLines churn_no среднее 1.3395373570858815\n",
            "MultipleLines churn_yes среднее 1.3815489749430523\n"
          ]
        }
      ],
      "source": [
        "print(f\"MultipleLines churn_no среднее {churn_no['MultipleLines'].mean()}\")\n",
        "print(f\"MultipleLines churn_yes среднее {churn_yes['MultipleLines'].mean()}\")"
      ]
    },
    {
      "cell_type": "code",
      "execution_count": 206,
      "id": "803d3ed5",
      "metadata": {},
      "outputs": [
        {
          "name": "stdout",
          "output_type": "stream",
          "text": [
            "P-value:0.00000. Нулевая гипотеза отвергается\n"
          ]
        }
      ],
      "source": [
        "t_stat, pvalue = stats.ttest_ind(churn_no['SeniorCitizen'], churn_yes['SeniorCitizen'])\n",
        "alpha = .05\n",
        "\n",
        "if pvalue < alpha:\n",
        "    print(f'P-value:{pvalue:.5f}. Нулевая гипотеза отвергается')\n",
        "else:\n",
        "    print(f'P-value:{pvalue:.5f}. Подтверждается нулевая гипотеза')"
      ]
    },
    {
      "attachments": {},
      "cell_type": "markdown",
      "id": "a5bbada2",
      "metadata": {},
      "source": [
        "Мы видим, что значения отличаются подтверждаем *Альтернативную гипотезу: Количество пожилых клиентов, отказавшиеся от услуг отличается от количества не пожилых клиентов, отказавшиеся от услуг*"
      ]
    },
    {
      "attachments": {},
      "cell_type": "markdown",
      "id": "6203165a",
      "metadata": {},
      "source": [
        "# - gender (пол клиента). \n",
        "*Нулевая гипотеза: Количество мужчин, отказавшиеся от услуг равно количеству женщин, отказавшиеся от услуг*\n",
        "*Альтернативная гипотеза: Количество мужчин, отказавшиеся от услуг отличается от количества женщин, отказавшиеся от услуг*\n"
      ]
    },
    {
      "cell_type": "code",
      "execution_count": 207,
      "id": "db156e6d",
      "metadata": {},
      "outputs": [
        {
          "data": {
            "text/plain": [
              "gender\n",
              "1    1903\n",
              "0    1858\n",
              "Name: count, dtype: int64"
            ]
          },
          "execution_count": 207,
          "metadata": {},
          "output_type": "execute_result"
        }
      ],
      "source": [
        "churn_no['gender'].value_counts()"
      ]
    },
    {
      "cell_type": "code",
      "execution_count": 208,
      "id": "f11c677e",
      "metadata": {},
      "outputs": [
        {
          "data": {
            "text/plain": [
              "gender\n",
              "0    883\n",
              "1    873\n",
              "Name: count, dtype: int64"
            ]
          },
          "execution_count": 208,
          "metadata": {},
          "output_type": "execute_result"
        }
      ],
      "source": [
        "churn_yes['gender'].value_counts()"
      ]
    },
    {
      "cell_type": "code",
      "execution_count": 209,
      "id": "29e8b111",
      "metadata": {},
      "outputs": [
        {
          "name": "stdout",
          "output_type": "stream",
          "text": [
            "gender churn_no среднее 0.5059824514756713\n",
            "gender churn_yes среднее 0.4971526195899772\n"
          ]
        }
      ],
      "source": [
        "print(f\"gender churn_no среднее {churn_no['gender'].mean()}\")\n",
        "print(f\"gender churn_yes среднее {churn_yes['gender'].mean()}\")"
      ]
    },
    {
      "cell_type": "code",
      "execution_count": 210,
      "id": "b7977268",
      "metadata": {},
      "outputs": [
        {
          "name": "stdout",
          "output_type": "stream",
          "text": [
            "P-value:0.54127. Подтверждается нулевая гипотеза\n"
          ]
        }
      ],
      "source": [
        "t_stat, pvalue = stats.ttest_ind(churn_no['gender'], churn_yes['gender'])\n",
        "alpha = .05\n",
        "\n",
        "if pvalue < alpha:\n",
        "    print(f'P-value:{pvalue:.5f}. Нулевая гипотеза отвергается')\n",
        "else:\n",
        "    print(f'P-value:{pvalue:.5f}. Подтверждается нулевая гипотеза')"
      ]
    },
    {
      "attachments": {},
      "cell_type": "markdown",
      "id": "9f0ab742",
      "metadata": {},
      "source": [
        "Подтверждаем *Нулевую гипотезу: Количество мужчин, отказавшиеся от услуг равно количеству женщин, отказавшиеся от услуг*"
      ]
    },
    {
      "attachments": {},
      "cell_type": "markdown",
      "id": "da925827",
      "metadata": {},
      "source": [
        "# - Partner (есть ли у клиента партнер). \n",
        "*Нулевая гипотеза: Количество клиентов без партнера, отказавшиеся от услуг равно количеству клиентов с партнером отказавшихся от услуг*\n",
        "*Альтернативная гипотеза: Количество клиентов без партнера, отказавшиеся от услуг отличается от количества клиентов с партнером отказавшихся от услуг*"
      ]
    },
    {
      "cell_type": "code",
      "execution_count": 211,
      "id": "7fd272ba",
      "metadata": {},
      "outputs": [
        {
          "data": {
            "text/plain": [
              "Partner\n",
              "0    2024\n",
              "1    1737\n",
              "Name: count, dtype: int64"
            ]
          },
          "execution_count": 211,
          "metadata": {},
          "output_type": "execute_result"
        }
      ],
      "source": [
        "churn_no['Partner'].value_counts()"
      ]
    },
    {
      "cell_type": "code",
      "execution_count": 212,
      "id": "d2d88132",
      "metadata": {},
      "outputs": [
        {
          "data": {
            "text/plain": [
              "Partner\n",
              "1    1116\n",
              "0     640\n",
              "Name: count, dtype: int64"
            ]
          },
          "execution_count": 212,
          "metadata": {},
          "output_type": "execute_result"
        }
      ],
      "source": [
        "churn_yes['Partner'].value_counts()"
      ]
    },
    {
      "cell_type": "code",
      "execution_count": 213,
      "id": "dcf6884e",
      "metadata": {},
      "outputs": [
        {
          "name": "stdout",
          "output_type": "stream",
          "text": [
            "Partner churn_no среднее 0.4618452539218293\n",
            "Partner churn_yes среднее 0.6355353075170843\n"
          ]
        }
      ],
      "source": [
        "print(f\"Partner churn_no среднее {churn_no['Partner'].mean()}\")\n",
        "print(f\"Partner churn_yes среднее {churn_yes['Partner'].mean()}\")"
      ]
    },
    {
      "cell_type": "code",
      "execution_count": 214,
      "id": "8d2003f6",
      "metadata": {},
      "outputs": [
        {
          "name": "stdout",
          "output_type": "stream",
          "text": [
            "P-value:0.00000. Нулевая гипотеза отвергается\n"
          ]
        }
      ],
      "source": [
        "t_stat, pvalue = stats.ttest_ind(churn_no['Partner'], churn_yes['Partner'])\n",
        "alpha = .05\n",
        "\n",
        "if pvalue < alpha:\n",
        "    print(f'P-value:{pvalue:.5f}. Нулевая гипотеза отвергается')\n",
        "else:\n",
        "    print(f'P-value:{pvalue:.5f}. Подтверждается нулевая гипотеза')"
      ]
    },
    {
      "attachments": {},
      "cell_type": "markdown",
      "id": "d15c65ab",
      "metadata": {},
      "source": [
        "Подтверждаем *Альтернативную гипотезу: Количество клиентов без партнера, отказавшиеся от услуг отличается от количества клиентов с партнером отказавшихся от услуг*"
      ]
    },
    {
      "attachments": {},
      "cell_type": "markdown",
      "metadata": {},
      "source": [
        "# - Dependents (Является ли клиент кормильцем).\n",
        "*Нулевая гипотеза: Количество клиентов-кормильцев, отказавшиеся от услуг равно количеству клиентов-не-кормильцев отказавшихся от услуг*\n",
        "*Альтернативная гипотеза: Количество клиентов-кормильцев, отказавшиеся от услуг отличается от количества клиентов-не-кормильцев отказавшихся от услуг*"
      ]
    },
    {
      "cell_type": "code",
      "execution_count": 215,
      "id": "c34dbd5a",
      "metadata": {},
      "outputs": [
        {
          "data": {
            "text/plain": [
              "Dependents\n",
              "0    2592\n",
              "1    1169\n",
              "Name: count, dtype: int64"
            ]
          },
          "execution_count": 215,
          "metadata": {},
          "output_type": "execute_result"
        }
      ],
      "source": [
        "churn_no['Dependents'].value_counts()"
      ]
    },
    {
      "cell_type": "code",
      "execution_count": 216,
      "id": "698bd866",
      "metadata": {},
      "outputs": [
        {
          "data": {
            "text/plain": [
              "Dependents\n",
              "0    1458\n",
              "1     298\n",
              "Name: count, dtype: int64"
            ]
          },
          "execution_count": 216,
          "metadata": {},
          "output_type": "execute_result"
        }
      ],
      "source": [
        "churn_yes['Dependents'].value_counts()"
      ]
    },
    {
      "cell_type": "code",
      "execution_count": 217,
      "id": "ca051e96",
      "metadata": {},
      "outputs": [
        {
          "name": "stdout",
          "output_type": "stream",
          "text": [
            "Dependents churn_no среднее 0.31082159000265885\n",
            "Dependents churn_yes среднее 0.16970387243735763\n"
          ]
        }
      ],
      "source": [
        "print(f\"Dependents churn_no среднее {churn_no['Dependents'].mean()}\")\n",
        "print(f\"Dependents churn_yes среднее {churn_yes['Dependents'].mean()}\")"
      ]
    },
    {
      "cell_type": "code",
      "execution_count": 218,
      "id": "552f2221",
      "metadata": {},
      "outputs": [
        {
          "name": "stdout",
          "output_type": "stream",
          "text": [
            "P-value:0.00000. Нулевая гипотеза отвергается\n"
          ]
        }
      ],
      "source": [
        "t_stat, pvalue = stats.ttest_ind(churn_no['Dependents'], churn_yes['Dependents'])\n",
        "alpha = .05\n",
        "\n",
        "if pvalue < alpha:\n",
        "    print(f'P-value:{pvalue:.5f}. Нулевая гипотеза отвергается')\n",
        "else:\n",
        "    print(f'P-value:{pvalue:.5f}. Подтверждается нулевая гипотеза')"
      ]
    },
    {
      "attachments": {},
      "cell_type": "markdown",
      "id": "febdb1d5",
      "metadata": {},
      "source": [
        "Подтверждаем *Альтернативную гипотезу: Количество клиентов-кормильцев, отказавшиеся от услуг отличается от количества клиентов-не-кормильцев отказавшихся от услуг*"
      ]
    },
    {
      "attachments": {},
      "cell_type": "markdown",
      "metadata": {},
      "source": [
        "# - PhoneService (Есть ли у клиента телефонная связь).\n",
        "*Гипотеза: Клиенты с телефонной связью реже отказываются от услуг компании*"
      ]
    },
    {
      "cell_type": "code",
      "execution_count": 219,
      "id": "2120aee4",
      "metadata": {},
      "outputs": [
        {
          "data": {
            "text/plain": [
              "PhoneService\n",
              "1    3249\n",
              "0     512\n",
              "Name: count, dtype: int64"
            ]
          },
          "execution_count": 219,
          "metadata": {},
          "output_type": "execute_result"
        }
      ],
      "source": [
        "churn_no['PhoneService'].value_counts()"
      ]
    },
    {
      "cell_type": "code",
      "execution_count": 220,
      "id": "9b77c89a",
      "metadata": {},
      "outputs": [
        {
          "data": {
            "text/plain": [
              "PhoneService\n",
              "1    1586\n",
              "0     170\n",
              "Name: count, dtype: int64"
            ]
          },
          "execution_count": 220,
          "metadata": {},
          "output_type": "execute_result"
        }
      ],
      "source": [
        "churn_yes['PhoneService'].value_counts()"
      ]
    },
    {
      "cell_type": "code",
      "execution_count": 221,
      "id": "e0ff3363",
      "metadata": {},
      "outputs": [
        {
          "name": "stdout",
          "output_type": "stream",
          "text": [
            "PhoneService churn_no среднее 0.863865993086945\n",
            "PhoneService churn_yes среднее 0.9031890660592256\n"
          ]
        }
      ],
      "source": [
        "print(f\"PhoneService churn_no среднее {churn_no['PhoneService'].mean()}\")\n",
        "print(f\"PhoneService churn_yes среднее {churn_yes['PhoneService'].mean()}\")"
      ]
    },
    {
      "cell_type": "code",
      "execution_count": 222,
      "id": "623eb17d",
      "metadata": {},
      "outputs": [
        {
          "name": "stdout",
          "output_type": "stream",
          "text": [
            "P-value:0.00004. Нулевая гипотеза отвергается\n"
          ]
        }
      ],
      "source": [
        "t_stat, pvalue = stats.ttest_ind(churn_no['PhoneService'], churn_yes['PhoneService'])\n",
        "alpha = .05\n",
        "\n",
        "if pvalue < alpha:\n",
        "    print(f'P-value:{pvalue:.5f}. Нулевая гипотеза отвергается')\n",
        "else:\n",
        "    print(f'P-value:{pvalue:.5f}. Подтверждается нулевая гипотеза')"
      ]
    },
    {
      "attachments": {},
      "cell_type": "markdown",
      "id": "2a61e9cf",
      "metadata": {},
      "source": [
        "Отвергаем *Гипотезу: Клиенты с телефонной связью реже отказываются от услуг компании*"
      ]
    },
    {
      "attachments": {},
      "cell_type": "markdown",
      "id": "f1645c52",
      "metadata": {},
      "source": [
        "# - MultipleLines (Есть ли у клиента несколько линий).\n",
        "*Гипотеза: Клиенты с несколькими линиями связью реже отказываются от услуг компании*"
      ]
    },
    {
      "cell_type": "code",
      "execution_count": 223,
      "id": "3438eab9",
      "metadata": {},
      "outputs": [
        {
          "data": {
            "text/plain": [
              "MultipleLines\n",
              "2    1789\n",
              "1    1460\n",
              "0     512\n",
              "Name: count, dtype: int64"
            ]
          },
          "execution_count": 223,
          "metadata": {},
          "output_type": "execute_result"
        }
      ],
      "source": [
        "churn_no['MultipleLines'].value_counts()"
      ]
    },
    {
      "cell_type": "code",
      "execution_count": 224,
      "id": "fa95cd1a",
      "metadata": {},
      "outputs": [
        {
          "data": {
            "text/plain": [
              "MultipleLines\n",
              "2    840\n",
              "1    746\n",
              "0    170\n",
              "Name: count, dtype: int64"
            ]
          },
          "execution_count": 224,
          "metadata": {},
          "output_type": "execute_result"
        }
      ],
      "source": [
        "churn_yes['MultipleLines'].value_counts()"
      ]
    },
    {
      "cell_type": "code",
      "execution_count": 225,
      "id": "149493db",
      "metadata": {},
      "outputs": [
        {
          "name": "stdout",
          "output_type": "stream",
          "text": [
            "MultipleLines churn_no среднее 1.3395373570858815\n",
            "MultipleLines churn_yes среднее 1.3815489749430523\n"
          ]
        }
      ],
      "source": [
        "print(f\"MultipleLines churn_no среднее {churn_no['MultipleLines'].mean()}\")\n",
        "print(f\"MultipleLines churn_yes среднее {churn_yes['MultipleLines'].mean()}\")"
      ]
    },
    {
      "cell_type": "code",
      "execution_count": 226,
      "id": "33184b77",
      "metadata": {},
      "outputs": [
        {
          "name": "stdout",
          "output_type": "stream",
          "text": [
            "P-value:0.03506. Нулевая гипотеза отвергается\n"
          ]
        }
      ],
      "source": [
        "t_stat, pvalue = stats.ttest_ind(churn_no['MultipleLines'], churn_yes['MultipleLines'])\n",
        "alpha = .05\n",
        "\n",
        "if pvalue < alpha:\n",
        "    print(f'P-value:{pvalue:.5f}. Нулевая гипотеза отвергается')\n",
        "else:\n",
        "    print(f'P-value:{pvalue:.5f}. Подтверждается нулевая гипотеза')"
      ]
    },
    {
      "attachments": {},
      "cell_type": "markdown",
      "id": "8761e03d",
      "metadata": {},
      "source": [
        "Отвергаем *Гипотеза: Клиенты с несколькими линиями связью реже отказываются от услуг компании*"
      ]
    },
    {
      "attachments": {},
      "cell_type": "markdown",
      "metadata": {},
      "source": [
        "# - InternetService (Интернет-провайдер клиента).\n",
        "*Гипотеза: Клиенты с InternetService  реже отказываются от услуг компании*\n"
      ]
    },
    {
      "cell_type": "code",
      "execution_count": 227,
      "id": "23a8fde1",
      "metadata": {},
      "outputs": [
        {
          "data": {
            "text/plain": [
              "InternetService\n",
              "0    1962\n",
              "1    1799\n",
              "Name: count, dtype: int64"
            ]
          },
          "execution_count": 227,
          "metadata": {},
          "output_type": "execute_result"
        }
      ],
      "source": [
        "churn_no['InternetService'].value_counts()"
      ]
    },
    {
      "cell_type": "code",
      "execution_count": 228,
      "id": "afa1dd10",
      "metadata": {},
      "outputs": [
        {
          "data": {
            "text/plain": [
              "InternetService\n",
              "1    1297\n",
              "0     459\n",
              "Name: count, dtype: int64"
            ]
          },
          "execution_count": 228,
          "metadata": {},
          "output_type": "execute_result"
        }
      ],
      "source": [
        "churn_yes['InternetService'].value_counts()"
      ]
    },
    {
      "cell_type": "code",
      "execution_count": 229,
      "id": "0b258e33",
      "metadata": {},
      "outputs": [
        {
          "name": "stdout",
          "output_type": "stream",
          "text": [
            "InternetService churn_no среднее 0.4783302313214571\n",
            "InternetService churn_yes среднее 0.7386104783599089\n"
          ]
        }
      ],
      "source": [
        "print(f\"InternetService churn_no среднее {churn_no['InternetService'].mean()}\")\n",
        "print(f\"InternetService churn_yes среднее {churn_yes['InternetService'].mean()}\")"
      ]
    },
    {
      "cell_type": "code",
      "execution_count": 230,
      "id": "818238fc",
      "metadata": {},
      "outputs": [
        {
          "name": "stdout",
          "output_type": "stream",
          "text": [
            "P-value:0.00000. Нулевая гипотеза отвергается\n"
          ]
        }
      ],
      "source": [
        "t_stat, pvalue = stats.ttest_ind(churn_no['InternetService'], churn_yes['InternetService'])\n",
        "alpha = .05\n",
        "\n",
        "if pvalue < alpha:\n",
        "    print(f'P-value:{pvalue:.5f}. Нулевая гипотеза отвергается')\n",
        "else:\n",
        "    print(f'P-value:{pvalue:.5f}. Подтверждается нулевая гипотеза')"
      ]
    },
    {
      "attachments": {},
      "cell_type": "markdown",
      "id": "cff7b10c",
      "metadata": {},
      "source": [
        "Отвергаем *Гипотеза: Клиенты с InternetService реже отказываются от услуг компании*"
      ]
    },
    {
      "attachments": {},
      "cell_type": "markdown",
      "id": "f91157b1",
      "metadata": {},
      "source": [
        "# - OnlineSecurity (Есть ли у клиента онлайн-безопасность).\n",
        "*Гипотеза: Клиенты с онлайн-безопасностью реже отказываются от услуг компании*"
      ]
    },
    {
      "cell_type": "code",
      "execution_count": 231,
      "id": "ce8ae999",
      "metadata": {},
      "outputs": [
        {
          "data": {
            "text/plain": [
              "OnlineSecurity\n",
              "0    2037\n",
              "1    1724\n",
              "Name: count, dtype: int64"
            ]
          },
          "execution_count": 231,
          "metadata": {},
          "output_type": "execute_result"
        }
      ],
      "source": [
        "churn_no['OnlineSecurity'].value_counts()"
      ]
    },
    {
      "cell_type": "code",
      "execution_count": 232,
      "id": "d3c7f77f",
      "metadata": {},
      "outputs": [
        {
          "data": {
            "text/plain": [
              "OnlineSecurity\n",
              "0    1461\n",
              "1     295\n",
              "Name: count, dtype: int64"
            ]
          },
          "execution_count": 232,
          "metadata": {},
          "output_type": "execute_result"
        }
      ],
      "source": [
        "churn_yes['OnlineSecurity'].value_counts()"
      ]
    },
    {
      "cell_type": "code",
      "execution_count": 233,
      "id": "f5c94aef",
      "metadata": {},
      "outputs": [
        {
          "name": "stdout",
          "output_type": "stream",
          "text": [
            "OnlineSecurity churn_no среднее 0.4583887264025525\n",
            "OnlineSecurity churn_yes среднее 0.16799544419134396\n"
          ]
        }
      ],
      "source": [
        "print(f\"OnlineSecurity churn_no среднее {churn_no['OnlineSecurity'].mean()}\")\n",
        "print(f\"OnlineSecurity churn_yes среднее {churn_yes['OnlineSecurity'].mean()}\")"
      ]
    },
    {
      "cell_type": "code",
      "execution_count": 234,
      "id": "1af90e4f",
      "metadata": {},
      "outputs": [
        {
          "name": "stdout",
          "output_type": "stream",
          "text": [
            "P-value:0.00000. Нулевая гипотеза отвергается\n"
          ]
        }
      ],
      "source": [
        "t_stat, pvalue = stats.ttest_ind(churn_no['OnlineSecurity'], churn_yes['OnlineSecurity'])\n",
        "alpha = .05\n",
        "\n",
        "if pvalue < alpha:\n",
        "    print(f'P-value:{pvalue:.5f}. Нулевая гипотеза отвергается')\n",
        "else:\n",
        "    print(f'P-value:{pvalue:.5f}. Подтверждается нулевая гипотеза')"
      ]
    },
    {
      "attachments": {},
      "cell_type": "markdown",
      "id": "dbbacca2",
      "metadata": {},
      "source": [
        "Отвергаем *Гипотеза: Клиенты с онлайн-безопасностью реже отказываются от услуг компании*"
      ]
    },
    {
      "attachments": {},
      "cell_type": "markdown",
      "id": "c876393e",
      "metadata": {},
      "source": [
        "\n",
        "# - OnlineBackup (Есть ли у клиента онлайн-резервное копирование).\n",
        "*Гипотеза: Клиенты с онлайн-резервным копированием реже отказываются от услуг компании*"
      ]
    },
    {
      "cell_type": "code",
      "execution_count": 235,
      "id": "868d5760",
      "metadata": {},
      "outputs": [
        {
          "data": {
            "text/plain": [
              "OnlineBackup\n",
              "0    1906\n",
              "1    1855\n",
              "Name: count, dtype: int64"
            ]
          },
          "execution_count": 235,
          "metadata": {},
          "output_type": "execute_result"
        }
      ],
      "source": [
        "churn_no['OnlineBackup'].value_counts()"
      ]
    },
    {
      "cell_type": "code",
      "execution_count": 236,
      "id": "a78deb71",
      "metadata": {},
      "outputs": [
        {
          "data": {
            "text/plain": [
              "OnlineBackup\n",
              "1    1233\n",
              "0     523\n",
              "Name: count, dtype: int64"
            ]
          },
          "execution_count": 236,
          "metadata": {},
          "output_type": "execute_result"
        }
      ],
      "source": [
        "churn_yes['OnlineBackup'].value_counts()"
      ]
    },
    {
      "cell_type": "code",
      "execution_count": 237,
      "id": "cf6e16b1",
      "metadata": {},
      "outputs": [
        {
          "name": "stdout",
          "output_type": "stream",
          "text": [
            "OnlineBackup churn_no среднее 0.49321988832757246\n",
            "OnlineBackup churn_yes среднее 0.7021640091116174\n"
          ]
        }
      ],
      "source": [
        "print(f\"OnlineBackup churn_no среднее {churn_no['OnlineBackup'].mean()}\")\n",
        "print(f\"OnlineBackup churn_yes среднее {churn_yes['OnlineBackup'].mean()}\")"
      ]
    },
    {
      "cell_type": "code",
      "execution_count": 238,
      "id": "f1e55f5c",
      "metadata": {},
      "outputs": [
        {
          "name": "stdout",
          "output_type": "stream",
          "text": [
            "P-value:0.00000. Нулевая гипотеза отвергается\n"
          ]
        }
      ],
      "source": [
        "t_stat, pvalue = stats.ttest_ind(churn_no['OnlineBackup'], churn_yes['OnlineBackup'])\n",
        "alpha = .05\n",
        "\n",
        "if pvalue < alpha:\n",
        "    print(f'P-value:{pvalue:.5f}. Нулевая гипотеза отвергается')\n",
        "else:\n",
        "    print(f'P-value:{pvalue:.5f}. Подтверждается нулевая гипотеза')"
      ]
    },
    {
      "attachments": {},
      "cell_type": "markdown",
      "id": "96fe80c8",
      "metadata": {},
      "source": [
        "Отвергаем *Гипотеза: Клиенты с онлайн-резервным копированием реже отказываются от услуг компании*"
      ]
    },
    {
      "attachments": {},
      "cell_type": "markdown",
      "id": "40d12d26",
      "metadata": {},
      "source": [
        "\n",
        "# - DeviceProtection (Имеет ли клиент защиту устройства).\n",
        "*Гипотеза: Клиенты с защитой устройств реже отказываются от услуг компании*\n"
      ]
    },
    {
      "cell_type": "code",
      "execution_count": 239,
      "id": "71e201b2",
      "metadata": {},
      "outputs": [
        {
          "data": {
            "text/plain": [
              "DeviceProtection\n",
              "0    1884\n",
              "1    1877\n",
              "Name: count, dtype: int64"
            ]
          },
          "execution_count": 239,
          "metadata": {},
          "output_type": "execute_result"
        }
      ],
      "source": [
        "churn_no['DeviceProtection'].value_counts()"
      ]
    },
    {
      "cell_type": "code",
      "execution_count": 240,
      "metadata": {},
      "outputs": [
        {
          "data": {
            "text/plain": [
              "DeviceProtection\n",
              "0    1211\n",
              "1     545\n",
              "Name: count, dtype: int64"
            ]
          },
          "execution_count": 240,
          "metadata": {},
          "output_type": "execute_result"
        }
      ],
      "source": [
        "churn_yes['DeviceProtection'].value_counts()"
      ]
    },
    {
      "cell_type": "code",
      "execution_count": 241,
      "id": "26239711",
      "metadata": {},
      "outputs": [
        {
          "name": "stdout",
          "output_type": "stream",
          "text": [
            "DeviceProtection churn_no среднее 0.4990693964371178\n",
            "DeviceProtection churn_yes среднее 0.3103644646924829\n"
          ]
        }
      ],
      "source": [
        "print(f\"DeviceProtection churn_no среднее {churn_no['DeviceProtection'].mean()}\")\n",
        "print(f\"DeviceProtection churn_yes среднее {churn_yes['DeviceProtection'].mean()}\")"
      ]
    },
    {
      "cell_type": "code",
      "execution_count": 242,
      "id": "c851a2c8",
      "metadata": {},
      "outputs": [
        {
          "name": "stdout",
          "output_type": "stream",
          "text": [
            "P-value:0.00000. Нулевая гипотеза отвергается\n"
          ]
        }
      ],
      "source": [
        "t_stat, pvalue = stats.ttest_ind(churn_no['DeviceProtection'], churn_yes['DeviceProtection'])\n",
        "alpha = .05\n",
        "\n",
        "if pvalue < alpha:\n",
        "    print(f'P-value:{pvalue:.5f}. Нулевая гипотеза отвергается')\n",
        "else:\n",
        "    print(f'P-value:{pvalue:.5f}. Подтверждается нулевая гипотеза')"
      ]
    },
    {
      "attachments": {},
      "cell_type": "markdown",
      "id": "ac2d5cf7",
      "metadata": {},
      "source": [
        "Отвергаем *Гипотеза: Клиенты с защитой устройств реже отказываются от услуг компании*"
      ]
    },
    {
      "attachments": {},
      "cell_type": "markdown",
      "id": "dc10cb31",
      "metadata": {},
      "source": [
        "# - TechSupport (Есть ли у клиента техническая поддержка).\n",
        "*Гипотеза: Клиенты с технической поддержкой реже отказываются от услуг компании*"
      ]
    },
    {
      "cell_type": "code",
      "execution_count": 243,
      "id": "94a42116",
      "metadata": {},
      "outputs": [
        {
          "data": {
            "text/plain": [
              "TechSupport\n",
              "0    2027\n",
              "1    1734\n",
              "Name: count, dtype: int64"
            ]
          },
          "execution_count": 243,
          "metadata": {},
          "output_type": "execute_result"
        }
      ],
      "source": [
        "churn_no['TechSupport'].value_counts()"
      ]
    },
    {
      "cell_type": "code",
      "execution_count": 244,
      "id": "e0eb75cf",
      "metadata": {},
      "outputs": [
        {
          "data": {
            "text/plain": [
              "TechSupport\n",
              "0    1446\n",
              "1     310\n",
              "Name: count, dtype: int64"
            ]
          },
          "execution_count": 244,
          "metadata": {},
          "output_type": "execute_result"
        }
      ],
      "source": [
        "churn_yes['TechSupport'].value_counts()"
      ]
    },
    {
      "cell_type": "code",
      "execution_count": 245,
      "id": "3865eda4",
      "metadata": {},
      "outputs": [
        {
          "name": "stdout",
          "output_type": "stream",
          "text": [
            "TechSupport churn_no среднее 0.46104759372507315\n",
            "TechSupport churn_yes среднее 0.1765375854214123\n"
          ]
        }
      ],
      "source": [
        "print(f\"TechSupport churn_no среднее {churn_no['TechSupport'].mean()}\")\n",
        "print(f\"TechSupport churn_yes среднее {churn_yes['TechSupport'].mean()}\")"
      ]
    },
    {
      "cell_type": "code",
      "execution_count": 246,
      "id": "a76d986e",
      "metadata": {},
      "outputs": [
        {
          "name": "stdout",
          "output_type": "stream",
          "text": [
            "P-value:0.00000. Нулевая гипотеза отвергается\n"
          ]
        }
      ],
      "source": [
        "t_stat, pvalue = stats.ttest_ind(churn_no['TechSupport'], churn_yes['TechSupport'])\n",
        "alpha = .05\n",
        "\n",
        "if pvalue < alpha:\n",
        "    print(f'P-value:{pvalue:.5f}. Нулевая гипотеза отвергается')\n",
        "else:\n",
        "    print(f'P-value:{pvalue:.5f}. Подтверждается нулевая гипотеза')"
      ]
    },
    {
      "attachments": {},
      "cell_type": "markdown",
      "id": "d10ead43",
      "metadata": {},
      "source": [
        "Отвергаем *Гипотеза: Клиенты с технической поддержкой реже отказываются от услуг компании*"
      ]
    },
    {
      "attachments": {},
      "cell_type": "markdown",
      "id": "fcf51308",
      "metadata": {},
      "source": [
        "# - StreamingTV (Есть ли у клиента потоковое телевидение).\n",
        "*Гипотеза: Клиенты с потоковым телевидинием реже отказываются от услуг компании*"
      ]
    },
    {
      "cell_type": "code",
      "execution_count": 247,
      "id": "0340bdc8",
      "metadata": {},
      "outputs": [
        {
          "data": {
            "text/plain": [
              "StreamingTV\n",
              "1    1893\n",
              "0    1868\n",
              "Name: count, dtype: int64"
            ]
          },
          "execution_count": 247,
          "metadata": {},
          "output_type": "execute_result"
        }
      ],
      "source": [
        "churn_no['StreamingTV'].value_counts()"
      ]
    },
    {
      "cell_type": "code",
      "execution_count": 248,
      "id": "c65eedb0",
      "metadata": {},
      "outputs": [
        {
          "data": {
            "text/plain": [
              "StreamingTV\n",
              "0    942\n",
              "1    814\n",
              "Name: count, dtype: int64"
            ]
          },
          "execution_count": 248,
          "metadata": {},
          "output_type": "execute_result"
        }
      ],
      "source": [
        "churn_yes['StreamingTV'].value_counts()"
      ]
    },
    {
      "cell_type": "code",
      "execution_count": 249,
      "id": "5ffc8490",
      "metadata": {},
      "outputs": [
        {
          "name": "stdout",
          "output_type": "stream",
          "text": [
            "StreamingTV churn_no среднее 0.5033235841531507\n",
            "StreamingTV churn_yes среднее 0.4635535307517084\n"
          ]
        }
      ],
      "source": [
        "print(f\"StreamingTV churn_no среднее {churn_no['StreamingTV'].mean()}\")\n",
        "print(f\"StreamingTV churn_yes среднее {churn_yes['StreamingTV'].mean()}\")"
      ]
    },
    {
      "cell_type": "code",
      "execution_count": 250,
      "id": "6147b00d",
      "metadata": {},
      "outputs": [
        {
          "name": "stdout",
          "output_type": "stream",
          "text": [
            "P-value:0.00591. Нулевая гипотеза отвергается\n"
          ]
        }
      ],
      "source": [
        "t_stat, pvalue = stats.ttest_ind(churn_no['StreamingTV'], churn_yes['StreamingTV'])\n",
        "alpha = .05\n",
        "\n",
        "if pvalue < alpha:\n",
        "    print(f'P-value:{pvalue:.5f}. Нулевая гипотеза отвергается')\n",
        "else:\n",
        "    print(f'P-value:{pvalue:.5f}. Подтверждается нулевая гипотеза')"
      ]
    },
    {
      "attachments": {},
      "cell_type": "markdown",
      "id": "beea40a8",
      "metadata": {},
      "source": [
        "Отвергаем *Гипотеза: Клиенты с потоковым телевидинием реже отказываются от услуг компании*"
      ]
    },
    {
      "attachments": {},
      "cell_type": "markdown",
      "id": "193c9765",
      "metadata": {},
      "source": [
        "# - StreamingMovies (Есть ли у клиента стриминговые сервисы).\n",
        "*Гипотеза: Клиенты со стриминговым сервисом реже отказываются от услуг компании*"
      ]
    },
    {
      "cell_type": "code",
      "execution_count": 251,
      "id": "3423ec77",
      "metadata": {},
      "outputs": [
        {
          "data": {
            "text/plain": [
              "StreamingMovies\n",
              "1    1914\n",
              "0    1847\n",
              "Name: count, dtype: int64"
            ]
          },
          "execution_count": 251,
          "metadata": {},
          "output_type": "execute_result"
        }
      ],
      "source": [
        "churn_no['StreamingMovies'].value_counts()"
      ]
    },
    {
      "cell_type": "code",
      "execution_count": 252,
      "id": "6720e3ae",
      "metadata": {},
      "outputs": [
        {
          "data": {
            "text/plain": [
              "StreamingMovies\n",
              "0    938\n",
              "1    818\n",
              "Name: count, dtype: int64"
            ]
          },
          "execution_count": 252,
          "metadata": {},
          "output_type": "execute_result"
        }
      ],
      "source": [
        "churn_yes['StreamingMovies'].value_counts()"
      ]
    },
    {
      "cell_type": "code",
      "execution_count": 253,
      "id": "a4c6f42e",
      "metadata": {},
      "outputs": [
        {
          "name": "stdout",
          "output_type": "stream",
          "text": [
            "StreamingMovies churn_no среднее 0.508907205530444\n",
            "StreamingMovies churn_yes среднее 0.46583143507972663\n"
          ]
        }
      ],
      "source": [
        "print(f\"StreamingMovies churn_no среднее {churn_no['StreamingMovies'].mean()}\")\n",
        "print(f\"StreamingMovies churn_yes среднее {churn_yes['StreamingMovies'].mean()}\")"
      ]
    },
    {
      "cell_type": "code",
      "execution_count": 254,
      "id": "7d4c28e9",
      "metadata": {},
      "outputs": [
        {
          "name": "stdout",
          "output_type": "stream",
          "text": [
            "P-value:0.00287. Нулевая гипотеза отвергается\n"
          ]
        }
      ],
      "source": [
        "t_stat, pvalue = stats.ttest_ind(churn_no['StreamingMovies'], churn_yes['StreamingMovies'])\n",
        "alpha = .05\n",
        "\n",
        "if pvalue < alpha:\n",
        "    print(f'P-value:{pvalue:.5f}. Нулевая гипотеза отвергается')\n",
        "else:\n",
        "    print(f'P-value:{pvalue:.5f}. Подтверждается нулевая гипотеза')"
      ]
    },
    {
      "attachments": {},
      "cell_type": "markdown",
      "id": "7f42aac3",
      "metadata": {},
      "source": [
        "Отвергаем *Гипотеза: Клиенты со стриминговым сервисом реже отказываются от услуг компании*"
      ]
    },
    {
      "attachments": {},
      "cell_type": "markdown",
      "id": "b518d3e2",
      "metadata": {},
      "source": [
        "# - Contract (Срок действия контракта заказчика).\n",
        "*Гипотеза 1: Клиенты со сроком действия контракта 'One year' реже отказываются от услуг компании*\n",
        "*Гипотеза 2: Клиенты со сроком действия контракта 'Two year' реже отказываются от услуг компании*\n",
        "*Гипотеза 3: Клиенты со сроком действия контракта 'Month-to-month' чаще отказываются от услуг компании*"
      ]
    },
    {
      "attachments": {},
      "cell_type": "markdown",
      "id": "2a088a65",
      "metadata": {},
      "source": [
        "'Contract'          0-Month-to-month    2-One year          1-Two year"
      ]
    },
    {
      "cell_type": "code",
      "execution_count": 257,
      "id": "d7e53e8f",
      "metadata": {},
      "outputs": [],
      "source": [
        "churn_no2 = df[df['Churn'] == 0]\n",
        "churn_yes2 = df[df['Churn'] == 1]"
      ]
    },
    {
      "cell_type": "code",
      "execution_count": 258,
      "id": "c5f8889c",
      "metadata": {},
      "outputs": [
        {
          "data": {
            "text/plain": [
              "Contract\n",
              "0    1795\n",
              "2    1014\n",
              "1     952\n",
              "Name: count, dtype: int64"
            ]
          },
          "execution_count": 258,
          "metadata": {},
          "output_type": "execute_result"
        }
      ],
      "source": [
        "churn_no['Contract'].value_counts()"
      ]
    },
    {
      "cell_type": "code",
      "execution_count": 259,
      "id": "86d65d68",
      "metadata": {},
      "outputs": [
        {
          "data": {
            "text/plain": [
              "Contract\n",
              "0    1556\n",
              "1     157\n",
              "2      43\n",
              "Name: count, dtype: int64"
            ]
          },
          "execution_count": 259,
          "metadata": {},
          "output_type": "execute_result"
        }
      ],
      "source": [
        "churn_yes['Contract'].value_counts()"
      ]
    },
    {
      "cell_type": "code",
      "execution_count": 269,
      "id": "01e8d435",
      "metadata": {},
      "outputs": [
        {
          "name": "stdout",
          "output_type": "stream",
          "text": [
            " Договор Month-to-month ушли 22.092858157035355 %\n",
            " Договор Month-to-month остались 25.486298452364046 %\n",
            "\n",
            " Договор One year ушли 2.2291637086468836 %\n",
            " Договор One year остались 14.397273888967769 %\n",
            "\n",
            " Договор Two year ушли 0.6105352832599744 %\n",
            " Договор Two year остались 13.516967201476643 %\n"
          ]
        }
      ],
      "source": [
        "print(f\" Договор Month-to-month ушли {1556/7043*100} %\")\n",
        "print(f\" Договор Month-to-month остались {1795/7043*100} %\")\n",
        "print()\n",
        "print(f\" Договор One year ушли {157/7043*100} %\")\n",
        "print(f\" Договор One year остались {1014/7043*100} %\")\n",
        "print()\n",
        "print(f\" Договор Two year ушли {43/7043*100} %\")\n",
        "print(f\" Договор Two year остались {952/7043*100} %\")"
      ]
    },
    {
      "attachments": {},
      "cell_type": "markdown",
      "id": "b7a8ca3a",
      "metadata": {},
      "source": [
        "Судя по процентным соотношениям:\n",
        "Month-to-month одинаковое количество ушли/остались\n",
        "One year, Two year чаще остаются"
      ]
    },
    {
      "attachments": {},
      "cell_type": "markdown",
      "id": "e7243814",
      "metadata": {},
      "source": [
        "# - PaymentMethod (Способ оплаты клиента).\n",
        "*Гипотеза 1: Клиенты со способом оплаты 'Bank transfer (automatic)' реже отказываются от услуг компании*\n",
        "*Гипотеза 2: Клиенты со способом оплаты 'Credit card (automatic)' реже отказываются от услуг компании*\n",
        "*Гипотеза 3: Клиенты со способом оплаты 'Electronic check' чаще отказываются от услуг компании*\n",
        "*Гипотеза 4: Клиенты со способом оплаты 'Mailed check' чаще отказываются от услуг компании*"
      ]
    },
    {
      "attachments": {},
      "cell_type": "markdown",
      "id": "0d69c429",
      "metadata": {},
      "source": [
        "'PaymentMethod'     0-Electronic check  1-Mailed check      2-Bank transfer (automatic)     3-Credit card (automatic)"
      ]
    },
    {
      "cell_type": "code",
      "execution_count": 260,
      "id": "785db012",
      "metadata": {},
      "outputs": [
        {
          "data": {
            "text/plain": [
              "PaymentMethod\n",
              "0    1187\n",
              "2     972\n",
              "3     968\n",
              "1     634\n",
              "Name: count, dtype: int64"
            ]
          },
          "execution_count": 260,
          "metadata": {},
          "output_type": "execute_result"
        }
      ],
      "source": [
        "churn_no['PaymentMethod'].value_counts()"
      ]
    },
    {
      "cell_type": "code",
      "execution_count": 261,
      "id": "6d0337a8",
      "metadata": {},
      "outputs": [
        {
          "data": {
            "text/plain": [
              "PaymentMethod\n",
              "0    1056\n",
              "2     240\n",
              "1     237\n",
              "3     223\n",
              "Name: count, dtype: int64"
            ]
          },
          "execution_count": 261,
          "metadata": {},
          "output_type": "execute_result"
        }
      ],
      "source": [
        "churn_yes['PaymentMethod'].value_counts()"
      ]
    },
    {
      "cell_type": "code",
      "execution_count": 271,
      "id": "4e061e21",
      "metadata": {},
      "outputs": [
        {
          "name": "stdout",
          "output_type": "stream",
          "text": [
            " Способ оплаты Electronic check ушли 14.99361067726821 %\n",
            " Способ оплаты Electronic check остались 16.8536135169672 %\n",
            "\n",
            " Способ оплаты Bank transfer (automatic) ушли 3.4076387902882295 %\n",
            " Способ оплаты Bank transfer (automatic) остались 13.80093710066733 %\n",
            "\n",
            " Способ оплаты 3-Credit card (automatic) ушли 3.1662643759761466 %\n",
            " Способ оплаты 3-Credit card (automatic) остались 13.744143120829191 %\n",
            "\n",
            " Способ оплаты Mailed check ушли 3.3650433054096265 %\n",
            " Способ оплаты Mailed check остались 9.00184580434474 %\n"
          ]
        }
      ],
      "source": [
        "print(f\" Способ оплаты Electronic check ушли {1056/7043*100} %\")\n",
        "print(f\" Способ оплаты Electronic check остались {1187/7043*100} %\")\n",
        "print()\n",
        "print(f\" Способ оплаты Bank transfer (automatic) ушли {240/7043*100} %\")\n",
        "print(f\" Способ оплаты Bank transfer (automatic) остались {972/7043*100} %\")\n",
        "print()\n",
        "print(f\" Способ оплаты Credit card (automatic) ушли {223/7043*100} %\")\n",
        "print(f\" Способ оплаты Credit card (automatic) остались {968/7043*100} %\")\n",
        "print()\n",
        "print(f\" Способ оплаты Mailed check ушли {237/7043*100} %\")\n",
        "print(f\" Способ оплаты Mailed check остались {634/7043*100} %\")"
      ]
    },
    {
      "attachments": {},
      "cell_type": "markdown",
      "id": "53efaf33",
      "metadata": {},
      "source": [
        "Судя по процентным соотношениям:\n",
        "Electronic check одинаковое количество ушли/остались\n",
        "Bank transfer (automatic), Credit card (automatic), Mailed check чаще оставались"
      ]
    },
    {
      "attachments": {},
      "cell_type": "markdown",
      "id": "8070fbae",
      "metadata": {},
      "source": [
        "# Тепловая карта корреляции Phik"
      ]
    },
    {
      "cell_type": "code",
      "execution_count": 86,
      "id": "230e7379",
      "metadata": {},
      "outputs": [
        {
          "data": {
            "image/png": "[encoded data removed]",
            "text/plain": [
              "<Figure size 640x480 with 2 Axes>"
            ]
          },
          "metadata": {},
          "output_type": "display_data"
        }
      ],
      "source": [
        "import seaborn as sb\n",
        "import matplotlib.pyplot as mp\n",
        "\n",
        "df_phik = df.copy()\n",
        "df_phik = df_phik.drop('customerID', axis=1)\n",
        "df_phik = df_phik.drop('PaperlessBilling', axis=1)\n",
        "\n",
        "\n",
        "mask = np.triu(np.ones_like(df_phik.corr()))\n",
        "dataplot = sb.heatmap(df_phik.corr(), cmap=\"YlGnBu\", annot=True, mask=mask)\n",
        "mp.show()"
      ]
    },
    {
      "cell_type": "code",
      "execution_count": 87,
      "id": "62649a2d",
      "metadata": {},
      "outputs": [
        {
          "data": {
            "text/html": [
              "<div>\n",
              "<style scoped>\n",
              "    .dataframe tbody tr th:only-of-type {\n",
              "        vertical-align: middle;\n",
              "    }\n",
              "\n",
              "    .dataframe tbody tr th {\n",
              "        vertical-align: top;\n",
              "    }\n",
              "\n",
              "    .dataframe thead th {\n",
              "        text-align: right;\n",
              "    }\n",
              "</style>\n",
              "<table border=\"1\" class=\"dataframe\">\n",
              "  <thead>\n",
              "    <tr style=\"text-align: right;\">\n",
              "      <th></th>\n",
              "      <th>gender</th>\n",
              "      <th>SeniorCitizen</th>\n",
              "      <th>Partner</th>\n",
              "      <th>Dependents</th>\n",
              "      <th>tenure</th>\n",
              "      <th>PhoneService</th>\n",
              "      <th>MultipleLines</th>\n",
              "      <th>InternetService</th>\n",
              "      <th>OnlineSecurity</th>\n",
              "      <th>OnlineBackup</th>\n",
              "      <th>DeviceProtection</th>\n",
              "      <th>TechSupport</th>\n",
              "      <th>StreamingTV</th>\n",
              "      <th>StreamingMovies</th>\n",
              "      <th>Contract</th>\n",
              "      <th>PaymentMethod</th>\n",
              "      <th>MonthlyCharges</th>\n",
              "      <th>TotalCharges</th>\n",
              "      <th>Churn</th>\n",
              "    </tr>\n",
              "  </thead>\n",
              "  <tbody>\n",
              "    <tr>\n",
              "      <th>gender</th>\n",
              "      <td>1.000000</td>\n",
              "      <td>-0.001874</td>\n",
              "      <td>0.001808</td>\n",
              "      <td>0.010517</td>\n",
              "      <td>0.005106</td>\n",
              "      <td>-0.006488</td>\n",
              "      <td>-0.009451</td>\n",
              "      <td>-0.000863</td>\n",
              "      <td>-0.003429</td>\n",
              "      <td>0.012230</td>\n",
              "      <td>0.005092</td>\n",
              "      <td>0.000985</td>\n",
              "      <td>0.001156</td>\n",
              "      <td>-0.000191</td>\n",
              "      <td>0.000126</td>\n",
              "      <td>-0.005209</td>\n",
              "      <td>-0.014569</td>\n",
              "      <td>-0.000080</td>\n",
              "      <td>-0.008612</td>\n",
              "    </tr>\n",
              "    <tr>\n",
              "      <th>SeniorCitizen</th>\n",
              "      <td>-0.001874</td>\n",
              "      <td>1.000000</td>\n",
              "      <td>-0.016479</td>\n",
              "      <td>-0.211185</td>\n",
              "      <td>0.016567</td>\n",
              "      <td>0.008576</td>\n",
              "      <td>0.113791</td>\n",
              "      <td>-0.032310</td>\n",
              "      <td>-0.210897</td>\n",
              "      <td>-0.144828</td>\n",
              "      <td>-0.157095</td>\n",
              "      <td>-0.223770</td>\n",
              "      <td>-0.130130</td>\n",
              "      <td>-0.120802</td>\n",
              "      <td>-0.142554</td>\n",
              "      <td>-0.093704</td>\n",
              "      <td>0.220173</td>\n",
              "      <td>0.103006</td>\n",
              "      <td>0.150889</td>\n",
              "    </tr>\n",
              "    <tr>\n",
              "      <th>Partner</th>\n",
              "      <td>0.001808</td>\n",
              "      <td>-0.016479</td>\n",
              "      <td>1.000000</td>\n",
              "      <td>-0.452676</td>\n",
              "      <td>-0.379697</td>\n",
              "      <td>-0.017706</td>\n",
              "      <td>-0.117307</td>\n",
              "      <td>-0.000891</td>\n",
              "      <td>-0.081850</td>\n",
              "      <td>0.090753</td>\n",
              "      <td>-0.094451</td>\n",
              "      <td>-0.069072</td>\n",
              "      <td>-0.080127</td>\n",
              "      <td>-0.075779</td>\n",
              "      <td>-0.294806</td>\n",
              "      <td>-0.133115</td>\n",
              "      <td>-0.096848</td>\n",
              "      <td>-0.317504</td>\n",
              "      <td>0.150448</td>\n",
              "    </tr>\n",
              "    <tr>\n",
              "      <th>Dependents</th>\n",
              "      <td>0.010517</td>\n",
              "      <td>-0.211185</td>\n",
              "      <td>-0.452676</td>\n",
              "      <td>1.000000</td>\n",
              "      <td>0.159712</td>\n",
              "      <td>-0.001762</td>\n",
              "      <td>-0.019657</td>\n",
              "      <td>0.044590</td>\n",
              "      <td>0.190523</td>\n",
              "      <td>0.062775</td>\n",
              "      <td>0.156439</td>\n",
              "      <td>0.180832</td>\n",
              "      <td>0.140395</td>\n",
              "      <td>0.125820</td>\n",
              "      <td>0.243187</td>\n",
              "      <td>0.123844</td>\n",
              "      <td>-0.113890</td>\n",
              "      <td>0.062078</td>\n",
              "      <td>-0.164221</td>\n",
              "    </tr>\n",
              "    <tr>\n",
              "      <th>tenure</th>\n",
              "      <td>0.005106</td>\n",
              "      <td>0.016567</td>\n",
              "      <td>-0.379697</td>\n",
              "      <td>0.159712</td>\n",
              "      <td>1.000000</td>\n",
              "      <td>0.008448</td>\n",
              "      <td>0.258958</td>\n",
              "      <td>-0.030359</td>\n",
              "      <td>0.145298</td>\n",
              "      <td>-0.253743</td>\n",
              "      <td>0.178649</td>\n",
              "      <td>0.144459</td>\n",
              "      <td>0.136145</td>\n",
              "      <td>0.140781</td>\n",
              "      <td>0.671607</td>\n",
              "      <td>0.340305</td>\n",
              "      <td>0.247900</td>\n",
              "      <td>0.826178</td>\n",
              "      <td>-0.352229</td>\n",
              "    </tr>\n",
              "    <tr>\n",
              "      <th>PhoneService</th>\n",
              "      <td>-0.006488</td>\n",
              "      <td>0.008576</td>\n",
              "      <td>-0.017706</td>\n",
              "      <td>-0.001762</td>\n",
              "      <td>0.008448</td>\n",
              "      <td>1.000000</td>\n",
              "      <td>0.675070</td>\n",
              "      <td>0.387436</td>\n",
              "      <td>0.125353</td>\n",
              "      <td>0.129770</td>\n",
              "      <td>0.138755</td>\n",
              "      <td>0.123350</td>\n",
              "      <td>0.171538</td>\n",
              "      <td>0.165205</td>\n",
              "      <td>0.002247</td>\n",
              "      <td>-0.004070</td>\n",
              "      <td>0.247398</td>\n",
              "      <td>0.113214</td>\n",
              "      <td>0.011942</td>\n",
              "    </tr>\n",
              "    <tr>\n",
              "      <th>MultipleLines</th>\n",
              "      <td>-0.009451</td>\n",
              "      <td>0.113791</td>\n",
              "      <td>-0.117307</td>\n",
              "      <td>-0.019657</td>\n",
              "      <td>0.258958</td>\n",
              "      <td>0.675070</td>\n",
              "      <td>1.000000</td>\n",
              "      <td>0.186826</td>\n",
              "      <td>-0.066844</td>\n",
              "      <td>-0.130619</td>\n",
              "      <td>-0.013069</td>\n",
              "      <td>-0.066684</td>\n",
              "      <td>0.030195</td>\n",
              "      <td>0.028187</td>\n",
              "      <td>0.083343</td>\n",
              "      <td>0.025676</td>\n",
              "      <td>0.490700</td>\n",
              "      <td>0.412104</td>\n",
              "      <td>0.036310</td>\n",
              "    </tr>\n",
              "    <tr>\n",
              "      <th>InternetService</th>\n",
              "      <td>-0.000863</td>\n",
              "      <td>-0.032310</td>\n",
              "      <td>-0.000891</td>\n",
              "      <td>0.044590</td>\n",
              "      <td>-0.030359</td>\n",
              "      <td>0.387436</td>\n",
              "      <td>0.186826</td>\n",
              "      <td>1.000000</td>\n",
              "      <td>0.607788</td>\n",
              "      <td>0.650962</td>\n",
              "      <td>0.662957</td>\n",
              "      <td>0.609795</td>\n",
              "      <td>0.712890</td>\n",
              "      <td>0.709020</td>\n",
              "      <td>0.099721</td>\n",
              "      <td>0.008124</td>\n",
              "      <td>-0.323260</td>\n",
              "      <td>-0.175755</td>\n",
              "      <td>-0.047291</td>\n",
              "    </tr>\n",
              "    <tr>\n",
              "      <th>OnlineSecurity</th>\n",
              "      <td>-0.003429</td>\n",
              "      <td>-0.210897</td>\n",
              "      <td>-0.081850</td>\n",
              "      <td>0.190523</td>\n",
              "      <td>0.145298</td>\n",
              "      <td>0.125353</td>\n",
              "      <td>-0.066844</td>\n",
              "      <td>0.607788</td>\n",
              "      <td>1.000000</td>\n",
              "      <td>0.621739</td>\n",
              "      <td>0.749040</td>\n",
              "      <td>0.791225</td>\n",
              "      <td>0.701976</td>\n",
              "      <td>0.704984</td>\n",
              "      <td>0.389978</td>\n",
              "      <td>0.213800</td>\n",
              "      <td>-0.621227</td>\n",
              "      <td>-0.154380</td>\n",
              "      <td>-0.332819</td>\n",
              "    </tr>\n",
              "    <tr>\n",
              "      <th>OnlineBackup</th>\n",
              "      <td>0.012230</td>\n",
              "      <td>-0.144828</td>\n",
              "      <td>0.090753</td>\n",
              "      <td>0.062775</td>\n",
              "      <td>-0.253743</td>\n",
              "      <td>0.129770</td>\n",
              "      <td>-0.130619</td>\n",
              "      <td>0.650962</td>\n",
              "      <td>0.621739</td>\n",
              "      <td>1.000000</td>\n",
              "      <td>0.601503</td>\n",
              "      <td>0.617003</td>\n",
              "      <td>0.604117</td>\n",
              "      <td>0.606863</td>\n",
              "      <td>0.035407</td>\n",
              "      <td>0.003183</td>\n",
              "      <td>-0.710477</td>\n",
              "      <td>-0.537212</td>\n",
              "      <td>-0.074205</td>\n",
              "    </tr>\n",
              "    <tr>\n",
              "      <th>DeviceProtection</th>\n",
              "      <td>0.005092</td>\n",
              "      <td>-0.157095</td>\n",
              "      <td>-0.094451</td>\n",
              "      <td>0.156439</td>\n",
              "      <td>0.178649</td>\n",
              "      <td>0.138755</td>\n",
              "      <td>-0.013069</td>\n",
              "      <td>0.662957</td>\n",
              "      <td>0.749040</td>\n",
              "      <td>0.601503</td>\n",
              "      <td>1.000000</td>\n",
              "      <td>0.767970</td>\n",
              "      <td>0.763279</td>\n",
              "      <td>0.766821</td>\n",
              "      <td>0.390216</td>\n",
              "      <td>0.191746</td>\n",
              "      <td>-0.513440</td>\n",
              "      <td>-0.078612</td>\n",
              "      <td>-0.281465</td>\n",
              "    </tr>\n",
              "    <tr>\n",
              "      <th>TechSupport</th>\n",
              "      <td>0.000985</td>\n",
              "      <td>-0.223770</td>\n",
              "      <td>-0.069072</td>\n",
              "      <td>0.180832</td>\n",
              "      <td>0.144459</td>\n",
              "      <td>0.123350</td>\n",
              "      <td>-0.066684</td>\n",
              "      <td>0.609795</td>\n",
              "      <td>0.791225</td>\n",
              "      <td>0.617003</td>\n",
              "      <td>0.767970</td>\n",
              "      <td>1.000000</td>\n",
              "      <td>0.737578</td>\n",
              "      <td>0.737123</td>\n",
              "      <td>0.418440</td>\n",
              "      <td>0.216878</td>\n",
              "      <td>-0.597594</td>\n",
              "      <td>-0.142176</td>\n",
              "      <td>-0.329852</td>\n",
              "    </tr>\n",
              "    <tr>\n",
              "      <th>StreamingTV</th>\n",
              "      <td>0.001156</td>\n",
              "      <td>-0.130130</td>\n",
              "      <td>-0.080127</td>\n",
              "      <td>0.140395</td>\n",
              "      <td>0.136145</td>\n",
              "      <td>0.171538</td>\n",
              "      <td>0.030195</td>\n",
              "      <td>0.712890</td>\n",
              "      <td>0.701976</td>\n",
              "      <td>0.604117</td>\n",
              "      <td>0.763279</td>\n",
              "      <td>0.737578</td>\n",
              "      <td>1.000000</td>\n",
              "      <td>0.809608</td>\n",
              "      <td>0.327951</td>\n",
              "      <td>0.117618</td>\n",
              "      <td>-0.423067</td>\n",
              "      <td>-0.076865</td>\n",
              "      <td>-0.205742</td>\n",
              "    </tr>\n",
              "    <tr>\n",
              "      <th>StreamingMovies</th>\n",
              "      <td>-0.000191</td>\n",
              "      <td>-0.120802</td>\n",
              "      <td>-0.075779</td>\n",
              "      <td>0.125820</td>\n",
              "      <td>0.140781</td>\n",
              "      <td>0.165205</td>\n",
              "      <td>0.028187</td>\n",
              "      <td>0.709020</td>\n",
              "      <td>0.704984</td>\n",
              "      <td>0.606863</td>\n",
              "      <td>0.766821</td>\n",
              "      <td>0.737123</td>\n",
              "      <td>0.809608</td>\n",
              "      <td>1.000000</td>\n",
              "      <td>0.330993</td>\n",
              "      <td>0.123869</td>\n",
              "      <td>-0.424598</td>\n",
              "      <td>-0.073160</td>\n",
              "      <td>-0.207256</td>\n",
              "    </tr>\n",
              "    <tr>\n",
              "      <th>Contract</th>\n",
              "      <td>0.000126</td>\n",
              "      <td>-0.142554</td>\n",
              "      <td>-0.294806</td>\n",
              "      <td>0.243187</td>\n",
              "      <td>0.671607</td>\n",
              "      <td>0.002247</td>\n",
              "      <td>0.083343</td>\n",
              "      <td>0.099721</td>\n",
              "      <td>0.389978</td>\n",
              "      <td>0.035407</td>\n",
              "      <td>0.390216</td>\n",
              "      <td>0.418440</td>\n",
              "      <td>0.327951</td>\n",
              "      <td>0.330993</td>\n",
              "      <td>1.000000</td>\n",
              "      <td>0.358913</td>\n",
              "      <td>-0.074195</td>\n",
              "      <td>0.446855</td>\n",
              "      <td>-0.396713</td>\n",
              "    </tr>\n",
              "    <tr>\n",
              "      <th>PaymentMethod</th>\n",
              "      <td>-0.005209</td>\n",
              "      <td>-0.093704</td>\n",
              "      <td>-0.133115</td>\n",
              "      <td>0.123844</td>\n",
              "      <td>0.340305</td>\n",
              "      <td>-0.004070</td>\n",
              "      <td>0.025676</td>\n",
              "      <td>0.008124</td>\n",
              "      <td>0.213800</td>\n",
              "      <td>0.003183</td>\n",
              "      <td>0.191746</td>\n",
              "      <td>0.216878</td>\n",
              "      <td>0.117618</td>\n",
              "      <td>0.123869</td>\n",
              "      <td>0.358913</td>\n",
              "      <td>1.000000</td>\n",
              "      <td>-0.074353</td>\n",
              "      <td>0.222398</td>\n",
              "      <td>-0.262818</td>\n",
              "    </tr>\n",
              "    <tr>\n",
              "      <th>MonthlyCharges</th>\n",
              "      <td>-0.014569</td>\n",
              "      <td>0.220173</td>\n",
              "      <td>-0.096848</td>\n",
              "      <td>-0.113890</td>\n",
              "      <td>0.247900</td>\n",
              "      <td>0.247398</td>\n",
              "      <td>0.490700</td>\n",
              "      <td>-0.323260</td>\n",
              "      <td>-0.621227</td>\n",
              "      <td>-0.710477</td>\n",
              "      <td>-0.513440</td>\n",
              "      <td>-0.597594</td>\n",
              "      <td>-0.423067</td>\n",
              "      <td>-0.424598</td>\n",
              "      <td>-0.074195</td>\n",
              "      <td>-0.074353</td>\n",
              "      <td>1.000000</td>\n",
              "      <td>0.651174</td>\n",
              "      <td>0.193356</td>\n",
              "    </tr>\n",
              "    <tr>\n",
              "      <th>TotalCharges</th>\n",
              "      <td>-0.000080</td>\n",
              "      <td>0.103006</td>\n",
              "      <td>-0.317504</td>\n",
              "      <td>0.062078</td>\n",
              "      <td>0.826178</td>\n",
              "      <td>0.113214</td>\n",
              "      <td>0.412104</td>\n",
              "      <td>-0.175755</td>\n",
              "      <td>-0.154380</td>\n",
              "      <td>-0.537212</td>\n",
              "      <td>-0.078612</td>\n",
              "      <td>-0.142176</td>\n",
              "      <td>-0.076865</td>\n",
              "      <td>-0.073160</td>\n",
              "      <td>0.446855</td>\n",
              "      <td>0.222398</td>\n",
              "      <td>0.651174</td>\n",
              "      <td>1.000000</td>\n",
              "      <td>-0.198324</td>\n",
              "    </tr>\n",
              "    <tr>\n",
              "      <th>Churn</th>\n",
              "      <td>-0.008612</td>\n",
              "      <td>0.150889</td>\n",
              "      <td>0.150448</td>\n",
              "      <td>-0.164221</td>\n",
              "      <td>-0.352229</td>\n",
              "      <td>0.011942</td>\n",
              "      <td>0.036310</td>\n",
              "      <td>-0.047291</td>\n",
              "      <td>-0.332819</td>\n",
              "      <td>-0.074205</td>\n",
              "      <td>-0.281465</td>\n",
              "      <td>-0.329852</td>\n",
              "      <td>-0.205742</td>\n",
              "      <td>-0.207256</td>\n",
              "      <td>-0.396713</td>\n",
              "      <td>-0.262818</td>\n",
              "      <td>0.193356</td>\n",
              "      <td>-0.198324</td>\n",
              "      <td>1.000000</td>\n",
              "    </tr>\n",
              "  </tbody>\n",
              "</table>\n",
              "</div>"
            ],
            "text/plain": [
              "                    gender  SeniorCitizen   Partner  Dependents    tenure   \n",
              "gender            1.000000      -0.001874  0.001808    0.010517  0.005106  \\\n",
              "SeniorCitizen    -0.001874       1.000000 -0.016479   -0.211185  0.016567   \n",
              "Partner           0.001808      -0.016479  1.000000   -0.452676 -0.379697   \n",
              "Dependents        0.010517      -0.211185 -0.452676    1.000000  0.159712   \n",
              "tenure            0.005106       0.016567 -0.379697    0.159712  1.000000   \n",
              "PhoneService     -0.006488       0.008576 -0.017706   -0.001762  0.008448   \n",
              "MultipleLines    -0.009451       0.113791 -0.117307   -0.019657  0.258958   \n",
              "InternetService  -0.000863      -0.032310 -0.000891    0.044590 -0.030359   \n",
              "OnlineSecurity   -0.003429      -0.210897 -0.081850    0.190523  0.145298   \n",
              "OnlineBackup      0.012230      -0.144828  0.090753    0.062775 -0.253743   \n",
              "DeviceProtection  0.005092      -0.157095 -0.094451    0.156439  0.178649   \n",
              "TechSupport       0.000985      -0.223770 -0.069072    0.180832  0.144459   \n",
              "StreamingTV       0.001156      -0.130130 -0.080127    0.140395  0.136145   \n",
              "StreamingMovies  -0.000191      -0.120802 -0.075779    0.125820  0.140781   \n",
              "Contract          0.000126      -0.142554 -0.294806    0.243187  0.671607   \n",
              "PaymentMethod    -0.005209      -0.093704 -0.133115    0.123844  0.340305   \n",
              "MonthlyCharges   -0.014569       0.220173 -0.096848   -0.113890  0.247900   \n",
              "TotalCharges     -0.000080       0.103006 -0.317504    0.062078  0.826178   \n",
              "Churn            -0.008612       0.150889  0.150448   -0.164221 -0.352229   \n",
              "\n",
              "                  PhoneService  MultipleLines  InternetService   \n",
              "gender               -0.006488      -0.009451        -0.000863  \\\n",
              "SeniorCitizen         0.008576       0.113791        -0.032310   \n",
              "Partner              -0.017706      -0.117307        -0.000891   \n",
              "Dependents           -0.001762      -0.019657         0.044590   \n",
              "tenure                0.008448       0.258958        -0.030359   \n",
              "PhoneService          1.000000       0.675070         0.387436   \n",
              "MultipleLines         0.675070       1.000000         0.186826   \n",
              "InternetService       0.387436       0.186826         1.000000   \n",
              "OnlineSecurity        0.125353      -0.066844         0.607788   \n",
              "OnlineBackup          0.129770      -0.130619         0.650962   \n",
              "DeviceProtection      0.138755      -0.013069         0.662957   \n",
              "TechSupport           0.123350      -0.066684         0.609795   \n",
              "StreamingTV           0.171538       0.030195         0.712890   \n",
              "StreamingMovies       0.165205       0.028187         0.709020   \n",
              "Contract              0.002247       0.083343         0.099721   \n",
              "PaymentMethod        -0.004070       0.025676         0.008124   \n",
              "MonthlyCharges        0.247398       0.490700        -0.323260   \n",
              "TotalCharges          0.113214       0.412104        -0.175755   \n",
              "Churn                 0.011942       0.036310        -0.047291   \n",
              "\n",
              "                  OnlineSecurity  OnlineBackup  DeviceProtection  TechSupport   \n",
              "gender                 -0.003429      0.012230          0.005092     0.000985  \\\n",
              "SeniorCitizen          -0.210897     -0.144828         -0.157095    -0.223770   \n",
              "Partner                -0.081850      0.090753         -0.094451    -0.069072   \n",
              "Dependents              0.190523      0.062775          0.156439     0.180832   \n",
              "tenure                  0.145298     -0.253743          0.178649     0.144459   \n",
              "PhoneService            0.125353      0.129770          0.138755     0.123350   \n",
              "MultipleLines          -0.066844     -0.130619         -0.013069    -0.066684   \n",
              "InternetService         0.607788      0.650962          0.662957     0.609795   \n",
              "OnlineSecurity          1.000000      0.621739          0.749040     0.791225   \n",
              "OnlineBackup            0.621739      1.000000          0.601503     0.617003   \n",
              "DeviceProtection        0.749040      0.601503          1.000000     0.767970   \n",
              "TechSupport             0.791225      0.617003          0.767970     1.000000   \n",
              "StreamingTV             0.701976      0.604117          0.763279     0.737578   \n",
              "StreamingMovies         0.704984      0.606863          0.766821     0.737123   \n",
              "Contract                0.389978      0.035407          0.390216     0.418440   \n",
              "PaymentMethod           0.213800      0.003183          0.191746     0.216878   \n",
              "MonthlyCharges         -0.621227     -0.710477         -0.513440    -0.597594   \n",
              "TotalCharges           -0.154380     -0.537212         -0.078612    -0.142176   \n",
              "Churn                  -0.332819     -0.074205         -0.281465    -0.329852   \n",
              "\n",
              "                  StreamingTV  StreamingMovies  Contract  PaymentMethod   \n",
              "gender               0.001156        -0.000191  0.000126      -0.005209  \\\n",
              "SeniorCitizen       -0.130130        -0.120802 -0.142554      -0.093704   \n",
              "Partner             -0.080127        -0.075779 -0.294806      -0.133115   \n",
              "Dependents           0.140395         0.125820  0.243187       0.123844   \n",
              "tenure               0.136145         0.140781  0.671607       0.340305   \n",
              "PhoneService         0.171538         0.165205  0.002247      -0.004070   \n",
              "MultipleLines        0.030195         0.028187  0.083343       0.025676   \n",
              "InternetService      0.712890         0.709020  0.099721       0.008124   \n",
              "OnlineSecurity       0.701976         0.704984  0.389978       0.213800   \n",
              "OnlineBackup         0.604117         0.606863  0.035407       0.003183   \n",
              "DeviceProtection     0.763279         0.766821  0.390216       0.191746   \n",
              "TechSupport          0.737578         0.737123  0.418440       0.216878   \n",
              "StreamingTV          1.000000         0.809608  0.327951       0.117618   \n",
              "StreamingMovies      0.809608         1.000000  0.330993       0.123869   \n",
              "Contract             0.327951         0.330993  1.000000       0.358913   \n",
              "PaymentMethod        0.117618         0.123869  0.358913       1.000000   \n",
              "MonthlyCharges      -0.423067        -0.424598 -0.074195      -0.074353   \n",
              "TotalCharges        -0.076865        -0.073160  0.446855       0.222398   \n",
              "Churn               -0.205742        -0.207256 -0.396713      -0.262818   \n",
              "\n",
              "                  MonthlyCharges  TotalCharges     Churn  \n",
              "gender                 -0.014569     -0.000080 -0.008612  \n",
              "SeniorCitizen           0.220173      0.103006  0.150889  \n",
              "Partner                -0.096848     -0.317504  0.150448  \n",
              "Dependents             -0.113890      0.062078 -0.164221  \n",
              "tenure                  0.247900      0.826178 -0.352229  \n",
              "PhoneService            0.247398      0.113214  0.011942  \n",
              "MultipleLines           0.490700      0.412104  0.036310  \n",
              "InternetService        -0.323260     -0.175755 -0.047291  \n",
              "OnlineSecurity         -0.621227     -0.154380 -0.332819  \n",
              "OnlineBackup           -0.710477     -0.537212 -0.074205  \n",
              "DeviceProtection       -0.513440     -0.078612 -0.281465  \n",
              "TechSupport            -0.597594     -0.142176 -0.329852  \n",
              "StreamingTV            -0.423067     -0.076865 -0.205742  \n",
              "StreamingMovies        -0.424598     -0.073160 -0.207256  \n",
              "Contract               -0.074195      0.446855 -0.396713  \n",
              "PaymentMethod          -0.074353      0.222398 -0.262818  \n",
              "MonthlyCharges          1.000000      0.651174  0.193356  \n",
              "TotalCharges            0.651174      1.000000 -0.198324  \n",
              "Churn                   0.193356     -0.198324  1.000000  "
            ]
          },
          "execution_count": 87,
          "metadata": {},
          "output_type": "execute_result"
        }
      ],
      "source": [
        "df_phik_с = df_phik.corr()\n",
        "df_phik_с"
      ]
    },
    {
      "attachments": {},
      "cell_type": "markdown",
      "id": "4f279a3f",
      "metadata": {},
      "source": [
        "Так как на самой тепловой карте плохо видно значения будем ориентироваться по таблице"
      ]
    },
    {
      "attachments": {},
      "cell_type": "markdown",
      "id": "51540fac",
      "metadata": {},
      "source": [
        "Обработаем датафрейм функцией, чтобы не путаться\n",
        "Примем корреляцию выше 0,5 за значимую"
      ]
    },
    {
      "cell_type": "code",
      "execution_count": 89,
      "id": "5ed97de6",
      "metadata": {},
      "outputs": [],
      "source": [
        "def make_rating(row):\n",
        "    if row >= 0.5:\n",
        "        return 'Выс.корр. +'\n",
        "    elif row <= -0.5:\n",
        "        return 'Выс.корр. -'\n",
        "    else:\n",
        "        return 'Незн.корр.'"
      ]
    },
    {
      "cell_type": "code",
      "execution_count": 90,
      "id": "9e67b893",
      "metadata": {},
      "outputs": [],
      "source": [
        "df_phik_с['gender'] = df_phik_с['gender'].apply(make_rating)"
      ]
    },
    {
      "cell_type": "code",
      "execution_count": 93,
      "id": "f9e19c9e",
      "metadata": {},
      "outputs": [],
      "source": [
        "df_phik_с['SeniorCitizen'] = df_phik_с['SeniorCitizen'].apply(make_rating)\n",
        "df_phik_с['Partner'] = df_phik_с['Partner'].apply(make_rating)\n",
        "df_phik_с['Dependents'] = df_phik_с['Dependents'].apply(make_rating)\n",
        "df_phik_с['tenure'] = df_phik_с['tenure'].apply(make_rating)\n",
        "df_phik_с['PhoneService'] = df_phik_с['PhoneService'].apply(make_rating)\n",
        "df_phik_с['MultipleLines'] = df_phik_с['MultipleLines'].apply(make_rating)\n",
        "df_phik_с['InternetService'] = df_phik_с['InternetService'].apply(make_rating)\n",
        "df_phik_с['OnlineSecurity'] = df_phik_с['OnlineSecurity'].apply(make_rating)\n",
        "df_phik_с['OnlineBackup'] = df_phik_с['OnlineBackup'].apply(make_rating)\n",
        "df_phik_с['DeviceProtection'] = df_phik_с['DeviceProtection'].apply(make_rating)\n",
        "df_phik_с['TechSupport'] = df_phik_с['TechSupport'].apply(make_rating)\n",
        "df_phik_с['StreamingTV'] = df_phik_с['StreamingTV'].apply(make_rating)\n",
        "df_phik_с['StreamingMovies'] = df_phik_с['StreamingMovies'].apply(make_rating)\n",
        "df_phik_с['Contract'] = df_phik_с['Contract'].apply(make_rating)\n",
        "df_phik_с['PaymentMethod'] = df_phik_с['PaymentMethod'].apply(make_rating)\n",
        "df_phik_с['MonthlyCharges'] = df_phik_с['MonthlyCharges'].apply(make_rating)\n",
        "df_phik_с['TotalCharges'] = df_phik_с['TotalCharges'].apply(make_rating)\n",
        "df_phik_с['Churn'] = df_phik_с['Churn'].apply(make_rating)"
      ]
    },
    {
      "cell_type": "code",
      "execution_count": 94,
      "id": "913a9638",
      "metadata": {},
      "outputs": [
        {
          "data": {
            "text/html": [
              "<div>\n",
              "<style scoped>\n",
              "    .dataframe tbody tr th:only-of-type {\n",
              "        vertical-align: middle;\n",
              "    }\n",
              "\n",
              "    .dataframe tbody tr th {\n",
              "        vertical-align: top;\n",
              "    }\n",
              "\n",
              "    .dataframe thead th {\n",
              "        text-align: right;\n",
              "    }\n",
              "</style>\n",
              "<table border=\"1\" class=\"dataframe\">\n",
              "  <thead>\n",
              "    <tr style=\"text-align: right;\">\n",
              "      <th></th>\n",
              "      <th>gender</th>\n",
              "      <th>SeniorCitizen</th>\n",
              "      <th>Partner</th>\n",
              "      <th>Dependents</th>\n",
              "      <th>tenure</th>\n",
              "      <th>PhoneService</th>\n",
              "      <th>MultipleLines</th>\n",
              "      <th>InternetService</th>\n",
              "      <th>OnlineSecurity</th>\n",
              "      <th>OnlineBackup</th>\n",
              "      <th>DeviceProtection</th>\n",
              "      <th>TechSupport</th>\n",
              "      <th>StreamingTV</th>\n",
              "      <th>StreamingMovies</th>\n",
              "      <th>Contract</th>\n",
              "      <th>PaymentMethod</th>\n",
              "      <th>MonthlyCharges</th>\n",
              "      <th>TotalCharges</th>\n",
              "      <th>Churn</th>\n",
              "    </tr>\n",
              "  </thead>\n",
              "  <tbody>\n",
              "    <tr>\n",
              "      <th>gender</th>\n",
              "      <td>Выс.корр. +</td>\n",
              "      <td>Незн.корр.</td>\n",
              "      <td>Незн.корр.</td>\n",
              "      <td>Незн.корр.</td>\n",
              "      <td>Незн.корр.</td>\n",
              "      <td>Незн.корр.</td>\n",
              "      <td>Незн.корр.</td>\n",
              "      <td>Незн.корр.</td>\n",
              "      <td>Незн.корр.</td>\n",
              "      <td>Незн.корр.</td>\n",
              "      <td>Незн.корр.</td>\n",
              "      <td>Незн.корр.</td>\n",
              "      <td>Незн.корр.</td>\n",
              "      <td>Незн.корр.</td>\n",
              "      <td>Незн.корр.</td>\n",
              "      <td>Незн.корр.</td>\n",
              "      <td>Незн.корр.</td>\n",
              "      <td>Незн.корр.</td>\n",
              "      <td>Незн.корр.</td>\n",
              "    </tr>\n",
              "    <tr>\n",
              "      <th>SeniorCitizen</th>\n",
              "      <td>Незн.корр.</td>\n",
              "      <td>Выс.корр. +</td>\n",
              "      <td>Незн.корр.</td>\n",
              "      <td>Незн.корр.</td>\n",
              "      <td>Незн.корр.</td>\n",
              "      <td>Незн.корр.</td>\n",
              "      <td>Незн.корр.</td>\n",
              "      <td>Незн.корр.</td>\n",
              "      <td>Незн.корр.</td>\n",
              "      <td>Незн.корр.</td>\n",
              "      <td>Незн.корр.</td>\n",
              "      <td>Незн.корр.</td>\n",
              "      <td>Незн.корр.</td>\n",
              "      <td>Незн.корр.</td>\n",
              "      <td>Незн.корр.</td>\n",
              "      <td>Незн.корр.</td>\n",
              "      <td>Незн.корр.</td>\n",
              "      <td>Незн.корр.</td>\n",
              "      <td>Незн.корр.</td>\n",
              "    </tr>\n",
              "    <tr>\n",
              "      <th>Partner</th>\n",
              "      <td>Незн.корр.</td>\n",
              "      <td>Незн.корр.</td>\n",
              "      <td>Выс.корр. +</td>\n",
              "      <td>Незн.корр.</td>\n",
              "      <td>Незн.корр.</td>\n",
              "      <td>Незн.корр.</td>\n",
              "      <td>Незн.корр.</td>\n",
              "      <td>Незн.корр.</td>\n",
              "      <td>Незн.корр.</td>\n",
              "      <td>Незн.корр.</td>\n",
              "      <td>Незн.корр.</td>\n",
              "      <td>Незн.корр.</td>\n",
              "      <td>Незн.корр.</td>\n",
              "      <td>Незн.корр.</td>\n",
              "      <td>Незн.корр.</td>\n",
              "      <td>Незн.корр.</td>\n",
              "      <td>Незн.корр.</td>\n",
              "      <td>Незн.корр.</td>\n",
              "      <td>Незн.корр.</td>\n",
              "    </tr>\n",
              "    <tr>\n",
              "      <th>Dependents</th>\n",
              "      <td>Незн.корр.</td>\n",
              "      <td>Незн.корр.</td>\n",
              "      <td>Незн.корр.</td>\n",
              "      <td>Выс.корр. +</td>\n",
              "      <td>Незн.корр.</td>\n",
              "      <td>Незн.корр.</td>\n",
              "      <td>Незн.корр.</td>\n",
              "      <td>Незн.корр.</td>\n",
              "      <td>Незн.корр.</td>\n",
              "      <td>Незн.корр.</td>\n",
              "      <td>Незн.корр.</td>\n",
              "      <td>Незн.корр.</td>\n",
              "      <td>Незн.корр.</td>\n",
              "      <td>Незн.корр.</td>\n",
              "      <td>Незн.корр.</td>\n",
              "      <td>Незн.корр.</td>\n",
              "      <td>Незн.корр.</td>\n",
              "      <td>Незн.корр.</td>\n",
              "      <td>Незн.корр.</td>\n",
              "    </tr>\n",
              "    <tr>\n",
              "      <th>tenure</th>\n",
              "      <td>Незн.корр.</td>\n",
              "      <td>Незн.корр.</td>\n",
              "      <td>Незн.корр.</td>\n",
              "      <td>Незн.корр.</td>\n",
              "      <td>Выс.корр. +</td>\n",
              "      <td>Незн.корр.</td>\n",
              "      <td>Незн.корр.</td>\n",
              "      <td>Незн.корр.</td>\n",
              "      <td>Незн.корр.</td>\n",
              "      <td>Незн.корр.</td>\n",
              "      <td>Незн.корр.</td>\n",
              "      <td>Незн.корр.</td>\n",
              "      <td>Незн.корр.</td>\n",
              "      <td>Незн.корр.</td>\n",
              "      <td>Выс.корр. +</td>\n",
              "      <td>Незн.корр.</td>\n",
              "      <td>Незн.корр.</td>\n",
              "      <td>Выс.корр. +</td>\n",
              "      <td>Незн.корр.</td>\n",
              "    </tr>\n",
              "    <tr>\n",
              "      <th>PhoneService</th>\n",
              "      <td>Незн.корр.</td>\n",
              "      <td>Незн.корр.</td>\n",
              "      <td>Незн.корр.</td>\n",
              "      <td>Незн.корр.</td>\n",
              "      <td>Незн.корр.</td>\n",
              "      <td>Выс.корр. +</td>\n",
              "      <td>Выс.корр. +</td>\n",
              "      <td>Незн.корр.</td>\n",
              "      <td>Незн.корр.</td>\n",
              "      <td>Незн.корр.</td>\n",
              "      <td>Незн.корр.</td>\n",
              "      <td>Незн.корр.</td>\n",
              "      <td>Незн.корр.</td>\n",
              "      <td>Незн.корр.</td>\n",
              "      <td>Незн.корр.</td>\n",
              "      <td>Незн.корр.</td>\n",
              "      <td>Незн.корр.</td>\n",
              "      <td>Незн.корр.</td>\n",
              "      <td>Незн.корр.</td>\n",
              "    </tr>\n",
              "    <tr>\n",
              "      <th>MultipleLines</th>\n",
              "      <td>Незн.корр.</td>\n",
              "      <td>Незн.корр.</td>\n",
              "      <td>Незн.корр.</td>\n",
              "      <td>Незн.корр.</td>\n",
              "      <td>Незн.корр.</td>\n",
              "      <td>Выс.корр. +</td>\n",
              "      <td>Выс.корр. +</td>\n",
              "      <td>Незн.корр.</td>\n",
              "      <td>Незн.корр.</td>\n",
              "      <td>Незн.корр.</td>\n",
              "      <td>Незн.корр.</td>\n",
              "      <td>Незн.корр.</td>\n",
              "      <td>Незн.корр.</td>\n",
              "      <td>Незн.корр.</td>\n",
              "      <td>Незн.корр.</td>\n",
              "      <td>Незн.корр.</td>\n",
              "      <td>Незн.корр.</td>\n",
              "      <td>Незн.корр.</td>\n",
              "      <td>Незн.корр.</td>\n",
              "    </tr>\n",
              "    <tr>\n",
              "      <th>InternetService</th>\n",
              "      <td>Незн.корр.</td>\n",
              "      <td>Незн.корр.</td>\n",
              "      <td>Незн.корр.</td>\n",
              "      <td>Незн.корр.</td>\n",
              "      <td>Незн.корр.</td>\n",
              "      <td>Незн.корр.</td>\n",
              "      <td>Незн.корр.</td>\n",
              "      <td>Выс.корр. +</td>\n",
              "      <td>Выс.корр. +</td>\n",
              "      <td>Выс.корр. +</td>\n",
              "      <td>Выс.корр. +</td>\n",
              "      <td>Выс.корр. +</td>\n",
              "      <td>Выс.корр. +</td>\n",
              "      <td>Выс.корр. +</td>\n",
              "      <td>Незн.корр.</td>\n",
              "      <td>Незн.корр.</td>\n",
              "      <td>Незн.корр.</td>\n",
              "      <td>Незн.корр.</td>\n",
              "      <td>Незн.корр.</td>\n",
              "    </tr>\n",
              "    <tr>\n",
              "      <th>OnlineSecurity</th>\n",
              "      <td>Незн.корр.</td>\n",
              "      <td>Незн.корр.</td>\n",
              "      <td>Незн.корр.</td>\n",
              "      <td>Незн.корр.</td>\n",
              "      <td>Незн.корр.</td>\n",
              "      <td>Незн.корр.</td>\n",
              "      <td>Незн.корр.</td>\n",
              "      <td>Выс.корр. +</td>\n",
              "      <td>Выс.корр. +</td>\n",
              "      <td>Выс.корр. +</td>\n",
              "      <td>Выс.корр. +</td>\n",
              "      <td>Выс.корр. +</td>\n",
              "      <td>Выс.корр. +</td>\n",
              "      <td>Выс.корр. +</td>\n",
              "      <td>Незн.корр.</td>\n",
              "      <td>Незн.корр.</td>\n",
              "      <td>Выс.корр. -</td>\n",
              "      <td>Незн.корр.</td>\n",
              "      <td>Незн.корр.</td>\n",
              "    </tr>\n",
              "    <tr>\n",
              "      <th>OnlineBackup</th>\n",
              "      <td>Незн.корр.</td>\n",
              "      <td>Незн.корр.</td>\n",
              "      <td>Незн.корр.</td>\n",
              "      <td>Незн.корр.</td>\n",
              "      <td>Незн.корр.</td>\n",
              "      <td>Незн.корр.</td>\n",
              "      <td>Незн.корр.</td>\n",
              "      <td>Выс.корр. +</td>\n",
              "      <td>Выс.корр. +</td>\n",
              "      <td>Выс.корр. +</td>\n",
              "      <td>Выс.корр. +</td>\n",
              "      <td>Выс.корр. +</td>\n",
              "      <td>Выс.корр. +</td>\n",
              "      <td>Выс.корр. +</td>\n",
              "      <td>Незн.корр.</td>\n",
              "      <td>Незн.корр.</td>\n",
              "      <td>Выс.корр. -</td>\n",
              "      <td>Выс.корр. -</td>\n",
              "      <td>Незн.корр.</td>\n",
              "    </tr>\n",
              "    <tr>\n",
              "      <th>DeviceProtection</th>\n",
              "      <td>Незн.корр.</td>\n",
              "      <td>Незн.корр.</td>\n",
              "      <td>Незн.корр.</td>\n",
              "      <td>Незн.корр.</td>\n",
              "      <td>Незн.корр.</td>\n",
              "      <td>Незн.корр.</td>\n",
              "      <td>Незн.корр.</td>\n",
              "      <td>Выс.корр. +</td>\n",
              "      <td>Выс.корр. +</td>\n",
              "      <td>Выс.корр. +</td>\n",
              "      <td>Выс.корр. +</td>\n",
              "      <td>Выс.корр. +</td>\n",
              "      <td>Выс.корр. +</td>\n",
              "      <td>Выс.корр. +</td>\n",
              "      <td>Незн.корр.</td>\n",
              "      <td>Незн.корр.</td>\n",
              "      <td>Выс.корр. -</td>\n",
              "      <td>Незн.корр.</td>\n",
              "      <td>Незн.корр.</td>\n",
              "    </tr>\n",
              "    <tr>\n",
              "      <th>TechSupport</th>\n",
              "      <td>Незн.корр.</td>\n",
              "      <td>Незн.корр.</td>\n",
              "      <td>Незн.корр.</td>\n",
              "      <td>Незн.корр.</td>\n",
              "      <td>Незн.корр.</td>\n",
              "      <td>Незн.корр.</td>\n",
              "      <td>Незн.корр.</td>\n",
              "      <td>Выс.корр. +</td>\n",
              "      <td>Выс.корр. +</td>\n",
              "      <td>Выс.корр. +</td>\n",
              "      <td>Выс.корр. +</td>\n",
              "      <td>Выс.корр. +</td>\n",
              "      <td>Выс.корр. +</td>\n",
              "      <td>Выс.корр. +</td>\n",
              "      <td>Незн.корр.</td>\n",
              "      <td>Незн.корр.</td>\n",
              "      <td>Выс.корр. -</td>\n",
              "      <td>Незн.корр.</td>\n",
              "      <td>Незн.корр.</td>\n",
              "    </tr>\n",
              "    <tr>\n",
              "      <th>StreamingTV</th>\n",
              "      <td>Незн.корр.</td>\n",
              "      <td>Незн.корр.</td>\n",
              "      <td>Незн.корр.</td>\n",
              "      <td>Незн.корр.</td>\n",
              "      <td>Незн.корр.</td>\n",
              "      <td>Незн.корр.</td>\n",
              "      <td>Незн.корр.</td>\n",
              "      <td>Выс.корр. +</td>\n",
              "      <td>Выс.корр. +</td>\n",
              "      <td>Выс.корр. +</td>\n",
              "      <td>Выс.корр. +</td>\n",
              "      <td>Выс.корр. +</td>\n",
              "      <td>Выс.корр. +</td>\n",
              "      <td>Выс.корр. +</td>\n",
              "      <td>Незн.корр.</td>\n",
              "      <td>Незн.корр.</td>\n",
              "      <td>Незн.корр.</td>\n",
              "      <td>Незн.корр.</td>\n",
              "      <td>Незн.корр.</td>\n",
              "    </tr>\n",
              "    <tr>\n",
              "      <th>StreamingMovies</th>\n",
              "      <td>Незн.корр.</td>\n",
              "      <td>Незн.корр.</td>\n",
              "      <td>Незн.корр.</td>\n",
              "      <td>Незн.корр.</td>\n",
              "      <td>Незн.корр.</td>\n",
              "      <td>Незн.корр.</td>\n",
              "      <td>Незн.корр.</td>\n",
              "      <td>Выс.корр. +</td>\n",
              "      <td>Выс.корр. +</td>\n",
              "      <td>Выс.корр. +</td>\n",
              "      <td>Выс.корр. +</td>\n",
              "      <td>Выс.корр. +</td>\n",
              "      <td>Выс.корр. +</td>\n",
              "      <td>Выс.корр. +</td>\n",
              "      <td>Незн.корр.</td>\n",
              "      <td>Незн.корр.</td>\n",
              "      <td>Незн.корр.</td>\n",
              "      <td>Незн.корр.</td>\n",
              "      <td>Незн.корр.</td>\n",
              "    </tr>\n",
              "    <tr>\n",
              "      <th>Contract</th>\n",
              "      <td>Незн.корр.</td>\n",
              "      <td>Незн.корр.</td>\n",
              "      <td>Незн.корр.</td>\n",
              "      <td>Незн.корр.</td>\n",
              "      <td>Выс.корр. +</td>\n",
              "      <td>Незн.корр.</td>\n",
              "      <td>Незн.корр.</td>\n",
              "      <td>Незн.корр.</td>\n",
              "      <td>Незн.корр.</td>\n",
              "      <td>Незн.корр.</td>\n",
              "      <td>Незн.корр.</td>\n",
              "      <td>Незн.корр.</td>\n",
              "      <td>Незн.корр.</td>\n",
              "      <td>Незн.корр.</td>\n",
              "      <td>Выс.корр. +</td>\n",
              "      <td>Незн.корр.</td>\n",
              "      <td>Незн.корр.</td>\n",
              "      <td>Незн.корр.</td>\n",
              "      <td>Незн.корр.</td>\n",
              "    </tr>\n",
              "    <tr>\n",
              "      <th>PaymentMethod</th>\n",
              "      <td>Незн.корр.</td>\n",
              "      <td>Незн.корр.</td>\n",
              "      <td>Незн.корр.</td>\n",
              "      <td>Незн.корр.</td>\n",
              "      <td>Незн.корр.</td>\n",
              "      <td>Незн.корр.</td>\n",
              "      <td>Незн.корр.</td>\n",
              "      <td>Незн.корр.</td>\n",
              "      <td>Незн.корр.</td>\n",
              "      <td>Незн.корр.</td>\n",
              "      <td>Незн.корр.</td>\n",
              "      <td>Незн.корр.</td>\n",
              "      <td>Незн.корр.</td>\n",
              "      <td>Незн.корр.</td>\n",
              "      <td>Незн.корр.</td>\n",
              "      <td>Выс.корр. +</td>\n",
              "      <td>Незн.корр.</td>\n",
              "      <td>Незн.корр.</td>\n",
              "      <td>Незн.корр.</td>\n",
              "    </tr>\n",
              "    <tr>\n",
              "      <th>MonthlyCharges</th>\n",
              "      <td>Незн.корр.</td>\n",
              "      <td>Незн.корр.</td>\n",
              "      <td>Незн.корр.</td>\n",
              "      <td>Незн.корр.</td>\n",
              "      <td>Незн.корр.</td>\n",
              "      <td>Незн.корр.</td>\n",
              "      <td>Незн.корр.</td>\n",
              "      <td>Незн.корр.</td>\n",
              "      <td>Выс.корр. -</td>\n",
              "      <td>Выс.корр. -</td>\n",
              "      <td>Выс.корр. -</td>\n",
              "      <td>Выс.корр. -</td>\n",
              "      <td>Незн.корр.</td>\n",
              "      <td>Незн.корр.</td>\n",
              "      <td>Незн.корр.</td>\n",
              "      <td>Незн.корр.</td>\n",
              "      <td>Выс.корр. +</td>\n",
              "      <td>Выс.корр. +</td>\n",
              "      <td>Незн.корр.</td>\n",
              "    </tr>\n",
              "    <tr>\n",
              "      <th>TotalCharges</th>\n",
              "      <td>Незн.корр.</td>\n",
              "      <td>Незн.корр.</td>\n",
              "      <td>Незн.корр.</td>\n",
              "      <td>Незн.корр.</td>\n",
              "      <td>Выс.корр. +</td>\n",
              "      <td>Незн.корр.</td>\n",
              "      <td>Незн.корр.</td>\n",
              "      <td>Незн.корр.</td>\n",
              "      <td>Незн.корр.</td>\n",
              "      <td>Выс.корр. -</td>\n",
              "      <td>Незн.корр.</td>\n",
              "      <td>Незн.корр.</td>\n",
              "      <td>Незн.корр.</td>\n",
              "      <td>Незн.корр.</td>\n",
              "      <td>Незн.корр.</td>\n",
              "      <td>Незн.корр.</td>\n",
              "      <td>Выс.корр. +</td>\n",
              "      <td>Выс.корр. +</td>\n",
              "      <td>Незн.корр.</td>\n",
              "    </tr>\n",
              "    <tr>\n",
              "      <th>Churn</th>\n",
              "      <td>Незн.корр.</td>\n",
              "      <td>Незн.корр.</td>\n",
              "      <td>Незн.корр.</td>\n",
              "      <td>Незн.корр.</td>\n",
              "      <td>Незн.корр.</td>\n",
              "      <td>Незн.корр.</td>\n",
              "      <td>Незн.корр.</td>\n",
              "      <td>Незн.корр.</td>\n",
              "      <td>Незн.корр.</td>\n",
              "      <td>Незн.корр.</td>\n",
              "      <td>Незн.корр.</td>\n",
              "      <td>Незн.корр.</td>\n",
              "      <td>Незн.корр.</td>\n",
              "      <td>Незн.корр.</td>\n",
              "      <td>Незн.корр.</td>\n",
              "      <td>Незн.корр.</td>\n",
              "      <td>Незн.корр.</td>\n",
              "      <td>Незн.корр.</td>\n",
              "      <td>Выс.корр. +</td>\n",
              "    </tr>\n",
              "  </tbody>\n",
              "</table>\n",
              "</div>"
            ],
            "text/plain": [
              "                       gender SeniorCitizen      Partner   Dependents   \n",
              "gender            Выс.корр. +    Незн.корр.   Незн.корр.   Незн.корр.  \\\n",
              "SeniorCitizen      Незн.корр.   Выс.корр. +   Незн.корр.   Незн.корр.   \n",
              "Partner            Незн.корр.    Незн.корр.  Выс.корр. +   Незн.корр.   \n",
              "Dependents         Незн.корр.    Незн.корр.   Незн.корр.  Выс.корр. +   \n",
              "tenure             Незн.корр.    Незн.корр.   Незн.корр.   Незн.корр.   \n",
              "PhoneService       Незн.корр.    Незн.корр.   Незн.корр.   Незн.корр.   \n",
              "MultipleLines      Незн.корр.    Незн.корр.   Незн.корр.   Незн.корр.   \n",
              "InternetService    Незн.корр.    Незн.корр.   Незн.корр.   Незн.корр.   \n",
              "OnlineSecurity     Незн.корр.    Незн.корр.   Незн.корр.   Незн.корр.   \n",
              "OnlineBackup       Незн.корр.    Незн.корр.   Незн.корр.   Незн.корр.   \n",
              "DeviceProtection   Незн.корр.    Незн.корр.   Незн.корр.   Незн.корр.   \n",
              "TechSupport        Незн.корр.    Незн.корр.   Незн.корр.   Незн.корр.   \n",
              "StreamingTV        Незн.корр.    Незн.корр.   Незн.корр.   Незн.корр.   \n",
              "StreamingMovies    Незн.корр.    Незн.корр.   Незн.корр.   Незн.корр.   \n",
              "Contract           Незн.корр.    Незн.корр.   Незн.корр.   Незн.корр.   \n",
              "PaymentMethod      Незн.корр.    Незн.корр.   Незн.корр.   Незн.корр.   \n",
              "MonthlyCharges     Незн.корр.    Незн.корр.   Незн.корр.   Незн.корр.   \n",
              "TotalCharges       Незн.корр.    Незн.корр.   Незн.корр.   Незн.корр.   \n",
              "Churn              Незн.корр.    Незн.корр.   Незн.корр.   Незн.корр.   \n",
              "\n",
              "                       tenure PhoneService MultipleLines InternetService   \n",
              "gender             Незн.корр.   Незн.корр.    Незн.корр.      Незн.корр.  \\\n",
              "SeniorCitizen      Незн.корр.   Незн.корр.    Незн.корр.      Незн.корр.   \n",
              "Partner            Незн.корр.   Незн.корр.    Незн.корр.      Незн.корр.   \n",
              "Dependents         Незн.корр.   Незн.корр.    Незн.корр.      Незн.корр.   \n",
              "tenure            Выс.корр. +   Незн.корр.    Незн.корр.      Незн.корр.   \n",
              "PhoneService       Незн.корр.  Выс.корр. +   Выс.корр. +      Незн.корр.   \n",
              "MultipleLines      Незн.корр.  Выс.корр. +   Выс.корр. +      Незн.корр.   \n",
              "InternetService    Незн.корр.   Незн.корр.    Незн.корр.     Выс.корр. +   \n",
              "OnlineSecurity     Незн.корр.   Незн.корр.    Незн.корр.     Выс.корр. +   \n",
              "OnlineBackup       Незн.корр.   Незн.корр.    Незн.корр.     Выс.корр. +   \n",
              "DeviceProtection   Незн.корр.   Незн.корр.    Незн.корр.     Выс.корр. +   \n",
              "TechSupport        Незн.корр.   Незн.корр.    Незн.корр.     Выс.корр. +   \n",
              "StreamingTV        Незн.корр.   Незн.корр.    Незн.корр.     Выс.корр. +   \n",
              "StreamingMovies    Незн.корр.   Незн.корр.    Незн.корр.     Выс.корр. +   \n",
              "Contract          Выс.корр. +   Незн.корр.    Незн.корр.      Незн.корр.   \n",
              "PaymentMethod      Незн.корр.   Незн.корр.    Незн.корр.      Незн.корр.   \n",
              "MonthlyCharges     Незн.корр.   Незн.корр.    Незн.корр.      Незн.корр.   \n",
              "TotalCharges      Выс.корр. +   Незн.корр.    Незн.корр.      Незн.корр.   \n",
              "Churn              Незн.корр.   Незн.корр.    Незн.корр.      Незн.корр.   \n",
              "\n",
              "                 OnlineSecurity OnlineBackup DeviceProtection  TechSupport   \n",
              "gender               Незн.корр.   Незн.корр.       Незн.корр.   Незн.корр.  \\\n",
              "SeniorCitizen        Незн.корр.   Незн.корр.       Незн.корр.   Незн.корр.   \n",
              "Partner              Незн.корр.   Незн.корр.       Незн.корр.   Незн.корр.   \n",
              "Dependents           Незн.корр.   Незн.корр.       Незн.корр.   Незн.корр.   \n",
              "tenure               Незн.корр.   Незн.корр.       Незн.корр.   Незн.корр.   \n",
              "PhoneService         Незн.корр.   Незн.корр.       Незн.корр.   Незн.корр.   \n",
              "MultipleLines        Незн.корр.   Незн.корр.       Незн.корр.   Незн.корр.   \n",
              "InternetService     Выс.корр. +  Выс.корр. +      Выс.корр. +  Выс.корр. +   \n",
              "OnlineSecurity      Выс.корр. +  Выс.корр. +      Выс.корр. +  Выс.корр. +   \n",
              "OnlineBackup        Выс.корр. +  Выс.корр. +      Выс.корр. +  Выс.корр. +   \n",
              "DeviceProtection    Выс.корр. +  Выс.корр. +      Выс.корр. +  Выс.корр. +   \n",
              "TechSupport         Выс.корр. +  Выс.корр. +      Выс.корр. +  Выс.корр. +   \n",
              "StreamingTV         Выс.корр. +  Выс.корр. +      Выс.корр. +  Выс.корр. +   \n",
              "StreamingMovies     Выс.корр. +  Выс.корр. +      Выс.корр. +  Выс.корр. +   \n",
              "Contract             Незн.корр.   Незн.корр.       Незн.корр.   Незн.корр.   \n",
              "PaymentMethod        Незн.корр.   Незн.корр.       Незн.корр.   Незн.корр.   \n",
              "MonthlyCharges      Выс.корр. -  Выс.корр. -      Выс.корр. -  Выс.корр. -   \n",
              "TotalCharges         Незн.корр.  Выс.корр. -       Незн.корр.   Незн.корр.   \n",
              "Churn                Незн.корр.   Незн.корр.       Незн.корр.   Незн.корр.   \n",
              "\n",
              "                  StreamingTV StreamingMovies     Contract PaymentMethod   \n",
              "gender             Незн.корр.      Незн.корр.   Незн.корр.    Незн.корр.  \\\n",
              "SeniorCitizen      Незн.корр.      Незн.корр.   Незн.корр.    Незн.корр.   \n",
              "Partner            Незн.корр.      Незн.корр.   Незн.корр.    Незн.корр.   \n",
              "Dependents         Незн.корр.      Незн.корр.   Незн.корр.    Незн.корр.   \n",
              "tenure             Незн.корр.      Незн.корр.  Выс.корр. +    Незн.корр.   \n",
              "PhoneService       Незн.корр.      Незн.корр.   Незн.корр.    Незн.корр.   \n",
              "MultipleLines      Незн.корр.      Незн.корр.   Незн.корр.    Незн.корр.   \n",
              "InternetService   Выс.корр. +     Выс.корр. +   Незн.корр.    Незн.корр.   \n",
              "OnlineSecurity    Выс.корр. +     Выс.корр. +   Незн.корр.    Незн.корр.   \n",
              "OnlineBackup      Выс.корр. +     Выс.корр. +   Незн.корр.    Незн.корр.   \n",
              "DeviceProtection  Выс.корр. +     Выс.корр. +   Незн.корр.    Незн.корр.   \n",
              "TechSupport       Выс.корр. +     Выс.корр. +   Незн.корр.    Незн.корр.   \n",
              "StreamingTV       Выс.корр. +     Выс.корр. +   Незн.корр.    Незн.корр.   \n",
              "StreamingMovies   Выс.корр. +     Выс.корр. +   Незн.корр.    Незн.корр.   \n",
              "Contract           Незн.корр.      Незн.корр.  Выс.корр. +    Незн.корр.   \n",
              "PaymentMethod      Незн.корр.      Незн.корр.   Незн.корр.   Выс.корр. +   \n",
              "MonthlyCharges     Незн.корр.      Незн.корр.   Незн.корр.    Незн.корр.   \n",
              "TotalCharges       Незн.корр.      Незн.корр.   Незн.корр.    Незн.корр.   \n",
              "Churn              Незн.корр.      Незн.корр.   Незн.корр.    Незн.корр.   \n",
              "\n",
              "                 MonthlyCharges TotalCharges        Churn  \n",
              "gender               Незн.корр.   Незн.корр.   Незн.корр.  \n",
              "SeniorCitizen        Незн.корр.   Незн.корр.   Незн.корр.  \n",
              "Partner              Незн.корр.   Незн.корр.   Незн.корр.  \n",
              "Dependents           Незн.корр.   Незн.корр.   Незн.корр.  \n",
              "tenure               Незн.корр.  Выс.корр. +   Незн.корр.  \n",
              "PhoneService         Незн.корр.   Незн.корр.   Незн.корр.  \n",
              "MultipleLines        Незн.корр.   Незн.корр.   Незн.корр.  \n",
              "InternetService      Незн.корр.   Незн.корр.   Незн.корр.  \n",
              "OnlineSecurity      Выс.корр. -   Незн.корр.   Незн.корр.  \n",
              "OnlineBackup        Выс.корр. -  Выс.корр. -   Незн.корр.  \n",
              "DeviceProtection    Выс.корр. -   Незн.корр.   Незн.корр.  \n",
              "TechSupport         Выс.корр. -   Незн.корр.   Незн.корр.  \n",
              "StreamingTV          Незн.корр.   Незн.корр.   Незн.корр.  \n",
              "StreamingMovies      Незн.корр.   Незн.корр.   Незн.корр.  \n",
              "Contract             Незн.корр.   Незн.корр.   Незн.корр.  \n",
              "PaymentMethod        Незн.корр.   Незн.корр.   Незн.корр.  \n",
              "MonthlyCharges      Выс.корр. +  Выс.корр. +   Незн.корр.  \n",
              "TotalCharges        Выс.корр. +  Выс.корр. +   Незн.корр.  \n",
              "Churn                Незн.корр.   Незн.корр.  Выс.корр. +  "
            ]
          },
          "execution_count": 94,
          "metadata": {},
          "output_type": "execute_result"
        }
      ],
      "source": [
        "df_phik_с"
      ]
    },
    {
      "attachments": {},
      "cell_type": "markdown",
      "id": "577ea28d",
      "metadata": {},
      "source": [
        "# Смотрим высокие корреляции:\n",
        "\n",
        "*tenure - Contract - Выс.корр. +*\n",
        "Чем выше количество месяцев, в течение которых клиент оставался в компании, тем чаще клиенты выбирали контракт One year. Это логично, клиент доверяет компании и заключает договор на более долгий срок\n",
        "*tenure - TotalCharges - Выс.корр. +*\n",
        "Чем выше количество месяцев, в течение которых клиент оставался в компании, тем больше общая сумма, списанная с клиента. Это лигично, клиент дольше платит за услуги и общая сумма растет\n",
        "*PhoneService - MultipleLines - Выс.корр. +*\n",
        "Если у клиента есть телефонная связь, то они чаще выбирают несколько линий. Это логично, несколько линий не могут существовать без услуги телефонная связь\n",
        "*InternetService - OnlineSecurity, OnlineBackup, DeviceProtection, TechSupport, StreamingTV, StreamingMovies, MonthlyCharges - Выс.корр. +*\n",
        "Если у клиента нет интернет сервиса, то и в перечисленных услугах выбирают строку \"No internet service\". Это логично, менеджеры должны выбирать эту строку при заполнении базы данных\n",
        "*OnlineBackup - MonthlyCharges, TotalCharges - Выс.корр. -*\n",
        "Если у клиента есть онлайн-резервное копирование, то сумма, взимаемая с клиента ежемесячно выше. Это логично, дополнительная услуга оплачивается \"сверху\"\n",
        "*DeviceProtection - MonthlyCharges - Выс.корр. -*\n",
        "Если у клиента есть защита устройства, то сумма, взимаемая с клиента ежемесячно выше. Это логично, дополнительная услуга оплачивается \"сверху\"\n",
        "*TechSupport - MonthlyCharges - Выс.корр. -\t*\n",
        "Если у клиента есть техническая поддержка, то сумма, взимаемая с клиента ежемесячно выше. Это логично, дополнительная услуга оплачивается \"сверху\"\n",
        "*MonthlyCharges - TotalCharges - Выс.корр. +*\n",
        "Чем выше ежемесячная сумма, те больше итоговая сумма."
      ]
    },
    {
      "attachments": {},
      "cell_type": "markdown",
      "id": "02f34e74",
      "metadata": {},
      "source": [
        "Но мы так и не выяснили, почему уходяд клиенты, поэтому отдельно рассмотрим все значения для Churn\n",
        "Давайте рассмотрим корреляции выше 0,3"
      ]
    },
    {
      "attachments": {},
      "cell_type": "markdown",
      "id": "589942e4",
      "metadata": {},
      "source": [
        "*Churn - tenure\t\t\t\t-0.352229*\t\n",
        "Те клиенты чаще уходят, котрые дольше всего пользовались услугами компании\n",
        "*Churn - OnlineSecurity\t\t-0.332819*\t\n",
        "Клиенты, которые не пользуются онлайн-безопасностью чаще уходят\n",
        "*Churn - TechSupport\t\t-0.329852*\t\n",
        "Клиенты, которые не пользуются технической поддержкой чаще уходят\n",
        "*Churn - Contract\t\t\t-0.396713*\t\n",
        "Клиенты, которые заключают договор Month-to-month чаще уходят"
      ]
    },
    {
      "attachments": {},
      "cell_type": "markdown",
      "id": "3f764616-e487-4f19-b6b8-25104e3f3195",
      "metadata": {
        "id": "3f764616-e487-4f19-b6b8-25104e3f3195"
      },
      "source": [
        "# Общий вывод"
      ]
    },
    {
      "attachments": {},
      "cell_type": "markdown",
      "id": "3f3c0bce-40e3-4933-92a5-3b3e83b2ec89",
      "metadata": {
        "id": "3f3c0bce-40e3-4933-92a5-3b3e83b2ec89"
      },
      "source": [
        "Опишите данные и результат исследования, основываясь на предыдущих шагах:"
      ]
    },
    {
      "attachments": {},
      "cell_type": "markdown",
      "id": "bb0a4288",
      "metadata": {},
      "source": [
        "Выборка, состоящая из 7043 строк, 21 колонки. Со значениями float64 2 колонка, int64 2 колонки, object 17 колонок (после преобразования).\n",
        "Данные не соответствует нормальному распледелению\n",
        "Для нашего заказчика мы можем сказать, что количество клиентов, которые остались в компании - 5174 (73,46%), а ушло 1869 (26,54%)"
      ]
    },
    {
      "attachments": {},
      "cell_type": "markdown",
      "id": "1a31baec",
      "metadata": {},
      "source": [
        "**Исходя из гипотез мы можем сказать:**\n",
        "Количество пожилых клиентов, отказавшиеся от услуг отличается от количества не пожилых клиентов, отказавшиеся от услуг\n",
        "Количество мужчин, отказавшиеся от услуг равно количеству женщин, отказавшиеся от услуг\n",
        "Количество клиентов без партнера, отказавшиеся от услуг отличается от количества клиентов с партнером отказавшихся от услуг\n",
        "Количество клиентов-кормильцев, отказавшиеся от услуг отличается от количества клиентов-не-кормильцев отказавшихся от услуг\n",
        "Клиенты с телефонной связью, несколькими линиями, InternetService, онлайн-безопасностью, онлайн-резервным копированием, защитой устройств, технической поддержкой, потоковым телевидинием, стриминговым сервисом не реже других отказываются от услуг компании\n",
        "Клиенты с договором Month-to-month уходят или остаются в равных долях, One year и Two year чаще остаются, чем уходят\n",
        "Способ оплаты Electronic check одинаковое количество ушли/остались, но вот Bank transfer (automatic), Credit card (automatic), Mailed check чаще оставались"
      ]
    },
    {
      "attachments": {},
      "cell_type": "markdown",
      "id": "bb18d935",
      "metadata": {},
      "source": [
        "**Исходя из корреляции мы можем сказать:**\n",
        "Немного чаще уходят клиенты, которые длительно пользуются услугами компании\n",
        "Клиенты, которые не пользуются онлайн-безопасностью немного чаще уходят\n",
        "Клиенты, которые не пользуются технической поддержкой немного чаще уходят\n",
        "Клиенты, которые заключают договор Month-to-month немного чаще уходят"
      ]
    },
    {
      "attachments": {},
      "cell_type": "markdown",
      "id": "7ef0a772",
      "metadata": {},
      "source": [
        "Возможно, нашему клиенту стоит обратить на тех, кто дольше пользуется его услугами и на тех, кто заключает договора Month-to-month, понять как их замотивировать остаться\n",
        "А так же проверить качество предоставляемых услуг онлайн-безопасности и технической поддержки"
      ]
    }
  ],
  "metadata": {
    "colab": {
      "provenance": []
    },
    "kernelspec": {
      "display_name": "Python 3 (ipykernel)",
      "language": "python",
      "name": "python3"
    },
    "language_info": {
      "codemirror_mode": {
        "name": "ipython",
        "version": 3
      },
      "file_extension": ".py",
      "mimetype": "text/x-python",
      "name": "python",
      "nbconvert_exporter": "python",
      "pygments_lexer": "ipython3",
      "version": "3.10.11"
    },
    "papermill": {
      "default_parameters": {},
      "duration": 110.694338,
      "end_time": "2022-09-17T00:14:38.634386",
      "environment_variables": {},
      "exception": null,
      "input_path": "__notebook__.ipynb",
      "output_path": "__notebook__.ipynb",
      "parameters": {},
      "start_time": "2022-09-17T00:12:47.940048",
      "version": "2.3.3"
    }
  },
  "nbformat": 4,
  "nbformat_minor": 5
}
