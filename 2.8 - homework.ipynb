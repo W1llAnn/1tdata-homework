{
 "cells": [
  {
   "cell_type": "markdown",
   "id": "e23a1e98",
   "metadata": {},
   "source": [
    "*Требования*:\n",
    "*   оберните весь конвейер преобразований в Pipeline\n",
    "*   подберите оптимальный вариант прогнозной модели с помощью GridSearchCV\n",
    "*   примените обученный на тренировочных данных конвейер к тестовым данным, никак не предобрабатывая их, а лишь загрузив из файла и отделив целевой признак от остальных\n",
    "*   получите на тестовой части качество не ниже 0.87 по метрике ROCAUC\n",
    "Пояснение: если пропуски в новых данных и будут, то только в тех колонках, где они есть в тренировочной части."
   ]
  },
  {
   "cell_type": "markdown",
   "id": "38b137e4",
   "metadata": {},
   "source": [
    "# 1. Импортируем необходимые библиотеки"
   ]
  },
  {
   "cell_type": "code",
   "execution_count": 1,
   "id": "7a8ecbfc",
   "metadata": {},
   "outputs": [],
   "source": [
    "import numpy as np\n",
    "import pandas as pd\n",
    "\n",
    "from sklearn import linear_model\n",
    "from sklearn.model_selection import GridSearchCV\n",
    "from sklearn.preprocessing import OneHotEncoder, StandardScaler\n",
    "from sklearn.compose import ColumnTransformer\n",
    "from sklearn.impute import SimpleImputer\n",
    "from sklearn.tree import DecisionTreeClassifier\n",
    "from sklearn.linear_model import LogisticRegression\n",
    "from sklearn.ensemble import RandomForestClassifier, BaggingClassifier, GradientBoostingClassifier\n",
    "from sklearn.naive_bayes import GaussianNB\n",
    "from sklearn.metrics import roc_auc_score\n",
    "from sklearn.pipeline import Pipeline"
   ]
  },
  {
   "cell_type": "markdown",
   "id": "83108eb4",
   "metadata": {},
   "source": [
    "# 2. Подгрузим данные. Проанализируем данные."
   ]
  },
  {
   "cell_type": "code",
   "execution_count": 2,
   "id": "5b205825",
   "metadata": {},
   "outputs": [],
   "source": [
    "train = pd.read_csv('https://raw.githubusercontent.com/W1llAnn/1tdata-homework/main/2.8heart_adapt_train.csv')\n",
    "test = pd.read_csv('https://raw.githubusercontent.com/W1llAnn/1tdata-homework/main/2.8heart_adapt_test.csv')"
   ]
  },
  {
   "cell_type": "markdown",
   "id": "54d31c3b",
   "metadata": {},
   "source": [
    "*Посмотрим, что за данные у нас есть:*"
   ]
  },
  {
   "cell_type": "code",
   "execution_count": 3,
   "id": "f970dce1",
   "metadata": {},
   "outputs": [
    {
     "data": {
      "text/html": [
       "<div>\n",
       "<style scoped>\n",
       "    .dataframe tbody tr th:only-of-type {\n",
       "        vertical-align: middle;\n",
       "    }\n",
       "\n",
       "    .dataframe tbody tr th {\n",
       "        vertical-align: top;\n",
       "    }\n",
       "\n",
       "    .dataframe thead th {\n",
       "        text-align: right;\n",
       "    }\n",
       "</style>\n",
       "<table border=\"1\" class=\"dataframe\">\n",
       "  <thead>\n",
       "    <tr style=\"text-align: right;\">\n",
       "      <th></th>\n",
       "      <th>Age</th>\n",
       "      <th>Sex</th>\n",
       "      <th>ChestPainType</th>\n",
       "      <th>RestingBP</th>\n",
       "      <th>Cholesterol</th>\n",
       "      <th>FastingBS</th>\n",
       "      <th>RestingECG</th>\n",
       "      <th>MaxHR</th>\n",
       "      <th>ExerciseAngina</th>\n",
       "      <th>Oldpeak</th>\n",
       "      <th>ST_Slope</th>\n",
       "      <th>HeartDisease</th>\n",
       "    </tr>\n",
       "  </thead>\n",
       "  <tbody>\n",
       "    <tr>\n",
       "      <th>0</th>\n",
       "      <td>74.0</td>\n",
       "      <td>M</td>\n",
       "      <td>NAP</td>\n",
       "      <td>138.0</td>\n",
       "      <td>NaN</td>\n",
       "      <td>0</td>\n",
       "      <td>Normal</td>\n",
       "      <td>116</td>\n",
       "      <td>N</td>\n",
       "      <td>0.2</td>\n",
       "      <td>Up</td>\n",
       "      <td>0</td>\n",
       "    </tr>\n",
       "    <tr>\n",
       "      <th>1</th>\n",
       "      <td>58.0</td>\n",
       "      <td>M</td>\n",
       "      <td>NAP</td>\n",
       "      <td>132.0</td>\n",
       "      <td>224.0</td>\n",
       "      <td>0</td>\n",
       "      <td>LVH</td>\n",
       "      <td>173</td>\n",
       "      <td>N</td>\n",
       "      <td>3.2</td>\n",
       "      <td>Up</td>\n",
       "      <td>1</td>\n",
       "    </tr>\n",
       "    <tr>\n",
       "      <th>2</th>\n",
       "      <td>44.0</td>\n",
       "      <td>M</td>\n",
       "      <td>ATA</td>\n",
       "      <td>150.0</td>\n",
       "      <td>288.0</td>\n",
       "      <td>0</td>\n",
       "      <td>Normal</td>\n",
       "      <td>150</td>\n",
       "      <td>Y</td>\n",
       "      <td>3.0</td>\n",
       "      <td>Flat</td>\n",
       "      <td>1</td>\n",
       "    </tr>\n",
       "    <tr>\n",
       "      <th>3</th>\n",
       "      <td>50.0</td>\n",
       "      <td>M</td>\n",
       "      <td>ASY</td>\n",
       "      <td>144.0</td>\n",
       "      <td>349.0</td>\n",
       "      <td>0</td>\n",
       "      <td>LVH</td>\n",
       "      <td>120</td>\n",
       "      <td>Y</td>\n",
       "      <td>1.0</td>\n",
       "      <td>Up</td>\n",
       "      <td>1</td>\n",
       "    </tr>\n",
       "    <tr>\n",
       "      <th>4</th>\n",
       "      <td>NaN</td>\n",
       "      <td>M</td>\n",
       "      <td>ASY</td>\n",
       "      <td>145.0</td>\n",
       "      <td>248.0</td>\n",
       "      <td>0</td>\n",
       "      <td>Normal</td>\n",
       "      <td>96</td>\n",
       "      <td>Y</td>\n",
       "      <td>2.0</td>\n",
       "      <td>Flat</td>\n",
       "      <td>1</td>\n",
       "    </tr>\n",
       "  </tbody>\n",
       "</table>\n",
       "</div>"
      ],
      "text/plain": [
       "    Age Sex ChestPainType  RestingBP  Cholesterol  FastingBS RestingECG   \n",
       "0  74.0   M           NAP      138.0          NaN          0     Normal  \\\n",
       "1  58.0   M           NAP      132.0        224.0          0        LVH   \n",
       "2  44.0   M           ATA      150.0        288.0          0     Normal   \n",
       "3  50.0   M           ASY      144.0        349.0          0        LVH   \n",
       "4   NaN   M           ASY      145.0        248.0          0     Normal   \n",
       "\n",
       "   MaxHR ExerciseAngina  Oldpeak ST_Slope  HeartDisease  \n",
       "0    116              N      0.2       Up             0  \n",
       "1    173              N      3.2       Up             1  \n",
       "2    150              Y      3.0     Flat             1  \n",
       "3    120              Y      1.0       Up             1  \n",
       "4     96              Y      2.0     Flat             1  "
      ]
     },
     "execution_count": 3,
     "metadata": {},
     "output_type": "execute_result"
    }
   ],
   "source": [
    "train.head()"
   ]
  },
  {
   "cell_type": "code",
   "execution_count": 4,
   "id": "0245adca",
   "metadata": {},
   "outputs": [
    {
     "data": {
      "text/html": [
       "<div>\n",
       "<style scoped>\n",
       "    .dataframe tbody tr th:only-of-type {\n",
       "        vertical-align: middle;\n",
       "    }\n",
       "\n",
       "    .dataframe tbody tr th {\n",
       "        vertical-align: top;\n",
       "    }\n",
       "\n",
       "    .dataframe thead th {\n",
       "        text-align: right;\n",
       "    }\n",
       "</style>\n",
       "<table border=\"1\" class=\"dataframe\">\n",
       "  <thead>\n",
       "    <tr style=\"text-align: right;\">\n",
       "      <th></th>\n",
       "      <th>Age</th>\n",
       "      <th>Sex</th>\n",
       "      <th>ChestPainType</th>\n",
       "      <th>RestingBP</th>\n",
       "      <th>Cholesterol</th>\n",
       "      <th>FastingBS</th>\n",
       "      <th>RestingECG</th>\n",
       "      <th>MaxHR</th>\n",
       "      <th>ExerciseAngina</th>\n",
       "      <th>Oldpeak</th>\n",
       "      <th>ST_Slope</th>\n",
       "      <th>HeartDisease</th>\n",
       "    </tr>\n",
       "  </thead>\n",
       "  <tbody>\n",
       "    <tr>\n",
       "      <th>0</th>\n",
       "      <td>44.0</td>\n",
       "      <td>M</td>\n",
       "      <td>NAP</td>\n",
       "      <td>130.0</td>\n",
       "      <td>233.0</td>\n",
       "      <td>0</td>\n",
       "      <td>Normal</td>\n",
       "      <td>179</td>\n",
       "      <td>Y</td>\n",
       "      <td>0.4</td>\n",
       "      <td>Up</td>\n",
       "      <td>0</td>\n",
       "    </tr>\n",
       "    <tr>\n",
       "      <th>1</th>\n",
       "      <td>63.0</td>\n",
       "      <td>M</td>\n",
       "      <td>ASY</td>\n",
       "      <td>130.0</td>\n",
       "      <td>308.0</td>\n",
       "      <td>0</td>\n",
       "      <td>Normal</td>\n",
       "      <td>138</td>\n",
       "      <td>Y</td>\n",
       "      <td>2.0</td>\n",
       "      <td>Flat</td>\n",
       "      <td>1</td>\n",
       "    </tr>\n",
       "    <tr>\n",
       "      <th>2</th>\n",
       "      <td>35.0</td>\n",
       "      <td>F</td>\n",
       "      <td>TA</td>\n",
       "      <td>120.0</td>\n",
       "      <td>160.0</td>\n",
       "      <td>0</td>\n",
       "      <td>ST</td>\n",
       "      <td>185</td>\n",
       "      <td>N</td>\n",
       "      <td>0.0</td>\n",
       "      <td>Up</td>\n",
       "      <td>0</td>\n",
       "    </tr>\n",
       "    <tr>\n",
       "      <th>3</th>\n",
       "      <td>69.0</td>\n",
       "      <td>M</td>\n",
       "      <td>NAP</td>\n",
       "      <td>140.0</td>\n",
       "      <td>NaN</td>\n",
       "      <td>1</td>\n",
       "      <td>ST</td>\n",
       "      <td>118</td>\n",
       "      <td>N</td>\n",
       "      <td>2.5</td>\n",
       "      <td>Down</td>\n",
       "      <td>1</td>\n",
       "    </tr>\n",
       "    <tr>\n",
       "      <th>4</th>\n",
       "      <td>NaN</td>\n",
       "      <td>M</td>\n",
       "      <td>TA</td>\n",
       "      <td>142.0</td>\n",
       "      <td>200.0</td>\n",
       "      <td>1</td>\n",
       "      <td>ST</td>\n",
       "      <td>100</td>\n",
       "      <td>N</td>\n",
       "      <td>1.5</td>\n",
       "      <td>Down</td>\n",
       "      <td>1</td>\n",
       "    </tr>\n",
       "  </tbody>\n",
       "</table>\n",
       "</div>"
      ],
      "text/plain": [
       "    Age Sex ChestPainType  RestingBP  Cholesterol  FastingBS RestingECG   \n",
       "0  44.0   M           NAP      130.0        233.0          0     Normal  \\\n",
       "1  63.0   M           ASY      130.0        308.0          0     Normal   \n",
       "2  35.0   F            TA      120.0        160.0          0         ST   \n",
       "3  69.0   M           NAP      140.0          NaN          1         ST   \n",
       "4   NaN   M            TA      142.0        200.0          1         ST   \n",
       "\n",
       "   MaxHR ExerciseAngina  Oldpeak ST_Slope  HeartDisease  \n",
       "0    179              Y      0.4       Up             0  \n",
       "1    138              Y      2.0     Flat             1  \n",
       "2    185              N      0.0       Up             0  \n",
       "3    118              N      2.5     Down             1  \n",
       "4    100              N      1.5     Down             1  "
      ]
     },
     "execution_count": 4,
     "metadata": {},
     "output_type": "execute_result"
    }
   ],
   "source": [
    "test.head()"
   ]
  },
  {
   "cell_type": "markdown",
   "id": "a958f68d",
   "metadata": {},
   "source": [
    "**Одинаковое количество колонок, данные уже поделены на обучающую и тестовую выборку. Наша целевая переменная - HeartDisease.**"
   ]
  },
  {
   "cell_type": "markdown",
   "id": "e510b6b4",
   "metadata": {},
   "source": [
    "*Теперь посмотрим \"поближе\", проверим пропуски и дубликаты.*"
   ]
  },
  {
   "cell_type": "code",
   "execution_count": 5,
   "id": "4432dc8f",
   "metadata": {},
   "outputs": [
    {
     "name": "stdout",
     "output_type": "stream",
     "text": [
      "<class 'pandas.core.frame.DataFrame'>\n",
      "RangeIndex: 589 entries, 0 to 588\n",
      "Data columns (total 12 columns):\n",
      " #   Column          Non-Null Count  Dtype  \n",
      "---  ------          --------------  -----  \n",
      " 0   Age             533 non-null    float64\n",
      " 1   Sex             589 non-null    object \n",
      " 2   ChestPainType   589 non-null    object \n",
      " 3   RestingBP       588 non-null    float64\n",
      " 4   Cholesterol     462 non-null    float64\n",
      " 5   FastingBS       589 non-null    int64  \n",
      " 6   RestingECG      589 non-null    object \n",
      " 7   MaxHR           589 non-null    int64  \n",
      " 8   ExerciseAngina  589 non-null    object \n",
      " 9   Oldpeak         589 non-null    float64\n",
      " 10  ST_Slope        589 non-null    object \n",
      " 11  HeartDisease    589 non-null    int64  \n",
      "dtypes: float64(4), int64(3), object(5)\n",
      "memory usage: 55.3+ KB\n"
     ]
    }
   ],
   "source": [
    "train.info()"
   ]
  },
  {
   "cell_type": "code",
   "execution_count": 6,
   "id": "8077a016",
   "metadata": {},
   "outputs": [
    {
     "data": {
      "text/plain": [
       "Age                56\n",
       "Sex                 0\n",
       "ChestPainType       0\n",
       "RestingBP           1\n",
       "Cholesterol       127\n",
       "FastingBS           0\n",
       "RestingECG          0\n",
       "MaxHR               0\n",
       "ExerciseAngina      0\n",
       "Oldpeak             0\n",
       "ST_Slope            0\n",
       "HeartDisease        0\n",
       "dtype: int64"
      ]
     },
     "execution_count": 6,
     "metadata": {},
     "output_type": "execute_result"
    }
   ],
   "source": [
    "train.isnull().sum()"
   ]
  },
  {
   "cell_type": "markdown",
   "id": "15158a1f",
   "metadata": {},
   "source": [
    "**В train есть пропуски в колонках Age, RestingBP, Cholesterol**"
   ]
  },
  {
   "cell_type": "code",
   "execution_count": 7,
   "id": "9d6eb503",
   "metadata": {},
   "outputs": [
    {
     "name": "stdout",
     "output_type": "stream",
     "text": [
      "<class 'pandas.core.frame.DataFrame'>\n",
      "RangeIndex: 197 entries, 0 to 196\n",
      "Data columns (total 12 columns):\n",
      " #   Column          Non-Null Count  Dtype  \n",
      "---  ------          --------------  -----  \n",
      " 0   Age             177 non-null    float64\n",
      " 1   Sex             197 non-null    object \n",
      " 2   ChestPainType   197 non-null    object \n",
      " 3   RestingBP       197 non-null    float64\n",
      " 4   Cholesterol     160 non-null    float64\n",
      " 5   FastingBS       197 non-null    int64  \n",
      " 6   RestingECG      197 non-null    object \n",
      " 7   MaxHR           197 non-null    int64  \n",
      " 8   ExerciseAngina  197 non-null    object \n",
      " 9   Oldpeak         197 non-null    float64\n",
      " 10  ST_Slope        197 non-null    object \n",
      " 11  HeartDisease    197 non-null    int64  \n",
      "dtypes: float64(4), int64(3), object(5)\n",
      "memory usage: 18.6+ KB\n"
     ]
    }
   ],
   "source": [
    "test.info()"
   ]
  },
  {
   "cell_type": "code",
   "execution_count": 8,
   "id": "1816a44c",
   "metadata": {},
   "outputs": [
    {
     "data": {
      "text/plain": [
       "Age               20\n",
       "Sex                0\n",
       "ChestPainType      0\n",
       "RestingBP          0\n",
       "Cholesterol       37\n",
       "FastingBS          0\n",
       "RestingECG         0\n",
       "MaxHR              0\n",
       "ExerciseAngina     0\n",
       "Oldpeak            0\n",
       "ST_Slope           0\n",
       "HeartDisease       0\n",
       "dtype: int64"
      ]
     },
     "execution_count": 8,
     "metadata": {},
     "output_type": "execute_result"
    }
   ],
   "source": [
    "test.isnull().sum()"
   ]
  },
  {
   "cell_type": "markdown",
   "id": "a5dab2e7",
   "metadata": {},
   "source": [
    "**В test есть пропуски Age, Cholesterol**"
   ]
  },
  {
   "cell_type": "markdown",
   "id": "d7746073",
   "metadata": {},
   "source": [
    "**В обоих DataFrame мы видим следующие типы: float64 - 4 столбца, int64 - 3 столбца, object - 5 столбцов. С float64 и int64 можно работать, а вот object нужно будет преобразовывать.**"
   ]
  },
  {
   "cell_type": "markdown",
   "id": "3eb26263",
   "metadata": {},
   "source": [
    "*Сбалансированность классов:*"
   ]
  },
  {
   "cell_type": "code",
   "execution_count": 9,
   "id": "65c58401",
   "metadata": {},
   "outputs": [
    {
     "data": {
      "text/plain": [
       "HeartDisease\n",
       "1    381\n",
       "0    208\n",
       "Name: count, dtype: int64"
      ]
     },
     "execution_count": 9,
     "metadata": {},
     "output_type": "execute_result"
    }
   ],
   "source": [
    "train['HeartDisease'].value_counts()"
   ]
  },
  {
   "cell_type": "code",
   "execution_count": 10,
   "id": "33791f60",
   "metadata": {},
   "outputs": [
    {
     "data": {
      "text/plain": [
       "HeartDisease\n",
       "1    127\n",
       "0     70\n",
       "Name: count, dtype: int64"
      ]
     },
     "execution_count": 10,
     "metadata": {},
     "output_type": "execute_result"
    }
   ],
   "source": [
    "test['HeartDisease'].value_counts()"
   ]
  },
  {
   "cell_type": "markdown",
   "id": "3a4b38bb",
   "metadata": {},
   "source": [
    "**Классы не сбалансированы, это мы будем учитывать в самой модели**"
   ]
  },
  {
   "cell_type": "markdown",
   "id": "04f4a713",
   "metadata": {},
   "source": [
    "*Визуализируем данные:*"
   ]
  },
  {
   "cell_type": "code",
   "execution_count": 11,
   "id": "5d5aa892",
   "metadata": {},
   "outputs": [
    {
     "data": {
      "text/plain": [
       "array([[<Axes: title={'center': 'Age'}>,\n",
       "        <Axes: title={'center': 'RestingBP'}>,\n",
       "        <Axes: title={'center': 'Cholesterol'}>],\n",
       "       [<Axes: title={'center': 'FastingBS'}>,\n",
       "        <Axes: title={'center': 'MaxHR'}>,\n",
       "        <Axes: title={'center': 'Oldpeak'}>],\n",
       "       [<Axes: title={'center': 'HeartDisease'}>, <Axes: >, <Axes: >]],\n",
       "      dtype=object)"
      ]
     },
     "execution_count": 11,
     "metadata": {},
     "output_type": "execute_result"
    },
    {
     "data": {
      "image/png": "[encoded data removed]",
      "text/plain": [
       "<Figure size 1500x700 with 9 Axes>"
      ]
     },
     "metadata": {},
     "output_type": "display_data"
    }
   ],
   "source": [
    "train.hist(bins=20, figsize=(15,7))"
   ]
  },
  {
   "cell_type": "code",
   "execution_count": 12,
   "id": "8a13ad2c",
   "metadata": {},
   "outputs": [
    {
     "data": {
      "text/plain": [
       "array([[<Axes: title={'center': 'Age'}>,\n",
       "        <Axes: title={'center': 'RestingBP'}>,\n",
       "        <Axes: title={'center': 'Cholesterol'}>],\n",
       "       [<Axes: title={'center': 'FastingBS'}>,\n",
       "        <Axes: title={'center': 'MaxHR'}>,\n",
       "        <Axes: title={'center': 'Oldpeak'}>],\n",
       "       [<Axes: title={'center': 'HeartDisease'}>, <Axes: >, <Axes: >]],\n",
       "      dtype=object)"
      ]
     },
     "execution_count": 12,
     "metadata": {},
     "output_type": "execute_result"
    },
    {
     "data": {
      "image/png": "[encoded data removed]",
      "text/plain": [
       "<Figure size 1500x700 with 9 Axes>"
      ]
     },
     "metadata": {},
     "output_type": "display_data"
    }
   ],
   "source": [
    "test.hist(bins=20, figsize=(15,7))"
   ]
  },
  {
   "cell_type": "markdown",
   "id": "69582e63",
   "metadata": {},
   "source": [
    "**Что мы можем сказать о наших данных, смотря на обе выборки:**\n",
    "*   большая часть строк имеют показатель Age от 40 до 65 (примерно)\n",
    "*   кровяное давление RestingBP у большинства находится от 100 до 150\n",
    "*   Cholesterol возможно есть неверные данные, так как 0 холестирина в крови есть в некоторых строках\n",
    "*   Уровень сахара в крови FastingBS у большинства в норме (0)\n",
    "*   Максимальная частота сердечных сокращений MaxHR у большинства по выборке в диапазоне 100-175\n",
    "*   Самый часто встречающийся показатель Oldpeak от -0,3 до 1\n",
    "*   HeartDisease больше половины выборки имеют болезни сердца"
   ]
  },
  {
   "cell_type": "markdown",
   "id": "c1f022b6",
   "metadata": {},
   "source": [
    "*Теперь дубликаты:*"
   ]
  },
  {
   "cell_type": "code",
   "execution_count": 13,
   "id": "5e4cfb0d",
   "metadata": {},
   "outputs": [
    {
     "name": "stdout",
     "output_type": "stream",
     "text": [
      "Дубликаты в train 0\n",
      "Дубликаты в test 0\n"
     ]
    }
   ],
   "source": [
    "print(f'Дубликаты в train {len(train)- len(train.drop_duplicates ())}')\n",
    "print(f'Дубликаты в test {len(test)- len(test.drop_duplicates ())}')"
   ]
  },
  {
   "cell_type": "markdown",
   "id": "fc1e9f54",
   "metadata": {},
   "source": [
    "**Дубликаты отсутствуют**"
   ]
  },
  {
   "cell_type": "code",
   "execution_count": 14,
   "id": "2daeca27",
   "metadata": {},
   "outputs": [
    {
     "data": {
      "text/plain": [
       "<Axes: title={'center': 'Выбросы train'}>"
      ]
     },
     "execution_count": 14,
     "metadata": {},
     "output_type": "execute_result"
    },
    {
     "data": {
      "image/png": "[encoded data removed]",
      "text/plain": [
       "<Figure size 640x480 with 1 Axes>"
      ]
     },
     "metadata": {},
     "output_type": "display_data"
    }
   ],
   "source": [
    "train[['Age', 'RestingBP', 'Cholesterol', 'FastingBS', 'MaxHR', 'Oldpeak']].plot.box(title='Выбросы train')"
   ]
  },
  {
   "cell_type": "code",
   "execution_count": 15,
   "id": "2c74baa6",
   "metadata": {},
   "outputs": [
    {
     "data": {
      "text/plain": [
       "<Axes: title={'center': 'Выбросы test'}>"
      ]
     },
     "execution_count": 15,
     "metadata": {},
     "output_type": "execute_result"
    },
    {
     "data": {
      "image/png": "[encoded data removed]",
      "text/plain": [
       "<Figure size 640x480 with 1 Axes>"
      ]
     },
     "metadata": {},
     "output_type": "display_data"
    }
   ],
   "source": [
    "test[['Age', 'RestingBP', 'Cholesterol', 'FastingBS', 'MaxHR', 'Oldpeak']].plot.box(title='Выбросы test')"
   ]
  },
  {
   "cell_type": "markdown",
   "id": "d29c4aea",
   "metadata": {},
   "source": [
    "**В целом, мы определяем некоторые наблюдения как выбросы, но на рекуций момент, не будем их убирать, так как они могут быть \"ложными\", однако, будем держать это в уме.**"
   ]
  },
  {
   "cell_type": "markdown",
   "id": "1e1e0718",
   "metadata": {},
   "source": [
    "**Вывод по 2 пункту:**\n",
    "\n",
    "1. Целевая переменная - HeartDisease.\n",
    "2. Классы не сбалансированы, это мы будем учитывать в самой модели\n",
    "3. Заполним пропуски:\n",
    "*   Age - Средним значением по выборке\n",
    "*   RestingBP - Средним значением по выборке\n",
    "*   Cholesterol - Средним значением по выборке\n",
    "4. Преобразуем object:\n",
    "*   Sex (пол) - get_dummies\n",
    "*   ChestPainType (тип боли в груди) - get_dummies\n",
    "*   RestingECG (кровяное давление) - get_dummies\n",
    "*   ExerciseAngina (стенакордия) - get_dummies\n",
    "*   ST_Slope - get_dummies"
   ]
  },
  {
   "cell_type": "markdown",
   "id": "b4f1aed5",
   "metadata": {},
   "source": [
    "# 3. Предобработка train выборки\n",
    "# 4. Pipeline и GridSearchCV. Переберем несколько вариантов, с помощью кросс-валидации\n",
    "# 5. Применим обученный на тренировочных данных конвейер к тестовым данным, никак не предобрабатывая их, а лишь загрузив из файла и отделив целевой признак от остальных"
   ]
  },
  {
   "cell_type": "markdown",
   "id": "e8582261",
   "metadata": {},
   "source": [
    "*Сначала отделим целевую переменную*"
   ]
  },
  {
   "cell_type": "code",
   "execution_count": 16,
   "id": "8441ea5c",
   "metadata": {},
   "outputs": [],
   "source": [
    "X_train = train.drop(['HeartDisease'], axis=1)\n",
    "y_train = train['HeartDisease']"
   ]
  },
  {
   "cell_type": "markdown",
   "id": "f434ca87",
   "metadata": {},
   "source": [
    "*Обучим модель и посмотрим на качество:*"
   ]
  },
  {
   "cell_type": "code",
   "execution_count": 34,
   "id": "f2accc4d",
   "metadata": {},
   "outputs": [
    {
     "name": "stdout",
     "output_type": "stream",
     "text": [
      "Качество модели на обучающей выборке: {0.9754694124772866}\n"
     ]
    }
   ],
   "source": [
    "categorical_train = list(X_train.select_dtypes('object').columns)\n",
    "numerical_train = list(X_train.select_dtypes('number').columns)\n",
    "\n",
    "cat_pipe = Pipeline([\n",
    "    ('encoder', OneHotEncoder(drop='if_binary'))\n",
    "])\n",
    "num_pipe = Pipeline([\n",
    "    ('imputer', SimpleImputer(strategy='median'))\n",
    "])\n",
    "preprocessor = ColumnTransformer([\n",
    "    ('cat', cat_pipe, categorical_train),\n",
    "    ('num', num_pipe, numerical_train)\n",
    "])\n",
    "\n",
    "\n",
    "pipe = Pipeline([  \n",
    "        ('preprocessor', preprocessor),\n",
    "        ('scaler', StandardScaler()),\n",
    "        ('classify', RandomForestClassifier(class_weight='balanced', max_depth=5, n_estimators = 100, random_state=0))\n",
    "])\n",
    "\n",
    "\n",
    "pipe.fit(X=X_train, y=y_train)\n",
    "print('Качество модели на обучающей выборке:', {roc_auc_score(y_train, pipe.predict_proba(X_train)[:, 1])})"
   ]
  },
  {
   "cell_type": "markdown",
   "id": "2cdfb3ff",
   "metadata": {},
   "source": [
    "**Качество модели на обучающей выборке 1.0, скорее всего модель переобучена**"
   ]
  },
  {
   "cell_type": "markdown",
   "id": "5929d9de",
   "metadata": {},
   "source": [
    "*Теперь к тестовой*"
   ]
  },
  {
   "cell_type": "code",
   "execution_count": 35,
   "id": "7c8d3016",
   "metadata": {},
   "outputs": [],
   "source": [
    "X_test = test.drop(['HeartDisease'], axis=1)\n",
    "y_test = test['HeartDisease']"
   ]
  },
  {
   "cell_type": "code",
   "execution_count": 38,
   "id": "6f0b1901",
   "metadata": {},
   "outputs": [
    {
     "name": "stdout",
     "output_type": "stream",
     "text": [
      "Качество модели на тестовой выборке c лучшей моделью: {0.9069178852643419}\n"
     ]
    }
   ],
   "source": [
    "params = [\n",
    "    {'classify': [LogisticRegression(class_weight='balanced', random_state=0)]}, \n",
    "\n",
    "    {'classify': [DecisionTreeClassifier(class_weight='balanced', random_state=0)], 'classify__max_depth': [1, 2, 5, 10, 20, 30]},\n",
    "    {'classify': [DecisionTreeClassifier(class_weight='balanced', random_state=0)], 'classify__min_samples_split': [2, 3, 4, 5, 10]},\n",
    "    {'classify': [DecisionTreeClassifier(class_weight='balanced', random_state=0)], 'classify__min_samples_leaf': [1, 2, 3, 4, 5]},\n",
    "\n",
    "    {'classify': [RandomForestClassifier(class_weight='balanced', random_state=0)], 'classify__max_depth': [1, 2, 3, 4, 5, 8, 10]},\n",
    "    {'classify': [RandomForestClassifier(class_weight='balanced', random_state=0)], 'classify__n_estimators': [10, 20, 40, 60, 80, 100, 120, 140, 160]},\n",
    "    {'classify': [RandomForestClassifier(class_weight='balanced', random_state=0)], 'classify__min_samples_split': [2, 3, 4, 5, 10]},\n",
    "    {'classify': [RandomForestClassifier(class_weight='balanced', random_state=0)], 'classify__min_samples_leaf': [2, 3, 4, 5, 10]},\n",
    "\n",
    "    {'classify': [GradientBoostingClassifier(random_state=0, learning_rate=1.0)], 'classify__n_estimators': [10, 20, 40, 60, 80, 100, 120]},\n",
    "    {'classify': [GradientBoostingClassifier(random_state=0, learning_rate=1.0)], 'classify__max_depth': [1, 2, 3, 4, 5]},\n",
    "\n",
    "    {'classify': [linear_model.LinearRegression()]},\n",
    "    \n",
    "    {'classify': [GaussianNB()]},\n",
    "\n",
    "    {'classify': [BaggingClassifier(DecisionTreeClassifier(class_weight='balanced', random_state=0, max_depth=2))], 'classify__n_estimators': [10, 20, 30, 40, 50, 100]},\n",
    "\n",
    "]\n",
    "\n",
    "grid_search = GridSearchCV(pipe, param_grid=params, cv=5, scoring='roc_auc')\n",
    "grid_search.fit(X=X_train, y=y_train)\n",
    "print(\n",
    "    'Качество модели на тестовой выборке c лучшей моделью:', \n",
    "    {roc_auc_score(y_test, grid_search.predict_proba(X_test)[:, 1])}\n",
    ")"
   ]
  },
  {
   "cell_type": "code",
   "execution_count": 39,
   "id": "8f6c715d",
   "metadata": {},
   "outputs": [
    {
     "data": {
      "text/html": [
       "<style>#sk-container-id-5 {color: black;background-color: white;}#sk-container-id-5 pre{padding: 0;}#sk-container-id-5 div.sk-toggleable {background-color: white;}#sk-container-id-5 label.sk-toggleable__label {cursor: pointer;display: block;width: 100%;margin-bottom: 0;padding: 0.3em;box-sizing: border-box;text-align: center;}#sk-container-id-5 label.sk-toggleable__label-arrow:before {content: \"▸\";float: left;margin-right: 0.25em;color: #696969;}#sk-container-id-5 label.sk-toggleable__label-arrow:hover:before {color: black;}#sk-container-id-5 div.sk-estimator:hover label.sk-toggleable__label-arrow:before {color: black;}#sk-container-id-5 div.sk-toggleable__content {max-height: 0;max-width: 0;overflow: hidden;text-align: left;background-color: #f0f8ff;}#sk-container-id-5 div.sk-toggleable__content pre {margin: 0.2em;color: black;border-radius: 0.25em;background-color: #f0f8ff;}#sk-container-id-5 input.sk-toggleable__control:checked~div.sk-toggleable__content {max-height: 200px;max-width: 100%;overflow: auto;}#sk-container-id-5 input.sk-toggleable__control:checked~label.sk-toggleable__label-arrow:before {content: \"▾\";}#sk-container-id-5 div.sk-estimator input.sk-toggleable__control:checked~label.sk-toggleable__label {background-color: #d4ebff;}#sk-container-id-5 div.sk-label input.sk-toggleable__control:checked~label.sk-toggleable__label {background-color: #d4ebff;}#sk-container-id-5 input.sk-hidden--visually {border: 0;clip: rect(1px 1px 1px 1px);clip: rect(1px, 1px, 1px, 1px);height: 1px;margin: -1px;overflow: hidden;padding: 0;position: absolute;width: 1px;}#sk-container-id-5 div.sk-estimator {font-family: monospace;background-color: #f0f8ff;border: 1px dotted black;border-radius: 0.25em;box-sizing: border-box;margin-bottom: 0.5em;}#sk-container-id-5 div.sk-estimator:hover {background-color: #d4ebff;}#sk-container-id-5 div.sk-parallel-item::after {content: \"\";width: 100%;border-bottom: 1px solid gray;flex-grow: 1;}#sk-container-id-5 div.sk-label:hover label.sk-toggleable__label {background-color: #d4ebff;}#sk-container-id-5 div.sk-serial::before {content: \"\";position: absolute;border-left: 1px solid gray;box-sizing: border-box;top: 0;bottom: 0;left: 50%;z-index: 0;}#sk-container-id-5 div.sk-serial {display: flex;flex-direction: column;align-items: center;background-color: white;padding-right: 0.2em;padding-left: 0.2em;position: relative;}#sk-container-id-5 div.sk-item {position: relative;z-index: 1;}#sk-container-id-5 div.sk-parallel {display: flex;align-items: stretch;justify-content: center;background-color: white;position: relative;}#sk-container-id-5 div.sk-item::before, #sk-container-id-5 div.sk-parallel-item::before {content: \"\";position: absolute;border-left: 1px solid gray;box-sizing: border-box;top: 0;bottom: 0;left: 50%;z-index: -1;}#sk-container-id-5 div.sk-parallel-item {display: flex;flex-direction: column;z-index: 1;position: relative;background-color: white;}#sk-container-id-5 div.sk-parallel-item:first-child::after {align-self: flex-end;width: 50%;}#sk-container-id-5 div.sk-parallel-item:last-child::after {align-self: flex-start;width: 50%;}#sk-container-id-5 div.sk-parallel-item:only-child::after {width: 0;}#sk-container-id-5 div.sk-dashed-wrapped {border: 1px dashed gray;margin: 0 0.4em 0.5em 0.4em;box-sizing: border-box;padding-bottom: 0.4em;background-color: white;}#sk-container-id-5 div.sk-label label {font-family: monospace;font-weight: bold;display: inline-block;line-height: 1.2em;}#sk-container-id-5 div.sk-label-container {text-align: center;}#sk-container-id-5 div.sk-container {/* jupyter's `normalize.less` sets `[hidden] { display: none; }` but bootstrap.min.css set `[hidden] { display: none !important; }` so we also need the `!important` here to be able to override the default hidden behavior on the sphinx rendered scikit-learn.org. See: https://github.com/scikit-learn/scikit-learn/issues/21755 */display: inline-block !important;position: relative;}#sk-container-id-5 div.sk-text-repr-fallback {display: none;}</style><div id=\"sk-container-id-5\" class=\"sk-top-container\"><div class=\"sk-text-repr-fallback\"><pre>Pipeline(steps=[(&#x27;preprocessor&#x27;,\n",
       "                 ColumnTransformer(transformers=[(&#x27;cat&#x27;,\n",
       "                                                  Pipeline(steps=[(&#x27;encoder&#x27;,\n",
       "                                                                   OneHotEncoder(drop=&#x27;if_binary&#x27;))]),\n",
       "                                                  [&#x27;Sex&#x27;, &#x27;ChestPainType&#x27;,\n",
       "                                                   &#x27;RestingECG&#x27;,\n",
       "                                                   &#x27;ExerciseAngina&#x27;,\n",
       "                                                   &#x27;ST_Slope&#x27;]),\n",
       "                                                 (&#x27;num&#x27;,\n",
       "                                                  Pipeline(steps=[(&#x27;imputer&#x27;,\n",
       "                                                                   SimpleImputer(strategy=&#x27;median&#x27;))]),\n",
       "                                                  [&#x27;Age&#x27;, &#x27;RestingBP&#x27;,\n",
       "                                                   &#x27;Cholesterol&#x27;, &#x27;FastingBS&#x27;,\n",
       "                                                   &#x27;MaxHR&#x27;, &#x27;Oldpeak&#x27;])])),\n",
       "                (&#x27;scaler&#x27;, StandardScaler()),\n",
       "                (&#x27;classify&#x27;,\n",
       "                 RandomForestClassifier(class_weight=&#x27;balanced&#x27;,\n",
       "                                        n_estimators=120, random_state=0))])</pre><b>In a Jupyter environment, please rerun this cell to show the HTML representation or trust the notebook. <br />On GitHub, the HTML representation is unable to render, please try loading this page with nbviewer.org.</b></div><div class=\"sk-container\" hidden><div class=\"sk-item sk-dashed-wrapped\"><div class=\"sk-label-container\"><div class=\"sk-label sk-toggleable\"><input class=\"sk-toggleable__control sk-hidden--visually\" id=\"sk-estimator-id-33\" type=\"checkbox\" ><label for=\"sk-estimator-id-33\" class=\"sk-toggleable__label sk-toggleable__label-arrow\">Pipeline</label><div class=\"sk-toggleable__content\"><pre>Pipeline(steps=[(&#x27;preprocessor&#x27;,\n",
       "                 ColumnTransformer(transformers=[(&#x27;cat&#x27;,\n",
       "                                                  Pipeline(steps=[(&#x27;encoder&#x27;,\n",
       "                                                                   OneHotEncoder(drop=&#x27;if_binary&#x27;))]),\n",
       "                                                  [&#x27;Sex&#x27;, &#x27;ChestPainType&#x27;,\n",
       "                                                   &#x27;RestingECG&#x27;,\n",
       "                                                   &#x27;ExerciseAngina&#x27;,\n",
       "                                                   &#x27;ST_Slope&#x27;]),\n",
       "                                                 (&#x27;num&#x27;,\n",
       "                                                  Pipeline(steps=[(&#x27;imputer&#x27;,\n",
       "                                                                   SimpleImputer(strategy=&#x27;median&#x27;))]),\n",
       "                                                  [&#x27;Age&#x27;, &#x27;RestingBP&#x27;,\n",
       "                                                   &#x27;Cholesterol&#x27;, &#x27;FastingBS&#x27;,\n",
       "                                                   &#x27;MaxHR&#x27;, &#x27;Oldpeak&#x27;])])),\n",
       "                (&#x27;scaler&#x27;, StandardScaler()),\n",
       "                (&#x27;classify&#x27;,\n",
       "                 RandomForestClassifier(class_weight=&#x27;balanced&#x27;,\n",
       "                                        n_estimators=120, random_state=0))])</pre></div></div></div><div class=\"sk-serial\"><div class=\"sk-item sk-dashed-wrapped\"><div class=\"sk-label-container\"><div class=\"sk-label sk-toggleable\"><input class=\"sk-toggleable__control sk-hidden--visually\" id=\"sk-estimator-id-34\" type=\"checkbox\" ><label for=\"sk-estimator-id-34\" class=\"sk-toggleable__label sk-toggleable__label-arrow\">preprocessor: ColumnTransformer</label><div class=\"sk-toggleable__content\"><pre>ColumnTransformer(transformers=[(&#x27;cat&#x27;,\n",
       "                                 Pipeline(steps=[(&#x27;encoder&#x27;,\n",
       "                                                  OneHotEncoder(drop=&#x27;if_binary&#x27;))]),\n",
       "                                 [&#x27;Sex&#x27;, &#x27;ChestPainType&#x27;, &#x27;RestingECG&#x27;,\n",
       "                                  &#x27;ExerciseAngina&#x27;, &#x27;ST_Slope&#x27;]),\n",
       "                                (&#x27;num&#x27;,\n",
       "                                 Pipeline(steps=[(&#x27;imputer&#x27;,\n",
       "                                                  SimpleImputer(strategy=&#x27;median&#x27;))]),\n",
       "                                 [&#x27;Age&#x27;, &#x27;RestingBP&#x27;, &#x27;Cholesterol&#x27;,\n",
       "                                  &#x27;FastingBS&#x27;, &#x27;MaxHR&#x27;, &#x27;Oldpeak&#x27;])])</pre></div></div></div><div class=\"sk-parallel\"><div class=\"sk-parallel-item\"><div class=\"sk-item\"><div class=\"sk-label-container\"><div class=\"sk-label sk-toggleable\"><input class=\"sk-toggleable__control sk-hidden--visually\" id=\"sk-estimator-id-35\" type=\"checkbox\" ><label for=\"sk-estimator-id-35\" class=\"sk-toggleable__label sk-toggleable__label-arrow\">cat</label><div class=\"sk-toggleable__content\"><pre>[&#x27;Sex&#x27;, &#x27;ChestPainType&#x27;, &#x27;RestingECG&#x27;, &#x27;ExerciseAngina&#x27;, &#x27;ST_Slope&#x27;]</pre></div></div></div><div class=\"sk-serial\"><div class=\"sk-item\"><div class=\"sk-serial\"><div class=\"sk-item\"><div class=\"sk-estimator sk-toggleable\"><input class=\"sk-toggleable__control sk-hidden--visually\" id=\"sk-estimator-id-36\" type=\"checkbox\" ><label for=\"sk-estimator-id-36\" class=\"sk-toggleable__label sk-toggleable__label-arrow\">OneHotEncoder</label><div class=\"sk-toggleable__content\"><pre>OneHotEncoder(drop=&#x27;if_binary&#x27;)</pre></div></div></div></div></div></div></div></div><div class=\"sk-parallel-item\"><div class=\"sk-item\"><div class=\"sk-label-container\"><div class=\"sk-label sk-toggleable\"><input class=\"sk-toggleable__control sk-hidden--visually\" id=\"sk-estimator-id-37\" type=\"checkbox\" ><label for=\"sk-estimator-id-37\" class=\"sk-toggleable__label sk-toggleable__label-arrow\">num</label><div class=\"sk-toggleable__content\"><pre>[&#x27;Age&#x27;, &#x27;RestingBP&#x27;, &#x27;Cholesterol&#x27;, &#x27;FastingBS&#x27;, &#x27;MaxHR&#x27;, &#x27;Oldpeak&#x27;]</pre></div></div></div><div class=\"sk-serial\"><div class=\"sk-item\"><div class=\"sk-serial\"><div class=\"sk-item\"><div class=\"sk-estimator sk-toggleable\"><input class=\"sk-toggleable__control sk-hidden--visually\" id=\"sk-estimator-id-38\" type=\"checkbox\" ><label for=\"sk-estimator-id-38\" class=\"sk-toggleable__label sk-toggleable__label-arrow\">SimpleImputer</label><div class=\"sk-toggleable__content\"><pre>SimpleImputer(strategy=&#x27;median&#x27;)</pre></div></div></div></div></div></div></div></div></div></div><div class=\"sk-item\"><div class=\"sk-estimator sk-toggleable\"><input class=\"sk-toggleable__control sk-hidden--visually\" id=\"sk-estimator-id-39\" type=\"checkbox\" ><label for=\"sk-estimator-id-39\" class=\"sk-toggleable__label sk-toggleable__label-arrow\">StandardScaler</label><div class=\"sk-toggleable__content\"><pre>StandardScaler()</pre></div></div></div><div class=\"sk-item\"><div class=\"sk-estimator sk-toggleable\"><input class=\"sk-toggleable__control sk-hidden--visually\" id=\"sk-estimator-id-40\" type=\"checkbox\" ><label for=\"sk-estimator-id-40\" class=\"sk-toggleable__label sk-toggleable__label-arrow\">RandomForestClassifier</label><div class=\"sk-toggleable__content\"><pre>RandomForestClassifier(class_weight=&#x27;balanced&#x27;, n_estimators=120,\n",
       "                       random_state=0)</pre></div></div></div></div></div></div></div>"
      ],
      "text/plain": [
       "Pipeline(steps=[('preprocessor',\n",
       "                 ColumnTransformer(transformers=[('cat',\n",
       "                                                  Pipeline(steps=[('encoder',\n",
       "                                                                   OneHotEncoder(drop='if_binary'))]),\n",
       "                                                  ['Sex', 'ChestPainType',\n",
       "                                                   'RestingECG',\n",
       "                                                   'ExerciseAngina',\n",
       "                                                   'ST_Slope']),\n",
       "                                                 ('num',\n",
       "                                                  Pipeline(steps=[('imputer',\n",
       "                                                                   SimpleImputer(strategy='median'))]),\n",
       "                                                  ['Age', 'RestingBP',\n",
       "                                                   'Cholesterol', 'FastingBS',\n",
       "                                                   'MaxHR', 'Oldpeak'])])),\n",
       "                ('scaler', StandardScaler()),\n",
       "                ('classify',\n",
       "                 RandomForestClassifier(class_weight='balanced',\n",
       "                                        n_estimators=120, random_state=0))])"
      ]
     },
     "execution_count": 39,
     "metadata": {},
     "output_type": "execute_result"
    }
   ],
   "source": [
    "grid_search.best_estimator_"
   ]
  },
  {
   "cell_type": "code",
   "execution_count": 40,
   "id": "fe633f3a",
   "metadata": {},
   "outputs": [],
   "source": [
    "pd.set_option('display.max_columns', None)\n",
    "pd.set_option('display.max_colwidth', None)"
   ]
  },
  {
   "cell_type": "code",
   "execution_count": 41,
   "id": "037d28e8",
   "metadata": {},
   "outputs": [
    {
     "data": {
      "text/html": [
       "<div>\n",
       "<style scoped>\n",
       "    .dataframe tbody tr th:only-of-type {\n",
       "        vertical-align: middle;\n",
       "    }\n",
       "\n",
       "    .dataframe tbody tr th {\n",
       "        vertical-align: top;\n",
       "    }\n",
       "\n",
       "    .dataframe thead th {\n",
       "        text-align: right;\n",
       "    }\n",
       "</style>\n",
       "<table border=\"1\" class=\"dataframe\">\n",
       "  <thead>\n",
       "    <tr style=\"text-align: right;\">\n",
       "      <th></th>\n",
       "      <th>params</th>\n",
       "      <th>mean_test_score</th>\n",
       "      <th>rank_test_score</th>\n",
       "    </tr>\n",
       "  </thead>\n",
       "  <tbody>\n",
       "    <tr>\n",
       "      <th>30</th>\n",
       "      <td>{'classify': RandomForestClassifier(class_weight='balanced', n_estimators=120,\n",
       "                       random_state=0), 'classify__n_estimators': 120}</td>\n",
       "      <td>0.937501</td>\n",
       "      <td>1</td>\n",
       "    </tr>\n",
       "    <tr>\n",
       "      <th>32</th>\n",
       "      <td>{'classify': RandomForestClassifier(class_weight='balanced', n_estimators=120,\n",
       "                       random_state=0), 'classify__n_estimators': 160}</td>\n",
       "      <td>0.937353</td>\n",
       "      <td>2</td>\n",
       "    </tr>\n",
       "    <tr>\n",
       "      <th>23</th>\n",
       "      <td>{'classify': RandomForestClassifier(class_weight='balanced', random_state=0), 'classify__max_depth': 10}</td>\n",
       "      <td>0.936687</td>\n",
       "      <td>3</td>\n",
       "    </tr>\n",
       "    <tr>\n",
       "      <th>36</th>\n",
       "      <td>{'classify': RandomForestClassifier(class_weight='balanced', random_state=0), 'classify__min_samples_split': 5}</td>\n",
       "      <td>0.936536</td>\n",
       "      <td>4</td>\n",
       "    </tr>\n",
       "    <tr>\n",
       "      <th>31</th>\n",
       "      <td>{'classify': RandomForestClassifier(class_weight='balanced', n_estimators=120,\n",
       "                       random_state=0), 'classify__n_estimators': 140}</td>\n",
       "      <td>0.936355</td>\n",
       "      <td>5</td>\n",
       "    </tr>\n",
       "    <tr>\n",
       "      <th>28</th>\n",
       "      <td>{'classify': RandomForestClassifier(class_weight='balanced', n_estimators=120,\n",
       "                       random_state=0), 'classify__n_estimators': 80}</td>\n",
       "      <td>0.936007</td>\n",
       "      <td>6</td>\n",
       "    </tr>\n",
       "    <tr>\n",
       "      <th>29</th>\n",
       "      <td>{'classify': RandomForestClassifier(class_weight='balanced', n_estimators=120,\n",
       "                       random_state=0), 'classify__n_estimators': 100}</td>\n",
       "      <td>0.935947</td>\n",
       "      <td>7</td>\n",
       "    </tr>\n",
       "    <tr>\n",
       "      <th>33</th>\n",
       "      <td>{'classify': RandomForestClassifier(class_weight='balanced', random_state=0), 'classify__min_samples_split': 2}</td>\n",
       "      <td>0.935947</td>\n",
       "      <td>7</td>\n",
       "    </tr>\n",
       "    <tr>\n",
       "      <th>21</th>\n",
       "      <td>{'classify': RandomForestClassifier(class_weight='balanced', random_state=0), 'classify__max_depth': 5}</td>\n",
       "      <td>0.935755</td>\n",
       "      <td>9</td>\n",
       "    </tr>\n",
       "    <tr>\n",
       "      <th>41</th>\n",
       "      <td>{'classify': RandomForestClassifier(class_weight='balanced', random_state=0), 'classify__min_samples_leaf': 5}</td>\n",
       "      <td>0.935482</td>\n",
       "      <td>10</td>\n",
       "    </tr>\n",
       "  </tbody>\n",
       "</table>\n",
       "</div>"
      ],
      "text/plain": [
       "                                                                                                                                                   params   \n",
       "30  {'classify': RandomForestClassifier(class_weight='balanced', n_estimators=120,\n",
       "                       random_state=0), 'classify__n_estimators': 120}  \\\n",
       "32  {'classify': RandomForestClassifier(class_weight='balanced', n_estimators=120,\n",
       "                       random_state=0), 'classify__n_estimators': 160}   \n",
       "23                                               {'classify': RandomForestClassifier(class_weight='balanced', random_state=0), 'classify__max_depth': 10}   \n",
       "36                                        {'classify': RandomForestClassifier(class_weight='balanced', random_state=0), 'classify__min_samples_split': 5}   \n",
       "31  {'classify': RandomForestClassifier(class_weight='balanced', n_estimators=120,\n",
       "                       random_state=0), 'classify__n_estimators': 140}   \n",
       "28   {'classify': RandomForestClassifier(class_weight='balanced', n_estimators=120,\n",
       "                       random_state=0), 'classify__n_estimators': 80}   \n",
       "29  {'classify': RandomForestClassifier(class_weight='balanced', n_estimators=120,\n",
       "                       random_state=0), 'classify__n_estimators': 100}   \n",
       "33                                        {'classify': RandomForestClassifier(class_weight='balanced', random_state=0), 'classify__min_samples_split': 2}   \n",
       "21                                                {'classify': RandomForestClassifier(class_weight='balanced', random_state=0), 'classify__max_depth': 5}   \n",
       "41                                         {'classify': RandomForestClassifier(class_weight='balanced', random_state=0), 'classify__min_samples_leaf': 5}   \n",
       "\n",
       "   mean_test_score rank_test_score  \n",
       "30        0.937501               1  \n",
       "32        0.937353               2  \n",
       "23        0.936687               3  \n",
       "36        0.936536               4  \n",
       "31        0.936355               5  \n",
       "28        0.936007               6  \n",
       "29        0.935947               7  \n",
       "33        0.935947               7  \n",
       "21        0.935755               9  \n",
       "41        0.935482              10  "
      ]
     },
     "execution_count": 41,
     "metadata": {},
     "output_type": "execute_result"
    }
   ],
   "source": [
    "df_model = pd.DataFrame.from_dict(grid_search.cv_results_).transpose()\n",
    "df_2 = df_model.iloc [[9, 15, -1]].T\n",
    "df_2 = df_2.sort_values(by=['rank_test_score'])\n",
    "df_2.head(10)"
   ]
  },
  {
   "cell_type": "markdown",
   "id": "3047e7cb",
   "metadata": {},
   "source": [
    "**Теперь мы можем посмотреть первые 10 моделей, это RandomForestClassifier с разными параметрами.**"
   ]
  },
  {
   "cell_type": "markdown",
   "id": "e15ba19b",
   "metadata": {},
   "source": [
    "# Выводы"
   ]
  },
  {
   "cell_type": "markdown",
   "id": "54ff3620",
   "metadata": {},
   "source": [
    "Какую работу мы провели:\n",
    "*   Проанализировали датасет, нашли пропуски в данных\n",
    "*   Создали Pipeline, который сначала обрабатывает пропуски и преобразовывает данные, затем производит маштабирование StandardScaler и переходит к модели\n",
    "*   Через GridSearchCV посчитали roc_auc для следующих моделей: LogisticRegression, DecisionTreeClassifier, RandomForestClassifier, GradientBoostingClassifier, LinearRegression, GaussianNB и попробовали BaggingClassifier асамблировать DecisionTreeClassifier"
   ]
  },
  {
   "cell_type": "markdown",
   "id": "bdcfd0c7",
   "metadata": {},
   "source": [
    "По результатам моделей:\n",
    "* Лучшей моделью из всего списка стала RandomForestClassifier(class_weight='balanced', min_samples_leaf=10, random_state=0), и первые 10 \"мест\" занимают RandomForestClassifier с разными параметрами\n",
    "\n",
    "Да и в целом, они не критично друг от друга отличаются."
   ]
  },
  {
   "cell_type": "markdown",
   "id": "7c4958e2",
   "metadata": {},
   "source": [
    "**Итог.** Мы смогли получить на тестовой части качество 0.907 по метрике ROCAUC, это получилось сделать модели RandomForestClassifier с параметрами class_weight='balanced', n_estimators=120, random_state=0"
   ]
  }
 ],
 "metadata": {
  "kernelspec": {
   "display_name": "Python 3 (ipykernel)",
   "language": "python",
   "name": "python3"
  },
  "language_info": {
   "codemirror_mode": {
    "name": "ipython",
    "version": 3
   },
   "file_extension": ".py",
   "mimetype": "text/x-python",
   "name": "python",
   "nbconvert_exporter": "python",
   "pygments_lexer": "ipython3",
   "version": "3.10.11"
  }
 },
 "nbformat": 4,
 "nbformat_minor": 5
}
