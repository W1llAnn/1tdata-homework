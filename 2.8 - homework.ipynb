{
 "cells": [
  {
   "cell_type": "markdown",
   "id": "e23a1e98",
   "metadata": {},
   "source": [
    "*Требования*:\n",
    "*   оберните весь конвейер преобразований в Pipeline\n",
    "*   подберите оптимальный вариант прогнозной модели с помощью GridSearchCV\n",
    "*   примените обученный на тренировочных данных конвейер к тестовым данным, никак не предобрабатывая их, а лишь загрузив из файла и отделив целевой признак от остальных\n",
    "*   получите на тестовой части качество не ниже 0.87 по метрике ROCAUC\n",
    "Пояснение: если пропуски в новых данных и будут, то только в тех колонках, где они есть в тренировочной части."
   ]
  },
  {
   "cell_type": "markdown",
   "id": "83108eb4",
   "metadata": {},
   "source": [
    "1. Подгрузим данные"
   ]
  },
  {
   "cell_type": "code",
   "execution_count": null,
   "id": "5b205825",
   "metadata": {},
   "outputs": [],
   "source": []
  }
 ],
 "metadata": {
  "kernelspec": {
   "display_name": "Python 3 (ipykernel)",
   "language": "python",
   "name": "python3"
  },
  "language_info": {
   "codemirror_mode": {
    "name": "ipython",
    "version": 3
   },
   "file_extension": ".py",
   "mimetype": "text/x-python",
   "name": "python",
   "nbconvert_exporter": "python",
   "pygments_lexer": "ipython3",
   "version": "3.10.11"
  }
 },
 "nbformat": 4,
 "nbformat_minor": 5
}
