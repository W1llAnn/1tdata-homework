{
 "cells": [
  {
   "cell_type": "markdown",
   "id": "65efa84c",
   "metadata": {},
   "source": [
    "Вы выбрали Dataset из списка, проведите полный цикл работы над вашим проектом, что проходили ранее."
   ]
  },
  {
   "cell_type": "markdown",
   "id": "f6b3393a",
   "metadata": {},
   "source": [
    "Рекомендации:\n",
    "*   Соблюдайте PEP8\n",
    "*   Комментируйте код в местах, где конструкция большая\n",
    "*   Оставляйте промежуточные выводы по вашему исследованию и построению модели (так кураторам будет проще понять ваши заключения)\n",
    "*   Экспериментируйте! Вы не ограничены в моделях и подходах. Можете использовать любые DS инструменты (и те, которые мы не разбирали с вами на курсе)"
   ]
  },
  {
   "cell_type": "markdown",
   "id": "0164f765",
   "metadata": {},
   "source": [
    "# 1. Загрузка и предобработка данных"
   ]
  },
  {
   "cell_type": "code",
   "execution_count": null,
   "id": "0c439dbb",
   "metadata": {},
   "outputs": [],
   "source": []
  },
  {
   "cell_type": "markdown",
   "id": "f2ba7d65",
   "metadata": {},
   "source": [
    "# 2. Описательный анализ данных, просмотр данных и вывод статистики"
   ]
  },
  {
   "cell_type": "code",
   "execution_count": null,
   "id": "28f42abf",
   "metadata": {},
   "outputs": [],
   "source": []
  },
  {
   "cell_type": "markdown",
   "id": "223dd36c",
   "metadata": {},
   "source": [
    "# 3. Постройте необходимые графики для анализа"
   ]
  },
  {
   "cell_type": "code",
   "execution_count": null,
   "id": "af9282a0",
   "metadata": {},
   "outputs": [],
   "source": []
  },
  {
   "cell_type": "markdown",
   "id": "6993dfc2",
   "metadata": {},
   "source": [
    "# 4. Проверьте гипотезы (если потребуется)"
   ]
  },
  {
   "cell_type": "code",
   "execution_count": null,
   "id": "340c4aef",
   "metadata": {},
   "outputs": [],
   "source": []
  },
  {
   "cell_type": "markdown",
   "id": "7b829e10",
   "metadata": {},
   "source": [
    "# 5. Сделайте промежуточный отчет-вывод по исследованию"
   ]
  },
  {
   "cell_type": "code",
   "execution_count": null,
   "id": "c6db6bcd",
   "metadata": {},
   "outputs": [],
   "source": []
  },
  {
   "cell_type": "markdown",
   "id": "6251b1c5",
   "metadata": {},
   "source": [
    "# 6. Определите, какую задачу вы будете решать (классификация, регрессия и т.д.)"
   ]
  },
  {
   "cell_type": "code",
   "execution_count": null,
   "id": "6a7b1eae",
   "metadata": {},
   "outputs": [],
   "source": []
  },
  {
   "cell_type": "markdown",
   "id": "ece46643",
   "metadata": {},
   "source": [
    "# 7. Создайте несколько моделей для прогнозирования вашего целевого признака и выберите наилучшую, опираясь на вашу валидацию"
   ]
  },
  {
   "cell_type": "code",
   "execution_count": null,
   "id": "7586f8da",
   "metadata": {},
   "outputs": [],
   "source": []
  },
  {
   "cell_type": "markdown",
   "id": "88dd4ce5",
   "metadata": {},
   "source": [
    "# 8. Сделайте прогноз для тестовой выборки (должно быть три выборки в этой задаче: тренировочная, валидационная, тестовая)"
   ]
  },
  {
   "cell_type": "code",
   "execution_count": null,
   "id": "5939f9dd",
   "metadata": {},
   "outputs": [],
   "source": []
  },
  {
   "cell_type": "markdown",
   "id": "c1064a28",
   "metadata": {},
   "source": [
    "# 9. Приведите метрику, с помощью которой вы будете оценивать работу вашей модели (обоснуйте ваш выбор метрики)"
   ]
  },
  {
   "cell_type": "code",
   "execution_count": null,
   "id": "e4b5d147",
   "metadata": {},
   "outputs": [],
   "source": []
  },
  {
   "cell_type": "markdown",
   "id": "97c0962f",
   "metadata": {},
   "source": [
    "# 10. Сделайте вывод о работе вашей модели и метриках. Обоснуйте: «Нужно ли использовать для решения этой задачи машинное обучение или можно обойтись dummy-предсказанием?»"
   ]
  },
  {
   "cell_type": "code",
   "execution_count": null,
   "id": "16846c50",
   "metadata": {},
   "outputs": [],
   "source": []
  }
 ],
 "metadata": {
  "kernelspec": {
   "display_name": "Python 3 (ipykernel)",
   "language": "python",
   "name": "python3"
  },
  "language_info": {
   "codemirror_mode": {
    "name": "ipython",
    "version": 3
   },
   "file_extension": ".py",
   "mimetype": "text/x-python",
   "name": "python",
   "nbconvert_exporter": "python",
   "pygments_lexer": "ipython3",
   "version": "3.10.11"
  }
 },
 "nbformat": 4,
 "nbformat_minor": 5
}
