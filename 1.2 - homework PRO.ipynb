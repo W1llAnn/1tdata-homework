{
 "cells": [
  {
   "attachments": {},
   "cell_type": "markdown",
   "metadata": {},
   "source": [
    "Выполните следующие задания на Python без использования сторонних библиотек:"
   ]
  },
  {
   "attachments": {},
   "cell_type": "markdown",
   "metadata": {},
   "source": [
    "1. Написать программу, которая будет выводить на экран числа Фибоначчи до заданного числа."
   ]
  },
  {
   "cell_type": "code",
   "execution_count": 12,
   "metadata": {},
   "outputs": [
    {
     "name": "stdout",
     "output_type": "stream",
     "text": [
      "Номер 1 == Фибоначчи 1\n",
      "Номер 2 == Фибоначчи 1\n",
      "Номер 3 == Фибоначчи 2\n",
      "Номер 4 == Фибоначчи 3\n",
      "Номер 5 == Фибоначчи 5\n",
      "Номер 6 == Фибоначчи 8\n",
      "Номер 7 == Фибоначчи 13\n",
      "Номер 8 == Фибоначчи 21\n",
      "Номер 9 == Фибоначчи 34\n",
      "Номер 10 == Фибоначчи 55\n"
     ]
    }
   ],
   "source": [
    "input_num = int(input('Введите целое число:'))\n",
    "\n",
    "a, b = 1, 1\n",
    "\n",
    "for i in range(1, input_num + 1):\n",
    "    print(f'Номер {i} == Фибоначчи {a}')\n",
    "    a, b = b, a + b"
   ]
  },
  {
   "attachments": {},
   "cell_type": "markdown",
   "metadata": {},
   "source": [
    "2. Напишите программу, которая на вход принимает список чисел и возвращает только уникальные значения из этого списка."
   ]
  },
  {
   "cell_type": "code",
   "execution_count": 27,
   "metadata": {},
   "outputs": [
    {
     "name": "stdout",
     "output_type": "stream",
     "text": [
      "Изначальный список: 1,2,3,4,9,9,10,22,1,1\n",
      "Вариант 1, но меняется порядок в списке: ['3', '2', '22', '10', '1', '4', '9']\n",
      "Вариант 2: ['1', '2', '3', '4', '9', '10', '22']\n"
     ]
    }
   ],
   "source": [
    "#input_list = input('Введите список чисел через , без пробелов: ')\n",
    "input_list = '1,2,3,4,9,9,10,22,1,1'\n",
    "print(f'Изначальный список: {input_list}')\n",
    "\n",
    "list_num = input_list.split(',')\n",
    "\n",
    "# Вариант 1, но меняется порядок в списке\n",
    "unique_numbers1 = list(set(list_num))\n",
    "print(f'Вариант 1, но меняется порядок в списке: {unique_numbers1}')\n",
    "\n",
    "# Вариант 2 с использованием цикла\n",
    "unique_numbers2 = []\n",
    "for numbers in list_num:\n",
    "    if numbers in unique_numbers2:\n",
    "        continue\n",
    "    else:\n",
    "        unique_numbers2.append(numbers)\n",
    "print(f'Вариант 2: {unique_numbers2}')\n"
   ]
  },
  {
   "attachments": {},
   "cell_type": "markdown",
   "metadata": {},
   "source": [
    "3. Напишите программу, которая переводит температуру в градусах Фаренгейта в градусы Цельсия."
   ]
  },
  {
   "cell_type": "code",
   "execution_count": 5,
   "metadata": {},
   "outputs": [
    {
     "name": "stdout",
     "output_type": "stream",
     "text": [
      "Температура по Фаренгейту 100.0 равна температуре по цельсию 37.778\n"
     ]
    }
   ],
   "source": [
    "fahren_temp = float(input('Напишите температуру в градусах Фаренгейта: '))\n",
    "\n",
    "temp_celsius = (fahren_temp-32) * 5 / 9\n",
    "print(f'Температура по Фаренгейту {fahren_temp} равна температуре по цельсию {round(temp_celsius , 3)}')"
   ]
  },
  {
   "attachments": {},
   "cell_type": "markdown",
   "metadata": {},
   "source": [
    "4. Напишите программу, которая проверяет, является ли строка палиндромом без использования стандартных методов."
   ]
  },
  {
   "cell_type": "code",
   "execution_count": 6,
   "metadata": {},
   "outputs": [
    {
     "name": "stdout",
     "output_type": "stream",
     "text": [
      "Строка \"радар\" является палиндромом\n",
      "Строка \"вода\" не является палиндромом\n",
      "Строка \"голод долог\" является палиндромом\n"
     ]
    }
   ],
   "source": [
    "check_polydrome1 = 'радар'\n",
    "check_polydrome2 = 'вода'\n",
    "check_polydrome3 = 'голод долог'\n",
    "\n",
    "def check_poly(polydrome):\n",
    "    polydrome_rev = polydrome[::-1]\n",
    "\n",
    "    if polydrome_rev == polydrome:\n",
    "        print(f'Строка \"{polydrome}\" является палиндромом')\n",
    "    else:\n",
    "        print(f'Строка \"{polydrome}\" не является палиндромом')\n",
    "\n",
    "check_poly(check_polydrome1)\n",
    "check_poly(check_polydrome2)\n",
    "check_poly(check_polydrome3)"
   ]
  }
 ],
 "metadata": {
  "kernelspec": {
   "display_name": "Python 3",
   "language": "python",
   "name": "python3"
  },
  "language_info": {
   "codemirror_mode": {
    "name": "ipython",
    "version": 3
   },
   "file_extension": ".py",
   "mimetype": "text/x-python",
   "name": "python",
   "nbconvert_exporter": "python",
   "pygments_lexer": "ipython3",
   "version": "3.10.11"
  },
  "orig_nbformat": 4
 },
 "nbformat": 4,
 "nbformat_minor": 2
}
