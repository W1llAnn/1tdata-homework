{
 "cells": [
  {
   "cell_type": "markdown",
   "id": "e23a1e98",
   "metadata": {},
   "source": [
    "*Основные цели этого задания:*\n",
    "*   Научиться генерировать негативы.\n",
    "*   Научиться настраивать алгоритмы коллаборативной фильтрации."
   ]
  },
  {
   "cell_type": "markdown",
   "id": "6661b1f5",
   "metadata": {},
   "source": [
    "Задача: Научиться рекомендовать пользователям фильмы на основе факта просмотра фильмов пользователями. "
   ]
  },
  {
   "cell_type": "code",
   "execution_count": 2,
   "id": "5901fc18",
   "metadata": {},
   "outputs": [],
   "source": [
    "import pandas as pd\n",
    "import numpy as np\n",
    "import scipy.sparse as sp\n",
    "\n",
    "from sklearn.feature_extraction.text import TfidfVectorizer\n",
    "from sklearn.metrics.pairwise import cosine_distances\n",
    "from sklearn.model_selection import train_test_split\n",
    "from sklearn.metrics import mean_squared_error\n",
    "from scipy.sparse.linalg import svds\n",
    "from sklearn.dummy import DummyClassifier\n",
    "from sklearn.metrics import roc_auc_score\n",
    "\n",
    "pd.options.display.max_colwidth = 2000\n",
    "pd.options.display.float_format = '{:.2f}'.format"
   ]
  },
  {
   "cell_type": "markdown",
   "id": "7409ebf0",
   "metadata": {},
   "source": [
    "*1. Для решения задачи будем использовать те же данные, которые были использованы в скринкастах:*\n",
    "*   MovieLens — источник данных.\n",
    "*   Предобработанные для обучения данные: история проставления оценок фильмам — ratings_df_sample_2.csv."
   ]
  },
  {
   "cell_type": "code",
   "execution_count": 3,
   "id": "4f11e0e6",
   "metadata": {},
   "outputs": [],
   "source": [
    "ratings = pd.read_csv('2.7ratings_df_sample_2.csv')\n",
    "movies = pd.read_csv('2.7movies.csv')"
   ]
  },
  {
   "cell_type": "code",
   "execution_count": 4,
   "id": "42fba45a",
   "metadata": {},
   "outputs": [],
   "source": [
    "ratings=(\n",
    "    ratings\n",
    "    .merge(movies, on='movieId')\n",
    ")"
   ]
  },
  {
   "cell_type": "code",
   "execution_count": 5,
   "id": "6709a288",
   "metadata": {},
   "outputs": [
    {
     "data": {
      "text/plain": [
       "(6040099, 6)"
      ]
     },
     "execution_count": 5,
     "metadata": {},
     "output_type": "execute_result"
    }
   ],
   "source": [
    "ratings.shape"
   ]
  },
  {
   "cell_type": "code",
   "execution_count": 6,
   "id": "360349f2",
   "metadata": {},
   "outputs": [
    {
     "data": {
      "text/html": [
       "<div>\n",
       "<style scoped>\n",
       "    .dataframe tbody tr th:only-of-type {\n",
       "        vertical-align: middle;\n",
       "    }\n",
       "\n",
       "    .dataframe tbody tr th {\n",
       "        vertical-align: top;\n",
       "    }\n",
       "\n",
       "    .dataframe thead th {\n",
       "        text-align: right;\n",
       "    }\n",
       "</style>\n",
       "<table border=\"1\" class=\"dataframe\">\n",
       "  <thead>\n",
       "    <tr style=\"text-align: right;\">\n",
       "      <th></th>\n",
       "      <th>userId</th>\n",
       "      <th>movieId</th>\n",
       "      <th>rating</th>\n",
       "      <th>timestamp</th>\n",
       "      <th>title</th>\n",
       "      <th>genres</th>\n",
       "    </tr>\n",
       "  </thead>\n",
       "  <tbody>\n",
       "    <tr>\n",
       "      <th>0</th>\n",
       "      <td>54</td>\n",
       "      <td>2</td>\n",
       "      <td>3.00</td>\n",
       "      <td>974918176</td>\n",
       "      <td>Jumanji (1995)</td>\n",
       "      <td>Adventure|Children|Fantasy</td>\n",
       "    </tr>\n",
       "    <tr>\n",
       "      <th>1</th>\n",
       "      <td>91</td>\n",
       "      <td>2</td>\n",
       "      <td>3.50</td>\n",
       "      <td>1112061358</td>\n",
       "      <td>Jumanji (1995)</td>\n",
       "      <td>Adventure|Children|Fantasy</td>\n",
       "    </tr>\n",
       "    <tr>\n",
       "      <th>2</th>\n",
       "      <td>116</td>\n",
       "      <td>2</td>\n",
       "      <td>2.00</td>\n",
       "      <td>1132728068</td>\n",
       "      <td>Jumanji (1995)</td>\n",
       "      <td>Adventure|Children|Fantasy</td>\n",
       "    </tr>\n",
       "    <tr>\n",
       "      <th>3</th>\n",
       "      <td>124</td>\n",
       "      <td>2</td>\n",
       "      <td>2.00</td>\n",
       "      <td>1134476330</td>\n",
       "      <td>Jumanji (1995)</td>\n",
       "      <td>Adventure|Children|Fantasy</td>\n",
       "    </tr>\n",
       "    <tr>\n",
       "      <th>4</th>\n",
       "      <td>129</td>\n",
       "      <td>2</td>\n",
       "      <td>3.00</td>\n",
       "      <td>1283448701</td>\n",
       "      <td>Jumanji (1995)</td>\n",
       "      <td>Adventure|Children|Fantasy</td>\n",
       "    </tr>\n",
       "  </tbody>\n",
       "</table>\n",
       "</div>"
      ],
      "text/plain": [
       "   userId  movieId  rating   timestamp           title  \\\n",
       "0      54        2    3.00   974918176  Jumanji (1995)   \n",
       "1      91        2    3.50  1112061358  Jumanji (1995)   \n",
       "2     116        2    2.00  1132728068  Jumanji (1995)   \n",
       "3     124        2    2.00  1134476330  Jumanji (1995)   \n",
       "4     129        2    3.00  1283448701  Jumanji (1995)   \n",
       "\n",
       "                       genres  \n",
       "0  Adventure|Children|Fantasy  \n",
       "1  Adventure|Children|Fantasy  \n",
       "2  Adventure|Children|Fantasy  \n",
       "3  Adventure|Children|Fantasy  \n",
       "4  Adventure|Children|Fantasy  "
      ]
     },
     "execution_count": 6,
     "metadata": {},
     "output_type": "execute_result"
    }
   ],
   "source": [
    "ratings[:5]"
   ]
  },
  {
   "cell_type": "code",
   "execution_count": 7,
   "id": "2b50a1a5",
   "metadata": {},
   "outputs": [
    {
     "data": {
      "text/plain": [
       "(20000, 1000)"
      ]
     },
     "execution_count": 7,
     "metadata": {},
     "output_type": "execute_result"
    }
   ],
   "source": [
    "n_users = ratings['userId'].nunique()\n",
    "n_movies = ratings['movieId'].nunique()\n",
    "(n_users, n_movies)"
   ]
  },
  {
   "cell_type": "code",
   "execution_count": 8,
   "id": "508b488a",
   "metadata": {},
   "outputs": [
    {
     "name": "stdout",
     "output_type": "stream",
     "text": [
      "CPU times: total: 42.2 s\n",
      "Wall time: 42.4 s\n"
     ]
    }
   ],
   "source": [
    "%%time\n",
    "movies_values = ratings['movieId'].unique()\n",
    "\n",
    "ratings['movieId'] = ratings['movieId'].apply(lambda f: np.where(movies_values == f)[0][0])"
   ]
  },
  {
   "cell_type": "code",
   "execution_count": 8,
   "id": "6c4d350e",
   "metadata": {},
   "outputs": [
    {
     "name": "stdout",
     "output_type": "stream",
     "text": [
      "CPU times: total: 2min 50s\n",
      "Wall time: 2min 55s\n"
     ]
    }
   ],
   "source": [
    "%%time\n",
    "users_values = ratings['userId'].unique()\n",
    "\n",
    "ratings['userId'] = ratings['userId'].apply(lambda f: np.where(users_values == f)[0][0])"
   ]
  },
  {
   "cell_type": "code",
   "execution_count": 9,
   "id": "0c439dbb",
   "metadata": {},
   "outputs": [
    {
     "data": {
      "text/html": [
       "<div>\n",
       "<style scoped>\n",
       "    .dataframe tbody tr th:only-of-type {\n",
       "        vertical-align: middle;\n",
       "    }\n",
       "\n",
       "    .dataframe tbody tr th {\n",
       "        vertical-align: top;\n",
       "    }\n",
       "\n",
       "    .dataframe thead th {\n",
       "        text-align: right;\n",
       "    }\n",
       "</style>\n",
       "<table border=\"1\" class=\"dataframe\">\n",
       "  <thead>\n",
       "    <tr style=\"text-align: right;\">\n",
       "      <th></th>\n",
       "      <th>userId</th>\n",
       "      <th>movieId</th>\n",
       "      <th>rating</th>\n",
       "      <th>timestamp</th>\n",
       "      <th>title</th>\n",
       "      <th>genres</th>\n",
       "    </tr>\n",
       "  </thead>\n",
       "  <tbody>\n",
       "    <tr>\n",
       "      <th>0</th>\n",
       "      <td>0</td>\n",
       "      <td>0</td>\n",
       "      <td>3.00</td>\n",
       "      <td>974918176</td>\n",
       "      <td>Jumanji (1995)</td>\n",
       "      <td>Adventure|Children|Fantasy</td>\n",
       "    </tr>\n",
       "    <tr>\n",
       "      <th>1</th>\n",
       "      <td>1</td>\n",
       "      <td>0</td>\n",
       "      <td>3.50</td>\n",
       "      <td>1112061358</td>\n",
       "      <td>Jumanji (1995)</td>\n",
       "      <td>Adventure|Children|Fantasy</td>\n",
       "    </tr>\n",
       "    <tr>\n",
       "      <th>2</th>\n",
       "      <td>2</td>\n",
       "      <td>0</td>\n",
       "      <td>2.00</td>\n",
       "      <td>1132728068</td>\n",
       "      <td>Jumanji (1995)</td>\n",
       "      <td>Adventure|Children|Fantasy</td>\n",
       "    </tr>\n",
       "    <tr>\n",
       "      <th>3</th>\n",
       "      <td>3</td>\n",
       "      <td>0</td>\n",
       "      <td>2.00</td>\n",
       "      <td>1134476330</td>\n",
       "      <td>Jumanji (1995)</td>\n",
       "      <td>Adventure|Children|Fantasy</td>\n",
       "    </tr>\n",
       "    <tr>\n",
       "      <th>4</th>\n",
       "      <td>4</td>\n",
       "      <td>0</td>\n",
       "      <td>3.00</td>\n",
       "      <td>1283448701</td>\n",
       "      <td>Jumanji (1995)</td>\n",
       "      <td>Adventure|Children|Fantasy</td>\n",
       "    </tr>\n",
       "  </tbody>\n",
       "</table>\n",
       "</div>"
      ],
      "text/plain": [
       "   userId  movieId  rating   timestamp           title   \n",
       "0       0        0    3.00   974918176  Jumanji (1995)  \\\n",
       "1       1        0    3.50  1112061358  Jumanji (1995)   \n",
       "2       2        0    2.00  1132728068  Jumanji (1995)   \n",
       "3       3        0    2.00  1134476330  Jumanji (1995)   \n",
       "4       4        0    3.00  1283448701  Jumanji (1995)   \n",
       "\n",
       "                       genres  \n",
       "0  Adventure|Children|Fantasy  \n",
       "1  Adventure|Children|Fantasy  \n",
       "2  Adventure|Children|Fantasy  \n",
       "3  Adventure|Children|Fantasy  \n",
       "4  Adventure|Children|Fantasy  "
      ]
     },
     "execution_count": 9,
     "metadata": {},
     "output_type": "execute_result"
    }
   ],
   "source": [
    "ratings[:5]"
   ]
  },
  {
   "cell_type": "markdown",
   "id": "c36654a3",
   "metadata": {},
   "source": [
    "**Вывод по блоку 1: Мы повторили все действия из лекции.**"
   ]
  },
  {
   "cell_type": "markdown",
   "id": "94b31d09",
   "metadata": {},
   "source": [
    "*2. Предположим, постановка рейтинга — обязательное по итогам просмотра фильмов действие. Основываясь на этом, сгенерируйте новый целевой признак «факт просмотра фильма пользователем», который будет равен 1 для всех пар пользователь * фильм из подгруженного датасета.*"
   ]
  },
  {
   "cell_type": "code",
   "execution_count": 10,
   "id": "af9282a0",
   "metadata": {},
   "outputs": [
    {
     "name": "stdout",
     "output_type": "stream",
     "text": [
      "CPU times: total: 3.36 s\n",
      "Wall time: 3.45 s\n"
     ]
    }
   ],
   "source": [
    "%%time\n",
    "ratings['viewed'] = ratings['rating'].apply(lambda x: 0 if x==0 else 1)"
   ]
  },
  {
   "cell_type": "code",
   "execution_count": 11,
   "id": "340c4aef",
   "metadata": {},
   "outputs": [
    {
     "data": {
      "text/html": [
       "<div>\n",
       "<style scoped>\n",
       "    .dataframe tbody tr th:only-of-type {\n",
       "        vertical-align: middle;\n",
       "    }\n",
       "\n",
       "    .dataframe tbody tr th {\n",
       "        vertical-align: top;\n",
       "    }\n",
       "\n",
       "    .dataframe thead th {\n",
       "        text-align: right;\n",
       "    }\n",
       "</style>\n",
       "<table border=\"1\" class=\"dataframe\">\n",
       "  <thead>\n",
       "    <tr style=\"text-align: right;\">\n",
       "      <th></th>\n",
       "      <th>userId</th>\n",
       "      <th>movieId</th>\n",
       "      <th>rating</th>\n",
       "      <th>timestamp</th>\n",
       "      <th>title</th>\n",
       "      <th>genres</th>\n",
       "      <th>viewed</th>\n",
       "    </tr>\n",
       "  </thead>\n",
       "  <tbody>\n",
       "    <tr>\n",
       "      <th>0</th>\n",
       "      <td>0</td>\n",
       "      <td>0</td>\n",
       "      <td>3.00</td>\n",
       "      <td>974918176</td>\n",
       "      <td>Jumanji (1995)</td>\n",
       "      <td>Adventure|Children|Fantasy</td>\n",
       "      <td>1</td>\n",
       "    </tr>\n",
       "    <tr>\n",
       "      <th>1</th>\n",
       "      <td>1</td>\n",
       "      <td>0</td>\n",
       "      <td>3.50</td>\n",
       "      <td>1112061358</td>\n",
       "      <td>Jumanji (1995)</td>\n",
       "      <td>Adventure|Children|Fantasy</td>\n",
       "      <td>1</td>\n",
       "    </tr>\n",
       "    <tr>\n",
       "      <th>2</th>\n",
       "      <td>2</td>\n",
       "      <td>0</td>\n",
       "      <td>2.00</td>\n",
       "      <td>1132728068</td>\n",
       "      <td>Jumanji (1995)</td>\n",
       "      <td>Adventure|Children|Fantasy</td>\n",
       "      <td>1</td>\n",
       "    </tr>\n",
       "    <tr>\n",
       "      <th>3</th>\n",
       "      <td>3</td>\n",
       "      <td>0</td>\n",
       "      <td>2.00</td>\n",
       "      <td>1134476330</td>\n",
       "      <td>Jumanji (1995)</td>\n",
       "      <td>Adventure|Children|Fantasy</td>\n",
       "      <td>1</td>\n",
       "    </tr>\n",
       "    <tr>\n",
       "      <th>4</th>\n",
       "      <td>4</td>\n",
       "      <td>0</td>\n",
       "      <td>3.00</td>\n",
       "      <td>1283448701</td>\n",
       "      <td>Jumanji (1995)</td>\n",
       "      <td>Adventure|Children|Fantasy</td>\n",
       "      <td>1</td>\n",
       "    </tr>\n",
       "  </tbody>\n",
       "</table>\n",
       "</div>"
      ],
      "text/plain": [
       "   userId  movieId  rating   timestamp           title   \n",
       "0       0        0    3.00   974918176  Jumanji (1995)  \\\n",
       "1       1        0    3.50  1112061358  Jumanji (1995)   \n",
       "2       2        0    2.00  1132728068  Jumanji (1995)   \n",
       "3       3        0    2.00  1134476330  Jumanji (1995)   \n",
       "4       4        0    3.00  1283448701  Jumanji (1995)   \n",
       "\n",
       "                       genres  viewed  \n",
       "0  Adventure|Children|Fantasy       1  \n",
       "1  Adventure|Children|Fantasy       1  \n",
       "2  Adventure|Children|Fantasy       1  \n",
       "3  Adventure|Children|Fantasy       1  \n",
       "4  Adventure|Children|Fantasy       1  "
      ]
     },
     "execution_count": 11,
     "metadata": {},
     "output_type": "execute_result"
    }
   ],
   "source": [
    "ratings[:5]"
   ]
  },
  {
   "cell_type": "code",
   "execution_count": 12,
   "id": "f7405d99",
   "metadata": {},
   "outputs": [
    {
     "data": {
      "text/html": [
       "<div>\n",
       "<style scoped>\n",
       "    .dataframe tbody tr th:only-of-type {\n",
       "        vertical-align: middle;\n",
       "    }\n",
       "\n",
       "    .dataframe tbody tr th {\n",
       "        vertical-align: top;\n",
       "    }\n",
       "\n",
       "    .dataframe thead th {\n",
       "        text-align: right;\n",
       "    }\n",
       "</style>\n",
       "<table border=\"1\" class=\"dataframe\">\n",
       "  <thead>\n",
       "    <tr style=\"text-align: right;\">\n",
       "      <th></th>\n",
       "      <th>userId</th>\n",
       "      <th>movieId</th>\n",
       "      <th>rating</th>\n",
       "      <th>timestamp</th>\n",
       "      <th>viewed</th>\n",
       "    </tr>\n",
       "  </thead>\n",
       "  <tbody>\n",
       "    <tr>\n",
       "      <th>count</th>\n",
       "      <td>6040099.00</td>\n",
       "      <td>6040099.00</td>\n",
       "      <td>6040099.00</td>\n",
       "      <td>6040099.00</td>\n",
       "      <td>6040099.00</td>\n",
       "    </tr>\n",
       "    <tr>\n",
       "      <th>mean</th>\n",
       "      <td>9115.02</td>\n",
       "      <td>422.90</td>\n",
       "      <td>3.55</td>\n",
       "      <td>1115774334.98</td>\n",
       "      <td>1.00</td>\n",
       "    </tr>\n",
       "    <tr>\n",
       "      <th>std</th>\n",
       "      <td>5563.83</td>\n",
       "      <td>283.85</td>\n",
       "      <td>1.00</td>\n",
       "      <td>135843321.30</td>\n",
       "      <td>0.00</td>\n",
       "    </tr>\n",
       "    <tr>\n",
       "      <th>min</th>\n",
       "      <td>0.00</td>\n",
       "      <td>0.00</td>\n",
       "      <td>0.50</td>\n",
       "      <td>824835410.00</td>\n",
       "      <td>1.00</td>\n",
       "    </tr>\n",
       "    <tr>\n",
       "      <th>25%</th>\n",
       "      <td>4365.00</td>\n",
       "      <td>165.00</td>\n",
       "      <td>3.00</td>\n",
       "      <td>995660158.00</td>\n",
       "      <td>1.00</td>\n",
       "    </tr>\n",
       "    <tr>\n",
       "      <th>50%</th>\n",
       "      <td>8679.00</td>\n",
       "      <td>415.00</td>\n",
       "      <td>4.00</td>\n",
       "      <td>1111706240.00</td>\n",
       "      <td>1.00</td>\n",
       "    </tr>\n",
       "    <tr>\n",
       "      <th>75%</th>\n",
       "      <td>13758.00</td>\n",
       "      <td>646.00</td>\n",
       "      <td>4.00</td>\n",
       "      <td>1213151458.50</td>\n",
       "      <td>1.00</td>\n",
       "    </tr>\n",
       "    <tr>\n",
       "      <th>max</th>\n",
       "      <td>19999.00</td>\n",
       "      <td>999.00</td>\n",
       "      <td>5.00</td>\n",
       "      <td>1427780469.00</td>\n",
       "      <td>1.00</td>\n",
       "    </tr>\n",
       "  </tbody>\n",
       "</table>\n",
       "</div>"
      ],
      "text/plain": [
       "          userId    movieId     rating     timestamp     viewed\n",
       "count 6040099.00 6040099.00 6040099.00    6040099.00 6040099.00\n",
       "mean     9115.02     422.90       3.55 1115774334.98       1.00\n",
       "std      5563.83     283.85       1.00  135843321.30       0.00\n",
       "min         0.00       0.00       0.50  824835410.00       1.00\n",
       "25%      4365.00     165.00       3.00  995660158.00       1.00\n",
       "50%      8679.00     415.00       4.00 1111706240.00       1.00\n",
       "75%     13758.00     646.00       4.00 1213151458.50       1.00\n",
       "max     19999.00     999.00       5.00 1427780469.00       1.00"
      ]
     },
     "execution_count": 12,
     "metadata": {},
     "output_type": "execute_result"
    }
   ],
   "source": [
    "ratings.describe()"
   ]
  },
  {
   "cell_type": "markdown",
   "id": "183d5efa",
   "metadata": {},
   "source": [
    "**Вывод по блоку 2: Теперь везде, где рейтинг больше 0 будет стоять 1, как и сказано в задании. Но если посмотреть, то везде в датафрейме стоят 1, 0 проставлено не было.**"
   ]
  },
  {
   "cell_type": "markdown",
   "id": "e20e9869",
   "metadata": {},
   "source": [
    "*3. А откуда взять «нолики»? В наших данных есть только пары пользователь * фильм, в которых пользователь точно смотрел фильм. Но для обучения модели нужны так называемые «негативы», то есть, пары, где пользователь фильм не смотрел. На практике приходится сталкиваться с необходимостью генерировать их вручную, давайте потренируемся это делать.*\n",
    "*   Сначала найдите уникальные id всех пользователей и уникальные id всех фильмов.\n",
    "*   С помощью функции random.choice (документация) сгенерируйте случайные пары пользователь * фильм\n",
    "*   Поскольку среди сгенерированных пар могут быть и такие, что пользователь в них уже смотрел фильм, сгенерируйте побольше пар, например, удвоенное количество строк из источника. Это может занять пару минут.\n",
    "*   Среди сгенерированных пар могут быть и дубликаты, удалите их.\n",
    "*   Оставьте среди сгенерированных пар только те, в которых пользователь фильм не смотрел.\n",
    "*   Возможно, пар получилось больше, чем нужно, выберите из них столько, сколько у нас строк в исходных данных.\n",
    "*   Добавьте очищенные сгенерированные пары к исходным данным. Значение целевого признака в них будет равно нулю. Убедитесь, что у вас не появились дубликаты в датасете."
   ]
  },
  {
   "cell_type": "code",
   "execution_count": 13,
   "id": "7586f8da",
   "metadata": {},
   "outputs": [
    {
     "data": {
      "text/plain": [
       "(20000, 1000)"
      ]
     },
     "execution_count": 13,
     "metadata": {},
     "output_type": "execute_result"
    }
   ],
   "source": [
    "n_users = ratings['userId'].nunique()\n",
    "n_movies = ratings['movieId'].nunique()\n",
    "(n_users, n_movies)"
   ]
  },
  {
   "cell_type": "markdown",
   "id": "19dbf6b2",
   "metadata": {},
   "source": [
    "**Всего уникальных пользователей 20000, уникальных фильмов 1000, так как мы их до этого предобработали, мы знаем что все значения id от 0 по порядку до 19999.00 (userId) и от 0 до 999.00 (movieId).**"
   ]
  },
  {
   "cell_type": "code",
   "execution_count": 14,
   "id": "5939f9dd",
   "metadata": {},
   "outputs": [
    {
     "data": {
      "text/html": [
       "<div>\n",
       "<style scoped>\n",
       "    .dataframe tbody tr th:only-of-type {\n",
       "        vertical-align: middle;\n",
       "    }\n",
       "\n",
       "    .dataframe tbody tr th {\n",
       "        vertical-align: top;\n",
       "    }\n",
       "\n",
       "    .dataframe thead th {\n",
       "        text-align: right;\n",
       "    }\n",
       "</style>\n",
       "<table border=\"1\" class=\"dataframe\">\n",
       "  <thead>\n",
       "    <tr style=\"text-align: right;\">\n",
       "      <th></th>\n",
       "      <th>userId</th>\n",
       "      <th>movieId</th>\n",
       "      <th>rating</th>\n",
       "      <th>title</th>\n",
       "      <th>genres</th>\n",
       "    </tr>\n",
       "  </thead>\n",
       "  <tbody>\n",
       "    <tr>\n",
       "      <th>0</th>\n",
       "      <td>14212</td>\n",
       "      <td>13</td>\n",
       "      <td>0</td>\n",
       "      <td>Balto (1995)</td>\n",
       "      <td>Adventure|Animation|Children</td>\n",
       "    </tr>\n",
       "    <tr>\n",
       "      <th>1</th>\n",
       "      <td>10004</td>\n",
       "      <td>13</td>\n",
       "      <td>0</td>\n",
       "      <td>Balto (1995)</td>\n",
       "      <td>Adventure|Animation|Children</td>\n",
       "    </tr>\n",
       "    <tr>\n",
       "      <th>2</th>\n",
       "      <td>2078</td>\n",
       "      <td>13</td>\n",
       "      <td>0</td>\n",
       "      <td>Balto (1995)</td>\n",
       "      <td>Adventure|Animation|Children</td>\n",
       "    </tr>\n",
       "    <tr>\n",
       "      <th>3</th>\n",
       "      <td>9688</td>\n",
       "      <td>13</td>\n",
       "      <td>0</td>\n",
       "      <td>Balto (1995)</td>\n",
       "      <td>Adventure|Animation|Children</td>\n",
       "    </tr>\n",
       "    <tr>\n",
       "      <th>4</th>\n",
       "      <td>11899</td>\n",
       "      <td>13</td>\n",
       "      <td>0</td>\n",
       "      <td>Balto (1995)</td>\n",
       "      <td>Adventure|Animation|Children</td>\n",
       "    </tr>\n",
       "    <tr>\n",
       "      <th>...</th>\n",
       "      <td>...</td>\n",
       "      <td>...</td>\n",
       "      <td>...</td>\n",
       "      <td>...</td>\n",
       "      <td>...</td>\n",
       "    </tr>\n",
       "    <tr>\n",
       "      <th>11872762</th>\n",
       "      <td>1885</td>\n",
       "      <td>902</td>\n",
       "      <td>0</td>\n",
       "      <td>Breakfast at Tiffany's (1961)</td>\n",
       "      <td>Drama|Romance</td>\n",
       "    </tr>\n",
       "    <tr>\n",
       "      <th>11872763</th>\n",
       "      <td>7875</td>\n",
       "      <td>902</td>\n",
       "      <td>0</td>\n",
       "      <td>Breakfast at Tiffany's (1961)</td>\n",
       "      <td>Drama|Romance</td>\n",
       "    </tr>\n",
       "    <tr>\n",
       "      <th>11872764</th>\n",
       "      <td>6263</td>\n",
       "      <td>902</td>\n",
       "      <td>0</td>\n",
       "      <td>Breakfast at Tiffany's (1961)</td>\n",
       "      <td>Drama|Romance</td>\n",
       "    </tr>\n",
       "    <tr>\n",
       "      <th>11872765</th>\n",
       "      <td>139</td>\n",
       "      <td>902</td>\n",
       "      <td>0</td>\n",
       "      <td>Breakfast at Tiffany's (1961)</td>\n",
       "      <td>Drama|Romance</td>\n",
       "    </tr>\n",
       "    <tr>\n",
       "      <th>11872766</th>\n",
       "      <td>5765</td>\n",
       "      <td>902</td>\n",
       "      <td>0</td>\n",
       "      <td>Breakfast at Tiffany's (1961)</td>\n",
       "      <td>Drama|Romance</td>\n",
       "    </tr>\n",
       "  </tbody>\n",
       "</table>\n",
       "<p>11872767 rows × 5 columns</p>\n",
       "</div>"
      ],
      "text/plain": [
       "          userId  movieId  rating                          title   \n",
       "0          14212       13       0                   Balto (1995)  \\\n",
       "1          10004       13       0                   Balto (1995)   \n",
       "2           2078       13       0                   Balto (1995)   \n",
       "3           9688       13       0                   Balto (1995)   \n",
       "4          11899       13       0                   Balto (1995)   \n",
       "...          ...      ...     ...                            ...   \n",
       "11872762    1885      902       0  Breakfast at Tiffany's (1961)   \n",
       "11872763    7875      902       0  Breakfast at Tiffany's (1961)   \n",
       "11872764    6263      902       0  Breakfast at Tiffany's (1961)   \n",
       "11872765     139      902       0  Breakfast at Tiffany's (1961)   \n",
       "11872766    5765      902       0  Breakfast at Tiffany's (1961)   \n",
       "\n",
       "                                genres  \n",
       "0         Adventure|Animation|Children  \n",
       "1         Adventure|Animation|Children  \n",
       "2         Adventure|Animation|Children  \n",
       "3         Adventure|Animation|Children  \n",
       "4         Adventure|Animation|Children  \n",
       "...                                ...  \n",
       "11872762                 Drama|Romance  \n",
       "11872763                 Drama|Romance  \n",
       "11872764                 Drama|Romance  \n",
       "11872765                 Drama|Romance  \n",
       "11872766                 Drama|Romance  \n",
       "\n",
       "[11872767 rows x 5 columns]"
      ]
     },
     "execution_count": 14,
     "metadata": {},
     "output_type": "execute_result"
    }
   ],
   "source": [
    "r_len = len(ratings) * 2\n",
    "ratings_random_user = np.random.choice(ratings['userId'], r_len)\n",
    "ratings_random_movie = np.random.choice(ratings['movieId'], r_len)\n",
    "ratings_random_rating = 0\n",
    "\n",
    "ratings_random = pd.DataFrame({'userId': ratings_random_user, 'movieId': ratings_random_movie, 'rating': ratings_random_rating})\n",
    "ratings_random=(ratings_random.merge(movies, on='movieId'))\n",
    "\n",
    "ratings_random"
   ]
  },
  {
   "cell_type": "code",
   "execution_count": 15,
   "id": "1e9cffc5",
   "metadata": {},
   "outputs": [
    {
     "data": {
      "text/html": [
       "<div>\n",
       "<style scoped>\n",
       "    .dataframe tbody tr th:only-of-type {\n",
       "        vertical-align: middle;\n",
       "    }\n",
       "\n",
       "    .dataframe tbody tr th {\n",
       "        vertical-align: top;\n",
       "    }\n",
       "\n",
       "    .dataframe thead th {\n",
       "        text-align: right;\n",
       "    }\n",
       "</style>\n",
       "<table border=\"1\" class=\"dataframe\">\n",
       "  <thead>\n",
       "    <tr style=\"text-align: right;\">\n",
       "      <th></th>\n",
       "      <th>userId</th>\n",
       "      <th>movieId</th>\n",
       "      <th>rating</th>\n",
       "      <th>title</th>\n",
       "      <th>genres</th>\n",
       "    </tr>\n",
       "  </thead>\n",
       "  <tbody>\n",
       "    <tr>\n",
       "      <th>0</th>\n",
       "      <td>0</td>\n",
       "      <td>0</td>\n",
       "      <td>3.00</td>\n",
       "      <td>Jumanji (1995)</td>\n",
       "      <td>Adventure|Children|Fantasy</td>\n",
       "    </tr>\n",
       "    <tr>\n",
       "      <th>1</th>\n",
       "      <td>1</td>\n",
       "      <td>0</td>\n",
       "      <td>3.50</td>\n",
       "      <td>Jumanji (1995)</td>\n",
       "      <td>Adventure|Children|Fantasy</td>\n",
       "    </tr>\n",
       "    <tr>\n",
       "      <th>2</th>\n",
       "      <td>2</td>\n",
       "      <td>0</td>\n",
       "      <td>2.00</td>\n",
       "      <td>Jumanji (1995)</td>\n",
       "      <td>Adventure|Children|Fantasy</td>\n",
       "    </tr>\n",
       "    <tr>\n",
       "      <th>3</th>\n",
       "      <td>3</td>\n",
       "      <td>0</td>\n",
       "      <td>2.00</td>\n",
       "      <td>Jumanji (1995)</td>\n",
       "      <td>Adventure|Children|Fantasy</td>\n",
       "    </tr>\n",
       "    <tr>\n",
       "      <th>4</th>\n",
       "      <td>4</td>\n",
       "      <td>0</td>\n",
       "      <td>3.00</td>\n",
       "      <td>Jumanji (1995)</td>\n",
       "      <td>Adventure|Children|Fantasy</td>\n",
       "    </tr>\n",
       "    <tr>\n",
       "      <th>...</th>\n",
       "      <td>...</td>\n",
       "      <td>...</td>\n",
       "      <td>...</td>\n",
       "      <td>...</td>\n",
       "      <td>...</td>\n",
       "    </tr>\n",
       "    <tr>\n",
       "      <th>6040094</th>\n",
       "      <td>19955</td>\n",
       "      <td>999</td>\n",
       "      <td>4.00</td>\n",
       "      <td>Room with a View, A (1986)</td>\n",
       "      <td>Drama|Romance</td>\n",
       "    </tr>\n",
       "    <tr>\n",
       "      <th>6040095</th>\n",
       "      <td>19950</td>\n",
       "      <td>999</td>\n",
       "      <td>4.50</td>\n",
       "      <td>Room with a View, A (1986)</td>\n",
       "      <td>Drama|Romance</td>\n",
       "    </tr>\n",
       "    <tr>\n",
       "      <th>6040096</th>\n",
       "      <td>19959</td>\n",
       "      <td>999</td>\n",
       "      <td>3.00</td>\n",
       "      <td>Room with a View, A (1986)</td>\n",
       "      <td>Drama|Romance</td>\n",
       "    </tr>\n",
       "    <tr>\n",
       "      <th>6040097</th>\n",
       "      <td>19967</td>\n",
       "      <td>999</td>\n",
       "      <td>4.50</td>\n",
       "      <td>Room with a View, A (1986)</td>\n",
       "      <td>Drama|Romance</td>\n",
       "    </tr>\n",
       "    <tr>\n",
       "      <th>6040098</th>\n",
       "      <td>19984</td>\n",
       "      <td>999</td>\n",
       "      <td>1.00</td>\n",
       "      <td>Room with a View, A (1986)</td>\n",
       "      <td>Drama|Romance</td>\n",
       "    </tr>\n",
       "  </tbody>\n",
       "</table>\n",
       "<p>6040099 rows × 5 columns</p>\n",
       "</div>"
      ],
      "text/plain": [
       "         userId  movieId  rating                       title   \n",
       "0             0        0    3.00              Jumanji (1995)  \\\n",
       "1             1        0    3.50              Jumanji (1995)   \n",
       "2             2        0    2.00              Jumanji (1995)   \n",
       "3             3        0    2.00              Jumanji (1995)   \n",
       "4             4        0    3.00              Jumanji (1995)   \n",
       "...         ...      ...     ...                         ...   \n",
       "6040094   19955      999    4.00  Room with a View, A (1986)   \n",
       "6040095   19950      999    4.50  Room with a View, A (1986)   \n",
       "6040096   19959      999    3.00  Room with a View, A (1986)   \n",
       "6040097   19967      999    4.50  Room with a View, A (1986)   \n",
       "6040098   19984      999    1.00  Room with a View, A (1986)   \n",
       "\n",
       "                             genres  \n",
       "0        Adventure|Children|Fantasy  \n",
       "1        Adventure|Children|Fantasy  \n",
       "2        Adventure|Children|Fantasy  \n",
       "3        Adventure|Children|Fantasy  \n",
       "4        Adventure|Children|Fantasy  \n",
       "...                             ...  \n",
       "6040094               Drama|Romance  \n",
       "6040095               Drama|Romance  \n",
       "6040096               Drama|Romance  \n",
       "6040097               Drama|Romance  \n",
       "6040098               Drama|Romance  \n",
       "\n",
       "[6040099 rows x 5 columns]"
      ]
     },
     "execution_count": 15,
     "metadata": {},
     "output_type": "execute_result"
    }
   ],
   "source": [
    "df = ratings.copy().drop(['timestamp', 'viewed'], axis='columns')\n",
    "df"
   ]
  },
  {
   "cell_type": "code",
   "execution_count": 16,
   "id": "e92311c1",
   "metadata": {},
   "outputs": [
    {
     "data": {
      "text/html": [
       "<div>\n",
       "<style scoped>\n",
       "    .dataframe tbody tr th:only-of-type {\n",
       "        vertical-align: middle;\n",
       "    }\n",
       "\n",
       "    .dataframe tbody tr th {\n",
       "        vertical-align: top;\n",
       "    }\n",
       "\n",
       "    .dataframe thead th {\n",
       "        text-align: right;\n",
       "    }\n",
       "</style>\n",
       "<table border=\"1\" class=\"dataframe\">\n",
       "  <thead>\n",
       "    <tr style=\"text-align: right;\">\n",
       "      <th></th>\n",
       "      <th>userId</th>\n",
       "      <th>movieId</th>\n",
       "      <th>rating</th>\n",
       "      <th>title</th>\n",
       "      <th>genres</th>\n",
       "    </tr>\n",
       "  </thead>\n",
       "  <tbody>\n",
       "    <tr>\n",
       "      <th>0</th>\n",
       "      <td>0</td>\n",
       "      <td>0</td>\n",
       "      <td>3.00</td>\n",
       "      <td>Jumanji (1995)</td>\n",
       "      <td>Adventure|Children|Fantasy</td>\n",
       "    </tr>\n",
       "    <tr>\n",
       "      <th>1</th>\n",
       "      <td>1</td>\n",
       "      <td>0</td>\n",
       "      <td>3.50</td>\n",
       "      <td>Jumanji (1995)</td>\n",
       "      <td>Adventure|Children|Fantasy</td>\n",
       "    </tr>\n",
       "    <tr>\n",
       "      <th>2</th>\n",
       "      <td>2</td>\n",
       "      <td>0</td>\n",
       "      <td>2.00</td>\n",
       "      <td>Jumanji (1995)</td>\n",
       "      <td>Adventure|Children|Fantasy</td>\n",
       "    </tr>\n",
       "    <tr>\n",
       "      <th>3</th>\n",
       "      <td>3</td>\n",
       "      <td>0</td>\n",
       "      <td>2.00</td>\n",
       "      <td>Jumanji (1995)</td>\n",
       "      <td>Adventure|Children|Fantasy</td>\n",
       "    </tr>\n",
       "    <tr>\n",
       "      <th>4</th>\n",
       "      <td>4</td>\n",
       "      <td>0</td>\n",
       "      <td>3.00</td>\n",
       "      <td>Jumanji (1995)</td>\n",
       "      <td>Adventure|Children|Fantasy</td>\n",
       "    </tr>\n",
       "    <tr>\n",
       "      <th>...</th>\n",
       "      <td>...</td>\n",
       "      <td>...</td>\n",
       "      <td>...</td>\n",
       "      <td>...</td>\n",
       "      <td>...</td>\n",
       "    </tr>\n",
       "    <tr>\n",
       "      <th>11872762</th>\n",
       "      <td>1885</td>\n",
       "      <td>902</td>\n",
       "      <td>0.00</td>\n",
       "      <td>Breakfast at Tiffany's (1961)</td>\n",
       "      <td>Drama|Romance</td>\n",
       "    </tr>\n",
       "    <tr>\n",
       "      <th>11872763</th>\n",
       "      <td>7875</td>\n",
       "      <td>902</td>\n",
       "      <td>0.00</td>\n",
       "      <td>Breakfast at Tiffany's (1961)</td>\n",
       "      <td>Drama|Romance</td>\n",
       "    </tr>\n",
       "    <tr>\n",
       "      <th>11872764</th>\n",
       "      <td>6263</td>\n",
       "      <td>902</td>\n",
       "      <td>0.00</td>\n",
       "      <td>Breakfast at Tiffany's (1961)</td>\n",
       "      <td>Drama|Romance</td>\n",
       "    </tr>\n",
       "    <tr>\n",
       "      <th>11872765</th>\n",
       "      <td>139</td>\n",
       "      <td>902</td>\n",
       "      <td>0.00</td>\n",
       "      <td>Breakfast at Tiffany's (1961)</td>\n",
       "      <td>Drama|Romance</td>\n",
       "    </tr>\n",
       "    <tr>\n",
       "      <th>11872766</th>\n",
       "      <td>5765</td>\n",
       "      <td>902</td>\n",
       "      <td>0.00</td>\n",
       "      <td>Breakfast at Tiffany's (1961)</td>\n",
       "      <td>Drama|Romance</td>\n",
       "    </tr>\n",
       "  </tbody>\n",
       "</table>\n",
       "<p>17912866 rows × 5 columns</p>\n",
       "</div>"
      ],
      "text/plain": [
       "          userId  movieId  rating                          title   \n",
       "0              0        0    3.00                 Jumanji (1995)  \\\n",
       "1              1        0    3.50                 Jumanji (1995)   \n",
       "2              2        0    2.00                 Jumanji (1995)   \n",
       "3              3        0    2.00                 Jumanji (1995)   \n",
       "4              4        0    3.00                 Jumanji (1995)   \n",
       "...          ...      ...     ...                            ...   \n",
       "11872762    1885      902    0.00  Breakfast at Tiffany's (1961)   \n",
       "11872763    7875      902    0.00  Breakfast at Tiffany's (1961)   \n",
       "11872764    6263      902    0.00  Breakfast at Tiffany's (1961)   \n",
       "11872765     139      902    0.00  Breakfast at Tiffany's (1961)   \n",
       "11872766    5765      902    0.00  Breakfast at Tiffany's (1961)   \n",
       "\n",
       "                              genres  \n",
       "0         Adventure|Children|Fantasy  \n",
       "1         Adventure|Children|Fantasy  \n",
       "2         Adventure|Children|Fantasy  \n",
       "3         Adventure|Children|Fantasy  \n",
       "4         Adventure|Children|Fantasy  \n",
       "...                              ...  \n",
       "11872762               Drama|Romance  \n",
       "11872763               Drama|Romance  \n",
       "11872764               Drama|Romance  \n",
       "11872765               Drama|Romance  \n",
       "11872766               Drama|Romance  \n",
       "\n",
       "[17912866 rows x 5 columns]"
      ]
     },
     "execution_count": 16,
     "metadata": {},
     "output_type": "execute_result"
    }
   ],
   "source": [
    "frames = [df, ratings_random]\n",
    "df_merged = pd.concat(frames)\n",
    "df_merged"
   ]
  },
  {
   "cell_type": "code",
   "execution_count": 17,
   "id": "38482080",
   "metadata": {},
   "outputs": [
    {
     "data": {
      "text/plain": [
       "6927057"
      ]
     },
     "execution_count": 17,
     "metadata": {},
     "output_type": "execute_result"
    }
   ],
   "source": [
    "len(df_merged) - len(df_merged.drop_duplicates(subset=['userId', 'movieId'], keep='first'))"
   ]
  },
  {
   "cell_type": "markdown",
   "id": "5a2000b8",
   "metadata": {},
   "source": [
    "**Всего найдено дубликатов по 2м столбцам (userId и movieId), мы их удалим по условию сохранить первое вхождение, так как вначале у нас исходный датафрейм.**"
   ]
  },
  {
   "cell_type": "code",
   "execution_count": 18,
   "id": "2f276ee5",
   "metadata": {},
   "outputs": [],
   "source": [
    "df_merged = df_merged.drop_duplicates(subset=['userId', 'movieId'], keep='first')"
   ]
  },
  {
   "cell_type": "code",
   "execution_count": 19,
   "id": "09cc3339",
   "metadata": {},
   "outputs": [
    {
     "data": {
      "text/html": [
       "<div>\n",
       "<style scoped>\n",
       "    .dataframe tbody tr th:only-of-type {\n",
       "        vertical-align: middle;\n",
       "    }\n",
       "\n",
       "    .dataframe tbody tr th {\n",
       "        vertical-align: top;\n",
       "    }\n",
       "\n",
       "    .dataframe thead th {\n",
       "        text-align: right;\n",
       "    }\n",
       "</style>\n",
       "<table border=\"1\" class=\"dataframe\">\n",
       "  <thead>\n",
       "    <tr style=\"text-align: right;\">\n",
       "      <th></th>\n",
       "      <th>userId</th>\n",
       "      <th>movieId</th>\n",
       "      <th>rating</th>\n",
       "      <th>title</th>\n",
       "      <th>genres</th>\n",
       "    </tr>\n",
       "  </thead>\n",
       "  <tbody>\n",
       "    <tr>\n",
       "      <th>0</th>\n",
       "      <td>0</td>\n",
       "      <td>0</td>\n",
       "      <td>3.00</td>\n",
       "      <td>Jumanji (1995)</td>\n",
       "      <td>Adventure|Children|Fantasy</td>\n",
       "    </tr>\n",
       "    <tr>\n",
       "      <th>1</th>\n",
       "      <td>1</td>\n",
       "      <td>0</td>\n",
       "      <td>3.50</td>\n",
       "      <td>Jumanji (1995)</td>\n",
       "      <td>Adventure|Children|Fantasy</td>\n",
       "    </tr>\n",
       "    <tr>\n",
       "      <th>2</th>\n",
       "      <td>2</td>\n",
       "      <td>0</td>\n",
       "      <td>2.00</td>\n",
       "      <td>Jumanji (1995)</td>\n",
       "      <td>Adventure|Children|Fantasy</td>\n",
       "    </tr>\n",
       "    <tr>\n",
       "      <th>3</th>\n",
       "      <td>3</td>\n",
       "      <td>0</td>\n",
       "      <td>2.00</td>\n",
       "      <td>Jumanji (1995)</td>\n",
       "      <td>Adventure|Children|Fantasy</td>\n",
       "    </tr>\n",
       "    <tr>\n",
       "      <th>4</th>\n",
       "      <td>4</td>\n",
       "      <td>0</td>\n",
       "      <td>3.00</td>\n",
       "      <td>Jumanji (1995)</td>\n",
       "      <td>Adventure|Children|Fantasy</td>\n",
       "    </tr>\n",
       "    <tr>\n",
       "      <th>...</th>\n",
       "      <td>...</td>\n",
       "      <td>...</td>\n",
       "      <td>...</td>\n",
       "      <td>...</td>\n",
       "      <td>...</td>\n",
       "    </tr>\n",
       "    <tr>\n",
       "      <th>11872761</th>\n",
       "      <td>12372</td>\n",
       "      <td>902</td>\n",
       "      <td>0.00</td>\n",
       "      <td>Breakfast at Tiffany's (1961)</td>\n",
       "      <td>Drama|Romance</td>\n",
       "    </tr>\n",
       "    <tr>\n",
       "      <th>11872762</th>\n",
       "      <td>1885</td>\n",
       "      <td>902</td>\n",
       "      <td>0.00</td>\n",
       "      <td>Breakfast at Tiffany's (1961)</td>\n",
       "      <td>Drama|Romance</td>\n",
       "    </tr>\n",
       "    <tr>\n",
       "      <th>11872763</th>\n",
       "      <td>7875</td>\n",
       "      <td>902</td>\n",
       "      <td>0.00</td>\n",
       "      <td>Breakfast at Tiffany's (1961)</td>\n",
       "      <td>Drama|Romance</td>\n",
       "    </tr>\n",
       "    <tr>\n",
       "      <th>11872764</th>\n",
       "      <td>6263</td>\n",
       "      <td>902</td>\n",
       "      <td>0.00</td>\n",
       "      <td>Breakfast at Tiffany's (1961)</td>\n",
       "      <td>Drama|Romance</td>\n",
       "    </tr>\n",
       "    <tr>\n",
       "      <th>11872765</th>\n",
       "      <td>139</td>\n",
       "      <td>902</td>\n",
       "      <td>0.00</td>\n",
       "      <td>Breakfast at Tiffany's (1961)</td>\n",
       "      <td>Drama|Romance</td>\n",
       "    </tr>\n",
       "  </tbody>\n",
       "</table>\n",
       "<p>10985809 rows × 5 columns</p>\n",
       "</div>"
      ],
      "text/plain": [
       "          userId  movieId  rating                          title   \n",
       "0              0        0    3.00                 Jumanji (1995)  \\\n",
       "1              1        0    3.50                 Jumanji (1995)   \n",
       "2              2        0    2.00                 Jumanji (1995)   \n",
       "3              3        0    2.00                 Jumanji (1995)   \n",
       "4              4        0    3.00                 Jumanji (1995)   \n",
       "...          ...      ...     ...                            ...   \n",
       "11872761   12372      902    0.00  Breakfast at Tiffany's (1961)   \n",
       "11872762    1885      902    0.00  Breakfast at Tiffany's (1961)   \n",
       "11872763    7875      902    0.00  Breakfast at Tiffany's (1961)   \n",
       "11872764    6263      902    0.00  Breakfast at Tiffany's (1961)   \n",
       "11872765     139      902    0.00  Breakfast at Tiffany's (1961)   \n",
       "\n",
       "                              genres  \n",
       "0         Adventure|Children|Fantasy  \n",
       "1         Adventure|Children|Fantasy  \n",
       "2         Adventure|Children|Fantasy  \n",
       "3         Adventure|Children|Fantasy  \n",
       "4         Adventure|Children|Fantasy  \n",
       "...                              ...  \n",
       "11872761               Drama|Romance  \n",
       "11872762               Drama|Romance  \n",
       "11872763               Drama|Romance  \n",
       "11872764               Drama|Romance  \n",
       "11872765               Drama|Romance  \n",
       "\n",
       "[10985809 rows x 5 columns]"
      ]
     },
     "execution_count": 19,
     "metadata": {},
     "output_type": "execute_result"
    }
   ],
   "source": [
    "df_merged"
   ]
  },
  {
   "cell_type": "markdown",
   "id": "0bb4c4b0",
   "metadata": {},
   "source": [
    "**Осталось 10985809 строк, добавим наш столбец viewed обратно**"
   ]
  },
  {
   "cell_type": "code",
   "execution_count": 20,
   "metadata": {},
   "outputs": [
    {
     "name": "stderr",
     "output_type": "stream",
     "text": [
      "C:\\Users\\1will\\AppData\\Local\\Temp\\ipykernel_2704\\1407039748.py:1: SettingWithCopyWarning: \n",
      "A value is trying to be set on a copy of a slice from a DataFrame.\n",
      "Try using .loc[row_indexer,col_indexer] = value instead\n",
      "\n",
      "See the caveats in the documentation: https://pandas.pydata.org/pandas-docs/stable/user_guide/indexing.html#returning-a-view-versus-a-copy\n",
      "  df_merged['viewed'] = df_merged['rating'].apply(lambda x: 0 if x==0 else 1)\n"
     ]
    }
   ],
   "source": [
    "df_merged['viewed'] = df_merged['rating'].apply(lambda x: 0 if x==0 else 1)"
   ]
  },
  {
   "cell_type": "code",
   "execution_count": 21,
   "id": "cf61327d",
   "metadata": {},
   "outputs": [
    {
     "data": {
      "text/html": [
       "<div>\n",
       "<style scoped>\n",
       "    .dataframe tbody tr th:only-of-type {\n",
       "        vertical-align: middle;\n",
       "    }\n",
       "\n",
       "    .dataframe tbody tr th {\n",
       "        vertical-align: top;\n",
       "    }\n",
       "\n",
       "    .dataframe thead th {\n",
       "        text-align: right;\n",
       "    }\n",
       "</style>\n",
       "<table border=\"1\" class=\"dataframe\">\n",
       "  <thead>\n",
       "    <tr style=\"text-align: right;\">\n",
       "      <th></th>\n",
       "      <th>userId</th>\n",
       "      <th>movieId</th>\n",
       "      <th>rating</th>\n",
       "      <th>viewed</th>\n",
       "    </tr>\n",
       "  </thead>\n",
       "  <tbody>\n",
       "    <tr>\n",
       "      <th>count</th>\n",
       "      <td>10985809.00</td>\n",
       "      <td>10985809.00</td>\n",
       "      <td>10985809.00</td>\n",
       "      <td>10985809.00</td>\n",
       "    </tr>\n",
       "    <tr>\n",
       "      <th>mean</th>\n",
       "      <td>9460.21</td>\n",
       "      <td>453.86</td>\n",
       "      <td>1.95</td>\n",
       "      <td>0.55</td>\n",
       "    </tr>\n",
       "    <tr>\n",
       "      <th>std</th>\n",
       "      <td>5651.47</td>\n",
       "      <td>285.54</td>\n",
       "      <td>1.92</td>\n",
       "      <td>0.50</td>\n",
       "    </tr>\n",
       "    <tr>\n",
       "      <th>min</th>\n",
       "      <td>0.00</td>\n",
       "      <td>0.00</td>\n",
       "      <td>0.00</td>\n",
       "      <td>0.00</td>\n",
       "    </tr>\n",
       "    <tr>\n",
       "      <th>25%</th>\n",
       "      <td>4600.00</td>\n",
       "      <td>201.00</td>\n",
       "      <td>0.00</td>\n",
       "      <td>0.00</td>\n",
       "    </tr>\n",
       "    <tr>\n",
       "      <th>50%</th>\n",
       "      <td>9178.00</td>\n",
       "      <td>448.00</td>\n",
       "      <td>2.00</td>\n",
       "      <td>1.00</td>\n",
       "    </tr>\n",
       "    <tr>\n",
       "      <th>75%</th>\n",
       "      <td>14259.00</td>\n",
       "      <td>688.00</td>\n",
       "      <td>4.00</td>\n",
       "      <td>1.00</td>\n",
       "    </tr>\n",
       "    <tr>\n",
       "      <th>max</th>\n",
       "      <td>19999.00</td>\n",
       "      <td>999.00</td>\n",
       "      <td>5.00</td>\n",
       "      <td>1.00</td>\n",
       "    </tr>\n",
       "  </tbody>\n",
       "</table>\n",
       "</div>"
      ],
      "text/plain": [
       "           userId     movieId      rating      viewed\n",
       "count 10985809.00 10985809.00 10985809.00 10985809.00\n",
       "mean      9460.21      453.86        1.95        0.55\n",
       "std       5651.47      285.54        1.92        0.50\n",
       "min          0.00        0.00        0.00        0.00\n",
       "25%       4600.00      201.00        0.00        0.00\n",
       "50%       9178.00      448.00        2.00        1.00\n",
       "75%      14259.00      688.00        4.00        1.00\n",
       "max      19999.00      999.00        5.00        1.00"
      ]
     },
     "execution_count": 21,
     "metadata": {},
     "output_type": "execute_result"
    }
   ],
   "source": [
    "df_merged.describe()"
   ]
  },
  {
   "cell_type": "markdown",
   "id": "c39fb612",
   "metadata": {},
   "source": [
    "**Вывод по блоку 3: Вывод Теперь в viewed есть и 0 и 1**"
   ]
  },
  {
   "cell_type": "markdown",
   "id": "cb9276a3",
   "metadata": {},
   "source": [
    "*4. Подготовьте датасет к обучению: отделите тестовую часть от тренировочной.*"
   ]
  },
  {
   "cell_type": "code",
   "execution_count": 34,
   "id": "bfc0031c",
   "metadata": {},
   "outputs": [],
   "source": [
    "X = df_merged.drop(['viewed'], axis=1)\n",
    "y = df_merged['viewed']\n",
    "\n",
    "X_train, X_test, y_train, y_test = train_test_split(X, y, stratify=y, test_size=0.10, random_state=42)"
   ]
  },
  {
   "cell_type": "markdown",
   "id": "d3aa82e0",
   "metadata": {},
   "source": [
    "**Вывод по блоку 4: Разделили на тестовую и обучающую выборки**"
   ]
  },
  {
   "cell_type": "markdown",
   "id": "3a1f61fb",
   "metadata": {},
   "source": [
    "*5. Обучите dummy-model. Пусть она будет возвращать случайную вероятность принадлежности классу 1. Для этого можете использовать функцию random.random (документация). Оцените ее качество какой-то метрикой на свой вкус. Необходимо прогнозировать именно вероятность, чтобы была возможность ранжировать по ней варианты для рекомендации лучшего контента пользователю.*"
   ]
  },
  {
   "cell_type": "code",
   "execution_count": 35,
   "id": "48e96881",
   "metadata": {},
   "outputs": [],
   "source": [
    "def dum_model(features):\n",
    "    return [np.random.random() for item in range(len(features))]\n",
    "\n",
    "dum_pred_train = dum_model(X_train)\n",
    "dum_pred_test = dum_model(X_test)"
   ]
  },
  {
   "cell_type": "code",
   "execution_count": 36,
   "id": "84c87b78",
   "metadata": {},
   "outputs": [
    {
     "name": "stdout",
     "output_type": "stream",
     "text": [
      "ROC-AUC на тренировочной 0.5001718313562331\n",
      "ROC-AUC на тестовой 0.5007658416756999\n"
     ]
    }
   ],
   "source": [
    "roc_auc_dum_train = roc_auc_score(y_train, dum_pred_train)\n",
    "roc_auc_dum_test = roc_auc_score(y_test, dum_pred_test)\n",
    "print(f'ROC-AUC на тренировочной {roc_auc_dum_train}')\n",
    "print(f'ROC-AUC на тестовой {roc_auc_dum_test}')"
   ]
  },
  {
   "cell_type": "markdown",
   "id": "ca20c110",
   "metadata": {},
   "source": [
    "**Вывод по блоку 5: Обучили dummy-model, которая возвращает случайные вероятности принадлежности к классу, по метрике ROC-AUC мы видим показатель 0.5, т.е. в половине случаев dummy-model угадала принадлежность к классу.**"
   ]
  },
  {
   "cell_type": "markdown",
   "id": "ab3b49ea",
   "metadata": {},
   "source": [
    "*6. Реализуйте три алгоритма коллаборативной фильтрации: user-, item-based и алгоритм на основе матричной факторизации. Оцените их качество и адекватность. Если качество недостаточно хорошее, попробуйте варьировать параметры: количество похожих пользователей/фильмов, количество элементов в матрицах при матричном разложении.*"
   ]
  },
  {
   "cell_type": "code",
   "execution_count": 37,
   "id": "730a2555",
   "metadata": {},
   "outputs": [
    {
     "name": "stdout",
     "output_type": "stream",
     "text": [
      "Train shape: (10875950, 6)\n",
      "Test shape: (109859, 6)\n"
     ]
    }
   ],
   "source": [
    "train_data, test_data = train_test_split(df_merged, test_size=0.01)\n",
    "\n",
    "print('Train shape: {}'.format(train_data.shape))\n",
    "print('Test shape: {}'.format(test_data.shape))"
   ]
  },
  {
   "cell_type": "code",
   "execution_count": 26,
   "id": "a9663c9e",
   "metadata": {},
   "outputs": [
    {
     "data": {
      "text/plain": [
       "(20000, 1000)"
      ]
     },
     "execution_count": 26,
     "metadata": {},
     "output_type": "execute_result"
    }
   ],
   "source": [
    "n_users_m = train_data['userId'].nunique()\n",
    "n_movies_m = train_data['movieId'].nunique()\n",
    "(n_users_m, n_movies_m)"
   ]
  },
  {
   "cell_type": "code",
   "execution_count": 38,
   "id": "5b85cd7f",
   "metadata": {},
   "outputs": [
    {
     "data": {
      "text/plain": [
       "(20000, 1000)"
      ]
     },
     "execution_count": 38,
     "metadata": {},
     "output_type": "execute_result"
    }
   ],
   "source": [
    "train_data_matrix = np.array(pd.pivot_table(train_data, values='viewed', index='userId', columns='movieId', fill_value=0))\n",
    "train_data_matrix.shape"
   ]
  },
  {
   "cell_type": "code",
   "execution_count": 39,
   "id": "d46265c3",
   "metadata": {},
   "outputs": [
    {
     "data": {
      "text/plain": [
       "array([[1, 1, 1, ..., 0, 0, 0],\n",
       "       [1, 1, 1, ..., 0, 0, 0],\n",
       "       [1, 1, 1, ..., 0, 0, 0],\n",
       "       ...,\n",
       "       [0, 0, 0, ..., 0, 0, 0],\n",
       "       [0, 0, 0, ..., 0, 0, 0],\n",
       "       [0, 0, 0, ..., 0, 1, 0]], dtype=int64)"
      ]
     },
     "execution_count": 39,
     "metadata": {},
     "output_type": "execute_result"
    }
   ],
   "source": [
    "train_data_matrix"
   ]
  },
  {
   "cell_type": "markdown",
   "id": "2e3d1e9b",
   "metadata": {},
   "source": [
    "Расчет попарного косинусного расстояния для пользователей и для фильмов"
   ]
  },
  {
   "cell_type": "code",
   "execution_count": 40,
   "id": "e9e757ae",
   "metadata": {},
   "outputs": [
    {
     "data": {
      "text/plain": [
       "array([[0.        , 0.46966875, 0.44044685, ..., 0.96679351, 0.97424489,\n",
       "        0.99591015],\n",
       "       [0.46966875, 0.        , 0.38979745, ..., 0.8125483 , 0.88692013,\n",
       "        0.77682236],\n",
       "       [0.44044685, 0.38979745, 0.        , ..., 0.78613317, 0.89970282,\n",
       "        0.75742015],\n",
       "       ...,\n",
       "       [0.96679351, 0.8125483 , 0.78613317, ..., 0.        , 0.89927213,\n",
       "        0.62570874],\n",
       "       [0.97424489, 0.88692013, 0.89970282, ..., 0.89927213, 0.        ,\n",
       "        0.7320289 ],\n",
       "       [0.99591015, 0.77682236, 0.75742015, ..., 0.62570874, 0.7320289 ,\n",
       "        0.        ]])"
      ]
     },
     "execution_count": 40,
     "metadata": {},
     "output_type": "execute_result"
    }
   ],
   "source": [
    "user_sim = cosine_distances(train_data_matrix)\n",
    "user_sim"
   ]
  },
  {
   "cell_type": "code",
   "execution_count": 41,
   "id": "044492d8",
   "metadata": {},
   "outputs": [
    {
     "data": {
      "text/plain": [
       "array([[0.        , 0.39262445, 0.38055109, ..., 0.75439597, 0.59110325,\n",
       "        0.78019071],\n",
       "       [0.39262445, 0.        , 0.21160057, ..., 0.66486715, 0.53271617,\n",
       "        0.6816813 ],\n",
       "       [0.38055109, 0.21160057, 0.        , ..., 0.6738041 , 0.48875393,\n",
       "        0.72281546],\n",
       "       ...,\n",
       "       [0.75439597, 0.66486715, 0.6738041 , ..., 0.        , 0.77950514,\n",
       "        0.64971218],\n",
       "       [0.59110325, 0.53271617, 0.48875393, ..., 0.77950514, 0.        ,\n",
       "        0.8422052 ],\n",
       "       [0.78019071, 0.6816813 , 0.72281546, ..., 0.64971218, 0.8422052 ,\n",
       "        0.        ]])"
      ]
     },
     "execution_count": 41,
     "metadata": {},
     "output_type": "execute_result"
    }
   ],
   "source": [
    "movie_sim = cosine_distances(train_data_matrix.T)\n",
    "movie_sim"
   ]
  },
  {
   "cell_type": "code",
   "execution_count": 42,
   "id": "f681b0b5",
   "metadata": {},
   "outputs": [
    {
     "name": "stdout",
     "output_type": "stream",
     "text": [
      "user_sim (20000, 20000)\n",
      "movie_sim (1000, 1000)\n"
     ]
    }
   ],
   "source": [
    "print('user_sim' , user_sim.shape)\n",
    "print('movie_sim' , movie_sim.shape)"
   ]
  },
  {
   "cell_type": "markdown",
   "id": "128ff6b9",
   "metadata": {},
   "source": [
    "*Алгоритм user-based*"
   ]
  },
  {
   "cell_type": "code",
   "execution_count": 43,
   "id": "51ddfce8",
   "metadata": {},
   "outputs": [],
   "source": [
    "top=10\n",
    "top_similar_users = []\n",
    "for i in range(n_users_m):\n",
    "    neighbors = (user_sim[i]).argsort()[1:top + 1]\n",
    "    top_similar_users.append(\n",
    "        train_data_matrix[neighbors]\n",
    "    )\n",
    "top_similar_users = np.array(top_similar_users)"
   ]
  },
  {
   "cell_type": "code",
   "execution_count": 44,
   "id": "bbe1080f",
   "metadata": {},
   "outputs": [
    {
     "name": "stdout",
     "output_type": "stream",
     "text": [
      "Количество  пользователей, количество соседей, количество фильмов (20000, 10, 1000)\n"
     ]
    }
   ],
   "source": [
    "print('Количество  пользователей, количество соседей, количество фильмов' , top_similar_users.shape)"
   ]
  },
  {
   "cell_type": "code",
   "execution_count": 45,
   "id": "565d5afa",
   "metadata": {},
   "outputs": [
    {
     "data": {
      "text/plain": [
       "(20000, 1000)"
      ]
     },
     "execution_count": 45,
     "metadata": {},
     "output_type": "execute_result"
    }
   ],
   "source": [
    "predicted_viewed_user_based = top_similar_users.mean(1)\n",
    "predicted_viewed_user_based.shape"
   ]
  },
  {
   "cell_type": "markdown",
   "id": "8b4aabcd",
   "metadata": {},
   "source": [
    "Предсказание для тестового датасета:"
   ]
  },
  {
   "cell_type": "code",
   "execution_count": 79,
   "id": "ec3f56e1",
   "metadata": {},
   "outputs": [
    {
     "name": "stdout",
     "output_type": "stream",
     "text": [
      "ROC AUC metric: 0.8642428629308494\n"
     ]
    }
   ],
   "source": [
    "def viewed_pred(n):\n",
    "    return round((n * 2) / 2)\n",
    "\n",
    "test_data['predict_user_based'] = test_data.apply(\n",
    "    lambda f: viewed_pred(predicted_viewed_user_based[f['userId'], f['movieId']]), axis = 1\n",
    ")\n",
    "\n",
    "print(f\"ROC AUC metric: {np.sqrt(roc_auc_score(test_data['predict_user_based'], test_data['viewed']))}\")"
   ]
  },
  {
   "cell_type": "markdown",
   "id": "4e54e557",
   "metadata": {},
   "source": [
    "**Мы видим, что результат у user-based алгоритма гораздо лучше, чем у dummy-model**"
   ]
  },
  {
   "cell_type": "markdown",
   "id": "2ea6366d",
   "metadata": {},
   "source": [
    "*Алгоритм item-based*"
   ]
  },
  {
   "cell_type": "code",
   "execution_count": 57,
   "metadata": {},
   "outputs": [
    {
     "data": {
      "text/plain": [
       "(1000, 10, 20000)"
      ]
     },
     "execution_count": 57,
     "metadata": {},
     "output_type": "execute_result"
    }
   ],
   "source": [
    "top=10\n",
    "top_similar_movies = []\n",
    "for i in range(n_movies):\n",
    "    neighbors = (movie_sim[i]).argsort()[1:top + 1]\n",
    "    top_similar_movies.append(\n",
    "        train_data_matrix.T[neighbors]\n",
    "    )\n",
    "    \n",
    "top_similar_movies = np.array(top_similar_movies)\n",
    "\n",
    "top_similar_movies.shape"
   ]
  },
  {
   "cell_type": "code",
   "execution_count": 58,
   "id": "55c30c1d",
   "metadata": {},
   "outputs": [
    {
     "data": {
      "text/plain": [
       "(20000, 1000)"
      ]
     },
     "execution_count": 58,
     "metadata": {},
     "output_type": "execute_result"
    }
   ],
   "source": [
    "predicted_viewed_item_based = top_similar_movies.mean(1).T\n",
    "predicted_viewed_item_based.shape"
   ]
  },
  {
   "cell_type": "code",
   "execution_count": 80,
   "id": "e604955e",
   "metadata": {},
   "outputs": [
    {
     "name": "stdout",
     "output_type": "stream",
     "text": [
      "ROC AUC metric: 0.8568728708650855\n"
     ]
    }
   ],
   "source": [
    "test_data['predict_item_based'] = test_data.apply(\n",
    "    lambda f: viewed_pred(predicted_viewed_item_based[f['userId'], f['movieId']]), axis = 1\n",
    ")\n",
    "\n",
    "print(f\"ROC AUC metric: {np.sqrt(roc_auc_score(test_data['predict_item_based'], test_data['viewed']))}\")"
   ]
  },
  {
   "cell_type": "markdown",
   "id": "bafe5ed6",
   "metadata": {},
   "source": [
    "**item-based алгоритм отработал на уровне (немного ниже, но не критично ниже) user-based алгоритма**"
   ]
  },
  {
   "cell_type": "markdown",
   "id": "14eb41fe",
   "metadata": {},
   "source": [
    "*Алгоритм на основе матричного разложения*"
   ]
  },
  {
   "cell_type": "code",
   "execution_count": 60,
   "id": "06aa1778",
   "metadata": {},
   "outputs": [
    {
     "data": {
      "text/plain": [
       "(20000, 1000)"
      ]
     },
     "execution_count": 60,
     "metadata": {},
     "output_type": "execute_result"
    }
   ],
   "source": [
    "train_data_matrix.shape"
   ]
  },
  {
   "cell_type": "code",
   "execution_count": 61,
   "id": "e5c5333f",
   "metadata": {},
   "outputs": [],
   "source": [
    "train_data_matrix = train_data_matrix.astype(float)"
   ]
  },
  {
   "cell_type": "code",
   "execution_count": 102,
   "id": "d7a9af2d",
   "metadata": {},
   "outputs": [],
   "source": [
    "u, s, vh = svds(train_data_matrix, k=80)\n",
    "s_diag_matrix = np.diag(s)\n",
    "\n",
    "users = np.dot(u, s_diag_matrix)\n",
    "items = vh.T"
   ]
  },
  {
   "cell_type": "code",
   "execution_count": 103,
   "id": "9e8fe14e",
   "metadata": {},
   "outputs": [
    {
     "name": "stdout",
     "output_type": "stream",
     "text": [
      "diag(s).shape (80, 80)\n",
      "vh.shape (80, 1000)\n",
      "users.shape (20000, 80)\n",
      "items.shape (1000, 80)\n"
     ]
    }
   ],
   "source": [
    "print('diag(s).shape' , np.diag(s).shape)\n",
    "print('vh.shape', vh.shape)\n",
    "print('users.shape' , users.shape)\n",
    "print('items.shape' , items.shape)"
   ]
  },
  {
   "cell_type": "code",
   "execution_count": 104,
   "id": "e812ddb1",
   "metadata": {},
   "outputs": [
    {
     "name": "stdout",
     "output_type": "stream",
     "text": [
      "ROC AUC metric: 0.8776009669794868\n"
     ]
    }
   ],
   "source": [
    "test_data['svd_predictions'] = test_data.apply(\n",
    "    lambda f: viewed_pred(np.dot(users[f['userId']], items[f['movieId']])), axis = 1\n",
    ")\n",
    "\n",
    "print(f\"ROC AUC metric: {np.sqrt(roc_auc_score(test_data['svd_predictions'], test_data['viewed']))}\")"
   ]
  },
  {
   "cell_type": "markdown",
   "id": "d70764ea",
   "metadata": {},
   "source": [
    "**Алгоритм на основе матричного разложения отработал лучше остальных** "
   ]
  },
  {
   "cell_type": "markdown",
   "id": "ff448c1b",
   "metadata": {},
   "source": [
    "*7. Опишите вывод, содержащий информацию о том, какой алгоритм проявил себя лучше всего.*"
   ]
  },
  {
   "cell_type": "markdown",
   "id": "3fd40663",
   "metadata": {},
   "source": [
    "Какая работа была проделана:\n",
    "*   Сделали короткий анализ датасета, проверили на пропуски, заполнили колонку viewed 1\n",
    "*   Все id пользователей и фильмов привели в вид от 0 до максимального уникального значения \n",
    "*   Добавили фильмы, которые не смотрел пользователь, заполнили колонку viewed 0\n",
    "*   Посмотрели как работает dummy-model, user-based, item-based и svd, проверили качество метрикой ROC-AUC"
   ]
  },
  {
   "cell_type": "markdown",
   "id": "2d11f55c",
   "metadata": {},
   "source": [
    "Теперь рассмотрим все алгоритмы вместе:\n",
    "*   dummy-model - 0,5\n",
    "*   user-based - 0.8642428629308494\n",
    "*   item-based - 0.8568728708650855\n",
    "*   svd - 0.8776009669794868"
   ]
  },
  {
   "cell_type": "markdown",
   "id": "87ee10b0",
   "metadata": {},
   "source": [
    "Как мы видим, Алгоритм на основе матричного разложения (svd) имеет наивысший результат среди остальных по метрике ROC-AUC, и как следствие, справился с задачей рекомендации фильмов лучше, потом user-based и item-based алгоритмы, которые в целом тоже справились неплохо, и dummy-model с результатом 0.5."
   ]
  }
 ],
 "metadata": {
  "kernelspec": {
   "display_name": "Python 3 (ipykernel)",
   "language": "python",
   "name": "python3"
  },
  "language_info": {
   "codemirror_mode": {
    "name": "ipython",
    "version": 3
   },
   "file_extension": ".py",
   "mimetype": "text/x-python",
   "name": "python",
   "nbconvert_exporter": "python",
   "pygments_lexer": "ipython3",
   "version": "3.11.4"
  }
 },
 "nbformat": 4,
 "nbformat_minor": 5
}
