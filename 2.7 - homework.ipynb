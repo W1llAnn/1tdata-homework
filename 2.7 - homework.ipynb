{
 "cells": [
  {
   "cell_type": "markdown",
   "id": "e23a1e98",
   "metadata": {},
   "source": [
    "*Основные цели этого задания:*\n",
    "*   Научиться генерировать негативы.\n",
    "*   Научиться настраивать алгоритмы коллаборативной фильтрации."
   ]
  },
  {
   "cell_type": "markdown",
   "id": "6661b1f5",
   "metadata": {},
   "source": [
    "Задача: Научиться рекомендовать пользователям фильмы на основе факта просмотра фильмов пользователями. "
   ]
  },
  {
   "cell_type": "code",
   "execution_count": 1,
   "id": "5901fc18",
   "metadata": {},
   "outputs": [],
   "source": [
    "import pandas as pd\n",
    "import numpy as np\n",
    "import scipy.sparse as sp\n",
    "from sklearn.feature_extraction.text import TfidfVectorizer\n",
    "from sklearn.metrics.pairwise import cosine_distances\n",
    "from sklearn.model_selection import train_test_split\n",
    "from sklearn.metrics import mean_squared_error\n",
    "from scipy.sparse.linalg import svds\n",
    "\n",
    "pd.options.display.max_colwidth = 2000\n",
    "pd.options.display.float_format = '{:.2f}'.format"
   ]
  },
  {
   "cell_type": "markdown",
   "id": "7409ebf0",
   "metadata": {},
   "source": [
    "*1. Для решения задачи будем использовать те же данные, которые были использованы в скринкастах:*\n",
    "*   MovieLens — источник данных.\n",
    "*   Предобработанные для обучения данные: история проставления оценок фильмам — ratings_df_sample_2.csv."
   ]
  },
  {
   "cell_type": "code",
   "execution_count": null,
   "id": "4f11e0e6",
   "metadata": {},
   "outputs": [],
   "source": [
    "ratings = pd.read_csv('ratings_df_sample_2.csv')\n",
    "movies = pd.read_csv('movies.csv')"
   ]
  },
  {
   "cell_type": "code",
   "execution_count": null,
   "id": "42fba45a",
   "metadata": {},
   "outputs": [],
   "source": [
    "ratings=(\n",
    "    ratings\n",
    "    .merge(movies, on='movieId')\n",
    ")"
   ]
  },
  {
   "cell_type": "code",
   "execution_count": null,
   "id": "6709a288",
   "metadata": {},
   "outputs": [],
   "source": [
    "ratings.shape"
   ]
  },
  {
   "cell_type": "markdown",
   "id": "69e2dd1a",
   "metadata": {},
   "source": [
    "hh   "
   ]
  },
  {
   "cell_type": "code",
   "execution_count": null,
   "id": "360349f2",
   "metadata": {},
   "outputs": [],
   "source": []
  },
  {
   "cell_type": "code",
   "execution_count": null,
   "id": "2b50a1a5",
   "metadata": {},
   "outputs": [],
   "source": []
  },
  {
   "cell_type": "code",
   "execution_count": null,
   "id": "0c439dbb",
   "metadata": {},
   "outputs": [],
   "source": []
  },
  {
   "cell_type": "code",
   "execution_count": null,
   "id": "28f42abf",
   "metadata": {},
   "outputs": [],
   "source": []
  },
  {
   "cell_type": "markdown",
   "id": "94b31d09",
   "metadata": {},
   "source": [
    "*2. Предположим, постановка рейтинга — обязательное по итогам просмотра фильмов действие. Основываясь на этом, сгенерируйте новый целевой признак «факт просмотра фильма пользователем», который будет равен 1 для всех пар пользователь * фильм из подгруженного датасета.*"
   ]
  },
  {
   "cell_type": "code",
   "execution_count": null,
   "id": "af9282a0",
   "metadata": {},
   "outputs": [],
   "source": []
  },
  {
   "cell_type": "code",
   "execution_count": null,
   "id": "340c4aef",
   "metadata": {},
   "outputs": [],
   "source": []
  },
  {
   "cell_type": "code",
   "execution_count": null,
   "id": "c6db6bcd",
   "metadata": {},
   "outputs": [],
   "source": []
  },
  {
   "cell_type": "code",
   "execution_count": null,
   "id": "6a7b1eae",
   "metadata": {},
   "outputs": [],
   "source": []
  },
  {
   "cell_type": "markdown",
   "id": "e20e9869",
   "metadata": {},
   "source": [
    "*3. А откуда взять «нолики»? В наших данных есть только пары пользователь * фильм, в которых пользователь точно смотрел фильм. Но для обучения модели нужны так называемые «негативы», то есть, пары, где пользователь фильм не смотрел. На практике приходится сталкиваться с необходимостью генерировать их вручную, давайте потренируемся это делать.*\n",
    "*   Сначала найдите уникальные id всех пользователей и уникальные id всех фильмов.\n",
    "*   С помощью функции random.choice (документация) сгенерируйте случайные пары пользователь * фильм\n",
    "*   Поскольку среди сгенерированных пар могут быть и такие, что пользователь в них уже смотрел фильм, сгенерируйте побольше пар, например, удвоенное количество строк из источника. Это может занять пару минут.\n",
    "*   Среди сгенерированных пар могут быть и дубликаты, удалите их.\n",
    "*   Оставьте среди сгенерированных пар только те, в которых пользователь фильм не смотрел.\n",
    "*   Возможно, пар получилось больше, чем нужно, выберите из них столько, сколько у нас строк в исходных данных.\n",
    "*   Добавьте очищенные сгенерированные пары к исходным данным. Значение целевого признака в них будет равно нулю. Убедитесь, что у вас не появились дубликаты в датасете."
   ]
  },
  {
   "cell_type": "code",
   "execution_count": null,
   "id": "7586f8da",
   "metadata": {},
   "outputs": [],
   "source": []
  },
  {
   "cell_type": "code",
   "execution_count": null,
   "id": "5939f9dd",
   "metadata": {},
   "outputs": [],
   "source": []
  },
  {
   "cell_type": "code",
   "execution_count": null,
   "id": "e4b5d147",
   "metadata": {},
   "outputs": [],
   "source": []
  },
  {
   "cell_type": "code",
   "execution_count": null,
   "id": "16846c50",
   "metadata": {},
   "outputs": [],
   "source": []
  },
  {
   "cell_type": "markdown",
   "id": "cb9276a3",
   "metadata": {},
   "source": [
    "*4. Подготовьте датасет к обучению: отделите тестовую часть от тренировочной.*"
   ]
  },
  {
   "cell_type": "code",
   "execution_count": null,
   "id": "bfc0031c",
   "metadata": {},
   "outputs": [],
   "source": []
  },
  {
   "cell_type": "code",
   "execution_count": null,
   "id": "3509cde9",
   "metadata": {},
   "outputs": [],
   "source": []
  },
  {
   "cell_type": "code",
   "execution_count": null,
   "id": "50be1221",
   "metadata": {},
   "outputs": [],
   "source": []
  },
  {
   "cell_type": "code",
   "execution_count": null,
   "id": "b2afbc95",
   "metadata": {},
   "outputs": [],
   "source": []
  },
  {
   "cell_type": "markdown",
   "id": "3a1f61fb",
   "metadata": {},
   "source": [
    "*5. Обучите dummy-model. Пусть она будет возвращать случайную вероятность принадлежности классу 1. Для этого можете использовать функцию random.random (документация). Оцените ее качество какой-то метрикой на свой вкус. Необходимо прогнозировать именно вероятность, чтобы была возможность ранжировать по ней варианты для рекомендации лучшего контента пользователю.*"
   ]
  },
  {
   "cell_type": "code",
   "execution_count": null,
   "id": "7c005a96",
   "metadata": {},
   "outputs": [],
   "source": []
  },
  {
   "cell_type": "code",
   "execution_count": null,
   "id": "f5ae7d90",
   "metadata": {},
   "outputs": [],
   "source": []
  },
  {
   "cell_type": "code",
   "execution_count": null,
   "id": "a0ab772e",
   "metadata": {},
   "outputs": [],
   "source": []
  },
  {
   "cell_type": "code",
   "execution_count": null,
   "id": "17059eb3",
   "metadata": {},
   "outputs": [],
   "source": []
  },
  {
   "cell_type": "markdown",
   "id": "ab3b49ea",
   "metadata": {},
   "source": [
    "*6. Реализуйте три алгоритма коллаборативной фильтрации: user-, item-based и алгоритм на основе матричной факторизации. Оцените их качество и адекватность. Если качество недостаточно хорошее, попробуйте варьировать параметры: количество похожих пользователей/фильмов, количество элементов в матрицах при матричном разложении.*"
   ]
  },
  {
   "cell_type": "code",
   "execution_count": null,
   "id": "a9663c9e",
   "metadata": {},
   "outputs": [],
   "source": []
  },
  {
   "cell_type": "code",
   "execution_count": null,
   "id": "5b85cd7f",
   "metadata": {},
   "outputs": [],
   "source": []
  },
  {
   "cell_type": "code",
   "execution_count": null,
   "id": "adaa1a46",
   "metadata": {},
   "outputs": [],
   "source": []
  },
  {
   "cell_type": "code",
   "execution_count": null,
   "id": "aa5d2d3f",
   "metadata": {},
   "outputs": [],
   "source": []
  },
  {
   "cell_type": "markdown",
   "id": "ff448c1b",
   "metadata": {},
   "source": [
    "*7. Опишите вывод, содержащий информацию о том, какой алгоритм проявил себя лучше всего.*"
   ]
  },
  {
   "cell_type": "markdown",
   "id": "2d11f55c",
   "metadata": {},
   "source": []
  }
 ],
 "metadata": {
  "kernelspec": {
   "display_name": "Python 3 (ipykernel)",
   "language": "python",
   "name": "python3"
  },
  "language_info": {
   "codemirror_mode": {
    "name": "ipython",
    "version": 3
   },
   "file_extension": ".py",
   "mimetype": "text/x-python",
   "name": "python",
   "nbconvert_exporter": "python",
   "pygments_lexer": "ipython3",
   "version": "3.10.11"
  }
 },
 "nbformat": 4,
 "nbformat_minor": 5
}
