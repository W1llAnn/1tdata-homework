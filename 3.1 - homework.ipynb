{
 "cells": [
  {
   "cell_type": "markdown",
   "id": "e23a1e98",
   "metadata": {},
   "source": [
    "*Основная задача*: Зарегистрируйтесь на платформе Kaggle и скачайте набор данных, и по образцу создайте нейронную сеть. Выведите матрицу ошибок и постарайтесь минимизировать их, подобрав параметры нейронной сети."
   ]
  },
  {
   "cell_type": "code",
   "execution_count": 1,
   "id": "bfbe4b36",
   "metadata": {},
   "outputs": [],
   "source": [
    "import numpy as np # Подключаем библиотеку numpy\n",
    "import pandas as pd # Библиотека pandas"
   ]
  },
  {
   "cell_type": "markdown",
   "id": "bcf107ec",
   "metadata": {},
   "source": [
    "*1. Загрузите данные с площадки Kaggle.*"
   ]
  },
  {
   "cell_type": "code",
   "execution_count": 4,
   "id": "d3f81c64",
   "metadata": {},
   "outputs": [],
   "source": [
    "import numpy as np\n",
    "import pandas as pd"
   ]
  },
  {
   "cell_type": "code",
   "execution_count": null,
   "id": "78ee5967",
   "metadata": {},
   "outputs": [],
   "source": []
  },
  {
   "cell_type": "markdown",
   "id": "a5ca1cfa",
   "metadata": {},
   "source": [
    "*2. Подготавливаем данные (приводим их к нужным типам данных, проводим базовое EDA, делаем выводы, если возможно).*"
   ]
  },
  {
   "cell_type": "code",
   "execution_count": null,
   "id": "62b0cc3c",
   "metadata": {},
   "outputs": [],
   "source": []
  },
  {
   "cell_type": "markdown",
   "id": "da6dd924",
   "metadata": {},
   "source": [
    "*3. Создаем тренировочную и валидационную выборки.*"
   ]
  },
  {
   "cell_type": "code",
   "execution_count": null,
   "id": "c7fe526f",
   "metadata": {},
   "outputs": [],
   "source": []
  },
  {
   "cell_type": "markdown",
   "id": "67d4ffdd",
   "metadata": {},
   "source": [
    "*4. Масштабируем данные известными вам методами из библиотеки Scikit-learn.*"
   ]
  },
  {
   "cell_type": "code",
   "execution_count": null,
   "id": "93896054",
   "metadata": {},
   "outputs": [],
   "source": []
  },
  {
   "cell_type": "markdown",
   "id": "1b4c57a1",
   "metadata": {},
   "source": [
    "*5. Создайте функцию, при вызове которой будет собираться и компилироваться (model.compile) архитектура модели. Функция должна возвращать собранную архитектуру. Параметры слоев и их количество вы выбираете сами, стараясь добиться наилучшего качества.*"
   ]
  },
  {
   "cell_type": "code",
   "execution_count": null,
   "id": "29d4074d",
   "metadata": {},
   "outputs": [],
   "source": []
  },
  {
   "cell_type": "markdown",
   "id": "7982c518",
   "metadata": {},
   "source": [
    "*6. Обучите модель.*"
   ]
  },
  {
   "cell_type": "code",
   "execution_count": null,
   "id": "d2d02e2f",
   "metadata": {},
   "outputs": [],
   "source": []
  },
  {
   "cell_type": "markdown",
   "id": "98ccdbda",
   "metadata": {},
   "source": [
    "*7. Оцените качество модели по выбранной вами метрике (выбор метрики должен быть обоснован).*"
   ]
  },
  {
   "cell_type": "code",
   "execution_count": null,
   "id": "9bb2a2d7",
   "metadata": {},
   "outputs": [],
   "source": []
  },
  {
   "cell_type": "markdown",
   "id": "5ca8507f",
   "metadata": {},
   "source": [
    "*8. Постройте графики точности и графики ошибки в зависимости от количества эпох для тренировочной выборки и для валидационной.*"
   ]
  },
  {
   "cell_type": "code",
   "execution_count": null,
   "id": "7fd5abbc",
   "metadata": {},
   "outputs": [],
   "source": []
  },
  {
   "cell_type": "markdown",
   "id": "7862f67c",
   "metadata": {},
   "source": [
    "*9. Постройте матрицу ошибок для валидационной выборки.*"
   ]
  },
  {
   "cell_type": "code",
   "execution_count": null,
   "id": "f52f1fa6",
   "metadata": {},
   "outputs": [],
   "source": []
  },
  {
   "cell_type": "markdown",
   "id": "25823b81",
   "metadata": {},
   "source": [
    "ВЫВОД:"
   ]
  },
  {
   "cell_type": "markdown",
   "id": "5538b70e",
   "metadata": {},
   "source": [
    "# ЗАДАНИЕ ПРО (Не обязательно к выполнению):\n",
    "Оптимизируйте параметры модели в автоматическом режиме. Можно использовать алгоритмы оптимизации типа GridSearch, но не сильно увлекаясь — иначе расчёт может быть излишне долог."
   ]
  },
  {
   "cell_type": "markdown",
   "id": "73e7a042",
   "metadata": {},
   "source": [
    "*1. Установите библиотеку scikeras, либо найдите как импортировать модуль KerasRegressor в tensorflow.*"
   ]
  },
  {
   "cell_type": "code",
   "execution_count": null,
   "id": "d8f779f0",
   "metadata": {},
   "outputs": [],
   "source": []
  },
  {
   "cell_type": "markdown",
   "id": "fd0bc175",
   "metadata": {},
   "source": [
    "*2. Из этой же библиотеки scikeras импортируйте модуль KerasRegressor (найдите в документации как его импортировать).*"
   ]
  },
  {
   "cell_type": "code",
   "execution_count": null,
   "id": "3ec2934e",
   "metadata": {},
   "outputs": [],
   "source": []
  },
  {
   "cell_type": "markdown",
   "id": "278ed858",
   "metadata": {},
   "source": [
    "*3. Поместите вашу модель в оболочку KerasRegressor.*"
   ]
  },
  {
   "cell_type": "code",
   "execution_count": null,
   "id": "7a294d0b",
   "metadata": {},
   "outputs": [],
   "source": []
  },
  {
   "cell_type": "markdown",
   "id": "971f0eec",
   "metadata": {},
   "source": [
    "*4. Подберите оптимальные параметры для модели с помощью GridSearchCV или RandomizedSearchCV.*"
   ]
  },
  {
   "cell_type": "code",
   "execution_count": null,
   "id": "722d6fe0",
   "metadata": {},
   "outputs": [],
   "source": []
  },
  {
   "cell_type": "markdown",
   "id": "466c2c96",
   "metadata": {},
   "source": [
    "*5. Посчитайте метрику с наилучшими параметрами, напишите наилучшие параметры для модели в выводе.*"
   ]
  },
  {
   "cell_type": "code",
   "execution_count": null,
   "id": "98ae2990",
   "metadata": {},
   "outputs": [],
   "source": []
  },
  {
   "cell_type": "markdown",
   "id": "0f504bf4",
   "metadata": {},
   "source": [
    "**ОБЩИЙ ВЫВОД:**"
   ]
  }
 ],
 "metadata": {
  "kernelspec": {
   "display_name": "Python 3 (ipykernel)",
   "language": "python",
   "name": "python3"
  },
  "language_info": {
   "codemirror_mode": {
    "name": "ipython",
    "version": 3
   },
   "file_extension": ".py",
   "mimetype": "text/x-python",
   "name": "python",
   "nbconvert_exporter": "python",
   "pygments_lexer": "ipython3",
   "version": "3.10.11"
  }
 },
 "nbformat": 4,
 "nbformat_minor": 5
}
