{
 "cells": [
  {
   "cell_type": "markdown",
   "id": "e23a1e98",
   "metadata": {},
   "source": [
    "*Основная задача*: Зарегистрируйтесь на платформе Kaggle и скачайте набор данных, и по образцу создайте нейронную сеть. Выведите матрицу ошибок и постарайтесь минимизировать их, подобрав параметры нейронной сети."
   ]
  },
  {
   "cell_type": "code",
   "execution_count": 1,
   "id": "bfbe4b36",
   "metadata": {},
   "outputs": [
    {
     "ename": "ModuleNotFoundError",
     "evalue": "No module named 'tensorflow.python'",
     "output_type": "error",
     "traceback": [
      "\u001b[1;31m---------------------------------------------------------------------------\u001b[0m",
      "\u001b[1;31mModuleNotFoundError\u001b[0m                       Traceback (most recent call last)",
      "Cell \u001b[1;32mIn[1], line 1\u001b[0m\n\u001b[1;32m----> 1\u001b[0m \u001b[39mfrom\u001b[39;00m \u001b[39mtensorflow\u001b[39;00m\u001b[39m.\u001b[39;00m\u001b[39mkeras\u001b[39;00m\u001b[39m.\u001b[39;00m\u001b[39mdatasets\u001b[39;00m \u001b[39mimport\u001b[39;00m mnist\n",
      "File \u001b[1;32m~\\AppData\\Local\\Packages\\PythonSoftwareFoundation.Python.3.10_qbz5n2kfra8p0\\LocalCache\\local-packages\\Python310\\site-packages\\tensorflow\\__init__.py:38\u001b[0m\n\u001b[0;32m     35\u001b[0m \u001b[39mimport\u001b[39;00m \u001b[39msys\u001b[39;00m \u001b[39mas\u001b[39;00m \u001b[39m_sys\u001b[39;00m\n\u001b[0;32m     36\u001b[0m \u001b[39mimport\u001b[39;00m \u001b[39mtyping\u001b[39;00m \u001b[39mas\u001b[39;00m \u001b[39m_typing\u001b[39;00m\n\u001b[1;32m---> 38\u001b[0m \u001b[39mfrom\u001b[39;00m \u001b[39mtensorflow\u001b[39;00m\u001b[39m.\u001b[39;00m\u001b[39mpython\u001b[39;00m\u001b[39m.\u001b[39;00m\u001b[39mtools\u001b[39;00m \u001b[39mimport\u001b[39;00m module_util \u001b[39mas\u001b[39;00m _module_util\n\u001b[0;32m     39\u001b[0m \u001b[39mfrom\u001b[39;00m \u001b[39mtensorflow\u001b[39;00m\u001b[39m.\u001b[39;00m\u001b[39mpython\u001b[39;00m\u001b[39m.\u001b[39;00m\u001b[39mutil\u001b[39;00m\u001b[39m.\u001b[39;00m\u001b[39mlazy_loader\u001b[39;00m \u001b[39mimport\u001b[39;00m LazyLoader \u001b[39mas\u001b[39;00m _LazyLoader\n\u001b[0;32m     41\u001b[0m \u001b[39m# Make sure code inside the TensorFlow codebase can use tf2.enabled() at import.\u001b[39;00m\n",
      "\u001b[1;31mModuleNotFoundError\u001b[0m: No module named 'tensorflow.python'"
     ]
    }
   ],
   "source": [
    "from tensorflow.keras.datasets import mnist"
   ]
  },
  {
   "cell_type": "markdown",
   "id": "bcf107ec",
   "metadata": {},
   "source": [
    "*1. Загрузите данные с площадки Kaggle.*"
   ]
  },
  {
   "cell_type": "code",
   "execution_count": null,
   "id": "d3f81c64",
   "metadata": {},
   "outputs": [],
   "source": []
  },
  {
   "cell_type": "markdown",
   "id": "a5ca1cfa",
   "metadata": {},
   "source": [
    "*2. Подготавливаем данные (приводим их к нужным типам данных, проводим базовое EDA, делаем выводы, если возможно).*"
   ]
  },
  {
   "cell_type": "code",
   "execution_count": null,
   "id": "62b0cc3c",
   "metadata": {},
   "outputs": [],
   "source": []
  },
  {
   "cell_type": "markdown",
   "id": "da6dd924",
   "metadata": {},
   "source": [
    "*3. Создаем тренировочную и валидационную выборки.*"
   ]
  },
  {
   "cell_type": "code",
   "execution_count": null,
   "id": "c7fe526f",
   "metadata": {},
   "outputs": [],
   "source": []
  },
  {
   "cell_type": "markdown",
   "id": "67d4ffdd",
   "metadata": {},
   "source": [
    "*4. Масштабируем данные известными вам методами из библиотеки Scikit-learn.*"
   ]
  },
  {
   "cell_type": "code",
   "execution_count": null,
   "id": "93896054",
   "metadata": {},
   "outputs": [],
   "source": []
  },
  {
   "cell_type": "markdown",
   "id": "1b4c57a1",
   "metadata": {},
   "source": [
    "*5. Создайте функцию, при вызове которой будет собираться и компилироваться (model.compile) архитектура модели. Функция должна возвращать собранную архитектуру. Параметры слоев и их количество вы выбираете сами, стараясь добиться наилучшего качества.*"
   ]
  },
  {
   "cell_type": "code",
   "execution_count": null,
   "id": "29d4074d",
   "metadata": {},
   "outputs": [],
   "source": []
  },
  {
   "cell_type": "markdown",
   "id": "7982c518",
   "metadata": {},
   "source": [
    "*6. Обучите модель.*"
   ]
  },
  {
   "cell_type": "code",
   "execution_count": null,
   "id": "d2d02e2f",
   "metadata": {},
   "outputs": [],
   "source": []
  },
  {
   "cell_type": "markdown",
   "id": "98ccdbda",
   "metadata": {},
   "source": [
    "*7. Оцените качество модели по выбранной вами метрике (выбор метрики должен быть обоснован).*"
   ]
  },
  {
   "cell_type": "code",
   "execution_count": null,
   "id": "9bb2a2d7",
   "metadata": {},
   "outputs": [],
   "source": []
  },
  {
   "cell_type": "markdown",
   "id": "5ca8507f",
   "metadata": {},
   "source": [
    "*8. Постройте графики точности и графики ошибки в зависимости от количества эпох для тренировочной выборки и для валидационной.*"
   ]
  },
  {
   "cell_type": "code",
   "execution_count": null,
   "id": "7fd5abbc",
   "metadata": {},
   "outputs": [],
   "source": []
  },
  {
   "cell_type": "markdown",
   "id": "7862f67c",
   "metadata": {},
   "source": [
    "*9. Постройте матрицу ошибок для валидационной выборки.*"
   ]
  },
  {
   "cell_type": "code",
   "execution_count": null,
   "id": "f52f1fa6",
   "metadata": {},
   "outputs": [],
   "source": []
  },
  {
   "cell_type": "markdown",
   "id": "25823b81",
   "metadata": {},
   "source": [
    "ВЫВОД:"
   ]
  },
  {
   "cell_type": "markdown",
   "id": "5538b70e",
   "metadata": {},
   "source": [
    "# ЗАДАНИЕ ПРО (Не обязательно к выполнению):\n",
    "Оптимизируйте параметры модели в автоматическом режиме. Можно использовать алгоритмы оптимизации типа GridSearch, но не сильно увлекаясь — иначе расчёт может быть излишне долог."
   ]
  },
  {
   "cell_type": "markdown",
   "id": "73e7a042",
   "metadata": {},
   "source": [
    "*1. Установите библиотеку scikeras, либо найдите как импортировать модуль KerasRegressor в tensorflow.*"
   ]
  },
  {
   "cell_type": "code",
   "execution_count": null,
   "id": "d8f779f0",
   "metadata": {},
   "outputs": [],
   "source": []
  },
  {
   "cell_type": "markdown",
   "id": "fd0bc175",
   "metadata": {},
   "source": [
    "*2. Из этой же библиотеки scikeras импортируйте модуль KerasRegressor (найдите в документации как его импортировать).*"
   ]
  },
  {
   "cell_type": "code",
   "execution_count": null,
   "id": "3ec2934e",
   "metadata": {},
   "outputs": [],
   "source": []
  },
  {
   "cell_type": "markdown",
   "id": "278ed858",
   "metadata": {},
   "source": [
    "*3. Поместите вашу модель в оболочку KerasRegressor.*"
   ]
  },
  {
   "cell_type": "code",
   "execution_count": null,
   "id": "7a294d0b",
   "metadata": {},
   "outputs": [],
   "source": []
  },
  {
   "cell_type": "markdown",
   "id": "971f0eec",
   "metadata": {},
   "source": [
    "*4. Подберите оптимальные параметры для модели с помощью GridSearchCV или RandomizedSearchCV.*"
   ]
  },
  {
   "cell_type": "code",
   "execution_count": null,
   "id": "722d6fe0",
   "metadata": {},
   "outputs": [],
   "source": []
  },
  {
   "cell_type": "markdown",
   "id": "466c2c96",
   "metadata": {},
   "source": [
    "*5. Посчитайте метрику с наилучшими параметрами, напишите наилучшие параметры для модели в выводе.*"
   ]
  },
  {
   "cell_type": "code",
   "execution_count": null,
   "id": "98ae2990",
   "metadata": {},
   "outputs": [],
   "source": []
  },
  {
   "cell_type": "markdown",
   "id": "0f504bf4",
   "metadata": {},
   "source": [
    "**ОБЩИЙ ВЫВОД:**"
   ]
  }
 ],
 "metadata": {
  "kernelspec": {
   "display_name": "Python 3 (ipykernel)",
   "language": "python",
   "name": "python3"
  },
  "language_info": {
   "codemirror_mode": {
    "name": "ipython",
    "version": 3
   },
   "file_extension": ".py",
   "mimetype": "text/x-python",
   "name": "python",
   "nbconvert_exporter": "python",
   "pygments_lexer": "ipython3",
   "version": "3.10.11"
  }
 },
 "nbformat": 4,
 "nbformat_minor": 5
}
