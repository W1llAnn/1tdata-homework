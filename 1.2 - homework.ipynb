{
 "cells": [
  {
   "attachments": {},
   "cell_type": "markdown",
   "metadata": {},
   "source": [
    "Выполните следующие задания на Python без использования сторонних библиотек:"
   ]
  },
  {
   "attachments": {},
   "cell_type": "markdown",
   "metadata": {},
   "source": [
    "1. Напишите программу, которая будет выводить на экран площадь квадрата и его периметр. Сторона квадрата будет равна 25."
   ]
  },
  {
   "cell_type": "code",
   "execution_count": 7,
   "metadata": {},
   "outputs": [
    {
     "name": "stdout",
     "output_type": "stream",
     "text": [
      "Площадь квадрата: 625\n",
      "Периметр квадрата: 100\n"
     ]
    }
   ],
   "source": [
    "side_square = 25\n",
    "square_area = side_square**2\n",
    "perimeter_square = side_square*4\n",
    "\n",
    "print(f'Площадь квадрата: {square_area}')\n",
    "print(f'Периметр квадрата: {perimeter_square}')"
   ]
  },
  {
   "attachments": {},
   "cell_type": "markdown",
   "metadata": {},
   "source": [
    "2. Напишите функцию, которая будет принимать два числа и считать сумму квадратов этих двух чисел, запишите своё вычисление в переменную squared. (Подсказка: Помните, чтобы записать результат функции в переменную, она должна этот результат внутри себя возвращать! Return)"
   ]
  },
  {
   "cell_type": "code",
   "execution_count": 12,
   "metadata": {},
   "outputs": [
    {
     "data": {
      "text/plain": [
       "'Первое число 2   Второе число 4   А сумма их квадратов = 20'"
      ]
     },
     "execution_count": 12,
     "metadata": {},
     "output_type": "execute_result"
    }
   ],
   "source": [
    "s1 = int(input (\"Введите число 1: \"))\n",
    "s2 = int(input (\"Введите число 2: \"))\n",
    "\n",
    "def squared_f(x, y):\n",
    "    squared = x**2 + y**2\n",
    "    return f'Первое число {x}   Второе число {y}   А сумма их квадратов = {squared}'\n",
    "\n",
    "\n",
    "squared_f(s1,s2)"
   ]
  },
  {
   "attachments": {},
   "cell_type": "markdown",
   "metadata": {},
   "source": [
    "3. Напишите функцию, которая будет принимать на вход список  [“male“,“male“,“female“,“male“,“male“,“female“,”female“] и возвращать его в обратном порядке. Запишите список в переменную new_list. Подсказка: Вам поможет обратная индексация к спискам ! [::-1]. "
   ]
  },
  {
   "cell_type": "code",
   "execution_count": 30,
   "metadata": {},
   "outputs": [
    {
     "name": "stdout",
     "output_type": "stream",
     "text": [
      "old_list=['male', 'male', 'female', 'male', 'male', 'female', 'female']\n"
     ]
    },
    {
     "data": {
      "text/plain": [
       "(\"new_list Вариант 1: ['female', 'female', 'male', 'male', 'female', 'male', 'male']\",\n",
       " \"new_list Вариант 2: ['female', 'female', 'male', 'male', 'female', 'male', 'male']\")"
      ]
     },
     "execution_count": 30,
     "metadata": {},
     "output_type": "execute_result"
    }
   ],
   "source": [
    "old_list = ['male','male','female','male','male','female','female']\n",
    "print(f'{old_list=}')\n",
    "\n",
    "def list_reversal(old_list):\n",
    "    new_list1 = list(reversed(old_list)) \n",
    "    new_list2 = old_list[::-1]\n",
    "    return (\n",
    "    f'new_list Вариант 1: {new_list1}',\n",
    "    f'new_list Вариант 2: {new_list2}'\n",
    "    )\n",
    "\n",
    "list_reversal(old_list)"
   ]
  },
  {
   "attachments": {},
   "cell_type": "markdown",
   "metadata": {},
   "source": [
    "4. Напишите функцию, которая будет принимать на вход список (new_list) и идти по нему в цикле. На выходе функция должна вывести на экран: Кол-во мужчин 4, Кол-во женщин 3."
   ]
  },
  {
   "cell_type": "code",
   "execution_count": 67,
   "metadata": {},
   "outputs": [
    {
     "data": {
      "text/plain": [
       "'Количество женщин: 3.'"
      ]
     },
     "execution_count": 67,
     "metadata": {},
     "output_type": "execute_result"
    }
   ],
   "source": [
    "new_list = ['female', 'female', 'male', 'male', 'female', 'male', 'male']\n",
    "who = input (\"Введите female или male\")\n",
    "\n",
    "def female_male(n_list):\n",
    "\n",
    "    who_rus = 0\n",
    "    if who == 'female':\n",
    "        who_rus = 'женщин'\n",
    "    elif who == 'male':\n",
    "        who_rus = 'мужчин'\n",
    "    else:\n",
    "        who_rus =  'нет в списке'\n",
    "\n",
    "    quantity_who = 0\n",
    "    for iwho in n_list:\n",
    "        if iwho == who:\n",
    "            quantity_who += 1\n",
    "        else:\n",
    "            pass\n",
    "    return f'Количество {who_rus}: {quantity_who}.'\n",
    "\n",
    "\n",
    "female_male(new_list)\n"
   ]
  },
  {
   "attachments": {},
   "cell_type": "markdown",
   "metadata": {},
   "source": [
    "5. Напишите функцию, которая будет принимать строку (Например: “female”), а возвращать словарь где ключи — это символы строки, а значения кол-во символов в строке. "
   ]
  },
  {
   "cell_type": "code",
   "execution_count": 75,
   "metadata": {},
   "outputs": [
    {
     "data": {
      "text/plain": [
       "\"Словарь: {'f': 6, 'e': 6, 'm': 6, 'a': 6, 'l': 6}\""
      ]
     },
     "execution_count": 75,
     "metadata": {},
     "output_type": "execute_result"
    }
   ],
   "source": [
    "transform = input('Введите слово:')\n",
    "dictionary = {}\n",
    "\n",
    "def dict_female(transform):\n",
    "    for i in range(len(transform)):\n",
    "        dictionary[transform[i]] = len(transform)\n",
    "    return f'Словарь: {dictionary}'\n",
    "\n",
    "dict_female(transform)"
   ]
  },
  {
   "attachments": {},
   "cell_type": "markdown",
   "metadata": {},
   "source": [
    "Но так как одинаковых ключей в словаре быть не может, ключ \"e\" будет только 1 раз"
   ]
  },
  {
   "attachments": {},
   "cell_type": "markdown",
   "metadata": {},
   "source": [
    "6. Воспользуйтесь функцией range в Python и выведите на экран сумму квадратов от 1 до 100 (включительно). "
   ]
  },
  {
   "cell_type": "code",
   "execution_count": 34,
   "metadata": {},
   "outputs": [
    {
     "name": "stdout",
     "output_type": "stream",
     "text": [
      "338350\n"
     ]
    }
   ],
   "source": [
    "sum_sq = 0\n",
    "\n",
    "for num in range(1, 101):\n",
    "    sum_sq +=  num**2\n",
    "\n",
    "print (sum_sq)\n"
   ]
  },
  {
   "attachments": {},
   "cell_type": "markdown",
   "metadata": {},
   "source": [
    "7. Укажите какой метод добавит значение в конец списка. Приведите пример."
   ]
  },
  {
   "cell_type": "code",
   "execution_count": 76,
   "metadata": {},
   "outputs": [
    {
     "name": "stdout",
     "output_type": "stream",
     "text": [
      "[1, 2, 3, 4, 5, 7]\n"
     ]
    }
   ],
   "source": [
    "# ОТВЕТ: append(): добавляет элемент в конец списка \n",
    "list_app = [1 , 2 , 3 , 4 , 5]\n",
    "list_app.append(7)\n",
    "\n",
    "print(list_app)"
   ]
  },
  {
   "attachments": {},
   "cell_type": "markdown",
   "metadata": {},
   "source": [
    "8. Как объединить два списка \"a\" и \"b\" в один новый список \"c\"? Приведите пример."
   ]
  },
  {
   "cell_type": "code",
   "execution_count": 80,
   "metadata": {},
   "outputs": [
    {
     "name": "stdout",
     "output_type": "stream",
     "text": [
      "Общий список: [1, 2, 3, 4, 5, 6, 7, 8, 9, 10]\n"
     ]
    }
   ],
   "source": [
    "list_a = [1 , 2 , 3 , 4 , 5]\n",
    "list_b = [6 , 7 , 8 , 9 , 10]\n",
    "\n",
    "\n",
    "list_c1 = list_a + list_b\n",
    "print(f'Общий список: {list_c1}')\n"
   ]
  },
  {
   "attachments": {},
   "cell_type": "markdown",
   "metadata": {},
   "source": [
    "9. Укажите какой метод посчитает количество значений в списке. Приведите пример."
   ]
  },
  {
   "cell_type": "code",
   "execution_count": 82,
   "metadata": {},
   "outputs": [
    {
     "name": "stdout",
     "output_type": "stream",
     "text": [
      "Длина списка: 6\n"
     ]
    }
   ],
   "source": [
    "list_len = [1 , 2 , 3 , 4 , 5 , 6]\n",
    "print(f'Длина списка: {len(list_len)}')"
   ]
  },
  {
   "attachments": {},
   "cell_type": "markdown",
   "metadata": {},
   "source": [
    "10. Исправьте следующий код, так чтобы он отрабатывал правильно "
   ]
  },
  {
   "cell_type": "code",
   "execution_count": 4,
   "metadata": {},
   "outputs": [
    {
     "name": "stdout",
     "output_type": "stream",
     "text": [
      "16\n",
      "16\n",
      "x равен y\n"
     ]
    }
   ],
   "source": [
    "x = 2**4\n",
    "y = 4**2\n",
    "print(x)\n",
    "print(y)\n",
    "if x < y:\n",
    "    print(\"x меньше y\")\n",
    "elif x > y:\n",
    "    print(\"x больше y\")\n",
    "else: \n",
    "    print(\"x равен y\")"
   ]
  }
 ],
 "metadata": {
  "kernelspec": {
   "display_name": "Python 3",
   "language": "python",
   "name": "python3"
  },
  "language_info": {
   "codemirror_mode": {
    "name": "ipython",
    "version": 3
   },
   "file_extension": ".py",
   "mimetype": "text/x-python",
   "name": "python",
   "nbconvert_exporter": "python",
   "pygments_lexer": "ipython3",
   "version": "3.10.11"
  },
  "orig_nbformat": 4
 },
 "nbformat": 4,
 "nbformat_minor": 2
}
