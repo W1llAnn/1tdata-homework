{
 "cells": [
  {
   "attachments": {},
   "cell_type": "markdown",
   "id": "3e4d4fe6-bfda-49fb-be5b-f9a18eab693d",
   "metadata": {},
   "source": [
    "# Визуализация."
   ]
  },
  {
   "attachments": {},
   "cell_type": "markdown",
   "id": "b74f741d-05bd-4d40-874d-1e073ee31c44",
   "metadata": {},
   "source": [
    "Датасет представляет собой коллекцию медицинских и демографических данных пациентов, а также их статус диабета (положительный или отрицательный). Данные включают такие характеристики, как возраст, пол, индекс массы тела (ИМТ), гипертония, сердечно-сосудистые заболевания, история курения, уровень HbA1c и уровень глюкозы в крови. \n",
    "\n",
    "В будущем этот датасет может быть использован для построения моделей машинного обучения для прогнозирования диабета у пациентов на основе их истории болезни и демографической информации. Это может быть полезно для медицинских работников при выявлении пациентов, которые могут быть подвержены риску развития диабета, и при разработке персонализированных планов лечения.\n",
    "\n",
    "Описание столбцов:\n",
    "\n",
    "|Название| Описание |\n",
    "|--|--|\n",
    "|`gender`| Пол пациента |\n",
    "|`age`| Возраст |\n",
    "|`hypertension`| Гипертония —  это состояние, при котором кровяное давление в артериях постоянно повышено. Он принимает значения 0 или 1, где 0 означает отсутствие гипертонии, а 1 —  наличие гипертонии. |\n",
    "|`heart_disease`| Болезни сердца —  это еще одно состояние, которое связано с повышенным риском развития диабета. Он также принимает значения 0 или 1, где 0 означает отсутствие сердечных заболеваний, а 1 —  наличие сердечных заболеваний. |\n",
    "|`smoking_history`| Опыт курения —  также считается фактором риска развития диабета и может усугубить осложнения, связанные с диабетом. | \n",
    "|`bmi`| Это показатель количества жира в организме, основанный на весе и росте. Более высокие значения ИМТ связаны с повышенным риском развития диабета. Диапазон ИМТ в наборе данных составляет от 10,16 до 71,55. ИМТ менее 18,5 —  это недостаточный вес, 18,5-24,9 —  нормальный, 25-29,9 —  избыточный вес, а 30 и более —  ожирение. |\n",
    "|`HbA1c_level`| Уровень HbA1c (гемоглобин A1c) —  это показатель среднего уровня сахара в крови человека за последние 2-3 месяца. Более высокий уровень указывает на больший риск развития диабета. В основном более 6,5% уровня HbA1c указывает на диабет. | \n",
    "|`blood_glucose_level`| Уровень глюкозы в крови —  это количество глюкозы в крови в определенный момент времени. Высокий уровень глюкозы в крови является основным признаком диабета. |\n",
    "|`diabetes`| Диабет является целевой переменной (таргетом), при этом значение 1 указывает на наличие диабета, а 0 —  на его отсутствие. |"
   ]
  },
  {
   "attachments": {},
   "cell_type": "markdown",
   "id": "d331610b-c2db-431e-810d-698a9a709407",
   "metadata": {},
   "source": [
    "## Задание\n",
    "\n",
    "Проведите визуализацию данных и попробуйте выяснить причины, от чего и с чем связаны основные причины наличия диабета у людей.\n",
    "\n",
    "Ваша цель —  визуально с помощью графиков определить и доказать, что при наличии какого-либо фактора возможен риск развития диабета.\n",
    "\n",
    "Этапы выполнения задания (наш pipeline):\n",
    "\n",
    "1. Загрузка и предобработка данных (при необходимости)\n",
    "2. Описательный анализ данных, просмотр данных\n",
    "3. Построение гистограмм числовых переменных\n",
    "4. Построение диаграмм размаха для определения наличия выбросов (ящики с усами) числовых переменных\n",
    "5. Построение столбчатых диаграмм для категориальных переменных\n",
    "6. Построение матрицы корреляции признаков (Phik или Пирсона)\n",
    "7. Сравнение двух выборок\n",
    "8. Общий вывод"
   ]
  },
  {
   "attachments": {},
   "cell_type": "markdown",
   "id": "8eb50fbd-75b2-4121-a1c4-72d6c1f75d10",
   "metadata": {},
   "source": [
    "## Загрузка данных"
   ]
  },
  {
   "cell_type": "code",
   "execution_count": 2,
   "id": "497c861b-88e0-48a6-89ca-0a3de82db78e",
   "metadata": {
    "tags": []
   },
   "outputs": [],
   "source": [
    "import numpy as np\n",
    "import pandas as pd\n",
    "\n"
   ]
  },
  {
   "cell_type": "code",
   "execution_count": 3,
   "id": "7dbea9ce-0030-40be-b9e2-0a3566ab29f5",
   "metadata": {
    "tags": []
   },
   "outputs": [
    {
     "data": {
      "text/html": [
       "<div>\n",
       "<style scoped>\n",
       "    .dataframe tbody tr th:only-of-type {\n",
       "        vertical-align: middle;\n",
       "    }\n",
       "\n",
       "    .dataframe tbody tr th {\n",
       "        vertical-align: top;\n",
       "    }\n",
       "\n",
       "    .dataframe thead th {\n",
       "        text-align: right;\n",
       "    }\n",
       "</style>\n",
       "<table border=\"1\" class=\"dataframe\">\n",
       "  <thead>\n",
       "    <tr style=\"text-align: right;\">\n",
       "      <th></th>\n",
       "      <th>gender</th>\n",
       "      <th>age</th>\n",
       "      <th>hypertension</th>\n",
       "      <th>heart_disease</th>\n",
       "      <th>smoking_history</th>\n",
       "      <th>bmi</th>\n",
       "      <th>HbA1c_level</th>\n",
       "      <th>blood_glucose_level</th>\n",
       "      <th>diabetes</th>\n",
       "    </tr>\n",
       "  </thead>\n",
       "  <tbody>\n",
       "    <tr>\n",
       "      <th>0</th>\n",
       "      <td>Female</td>\n",
       "      <td>80.0</td>\n",
       "      <td>0</td>\n",
       "      <td>1</td>\n",
       "      <td>never</td>\n",
       "      <td>25.19</td>\n",
       "      <td>6.6</td>\n",
       "      <td>140</td>\n",
       "      <td>0</td>\n",
       "    </tr>\n",
       "    <tr>\n",
       "      <th>1</th>\n",
       "      <td>Female</td>\n",
       "      <td>54.0</td>\n",
       "      <td>0</td>\n",
       "      <td>0</td>\n",
       "      <td>No Info</td>\n",
       "      <td>27.32</td>\n",
       "      <td>6.6</td>\n",
       "      <td>80</td>\n",
       "      <td>0</td>\n",
       "    </tr>\n",
       "    <tr>\n",
       "      <th>2</th>\n",
       "      <td>Male</td>\n",
       "      <td>28.0</td>\n",
       "      <td>0</td>\n",
       "      <td>0</td>\n",
       "      <td>never</td>\n",
       "      <td>27.32</td>\n",
       "      <td>5.7</td>\n",
       "      <td>158</td>\n",
       "      <td>0</td>\n",
       "    </tr>\n",
       "    <tr>\n",
       "      <th>3</th>\n",
       "      <td>Female</td>\n",
       "      <td>36.0</td>\n",
       "      <td>0</td>\n",
       "      <td>0</td>\n",
       "      <td>current</td>\n",
       "      <td>23.45</td>\n",
       "      <td>5.0</td>\n",
       "      <td>155</td>\n",
       "      <td>0</td>\n",
       "    </tr>\n",
       "    <tr>\n",
       "      <th>4</th>\n",
       "      <td>Male</td>\n",
       "      <td>76.0</td>\n",
       "      <td>1</td>\n",
       "      <td>1</td>\n",
       "      <td>current</td>\n",
       "      <td>20.14</td>\n",
       "      <td>4.8</td>\n",
       "      <td>155</td>\n",
       "      <td>0</td>\n",
       "    </tr>\n",
       "  </tbody>\n",
       "</table>\n",
       "</div>"
      ],
      "text/plain": [
       "   gender   age  hypertension  heart_disease smoking_history    bmi   \n",
       "0  Female  80.0             0              1           never  25.19  \\\n",
       "1  Female  54.0             0              0         No Info  27.32   \n",
       "2    Male  28.0             0              0           never  27.32   \n",
       "3  Female  36.0             0              0         current  23.45   \n",
       "4    Male  76.0             1              1         current  20.14   \n",
       "\n",
       "   HbA1c_level  blood_glucose_level  diabetes  \n",
       "0          6.6                  140         0  \n",
       "1          6.6                   80         0  \n",
       "2          5.7                  158         0  \n",
       "3          5.0                  155         0  \n",
       "4          4.8                  155         0  "
      ]
     },
     "execution_count": 3,
     "metadata": {},
     "output_type": "execute_result"
    }
   ],
   "source": [
    "df = pd.read_csv('https://raw.githubusercontent.com/W1llAnn/1tdata-homework/main/1.5diabetes_prediction_dataset.csv', delimiter=',')\n",
    "df.head()"
   ]
  },
  {
   "attachments": {},
   "cell_type": "markdown",
   "id": "bf3d0f9d-b71e-4d92-acf4-d8d1e8813aaa",
   "metadata": {
    "id": "59d8f6d7",
    "papermill": {
     "duration": 0.110182,
     "end_time": "2022-09-17T00:13:04.215152",
     "exception": false,
     "start_time": "2022-09-17T00:13:04.104970",
     "status": "completed"
    },
    "tags": []
   },
   "source": [
    "## Описательный анализ данных"
   ]
  },
  {
   "attachments": {},
   "cell_type": "markdown",
   "id": "3ec076bb-19f6-41aa-bcd8-563f989fa937",
   "metadata": {},
   "source": [
    "Рассмотрите данные —  изучите медианы, средние, дисперсии и т.д. \n",
    "\n",
    "Что можете сказать о данных? Сделайте вывод."
   ]
  },
  {
   "cell_type": "code",
   "execution_count": 4,
   "id": "18b3a676-9cfc-4574-b5f5-b631bb0540e4",
   "metadata": {},
   "outputs": [
    {
     "name": "stdout",
     "output_type": "stream",
     "text": [
      "<class 'pandas.core.frame.DataFrame'>\n",
      "RangeIndex: 100000 entries, 0 to 99999\n",
      "Data columns (total 9 columns):\n",
      " #   Column               Non-Null Count   Dtype  \n",
      "---  ------               --------------   -----  \n",
      " 0   gender               100000 non-null  object \n",
      " 1   age                  100000 non-null  float64\n",
      " 2   hypertension         100000 non-null  int64  \n",
      " 3   heart_disease        100000 non-null  int64  \n",
      " 4   smoking_history      100000 non-null  object \n",
      " 5   bmi                  100000 non-null  float64\n",
      " 6   HbA1c_level          100000 non-null  float64\n",
      " 7   blood_glucose_level  100000 non-null  int64  \n",
      " 8   diabetes             100000 non-null  int64  \n",
      "dtypes: float64(3), int64(4), object(2)\n",
      "memory usage: 6.9+ MB\n"
     ]
    }
   ],
   "source": [
    "df.info()"
   ]
  },
  {
   "attachments": {},
   "cell_type": "markdown",
   "id": "136f2dac",
   "metadata": {},
   "source": [
    "Опишем наш датафрейм в общем:\n",
    " - Всего 100000 строки, пустые строки (NaN) отсутствуют\n",
    " - Всего 9 колонок. Из них со значениями float64 3 колонки, int64 4 колонки, object 2 колонки\n",
    " - Объем занимаемый датафреймом 6.9+ MB"
   ]
  },
  {
   "attachments": {},
   "cell_type": "markdown",
   "id": "d14d1563",
   "metadata": {},
   "source": [
    "Рассмотрим статистику для числовых данных:"
   ]
  },
  {
   "cell_type": "code",
   "execution_count": 5,
   "id": "7ca9bf37",
   "metadata": {},
   "outputs": [
    {
     "data": {
      "text/html": [
       "<div>\n",
       "<style scoped>\n",
       "    .dataframe tbody tr th:only-of-type {\n",
       "        vertical-align: middle;\n",
       "    }\n",
       "\n",
       "    .dataframe tbody tr th {\n",
       "        vertical-align: top;\n",
       "    }\n",
       "\n",
       "    .dataframe thead th {\n",
       "        text-align: right;\n",
       "    }\n",
       "</style>\n",
       "<table border=\"1\" class=\"dataframe\">\n",
       "  <thead>\n",
       "    <tr style=\"text-align: right;\">\n",
       "      <th></th>\n",
       "      <th>age</th>\n",
       "      <th>hypertension</th>\n",
       "      <th>heart_disease</th>\n",
       "      <th>bmi</th>\n",
       "      <th>HbA1c_level</th>\n",
       "      <th>blood_glucose_level</th>\n",
       "      <th>diabetes</th>\n",
       "    </tr>\n",
       "  </thead>\n",
       "  <tbody>\n",
       "    <tr>\n",
       "      <th>count</th>\n",
       "      <td>100000.000000</td>\n",
       "      <td>100000.00000</td>\n",
       "      <td>100000.000000</td>\n",
       "      <td>100000.000000</td>\n",
       "      <td>100000.000000</td>\n",
       "      <td>100000.000000</td>\n",
       "      <td>100000.000000</td>\n",
       "    </tr>\n",
       "    <tr>\n",
       "      <th>mean</th>\n",
       "      <td>41.885856</td>\n",
       "      <td>0.07485</td>\n",
       "      <td>0.039420</td>\n",
       "      <td>27.320767</td>\n",
       "      <td>5.527507</td>\n",
       "      <td>138.058060</td>\n",
       "      <td>0.085000</td>\n",
       "    </tr>\n",
       "    <tr>\n",
       "      <th>std</th>\n",
       "      <td>22.516840</td>\n",
       "      <td>0.26315</td>\n",
       "      <td>0.194593</td>\n",
       "      <td>6.636783</td>\n",
       "      <td>1.070672</td>\n",
       "      <td>40.708136</td>\n",
       "      <td>0.278883</td>\n",
       "    </tr>\n",
       "    <tr>\n",
       "      <th>min</th>\n",
       "      <td>0.080000</td>\n",
       "      <td>0.00000</td>\n",
       "      <td>0.000000</td>\n",
       "      <td>10.010000</td>\n",
       "      <td>3.500000</td>\n",
       "      <td>80.000000</td>\n",
       "      <td>0.000000</td>\n",
       "    </tr>\n",
       "    <tr>\n",
       "      <th>25%</th>\n",
       "      <td>24.000000</td>\n",
       "      <td>0.00000</td>\n",
       "      <td>0.000000</td>\n",
       "      <td>23.630000</td>\n",
       "      <td>4.800000</td>\n",
       "      <td>100.000000</td>\n",
       "      <td>0.000000</td>\n",
       "    </tr>\n",
       "    <tr>\n",
       "      <th>50%</th>\n",
       "      <td>43.000000</td>\n",
       "      <td>0.00000</td>\n",
       "      <td>0.000000</td>\n",
       "      <td>27.320000</td>\n",
       "      <td>5.800000</td>\n",
       "      <td>140.000000</td>\n",
       "      <td>0.000000</td>\n",
       "    </tr>\n",
       "    <tr>\n",
       "      <th>75%</th>\n",
       "      <td>60.000000</td>\n",
       "      <td>0.00000</td>\n",
       "      <td>0.000000</td>\n",
       "      <td>29.580000</td>\n",
       "      <td>6.200000</td>\n",
       "      <td>159.000000</td>\n",
       "      <td>0.000000</td>\n",
       "    </tr>\n",
       "    <tr>\n",
       "      <th>max</th>\n",
       "      <td>80.000000</td>\n",
       "      <td>1.00000</td>\n",
       "      <td>1.000000</td>\n",
       "      <td>95.690000</td>\n",
       "      <td>9.000000</td>\n",
       "      <td>300.000000</td>\n",
       "      <td>1.000000</td>\n",
       "    </tr>\n",
       "  </tbody>\n",
       "</table>\n",
       "</div>"
      ],
      "text/plain": [
       "                 age  hypertension  heart_disease            bmi   \n",
       "count  100000.000000  100000.00000  100000.000000  100000.000000  \\\n",
       "mean       41.885856       0.07485       0.039420      27.320767   \n",
       "std        22.516840       0.26315       0.194593       6.636783   \n",
       "min         0.080000       0.00000       0.000000      10.010000   \n",
       "25%        24.000000       0.00000       0.000000      23.630000   \n",
       "50%        43.000000       0.00000       0.000000      27.320000   \n",
       "75%        60.000000       0.00000       0.000000      29.580000   \n",
       "max        80.000000       1.00000       1.000000      95.690000   \n",
       "\n",
       "         HbA1c_level  blood_glucose_level       diabetes  \n",
       "count  100000.000000        100000.000000  100000.000000  \n",
       "mean        5.527507           138.058060       0.085000  \n",
       "std         1.070672            40.708136       0.278883  \n",
       "min         3.500000            80.000000       0.000000  \n",
       "25%         4.800000           100.000000       0.000000  \n",
       "50%         5.800000           140.000000       0.000000  \n",
       "75%         6.200000           159.000000       0.000000  \n",
       "max         9.000000           300.000000       1.000000  "
      ]
     },
     "execution_count": 5,
     "metadata": {},
     "output_type": "execute_result"
    }
   ],
   "source": [
    "df.describe()"
   ]
  },
  {
   "cell_type": "code",
   "execution_count": 6,
   "id": "d43a06f6",
   "metadata": {},
   "outputs": [
    {
     "data": {
      "text/html": [
       "<div>\n",
       "<style scoped>\n",
       "    .dataframe tbody tr th:only-of-type {\n",
       "        vertical-align: middle;\n",
       "    }\n",
       "\n",
       "    .dataframe tbody tr th {\n",
       "        vertical-align: top;\n",
       "    }\n",
       "\n",
       "    .dataframe thead th {\n",
       "        text-align: right;\n",
       "    }\n",
       "</style>\n",
       "<table border=\"1\" class=\"dataframe\">\n",
       "  <thead>\n",
       "    <tr style=\"text-align: right;\">\n",
       "      <th></th>\n",
       "      <th>gender</th>\n",
       "      <th>smoking_history</th>\n",
       "    </tr>\n",
       "  </thead>\n",
       "  <tbody>\n",
       "    <tr>\n",
       "      <th>count</th>\n",
       "      <td>100000</td>\n",
       "      <td>100000</td>\n",
       "    </tr>\n",
       "    <tr>\n",
       "      <th>unique</th>\n",
       "      <td>3</td>\n",
       "      <td>6</td>\n",
       "    </tr>\n",
       "    <tr>\n",
       "      <th>top</th>\n",
       "      <td>Female</td>\n",
       "      <td>No Info</td>\n",
       "    </tr>\n",
       "    <tr>\n",
       "      <th>freq</th>\n",
       "      <td>58552</td>\n",
       "      <td>35816</td>\n",
       "    </tr>\n",
       "  </tbody>\n",
       "</table>\n",
       "</div>"
      ],
      "text/plain": [
       "        gender smoking_history\n",
       "count   100000          100000\n",
       "unique       3               6\n",
       "top     Female         No Info\n",
       "freq     58552           35816"
      ]
     },
     "execution_count": 6,
     "metadata": {},
     "output_type": "execute_result"
    }
   ],
   "source": [
    "df.describe(include='object')"
   ]
  },
  {
   "attachments": {},
   "cell_type": "markdown",
   "id": "5e822fd1-cdae-4b65-aea8-7b95036f401f",
   "metadata": {},
   "source": [
    "**Вывод:**\n",
    "\n",
    "*   Все значения по выборке заполнены\n",
    "*   Средний возраст по выборке 41,89, медианный 43"
   ]
  },
  {
   "attachments": {},
   "cell_type": "markdown",
   "id": "65f1e2ea",
   "metadata": {},
   "source": [
    " - У большинства выборки нет гипертонии и болезней сердца "
   ]
  },
  {
   "attachments": {},
   "cell_type": "markdown",
   "id": "6b54496e",
   "metadata": {},
   "source": [
    " - Среднее значение и медиана bmi говорит нам, что в выборке преобладает избыточный вес (25–29,9). Хотя в выборке есть как недостаточный вес (менее 18,5), нормальный (18,5–24,9) и люди с ожирением (30 и более)"
   ]
  },
  {
   "attachments": {},
   "cell_type": "markdown",
   "id": "3594064d",
   "metadata": {},
   "source": [
    " - Уровень HbA1c (среднего уровня сахара в крови человека за последние 2-3 месяца) в среднем 5,52 (медиана 5,8), что говорит о том, что в среднем по выборке высокий риск диабета. И стандартное отклонение 1.07 говорит нам о том, что у части выборки уже есть диабет, а у другой части нет. "
   ]
  },
  {
   "attachments": {},
   "cell_type": "markdown",
   "id": "c6946f7a",
   "metadata": {},
   "source": [
    " - Среднее значение уровня глюкозы в крови 138,06, медиана 140. 140 - это верхняя граница нормального сахара в крови, 80 - нижняя граница. Значит мы можем говорить что примерно у половины выборки уровень глюкозы в пределах верхней границы нормы."
   ]
  },
  {
   "attachments": {},
   "cell_type": "markdown",
   "id": "e3f4f389",
   "metadata": {},
   "source": [
    " - В выборке больше Женщин (58,55%)"
   ]
  },
  {
   "attachments": {},
   "cell_type": "markdown",
   "id": "db0636b9",
   "metadata": {},
   "source": [
    " - Чаще встречается No Info в опыте курения"
   ]
  },
  {
   "attachments": {},
   "cell_type": "markdown",
   "id": "cb6af088",
   "metadata": {},
   "source": [
    " - В среднем по выборке людей с диагнозом диабет меньше, чем без диабета"
   ]
  },
  {
   "attachments": {},
   "cell_type": "markdown",
   "id": "fff9b8bc-d0b4-4f84-94da-067a18d0349e",
   "metadata": {
    "id": "33d1abb3",
    "papermill": {
     "duration": 0.107391,
     "end_time": "2022-09-17T00:13:03.296525",
     "exception": false,
     "start_time": "2022-09-17T00:13:03.189134",
     "status": "completed"
    },
    "tags": []
   },
   "source": [
    "## Предобработка данных"
   ]
  },
  {
   "attachments": {},
   "cell_type": "markdown",
   "id": "bd50f385-311b-4492-9058-afdf41a0d7a9",
   "metadata": {
    "id": "8e8f7fbc",
    "papermill": {
     "duration": 0.110418,
     "end_time": "2022-09-17T00:13:05.443495",
     "exception": false,
     "start_time": "2022-09-17T00:13:05.333077",
     "status": "completed"
    },
    "tags": []
   },
   "source": [
    "### Дубликаты"
   ]
  },
  {
   "attachments": {},
   "cell_type": "markdown",
   "id": "eb5ddc29-2de4-48a3-9e82-e02cc6e35b6e",
   "metadata": {},
   "source": [
    "Предобработайте датасет —  проверьте на наличие дубликатов и удалите, если они есть."
   ]
  },
  {
   "cell_type": "code",
   "execution_count": 7,
   "id": "458d9a42-b9b0-4d14-a3cb-fed97be031cf",
   "metadata": {},
   "outputs": [
    {
     "data": {
      "text/plain": [
       "3854"
      ]
     },
     "execution_count": 7,
     "metadata": {},
     "output_type": "execute_result"
    }
   ],
   "source": [
    "len(df)- len(df.drop_duplicates ())"
   ]
  },
  {
   "attachments": {},
   "cell_type": "markdown",
   "id": "6b910c24",
   "metadata": {},
   "source": [
    "Всего 3854 дубликата, удалим их"
   ]
  },
  {
   "cell_type": "code",
   "execution_count": 8,
   "id": "ac48829a",
   "metadata": {},
   "outputs": [],
   "source": [
    "df = df.drop_duplicates()"
   ]
  },
  {
   "attachments": {},
   "cell_type": "markdown",
   "id": "e1988b40-273b-4f86-9fa0-c1ba345bce50",
   "metadata": {
    "id": "8e8f7fbc",
    "papermill": {
     "duration": 0.110418,
     "end_time": "2022-09-17T00:13:05.443495",
     "exception": false,
     "start_time": "2022-09-17T00:13:05.333077",
     "status": "completed"
    },
    "tags": []
   },
   "source": [
    "### Отсутствующие значения"
   ]
  },
  {
   "attachments": {},
   "cell_type": "markdown",
   "id": "57dbafd8-156b-430c-8022-51e996aceb74",
   "metadata": {},
   "source": [
    "Предобработайте датасет — проверьте на наличие NaN и удалите или заполните значения."
   ]
  },
  {
   "cell_type": "code",
   "execution_count": 10,
   "id": "28ea7d60-e0b5-4bc2-b78b-48f8b4757e26",
   "metadata": {},
   "outputs": [
    {
     "data": {
      "text/plain": [
       "gender                 0\n",
       "age                    0\n",
       "hypertension           0\n",
       "heart_disease          0\n",
       "smoking_history        0\n",
       "bmi                    0\n",
       "HbA1c_level            0\n",
       "blood_glucose_level    0\n",
       "diabetes               0\n",
       "dtype: int64"
      ]
     },
     "execution_count": 10,
     "metadata": {},
     "output_type": "execute_result"
    }
   ],
   "source": [
    "df.isna().sum()"
   ]
  },
  {
   "attachments": {},
   "cell_type": "markdown",
   "id": "c3594663",
   "metadata": {},
   "source": [
    "Пропусков в данных средствами Pandas мы не видим, поэтому посмотрим по-другому:"
   ]
  },
  {
   "cell_type": "code",
   "execution_count": 17,
   "id": "576cb6ef",
   "metadata": {},
   "outputs": [
    {
     "data": {
      "text/plain": [
       "array(['Female', 'Male', 'Other'], dtype=object)"
      ]
     },
     "execution_count": 17,
     "metadata": {},
     "output_type": "execute_result"
    }
   ],
   "source": [
    "df['gender'].unique()"
   ]
  },
  {
   "attachments": {},
   "cell_type": "markdown",
   "id": "cc80b1af-9520-47c2-adf7-741112d47b5b",
   "metadata": {
    "id": "pt3BGKLdPcn9"
   },
   "source": [
    "### Изменение типа данных"
   ]
  },
  {
   "attachments": {},
   "cell_type": "markdown",
   "id": "3db1434b-1f4c-431b-9636-d25b56211ea6",
   "metadata": {},
   "source": [
    "Рассмотрев все данные, замените типы на нужные (при необходимости):\n",
    "\n",
    "- Если есть числа — на `int` или `float`\n",
    "- Если категории — можно оставить `object`"
   ]
  },
  {
   "cell_type": "code",
   "execution_count": 23,
   "id": "6e5251e4-a103-4bfe-835f-6b61acc55034",
   "metadata": {},
   "outputs": [],
   "source": [
    "# ваш код здесь"
   ]
  },
  {
   "attachments": {},
   "cell_type": "markdown",
   "id": "751d5277-0ca2-4c0e-b505-ce1e8eab13be",
   "metadata": {},
   "source": [
    "**Вывод:**"
   ]
  },
  {
   "attachments": {},
   "cell_type": "markdown",
   "id": "68b6270d-f535-45bc-a844-71e21228ac1c",
   "metadata": {},
   "source": [
    "## Визуализация"
   ]
  },
  {
   "attachments": {},
   "cell_type": "markdown",
   "id": "4d2c7ebe-2fe2-46d0-93b7-fe9aef040700",
   "metadata": {},
   "source": [
    "Построим графики:\n",
    "\n",
    "1. Построение гистограмм числовых переменных\n",
    "2. Построение диаграмм размаха для определения наличия выбросов (ящики с усами) числовых переменных\n",
    "3. Построение столбчатых диаграмм для категориальных переменных\n",
    "4. Построение матрицы корреляции признаков (Phik или Пирсона)\n",
    "\n",
    "После построения опишите выборку. Что она из себя представляет? Есть ли зависимости?"
   ]
  },
  {
   "cell_type": "code",
   "execution_count": null,
   "id": "eef038c8-fdf0-4deb-b60f-fd8a3460304a",
   "metadata": {},
   "outputs": [],
   "source": [
    "# ваш код здесь"
   ]
  },
  {
   "attachments": {},
   "cell_type": "markdown",
   "id": "01a82879-56e9-4b0d-80e3-6a48f2db59ea",
   "metadata": {},
   "source": [
    "**Вывод:**"
   ]
  },
  {
   "attachments": {},
   "cell_type": "markdown",
   "id": "22647abf-7f5a-4901-99cb-43f3754a793b",
   "metadata": {},
   "source": [
    "## Сравнение выборок"
   ]
  },
  {
   "attachments": {},
   "cell_type": "markdown",
   "id": "be35e14a-ce9f-4f29-9d16-89b8d2928e88",
   "metadata": {},
   "source": [
    "После построения всех типов графиков, необходимо провести анализ:\n",
    "\n",
    "Отобразите на одном графике две выборки — люди с диабетом и без и сравните их.\n",
    "\n",
    "1. Для числовых признаков — гистограммы и ящики с усами.\n",
    "2. Для категориальных — столбчатые диаграммы.\n",
    "\n",
    "После напишите вывод, есть ли какая-то зависимость?"
   ]
  },
  {
   "cell_type": "code",
   "execution_count": null,
   "id": "a4a05a86-1fb9-4d4e-acec-7ed35b2aa410",
   "metadata": {},
   "outputs": [],
   "source": [
    "# ваш код здесь"
   ]
  },
  {
   "attachments": {},
   "cell_type": "markdown",
   "id": "c8719379-c881-4a80-a121-b05cbf675915",
   "metadata": {},
   "source": [
    "**Вывод:**"
   ]
  },
  {
   "attachments": {},
   "cell_type": "markdown",
   "id": "079712f0-0d20-4ced-a0eb-80f649711e2f",
   "metadata": {
    "tags": []
   },
   "source": [
    "## ЗАДАЧИ PRO"
   ]
  },
  {
   "attachments": {},
   "cell_type": "markdown",
   "id": "80df73c7-5a3f-42cd-90a3-2e6c78bb9277",
   "metadata": {},
   "source": [
    "Мы провели базовый анализ выше и сделали выводы.\n",
    "\n",
    "Но даёт ли этот результат полную картину? Наша цель — узнать, каков риск возникновения диабета у пациента.\n",
    "\n",
    "Ваша задача — воспользоваться ранее приобретенными навыками и дополнить общий вывод. \n",
    "\n",
    "**Этапы:**\n",
    "\n",
    "1) Разделите выборки и постройте дополнительные графики. Может стоит разделить на несколько выборок и сравнить графики там?\n",
    "2) Постройте `pairplot` с параметром `hue=='diabetes'`. Может там тоже где-то кроется истина?\n",
    "2) Постройте тепловую карту корреляции `Phik` и сделайте дополнительный вывод.\n",
    "3) Дополните общий вывод. \n",
    "\n",
    "**Примечание:** задание не ограничено только этими этапами. Можно их дополнить — может стоит сделать фильтр данных, рассмотреть данные под другим углом и провести дополнительную аналитику? Средствами и методами не ограничены."
   ]
  },
  {
   "cell_type": "code",
   "execution_count": null,
   "id": "f500714e-b840-4a6e-bbcc-12bebe9ace9e",
   "metadata": {},
   "outputs": [],
   "source": [
    "# ваш код здесь"
   ]
  },
  {
   "attachments": {},
   "cell_type": "markdown",
   "id": "57a7fcd0-f2eb-407c-ab40-bd3b0cd3533a",
   "metadata": {},
   "source": [
    "# Общий вывод"
   ]
  },
  {
   "attachments": {},
   "cell_type": "markdown",
   "id": "c1a14998-7bbe-4114-b471-81f207993c8f",
   "metadata": {},
   "source": [
    "Опишите данные и результат исследования, основываясь на предыдущих шагах:"
   ]
  }
 ],
 "metadata": {
  "kernelspec": {
   "display_name": "Python 3 (ipykernel)",
   "language": "python",
   "name": "python3"
  },
  "language_info": {
   "codemirror_mode": {
    "name": "ipython",
    "version": 3
   },
   "file_extension": ".py",
   "mimetype": "text/x-python",
   "name": "python",
   "nbconvert_exporter": "python",
   "pygments_lexer": "ipython3",
   "version": "3.10.11"
  }
 },
 "nbformat": 4,
 "nbformat_minor": 5
}
