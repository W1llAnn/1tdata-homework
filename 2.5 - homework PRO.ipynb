{
 "cells": [
  {
   "cell_type": "markdown",
   "id": "424b487c",
   "metadata": {},
   "source": [
    "**Основные цели этого задания**:\n",
    "*   Научиться понижать размерность данных\n",
    "*   Попрактиковаться в обучении моделей кластеризации"
   ]
  },
  {
   "cell_type": "markdown",
   "id": "ece77df0",
   "metadata": {},
   "source": [
    "**Задача: по замерам акселерометра и гироскопа, произведенным с помощью телефона, находящегося на поясе, научиться отделять различные типы активностей друг от друга**"
   ]
  },
  {
   "cell_type": "code",
   "execution_count": 5,
   "id": "0b420a9c",
   "metadata": {},
   "outputs": [],
   "source": [
    "import numpy as np\n",
    "import pandas as pd\n",
    "\n",
    "from matplotlib import pyplot as plt\n",
    "from tqdm import tqdm\n",
    "from sklearn.cluster import KMeans\n",
    "from sklearn.feature_selection import VarianceThreshold\n",
    "from sklearn.decomposition import PCA\n",
    "from sklearn.preprocessing import StandardScaler"
   ]
  },
  {
   "cell_type": "markdown",
   "id": "f9930265",
   "metadata": {},
   "source": [
    "*1. Загрузите данные из источника по ссылке. Нам нужен файл X_train.txt (там будет чуть более 7 тысяч наблюдений). Чтобы подгрузить этот файл, можно воспользоваться функцией loadtxt библиотеки numpy.*"
   ]
  },
  {
   "cell_type": "code",
   "execution_count": 98,
   "id": "1c7093e6",
   "metadata": {},
   "outputs": [],
   "source": [
    "X_train = np.loadtxt('https://raw.githubusercontent.com/W1llAnn/1tdata-homework/main/2.5X_train.txt')"
   ]
  },
  {
   "cell_type": "code",
   "execution_count": 99,
   "id": "8ffc0c35",
   "metadata": {},
   "outputs": [
    {
     "name": "stdout",
     "output_type": "stream",
     "text": [
      "shape of data: (7352, 561)\n",
      "datatype of data: float64\n"
     ]
    }
   ],
   "source": [
    "print(\"shape of data:\",X_train.shape)\n",
    "print(\"datatype of data:\",X_train.dtype)"
   ]
  },
  {
   "cell_type": "markdown",
   "id": "923fcef7",
   "metadata": {},
   "source": [
    "*2. Ознакомьтесь с данными*:\n",
    "*   выведите количество признаков;\n",
    "*   есть ли в данных пропуски;\n",
    "*   отличаются ли различные признаки по масштабу"
   ]
  },
  {
   "cell_type": "markdown",
   "id": "7658caf2",
   "metadata": {},
   "source": [
    "Можно перевести данные в DataFrame для более \"красивого\" отображения:"
   ]
  },
  {
   "cell_type": "code",
   "execution_count": 100,
   "id": "07145313",
   "metadata": {},
   "outputs": [],
   "source": [
    "df = pd.DataFrame(data=X_train)"
   ]
  },
  {
   "cell_type": "code",
   "execution_count": 101,
   "id": "af99ea84",
   "metadata": {},
   "outputs": [
    {
     "data": {
      "text/html": [
       "<div>\n",
       "<style scoped>\n",
       "    .dataframe tbody tr th:only-of-type {\n",
       "        vertical-align: middle;\n",
       "    }\n",
       "\n",
       "    .dataframe tbody tr th {\n",
       "        vertical-align: top;\n",
       "    }\n",
       "\n",
       "    .dataframe thead th {\n",
       "        text-align: right;\n",
       "    }\n",
       "</style>\n",
       "<table border=\"1\" class=\"dataframe\">\n",
       "  <thead>\n",
       "    <tr style=\"text-align: right;\">\n",
       "      <th></th>\n",
       "      <th>0</th>\n",
       "      <th>1</th>\n",
       "      <th>2</th>\n",
       "      <th>3</th>\n",
       "      <th>4</th>\n",
       "      <th>5</th>\n",
       "      <th>6</th>\n",
       "      <th>7</th>\n",
       "      <th>8</th>\n",
       "      <th>9</th>\n",
       "      <th>...</th>\n",
       "      <th>551</th>\n",
       "      <th>552</th>\n",
       "      <th>553</th>\n",
       "      <th>554</th>\n",
       "      <th>555</th>\n",
       "      <th>556</th>\n",
       "      <th>557</th>\n",
       "      <th>558</th>\n",
       "      <th>559</th>\n",
       "      <th>560</th>\n",
       "    </tr>\n",
       "  </thead>\n",
       "  <tbody>\n",
       "    <tr>\n",
       "      <th>0</th>\n",
       "      <td>0.288585</td>\n",
       "      <td>-0.020294</td>\n",
       "      <td>-0.132905</td>\n",
       "      <td>-0.995279</td>\n",
       "      <td>-0.983111</td>\n",
       "      <td>-0.913526</td>\n",
       "      <td>-0.995112</td>\n",
       "      <td>-0.983185</td>\n",
       "      <td>-0.923527</td>\n",
       "      <td>-0.934724</td>\n",
       "      <td>...</td>\n",
       "      <td>-0.074323</td>\n",
       "      <td>-0.298676</td>\n",
       "      <td>-0.710304</td>\n",
       "      <td>-0.112754</td>\n",
       "      <td>0.030400</td>\n",
       "      <td>-0.464761</td>\n",
       "      <td>-0.018446</td>\n",
       "      <td>-0.841247</td>\n",
       "      <td>0.179941</td>\n",
       "      <td>-0.058627</td>\n",
       "    </tr>\n",
       "    <tr>\n",
       "      <th>1</th>\n",
       "      <td>0.278419</td>\n",
       "      <td>-0.016411</td>\n",
       "      <td>-0.123520</td>\n",
       "      <td>-0.998245</td>\n",
       "      <td>-0.975300</td>\n",
       "      <td>-0.960322</td>\n",
       "      <td>-0.998807</td>\n",
       "      <td>-0.974914</td>\n",
       "      <td>-0.957686</td>\n",
       "      <td>-0.943068</td>\n",
       "      <td>...</td>\n",
       "      <td>0.158075</td>\n",
       "      <td>-0.595051</td>\n",
       "      <td>-0.861499</td>\n",
       "      <td>0.053477</td>\n",
       "      <td>-0.007435</td>\n",
       "      <td>-0.732626</td>\n",
       "      <td>0.703511</td>\n",
       "      <td>-0.844788</td>\n",
       "      <td>0.180289</td>\n",
       "      <td>-0.054317</td>\n",
       "    </tr>\n",
       "    <tr>\n",
       "      <th>2</th>\n",
       "      <td>0.279653</td>\n",
       "      <td>-0.019467</td>\n",
       "      <td>-0.113462</td>\n",
       "      <td>-0.995380</td>\n",
       "      <td>-0.967187</td>\n",
       "      <td>-0.978944</td>\n",
       "      <td>-0.996520</td>\n",
       "      <td>-0.963668</td>\n",
       "      <td>-0.977469</td>\n",
       "      <td>-0.938692</td>\n",
       "      <td>...</td>\n",
       "      <td>0.414503</td>\n",
       "      <td>-0.390748</td>\n",
       "      <td>-0.760104</td>\n",
       "      <td>-0.118559</td>\n",
       "      <td>0.177899</td>\n",
       "      <td>0.100699</td>\n",
       "      <td>0.808529</td>\n",
       "      <td>-0.848933</td>\n",
       "      <td>0.180637</td>\n",
       "      <td>-0.049118</td>\n",
       "    </tr>\n",
       "    <tr>\n",
       "      <th>3</th>\n",
       "      <td>0.279174</td>\n",
       "      <td>-0.026201</td>\n",
       "      <td>-0.123283</td>\n",
       "      <td>-0.996091</td>\n",
       "      <td>-0.983403</td>\n",
       "      <td>-0.990675</td>\n",
       "      <td>-0.997099</td>\n",
       "      <td>-0.982750</td>\n",
       "      <td>-0.989302</td>\n",
       "      <td>-0.938692</td>\n",
       "      <td>...</td>\n",
       "      <td>0.404573</td>\n",
       "      <td>-0.117290</td>\n",
       "      <td>-0.482845</td>\n",
       "      <td>-0.036788</td>\n",
       "      <td>-0.012892</td>\n",
       "      <td>0.640011</td>\n",
       "      <td>-0.485366</td>\n",
       "      <td>-0.848649</td>\n",
       "      <td>0.181935</td>\n",
       "      <td>-0.047663</td>\n",
       "    </tr>\n",
       "    <tr>\n",
       "      <th>4</th>\n",
       "      <td>0.276629</td>\n",
       "      <td>-0.016570</td>\n",
       "      <td>-0.115362</td>\n",
       "      <td>-0.998139</td>\n",
       "      <td>-0.980817</td>\n",
       "      <td>-0.990482</td>\n",
       "      <td>-0.998321</td>\n",
       "      <td>-0.979672</td>\n",
       "      <td>-0.990441</td>\n",
       "      <td>-0.942469</td>\n",
       "      <td>...</td>\n",
       "      <td>0.087753</td>\n",
       "      <td>-0.351471</td>\n",
       "      <td>-0.699205</td>\n",
       "      <td>0.123320</td>\n",
       "      <td>0.122542</td>\n",
       "      <td>0.693578</td>\n",
       "      <td>-0.615971</td>\n",
       "      <td>-0.847865</td>\n",
       "      <td>0.185151</td>\n",
       "      <td>-0.043892</td>\n",
       "    </tr>\n",
       "  </tbody>\n",
       "</table>\n",
       "<p>5 rows × 561 columns</p>\n",
       "</div>"
      ],
      "text/plain": [
       "        0         1         2         3         4         5         6     \n",
       "0  0.288585 -0.020294 -0.132905 -0.995279 -0.983111 -0.913526 -0.995112  \\\n",
       "1  0.278419 -0.016411 -0.123520 -0.998245 -0.975300 -0.960322 -0.998807   \n",
       "2  0.279653 -0.019467 -0.113462 -0.995380 -0.967187 -0.978944 -0.996520   \n",
       "3  0.279174 -0.026201 -0.123283 -0.996091 -0.983403 -0.990675 -0.997099   \n",
       "4  0.276629 -0.016570 -0.115362 -0.998139 -0.980817 -0.990482 -0.998321   \n",
       "\n",
       "        7         8         9    ...       551       552       553       554   \n",
       "0 -0.983185 -0.923527 -0.934724  ... -0.074323 -0.298676 -0.710304 -0.112754  \\\n",
       "1 -0.974914 -0.957686 -0.943068  ...  0.158075 -0.595051 -0.861499  0.053477   \n",
       "2 -0.963668 -0.977469 -0.938692  ...  0.414503 -0.390748 -0.760104 -0.118559   \n",
       "3 -0.982750 -0.989302 -0.938692  ...  0.404573 -0.117290 -0.482845 -0.036788   \n",
       "4 -0.979672 -0.990441 -0.942469  ...  0.087753 -0.351471 -0.699205  0.123320   \n",
       "\n",
       "        555       556       557       558       559       560  \n",
       "0  0.030400 -0.464761 -0.018446 -0.841247  0.179941 -0.058627  \n",
       "1 -0.007435 -0.732626  0.703511 -0.844788  0.180289 -0.054317  \n",
       "2  0.177899  0.100699  0.808529 -0.848933  0.180637 -0.049118  \n",
       "3 -0.012892  0.640011 -0.485366 -0.848649  0.181935 -0.047663  \n",
       "4  0.122542  0.693578 -0.615971 -0.847865  0.185151 -0.043892  \n",
       "\n",
       "[5 rows x 561 columns]"
      ]
     },
     "execution_count": 101,
     "metadata": {},
     "output_type": "execute_result"
    }
   ],
   "source": [
    "df.head()"
   ]
  },
  {
   "cell_type": "code",
   "execution_count": 102,
   "id": "a59243f9",
   "metadata": {},
   "outputs": [
    {
     "name": "stdout",
     "output_type": "stream",
     "text": [
      "<class 'pandas.core.frame.DataFrame'>\n",
      "RangeIndex: 7352 entries, 0 to 7351\n",
      "Columns: 561 entries, 0 to 560\n",
      "dtypes: float64(561)\n",
      "memory usage: 31.5 MB\n"
     ]
    }
   ],
   "source": [
    "df.info()"
   ]
  },
  {
   "cell_type": "markdown",
   "id": "be7a8db3",
   "metadata": {},
   "source": [
    "*   Всего значений 7352, пустые значения отсутствуют. \n",
    "*   Колонок (Признаков) 561\n",
    "*   Тип данных float64\n",
    "*   Размер датасета 31.5 MB"
   ]
  },
  {
   "cell_type": "code",
   "execution_count": 103,
   "id": "3917ff2c",
   "metadata": {},
   "outputs": [
    {
     "data": {
      "image/png": "[encoded data removed]",
      "text/plain": [
       "<Figure size 700x500 with 1 Axes>"
      ]
     },
     "metadata": {},
     "output_type": "display_data"
    }
   ],
   "source": [
    "fig, axs = plt.subplots(1, 1,\n",
    "                        figsize =(7, 5),\n",
    "                        tight_layout = True)\n",
    " \n",
    "axs.hist(df, bins = 20)\n",
    "\n",
    "plt.show()"
   ]
  },
  {
   "cell_type": "markdown",
   "id": "70e3d6ef",
   "metadata": {},
   "source": [
    "Диаграмма не совсем \"читаема\", но мы видим, что все признаки по масштабу находятся в диапазоне от -1.0 до 1.0"
   ]
  },
  {
   "cell_type": "markdown",
   "id": "6365ae72",
   "metadata": {},
   "source": [
    "*3. Понизьте размерность данных*:\n",
    "1.   воспользуйтесь методом порога отклонения, чтобы избавиться от наблюдений, вариативность по которым низка. Удалите не более 10 % признаков;\n",
    "2.   воспользуйтесь методом PCA:\n",
    "    *   приведите признаки к одинаковому масштабу,\n",
    "    *   визуализируйте зависимость степени объяснения дисперсии исходных данных от количества выделяемых главных компонент,\n",
    "    *   определите минимальное необходимое количество главных компонент, при которых объяснение дисперсии исходных данных будет достаточно велико (хотя бы 90 %),\n",
    "    *   выделите первые две главные компоненты и с помощью визуализации убедитесь, что новые признаки позволяют неплохо отделить данные друг от друга."
   ]
  },
  {
   "cell_type": "code",
   "execution_count": 44,
   "metadata": {},
   "outputs": [],
   "source": [
    "var_selector=VarianceThreshold(threshold=0.01)\n",
    "df_var = var_selector.fit_transform(df)"
   ]
  },
  {
   "cell_type": "code",
   "execution_count": 45,
   "id": "16f1f507",
   "metadata": {},
   "outputs": [
    {
     "name": "stdout",
     "output_type": "stream",
     "text": [
      "shape of data: (7352, 524)\n",
      "Удалено признаков: 37, что составляет 6.6% от общей выборки\n"
     ]
    }
   ],
   "source": [
    "print(\"shape of data:\",df_var.shape)\n",
    "print(f'Удалено признаков: {561 - 524}, что составляет {round(100 - (524 / 561 * 100) , 2)}% от общей выборки')"
   ]
  },
  {
   "cell_type": "markdown",
   "id": "534ebcf7",
   "metadata": {},
   "source": [
    "**PCA - Метод главных компонент**"
   ]
  },
  {
   "cell_type": "code",
   "execution_count": 47,
   "id": "d268e717",
   "metadata": {},
   "outputs": [],
   "source": [
    "features_norm = StandardScaler().fit_transform(df_var)"
   ]
  },
  {
   "cell_type": "code",
   "execution_count": 64,
   "id": "d9aa1d23",
   "metadata": {},
   "outputs": [
    {
     "data": {
      "image/png": "[encoded data removed]",
      "text/plain": [
       "<Figure size 640x480 with 1 Axes>"
      ]
     },
     "metadata": {},
     "output_type": "display_data"
    }
   ],
   "source": [
    "pca = PCA(n_components = 60)\n",
    "pca.fit(features_norm)\n",
    "var_exp = pca.explained_variance_ratio_\n",
    "cum_var_exp = np.cumsum(var_exp)\n",
    "\n",
    "plt.bar(range(1, 61), var_exp, alpha=0.5,\n",
    "        align='center', label='individual explained variance')\n",
    "plt.step(range(1, 61), cum_var_exp, where='mid',\n",
    "         label='cumulative explained variance')\n",
    "plt.ylabel('Explained variance ratio')\n",
    "plt.xlabel('Principal component index')\n",
    "plt.legend(loc='best')\n",
    "plt.show()"
   ]
  },
  {
   "cell_type": "code",
   "execution_count": 65,
   "id": "eae95f2b",
   "metadata": {},
   "outputs": [
    {
     "name": "stdout",
     "output_type": "stream",
     "text": [
      "[0.52286887 0.06462211 0.02671926 0.02561301 0.01908929 0.01702732\n",
      " 0.01328388 0.01213456 0.00993911 0.00892356 0.00808884 0.00755007\n",
      " 0.0073389  0.00674961 0.0063161  0.00611456 0.00598489 0.00567409\n",
      " 0.00546591 0.00525412 0.00502315 0.00501129 0.00465016 0.0044601\n",
      " 0.00439757 0.00421351 0.00411014 0.00408053 0.00401876 0.00373792\n",
      " 0.00356688 0.00342628 0.00338516 0.003321   0.00323063 0.00306195\n",
      " 0.00292505 0.00279583 0.00267731 0.00267023 0.00260503 0.00258762\n",
      " 0.00252384 0.00242487 0.00240595 0.00236857 0.00229902 0.00219302\n",
      " 0.00218311 0.00216296 0.00210455 0.00203909 0.00201154 0.00191442\n",
      " 0.00189714 0.00186864 0.00184338 0.00178888 0.0017537  0.00169735]\n",
      "0.9021941904217188\n"
     ]
    }
   ],
   "source": [
    "print(var_exp)\n",
    "print(sum(var_exp))"
   ]
  },
  {
   "cell_type": "markdown",
   "id": "6497734e",
   "metadata": {},
   "source": [
    "Минимальное необходимое количество главных компонент - 60. При этом объяснение дисперсии исходных данных будет 90 %"
   ]
  },
  {
   "cell_type": "code",
   "execution_count": 70,
   "id": "48c9c124",
   "metadata": {},
   "outputs": [
    {
     "data": {
      "text/html": [
       "<div>\n",
       "<style scoped>\n",
       "    .dataframe tbody tr th:only-of-type {\n",
       "        vertical-align: middle;\n",
       "    }\n",
       "\n",
       "    .dataframe tbody tr th {\n",
       "        vertical-align: top;\n",
       "    }\n",
       "\n",
       "    .dataframe thead th {\n",
       "        text-align: right;\n",
       "    }\n",
       "</style>\n",
       "<table border=\"1\" class=\"dataframe\">\n",
       "  <thead>\n",
       "    <tr style=\"text-align: right;\">\n",
       "      <th></th>\n",
       "      <th>0</th>\n",
       "      <th>1</th>\n",
       "      <th>2</th>\n",
       "      <th>3</th>\n",
       "      <th>4</th>\n",
       "      <th>5</th>\n",
       "      <th>6</th>\n",
       "      <th>7</th>\n",
       "      <th>8</th>\n",
       "      <th>9</th>\n",
       "      <th>...</th>\n",
       "      <th>514</th>\n",
       "      <th>515</th>\n",
       "      <th>516</th>\n",
       "      <th>517</th>\n",
       "      <th>518</th>\n",
       "      <th>519</th>\n",
       "      <th>520</th>\n",
       "      <th>521</th>\n",
       "      <th>522</th>\n",
       "      <th>523</th>\n",
       "    </tr>\n",
       "  </thead>\n",
       "  <tbody>\n",
       "    <tr>\n",
       "      <th>0</th>\n",
       "      <td>0.057509</td>\n",
       "      <td>0.058187</td>\n",
       "      <td>0.055658</td>\n",
       "      <td>0.057248</td>\n",
       "      <td>0.057662</td>\n",
       "      <td>0.055207</td>\n",
       "      <td>0.057217</td>\n",
       "      <td>0.05606</td>\n",
       "      <td>0.054472</td>\n",
       "      <td>-0.057566</td>\n",
       "      <td>...</td>\n",
       "      <td>-0.005868</td>\n",
       "      <td>0.012672</td>\n",
       "      <td>0.010499</td>\n",
       "      <td>-0.001638</td>\n",
       "      <td>-0.001209</td>\n",
       "      <td>0.000939</td>\n",
       "      <td>-0.001566</td>\n",
       "      <td>-0.023796</td>\n",
       "      <td>0.030631</td>\n",
       "      <td>0.027379</td>\n",
       "    </tr>\n",
       "    <tr>\n",
       "      <th>1</th>\n",
       "      <td>-0.006461</td>\n",
       "      <td>-0.021852</td>\n",
       "      <td>-0.029867</td>\n",
       "      <td>-0.005061</td>\n",
       "      <td>-0.024713</td>\n",
       "      <td>-0.034020</td>\n",
       "      <td>-0.006408</td>\n",
       "      <td>-0.02253</td>\n",
       "      <td>-0.024020</td>\n",
       "      <td>0.007070</td>\n",
       "      <td>...</td>\n",
       "      <td>0.073965</td>\n",
       "      <td>-0.016744</td>\n",
       "      <td>-0.012233</td>\n",
       "      <td>-0.006055</td>\n",
       "      <td>-0.003815</td>\n",
       "      <td>0.012283</td>\n",
       "      <td>-0.009325</td>\n",
       "      <td>0.017783</td>\n",
       "      <td>-0.036061</td>\n",
       "      <td>-0.017498</td>\n",
       "    </tr>\n",
       "  </tbody>\n",
       "</table>\n",
       "<p>2 rows × 524 columns</p>\n",
       "</div>"
      ],
      "text/plain": [
       "        0         1         2         3         4         5         6     \n",
       "0  0.057509  0.058187  0.055658  0.057248  0.057662  0.055207  0.057217  \\\n",
       "1 -0.006461 -0.021852 -0.029867 -0.005061 -0.024713 -0.034020 -0.006408   \n",
       "\n",
       "       7         8         9    ...       514       515       516       517   \n",
       "0  0.05606  0.054472 -0.057566  ... -0.005868  0.012672  0.010499 -0.001638  \\\n",
       "1 -0.02253 -0.024020  0.007070  ...  0.073965 -0.016744 -0.012233 -0.006055   \n",
       "\n",
       "        518       519       520       521       522       523  \n",
       "0 -0.001209  0.000939 -0.001566 -0.023796  0.030631  0.027379  \n",
       "1 -0.003815  0.012283 -0.009325  0.017783 -0.036061 -0.017498  \n",
       "\n",
       "[2 rows x 524 columns]"
      ]
     },
     "execution_count": 70,
     "metadata": {},
     "output_type": "execute_result"
    }
   ],
   "source": [
    "pca = PCA(n_components = 2)\n",
    "features_reduced = pca.fit_transform(features_norm)\n",
    "\n",
    "pd.DataFrame(pca.components_)"
   ]
  },
  {
   "cell_type": "code",
   "execution_count": 72,
   "id": "eaa96078",
   "metadata": {},
   "outputs": [
    {
     "data": {
      "text/html": [
       "<div>\n",
       "<style scoped>\n",
       "    .dataframe tbody tr th:only-of-type {\n",
       "        vertical-align: middle;\n",
       "    }\n",
       "\n",
       "    .dataframe tbody tr th {\n",
       "        vertical-align: top;\n",
       "    }\n",
       "\n",
       "    .dataframe thead th {\n",
       "        text-align: right;\n",
       "    }\n",
       "</style>\n",
       "<table border=\"1\" class=\"dataframe\">\n",
       "  <thead>\n",
       "    <tr style=\"text-align: right;\">\n",
       "      <th></th>\n",
       "      <th>0</th>\n",
       "      <th>1</th>\n",
       "    </tr>\n",
       "  </thead>\n",
       "  <tbody>\n",
       "    <tr>\n",
       "      <th>0</th>\n",
       "      <td>1.000000e+00</td>\n",
       "      <td>-1.140645e-16</td>\n",
       "    </tr>\n",
       "    <tr>\n",
       "      <th>1</th>\n",
       "      <td>-1.140645e-16</td>\n",
       "      <td>1.000000e+00</td>\n",
       "    </tr>\n",
       "  </tbody>\n",
       "</table>\n",
       "</div>"
      ],
      "text/plain": [
       "              0             1\n",
       "0  1.000000e+00 -1.140645e-16\n",
       "1 -1.140645e-16  1.000000e+00"
      ]
     },
     "execution_count": 72,
     "metadata": {},
     "output_type": "execute_result"
    }
   ],
   "source": [
    "pd.DataFrame(features_reduced).corr()"
   ]
  },
  {
   "cell_type": "markdown",
   "id": "3feb5580",
   "metadata": {},
   "source": [
    "Видно, что первый главный компонент отвечает за дисперсию 52,29%. А пот второй главный компонент - 6,46% . "
   ]
  },
  {
   "cell_type": "code",
   "execution_count": 125,
   "id": "f77ca9fb",
   "metadata": {},
   "outputs": [
    {
     "name": "stderr",
     "output_type": "stream",
     "text": [
      "C:\\Users\\1will\\AppData\\Local\\Temp\\ipykernel_12692\\3724070101.py:4: UserWarning: No data for colormapping provided via 'c'. Parameters 'cmap' will be ignored\n",
      "  plt.scatter(X_reduced[:, 0], X_reduced[:, 1],  s=20, cmap='viridis')\n"
     ]
    },
    {
     "data": {
      "text/plain": [
       "<matplotlib.collections.PathCollection at 0x1fb8a74bd30>"
      ]
     },
     "execution_count": 125,
     "metadata": {},
     "output_type": "execute_result"
    },
    {
     "data": {
      "image/png": "[encoded data removed]",
      "text/plain": [
       "<Figure size 1000x800 with 1 Axes>"
      ]
     },
     "metadata": {},
     "output_type": "display_data"
    }
   ],
   "source": [
    "X_reduced = pca.fit_transform(features_reduced)\n",
    "\n",
    "plt.figure(figsize=(10,8))\n",
    "plt.scatter(X_reduced[:, 0], X_reduced[:, 1],  s=20, cmap='viridis')"
   ]
  },
  {
   "cell_type": "markdown",
   "id": "7ece07ff",
   "metadata": {},
   "source": [
    "На визуализации видно, что признаки можно неплохо \"отделить\" друг от друга"
   ]
  },
  {
   "cell_type": "markdown",
   "id": "b7b8f083",
   "metadata": {},
   "source": [
    "*4. Подберите оптимальное число кластеров*:\n",
    "*   воспользуйтесь методом локтя, чтобы оценить, как варьируется значение целевой функции кластеризации в зависимости от количества кластеров, на которые мы делим данные;\n",
    "*   выберите оптимальное количество кластеров и объясните свой выбор;\n",
    "*   повторите визуализацию данных по первым двум главным компонентам, размечая наблюдения каждого кластера своим цветом."
   ]
  },
  {
   "cell_type": "code",
   "execution_count": 80,
   "id": "96c1064f",
   "metadata": {},
   "outputs": [
    {
     "name": "stderr",
     "output_type": "stream",
     "text": [
      "  0%|          | 0/9 [00:00<?, ?it/s]"
     ]
    },
    {
     "name": "stderr",
     "output_type": "stream",
     "text": [
      "C:\\Users\\1will\\AppData\\Local\\Packages\\PythonSoftwareFoundation.Python.3.10_qbz5n2kfra8p0\\LocalCache\\local-packages\\Python310\\site-packages\\sklearn\\cluster\\_kmeans.py:870: FutureWarning: The default value of `n_init` will change from 10 to 'auto' in 1.4. Set the value of `n_init` explicitly to suppress the warning\n",
      "  warnings.warn(\n",
      " 11%|█         | 1/9 [00:00<00:04,  1.65it/s]C:\\Users\\1will\\AppData\\Local\\Packages\\PythonSoftwareFoundation.Python.3.10_qbz5n2kfra8p0\\LocalCache\\local-packages\\Python310\\site-packages\\sklearn\\cluster\\_kmeans.py:870: FutureWarning: The default value of `n_init` will change from 10 to 'auto' in 1.4. Set the value of `n_init` explicitly to suppress the warning\n",
      "  warnings.warn(\n",
      " 22%|██▏       | 2/9 [00:01<00:05,  1.34it/s]C:\\Users\\1will\\AppData\\Local\\Packages\\PythonSoftwareFoundation.Python.3.10_qbz5n2kfra8p0\\LocalCache\\local-packages\\Python310\\site-packages\\sklearn\\cluster\\_kmeans.py:870: FutureWarning: The default value of `n_init` will change from 10 to 'auto' in 1.4. Set the value of `n_init` explicitly to suppress the warning\n",
      "  warnings.warn(\n",
      " 33%|███▎      | 3/9 [00:03<00:07,  1.23s/it]C:\\Users\\1will\\AppData\\Local\\Packages\\PythonSoftwareFoundation.Python.3.10_qbz5n2kfra8p0\\LocalCache\\local-packages\\Python310\\site-packages\\sklearn\\cluster\\_kmeans.py:870: FutureWarning: The default value of `n_init` will change from 10 to 'auto' in 1.4. Set the value of `n_init` explicitly to suppress the warning\n",
      "  warnings.warn(\n",
      " 44%|████▍     | 4/9 [00:05<00:08,  1.77s/it]C:\\Users\\1will\\AppData\\Local\\Packages\\PythonSoftwareFoundation.Python.3.10_qbz5n2kfra8p0\\LocalCache\\local-packages\\Python310\\site-packages\\sklearn\\cluster\\_kmeans.py:870: FutureWarning: The default value of `n_init` will change from 10 to 'auto' in 1.4. Set the value of `n_init` explicitly to suppress the warning\n",
      "  warnings.warn(\n",
      " 56%|█████▌    | 5/9 [00:09<00:10,  2.62s/it]C:\\Users\\1will\\AppData\\Local\\Packages\\PythonSoftwareFoundation.Python.3.10_qbz5n2kfra8p0\\LocalCache\\local-packages\\Python310\\site-packages\\sklearn\\cluster\\_kmeans.py:870: FutureWarning: The default value of `n_init` will change from 10 to 'auto' in 1.4. Set the value of `n_init` explicitly to suppress the warning\n",
      "  warnings.warn(\n",
      " 67%|██████▋   | 6/9 [00:15<00:10,  3.63s/it]C:\\Users\\1will\\AppData\\Local\\Packages\\PythonSoftwareFoundation.Python.3.10_qbz5n2kfra8p0\\LocalCache\\local-packages\\Python310\\site-packages\\sklearn\\cluster\\_kmeans.py:870: FutureWarning: The default value of `n_init` will change from 10 to 'auto' in 1.4. Set the value of `n_init` explicitly to suppress the warning\n",
      "  warnings.warn(\n",
      " 78%|███████▊  | 7/9 [00:20<00:07,  3.92s/it]C:\\Users\\1will\\AppData\\Local\\Packages\\PythonSoftwareFoundation.Python.3.10_qbz5n2kfra8p0\\LocalCache\\local-packages\\Python310\\site-packages\\sklearn\\cluster\\_kmeans.py:870: FutureWarning: The default value of `n_init` will change from 10 to 'auto' in 1.4. Set the value of `n_init` explicitly to suppress the warning\n",
      "  warnings.warn(\n",
      " 89%|████████▉ | 8/9 [00:25<00:04,  4.32s/it]C:\\Users\\1will\\AppData\\Local\\Packages\\PythonSoftwareFoundation.Python.3.10_qbz5n2kfra8p0\\LocalCache\\local-packages\\Python310\\site-packages\\sklearn\\cluster\\_kmeans.py:870: FutureWarning: The default value of `n_init` will change from 10 to 'auto' in 1.4. Set the value of `n_init` explicitly to suppress the warning\n",
      "  warnings.warn(\n",
      "100%|██████████| 9/9 [00:29<00:00,  3.31s/it]\n"
     ]
    }
   ],
   "source": [
    "distortion = []\n",
    "K = range(1, 10)\n",
    "for k in tqdm(K):\n",
    "    model = KMeans(n_clusters=k, random_state=4)\n",
    "    model.fit(X_train)\n",
    "    distortion.append(model.inertia_) "
   ]
  },
  {
   "cell_type": "code",
   "execution_count": 81,
   "id": "72cca8cd",
   "metadata": {},
   "outputs": [
    {
     "data": {
      "image/png": "[encoded data removed]",
      "text/plain": [
       "<Figure size 800x500 with 1 Axes>"
      ]
     },
     "metadata": {},
     "output_type": "display_data"
    }
   ],
   "source": [
    "plt.figure(figsize=(8, 5))\n",
    "plt.plot(K, distortion, c='royalblue', marker='x')\n",
    "plt.xlabel('Число кластеров')\n",
    "plt.ylabel('Значение целевой функции')\n",
    "plt.show()"
   ]
  },
  {
   "cell_type": "code",
   "execution_count": null,
   "id": "09ec083b",
   "metadata": {},
   "outputs": [],
   "source": []
  },
  {
   "cell_type": "code",
   "execution_count": null,
   "id": "8243c1fc",
   "metadata": {},
   "outputs": [],
   "source": []
  },
  {
   "cell_type": "code",
   "execution_count": null,
   "id": "7247a98b",
   "metadata": {},
   "outputs": [],
   "source": []
  },
  {
   "cell_type": "markdown",
   "id": "c33311df",
   "metadata": {},
   "source": [
    "*5. Оцените качество кластеризации*:\n",
    "*   подгрузите реальные метки наблюдений из файла y_train.txt, а также их значения из файла activity_labels.txt;\n",
    "*   определите, насколько логична полученная кластеризация. Можно, например, сформировать сводную таблицу, где в строках будут реальные активности, а в столбцах — лейблы, полученные согласно кластеризации;\n",
    "*   сделайте выводы, опишите, почему те или иные виды активности могли объединиться в один кластер, а другие отделиться от них."
   ]
  },
  {
   "cell_type": "code",
   "execution_count": 127,
   "id": "9cdc2289",
   "metadata": {},
   "outputs": [],
   "source": [
    "y_train = np.loadtxt('https://raw.githubusercontent.com/W1llAnn/1tdata-homework/main/2.5y_train.txt')"
   ]
  },
  {
   "cell_type": "code",
   "execution_count": null,
   "id": "4d64deea",
   "metadata": {},
   "outputs": [],
   "source": []
  },
  {
   "cell_type": "code",
   "execution_count": null,
   "id": "c6819dd7",
   "metadata": {},
   "outputs": [],
   "source": []
  }
 ],
 "metadata": {
  "kernelspec": {
   "display_name": "Python 3 (ipykernel)",
   "language": "python",
   "name": "python3"
  },
  "language_info": {
   "codemirror_mode": {
    "name": "ipython",
    "version": 3
   },
   "file_extension": ".py",
   "mimetype": "text/x-python",
   "name": "python",
   "nbconvert_exporter": "python",
   "pygments_lexer": "ipython3",
   "version": "3.10.11"
  }
 },
 "nbformat": 4,
 "nbformat_minor": 5
}
